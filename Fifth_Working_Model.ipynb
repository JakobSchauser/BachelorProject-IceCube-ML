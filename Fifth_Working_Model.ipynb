{
  "nbformat": 4,
  "nbformat_minor": 0,
  "metadata": {
    "colab": {
      "name": "Fifth Working Model",
      "provenance": [],
      "collapsed_sections": [],
      "mount_file_id": "1F5LapnzmQ3_-UbqgwUGvW0joIZtifhJc",
      "authorship_tag": "ABX9TyPDqeCuFUxdjgeY0Luneogg",
      "include_colab_link": true
    },
    "kernelspec": {
      "name": "python3",
      "display_name": "Python 3"
    },
    "widgets": {
      "application/vnd.jupyter.widget-state+json": {
        "c810f81f8e914e9c84084af7a970811d": {
          "model_module": "@jupyter-widgets/controls",
          "model_name": "HBoxModel",
          "state": {
            "_view_name": "HBoxView",
            "_dom_classes": [],
            "_model_name": "HBoxModel",
            "_view_module": "@jupyter-widgets/controls",
            "_model_module_version": "1.5.0",
            "_view_count": null,
            "_view_module_version": "1.5.0",
            "box_style": "",
            "layout": "IPY_MODEL_7907a88c2b0a480e91c65d327854fd92",
            "_model_module": "@jupyter-widgets/controls",
            "children": [
              "IPY_MODEL_d7514e54c49b4b4ca8cec513da144875",
              "IPY_MODEL_e349c7a7a9b04effb5829f1ddfcecbfb"
            ]
          }
        },
        "7907a88c2b0a480e91c65d327854fd92": {
          "model_module": "@jupyter-widgets/base",
          "model_name": "LayoutModel",
          "state": {
            "_view_name": "LayoutView",
            "grid_template_rows": null,
            "right": null,
            "justify_content": null,
            "_view_module": "@jupyter-widgets/base",
            "overflow": null,
            "_model_module_version": "1.2.0",
            "_view_count": null,
            "flex_flow": null,
            "width": null,
            "min_width": null,
            "border": null,
            "align_items": null,
            "bottom": null,
            "_model_module": "@jupyter-widgets/base",
            "top": null,
            "grid_column": null,
            "overflow_y": null,
            "overflow_x": null,
            "grid_auto_flow": null,
            "grid_area": null,
            "grid_template_columns": null,
            "flex": null,
            "_model_name": "LayoutModel",
            "justify_items": null,
            "grid_row": null,
            "max_height": null,
            "align_content": null,
            "visibility": null,
            "align_self": null,
            "height": null,
            "min_height": null,
            "padding": null,
            "grid_auto_rows": null,
            "grid_gap": null,
            "max_width": null,
            "order": null,
            "_view_module_version": "1.2.0",
            "grid_template_areas": null,
            "object_position": null,
            "object_fit": null,
            "grid_auto_columns": null,
            "margin": null,
            "display": null,
            "left": null
          }
        },
        "d7514e54c49b4b4ca8cec513da144875": {
          "model_module": "@jupyter-widgets/controls",
          "model_name": "FloatProgressModel",
          "state": {
            "_view_name": "ProgressView",
            "style": "IPY_MODEL_4e9143ed0f464fb4b3e3f7842cf5779f",
            "_dom_classes": [],
            "description": "Currently on epoch 6 of 52 :   1%",
            "_model_name": "FloatProgressModel",
            "bar_style": "",
            "max": 5625,
            "_view_module": "@jupyter-widgets/controls",
            "_model_module_version": "1.5.0",
            "value": 71,
            "_view_count": null,
            "_view_module_version": "1.5.0",
            "orientation": "horizontal",
            "min": 0,
            "description_tooltip": null,
            "_model_module": "@jupyter-widgets/controls",
            "layout": "IPY_MODEL_2235bb676ce5482e88a38ae1b5062a2a"
          }
        },
        "e349c7a7a9b04effb5829f1ddfcecbfb": {
          "model_module": "@jupyter-widgets/controls",
          "model_name": "HTMLModel",
          "state": {
            "_view_name": "HTMLView",
            "style": "IPY_MODEL_890469706c1a4ca88c90f739c57e0b08",
            "_dom_classes": [],
            "description": "",
            "_model_name": "HTMLModel",
            "placeholder": "​",
            "_view_module": "@jupyter-widgets/controls",
            "_model_module_version": "1.5.0",
            "value": " 71/5625 [07:04&lt;1:09:15,  1.34it/s]",
            "_view_count": null,
            "_view_module_version": "1.5.0",
            "description_tooltip": null,
            "_model_module": "@jupyter-widgets/controls",
            "layout": "IPY_MODEL_fdc9c5b56eef4c8896c1a3c22b4856b6"
          }
        },
        "4e9143ed0f464fb4b3e3f7842cf5779f": {
          "model_module": "@jupyter-widgets/controls",
          "model_name": "ProgressStyleModel",
          "state": {
            "_view_name": "StyleView",
            "_model_name": "ProgressStyleModel",
            "description_width": "initial",
            "_view_module": "@jupyter-widgets/base",
            "_model_module_version": "1.5.0",
            "_view_count": null,
            "_view_module_version": "1.2.0",
            "bar_color": null,
            "_model_module": "@jupyter-widgets/controls"
          }
        },
        "2235bb676ce5482e88a38ae1b5062a2a": {
          "model_module": "@jupyter-widgets/base",
          "model_name": "LayoutModel",
          "state": {
            "_view_name": "LayoutView",
            "grid_template_rows": null,
            "right": null,
            "justify_content": null,
            "_view_module": "@jupyter-widgets/base",
            "overflow": null,
            "_model_module_version": "1.2.0",
            "_view_count": null,
            "flex_flow": null,
            "width": null,
            "min_width": null,
            "border": null,
            "align_items": null,
            "bottom": null,
            "_model_module": "@jupyter-widgets/base",
            "top": null,
            "grid_column": null,
            "overflow_y": null,
            "overflow_x": null,
            "grid_auto_flow": null,
            "grid_area": null,
            "grid_template_columns": null,
            "flex": null,
            "_model_name": "LayoutModel",
            "justify_items": null,
            "grid_row": null,
            "max_height": null,
            "align_content": null,
            "visibility": null,
            "align_self": null,
            "height": null,
            "min_height": null,
            "padding": null,
            "grid_auto_rows": null,
            "grid_gap": null,
            "max_width": null,
            "order": null,
            "_view_module_version": "1.2.0",
            "grid_template_areas": null,
            "object_position": null,
            "object_fit": null,
            "grid_auto_columns": null,
            "margin": null,
            "display": null,
            "left": null
          }
        },
        "890469706c1a4ca88c90f739c57e0b08": {
          "model_module": "@jupyter-widgets/controls",
          "model_name": "DescriptionStyleModel",
          "state": {
            "_view_name": "StyleView",
            "_model_name": "DescriptionStyleModel",
            "description_width": "",
            "_view_module": "@jupyter-widgets/base",
            "_model_module_version": "1.5.0",
            "_view_count": null,
            "_view_module_version": "1.2.0",
            "_model_module": "@jupyter-widgets/controls"
          }
        },
        "fdc9c5b56eef4c8896c1a3c22b4856b6": {
          "model_module": "@jupyter-widgets/base",
          "model_name": "LayoutModel",
          "state": {
            "_view_name": "LayoutView",
            "grid_template_rows": null,
            "right": null,
            "justify_content": null,
            "_view_module": "@jupyter-widgets/base",
            "overflow": null,
            "_model_module_version": "1.2.0",
            "_view_count": null,
            "flex_flow": null,
            "width": null,
            "min_width": null,
            "border": null,
            "align_items": null,
            "bottom": null,
            "_model_module": "@jupyter-widgets/base",
            "top": null,
            "grid_column": null,
            "overflow_y": null,
            "overflow_x": null,
            "grid_auto_flow": null,
            "grid_area": null,
            "grid_template_columns": null,
            "flex": null,
            "_model_name": "LayoutModel",
            "justify_items": null,
            "grid_row": null,
            "max_height": null,
            "align_content": null,
            "visibility": null,
            "align_self": null,
            "height": null,
            "min_height": null,
            "padding": null,
            "grid_auto_rows": null,
            "grid_gap": null,
            "max_width": null,
            "order": null,
            "_view_module_version": "1.2.0",
            "grid_template_areas": null,
            "object_position": null,
            "object_fit": null,
            "grid_auto_columns": null,
            "margin": null,
            "display": null,
            "left": null
          }
        }
      }
    },
    "accelerator": "GPU"
  },
  "cells": [
    {
      "cell_type": "markdown",
      "metadata": {
        "id": "view-in-github",
        "colab_type": "text"
      },
      "source": [
        "<a href=\"https://colab.research.google.com/github/JakobSchauser/BachelorProject-IceCube-ML/blob/main/Fifth_Working_Model.ipynb\" target=\"_parent\"><img src=\"https://colab.research.google.com/assets/colab-badge.svg\" alt=\"Open In Colab\"/></a>"
      ]
    },
    {
      "cell_type": "code",
      "metadata": {
        "id": "mKMo6IdMfBDD"
      },
      "source": [
        "!pip install spektral -q\r\n",
        "\r\n",
        "import numpy as np\r\n",
        "import tensorflow as tf\r\n",
        "import keras\r\n",
        "import pickle\r\n",
        "import spektral\r\n",
        "\r\n",
        "from tensorflow.keras.layers import Dense, Input\r\n",
        "from tensorflow.keras.losses import MeanSquaredError, MeanAbsoluteError\r\n",
        "from tensorflow.keras.metrics import MeanAbsoluteError as MeanAbsoluteError_acc\r\n",
        "from tensorflow.keras.models import Model\r\n",
        "from tensorflow.keras.optimizers import Adam\r\n",
        "from tensorflow.sparse import SparseTensor\r\n",
        "\r\n",
        "\r\n",
        "from time import time\r\n",
        "\r\n",
        "\r\n",
        "from spektral.data import DisjointLoader, Dataset\r\n",
        "from spektral.datasets import QM9\r\n",
        "from spektral.layers import AGNNConv, GlobalSumPool, GlobalMaxPool, GlobalAvgPool, GCNConv, ECCConv\r\n",
        "\r\n",
        "from tqdm.notebook import tqdm\r\n",
        "\r\n",
        "import matplotlib.pyplot as plt\r\n",
        "import seaborn as sns\r\n",
        "sns.set()\r\n",
        "%matplotlib inline\r\n",
        "\r\n",
        "PI = np.pi\r\n",
        "\r\n",
        "\r\n",
        "# Lifehack\r\n",
        "true = True\r\n",
        "false = False"
      ],
      "execution_count": 1,
      "outputs": []
    },
    {
      "cell_type": "code",
      "metadata": {
        "colab": {
          "base_uri": "https://localhost:8080/"
        },
        "id": "jRsrlI0nNqIq",
        "outputId": "85d870b9-656f-4ae0-8866-2aa6d4f5bca1"
      },
      "source": [
        "!pip install wandb -q\r\n",
        "\r\n",
        "import wandb\r\n",
        "from wandb.keras import WandbCallback\r\n",
        "\r\n",
        "wandb.login()"
      ],
      "execution_count": 2,
      "outputs": [
        {
          "output_type": "stream",
          "text": [
            "\u001b[34m\u001b[1mwandb\u001b[0m: Currently logged in as: \u001b[33mjakobschauser\u001b[0m (use `wandb login --relogin` to force relogin)\n"
          ],
          "name": "stderr"
        },
        {
          "output_type": "execute_result",
          "data": {
            "text/plain": [
              "True"
            ]
          },
          "metadata": {
            "tags": []
          },
          "execution_count": 2
        }
      ]
    },
    {
      "cell_type": "code",
      "metadata": {
        "colab": {
          "base_uri": "https://localhost:8080/"
        },
        "id": "2gQ8LBcAfIm7",
        "outputId": "6ba1b9a1-37ad-4a75-b8de-2381dd0f92bc"
      },
      "source": [
        "################################################################################\r\n",
        "# LOAD DATA\r\n",
        "################################################################################\r\n",
        "# Find the reverse transformer\r\n",
        "pcl = \"/content/drive/MyDrive/Bachelor Project - IceCube ML/transformers.pkl\"\r\n",
        "\r\n",
        "with open(pcl,'rb') as tra:\r\n",
        "    transformer = pickle.load(tra)\r\n",
        "\r\n",
        "transformer = transformer[\"truth\"]\r\n",
        "\r\n",
        "\r\n",
        "class dat(Dataset):\r\n",
        "  def __init__(self,n = 1,**kwargs):\r\n",
        "    self.n = n\r\n",
        "    super().__init__(**kwargs)\r\n",
        "  def read(self):\r\n",
        "    # path = \"/content/drive/MyDrive/Bachelor Project - IceCube ML/generatedDataAnglesEnergy100000 0.npz\" # Uncleaned\r\n",
        "    path = \"/content/drive/MyDrive/Bachelor Project - IceCube ML/generatedDataAnglesEnergyClean200000events 0.npz\" # Cleaned\r\n",
        "    # path = \"/content/drive/MyDrive/Bachelor Project - IceCube ML/data.dat\" # From Severin\r\n",
        "    dataset = np.load(path,allow_pickle = True)[\"arr_0\"]\r\n",
        "    graphs = []\r\n",
        "    for g in dataset:\r\n",
        "      e,a,z = g[\"y\"]\r\n",
        "      g[\"y\"] = [transformer['energy_log10'].transform([[e]])[0][0],transformer['azimuth'].transform([[a]])[0][0],transformer['zenith'].transform([[z]])[0][0]]\r\n",
        "      graphs.append(g)\r\n",
        "    return np.array(dataset)\r\n",
        "\r\n",
        "dataset = dat()\r\n",
        "\r\n",
        "print(\"Dataset is\", dataset, \"consisting of\", dataset[0])\r\n",
        "\r\n",
        "\r\n",
        "\r\n",
        "\r\n",
        "#### Put on GPU when possible\r\n",
        "physical_devices = tf.config.list_physical_devices('GPU')\r\n",
        "if len(physical_devices) > 0:\r\n",
        "    print(\"Running on GPU\")\r\n",
        "    tf.config.experimental.set_memory_growth(physical_devices[0], True)\r\n",
        "else:\r\n",
        "    print(\"Running on CPU\")"
      ],
      "execution_count": 2,
      "outputs": [
        {
          "output_type": "stream",
          "text": [
            "/usr/local/lib/python3.6/dist-packages/sklearn/utils/deprecation.py:144: FutureWarning: The sklearn.preprocessing.data module is  deprecated in version 0.22 and will be removed in version 0.24. The corresponding classes / functions should instead be imported from sklearn.preprocessing. Anything that cannot be imported from sklearn.preprocessing is now part of the private API.\n",
            "  warnings.warn(message, FutureWarning)\n",
            "/usr/local/lib/python3.6/dist-packages/sklearn/base.py:318: UserWarning: Trying to unpickle estimator RobustScaler from version 0.19.1 when using version 0.22.2.post1. This might lead to breaking code or invalid results. Use at your own risk.\n",
            "  UserWarning)\n"
          ],
          "name": "stderr"
        },
        {
          "output_type": "stream",
          "text": [
            "Dataset is dat(n_graphs=200000) consisting of Graph(n_nodes=13, n_node_features=5, n_edge_features=None, n_labels=3)\n",
            "Running on GPU\n"
          ],
          "name": "stdout"
        }
      ]
    },
    {
      "cell_type": "code",
      "metadata": {
        "id": "4FEPaDtqysJ1"
      },
      "source": [
        "from spektral.transforms import GCNFilter\r\n",
        "\r\n",
        "t = time.time()\r\n",
        "dataset.apply(GCNFilter())\r\n",
        "print(f\"Goddamn, this takes {t-time.time():.3} seconds!\")"
      ],
      "execution_count": 3,
      "outputs": []
    },
    {
      "cell_type": "code",
      "metadata": {
        "id": "QtXbVD-LfZr6"
      },
      "source": [
        "def custom_loss(target,predictions):\r\n",
        "    predictions = tf.cast(predictions,\"float64\")\r\n",
        "\r\n",
        "    energy = tf.abs(target[:,0] - predictions[:,0])\r\n",
        "\r\n",
        "    azi  = [tf.cos(target[:,1]) - predictions[:,1] , \r\n",
        "            tf.sin(target[:,1]) - predictions[:,2]]\r\n",
        "\r\n",
        "    zeni = [tf.cos(target[:,2]) - predictions[:,3] , \r\n",
        "            tf.sin(target[:,2]) - predictions[:,4]]\r\n",
        "\r\n",
        "\r\n",
        "    loss = 0\r\n",
        "    loss += tf.reduce_mean(tf.square(energy))\r\n",
        "    loss += tf.reduce_mean(tf.square(azi[0]))\r\n",
        "    loss += tf.reduce_mean(tf.square(azi[1]))\r\n",
        "    loss += tf.reduce_mean(tf.square(zeni[0]))\r\n",
        "    loss += tf.reduce_mean(tf.square(zeni[1]))\r\n",
        "    loss += 0.1\r\n",
        "    return loss\r\n",
        "\r\n",
        "loss_fn = custom_loss\r\n",
        "\r\n",
        "\r\n",
        "def custom_acc(target,predictions):\r\n",
        "    predictions = tf.cast(predictions,\"float64\")\r\n",
        "\r\n",
        "    \r\n",
        "    energy    = tf.abs(target[:,0] - predictions[:,0])\r\n",
        "\r\n",
        "    aziguess = tf.atan2(predictions[:,2],predictions[:,1])\r\n",
        "    azi = tf.minimum( tf.abs(target[:,1] - aziguess) , tf.abs(tf.abs(target[:,1] - aziguess) - 2*PI))\r\n",
        "\r\n",
        "    zeniguess = tf.atan2(predictions[:,4],predictions[:,3])\r\n",
        "    zeni = tf.minimum( tf.abs(target[:,2] - zeniguess) , tf.abs(tf.abs(target[:,2] - zeniguess) - 2*PI))\r\n",
        "    \r\n",
        "\r\n",
        "    return (energy,azi,zeni)\r\n",
        "\r\n",
        "def scale_inputs(inputs):\r\n",
        "    inputs[0][:,:3] = inputs[0][:,:3]/100 # x y z\r\n",
        "    inputs[0][:,3] = inputs[0][:,3]/10000 # time\r\n",
        "    inputs[0][:,4] = inputs[0][:,4]/1 # charge\r\n",
        "    return inputs\r\n",
        "\r\n",
        "\r\n"
      ],
      "execution_count": 4,
      "outputs": []
    },
    {
      "cell_type": "code",
      "metadata": {
        "id": "gnzJXaA9a1HR"
      },
      "source": [
        "################################################################################\r\n",
        "# PARAMETERS\r\n",
        "################################################################################\r\n",
        "#@markdown ### Define the model and training parameters and sync with WandB\r\n",
        "batch_size =  32#@param {type: \"number\"}\r\n",
        "\r\n",
        "# one-variable network size changer\r\n",
        "network_size =  64#@param {type: \"number\"}\r\n",
        "\r\n",
        "learning_rate = 2e-4  #@param {type: \"number\"}\r\n",
        "\r\n",
        "training_epochs = 52 #@param {type: \"slider\", min: 10, max: 200}\r\n",
        "\r\n",
        "\r\n",
        "loss_function = \"rasmus_loss\"  #@param ['custom_loss',\"rasmus_loss\"]\r\n",
        "\r\n",
        "config = {\r\n",
        "        \"learning_rate\": learning_rate,\r\n",
        "        \"epochs\": training_epochs,\r\n",
        "        \"batch_size\": batch_size,\r\n",
        "        \"loss_function\": loss_function,\r\n",
        "        \"architecture\": \"Broadening CNN - short but wide\",\r\n",
        "        \"network_size\": network_size,\r\n",
        "        \"dataset\": \"MuonGun\"\r\n",
        "      }\r\n",
        "\r\n",
        "epochs = config[\"epochs\"]  # Number of training epochs\r\n",
        "test_epochs = 2 # Number of testing epochs\r\n",
        "\r\n"
      ],
      "execution_count": 5,
      "outputs": []
    },
    {
      "cell_type": "code",
      "metadata": {
        "id": "Y5n3nAsOi5Dt"
      },
      "source": [
        "# Parameters\r\n",
        "F = dataset.n_node_features  # Dimension of node features\r\n",
        "S = dataset.n_edge_features  # Dimension of edge features\r\n",
        "# n_out = dataset.n_labels  # Dimension of the target\r\n",
        "n_out = 5\r\n",
        "\r\n",
        "# Train/test split\r\n",
        "idxs = np.random.permutation(len(dataset))\r\n",
        "split = int(0.9 * len(dataset))\r\n",
        "idx_tr, idx_te = np.split(idxs, [split])\r\n",
        "dataset_tr, dataset_te = dataset[idx_tr], dataset[idx_te]\r\n",
        "\r\n",
        "train_loader = DisjointLoader(dataset_tr, batch_size=batch_size, epochs=epochs, shuffle=True)\r\n",
        "test_loader = DisjointLoader(dataset_te, batch_size=batch_size, epochs=test_epochs, shuffle=True)\r\n",
        "\r\n",
        "\r\n",
        "\r\n",
        "\r\n",
        "\r\n",
        "class model_class(Model):\r\n",
        "  def __init__(self):\r\n",
        "    super().__init__()\r\n",
        "    \r\n",
        "\r\n",
        "    self.conv = GCNConv(network_size//4,activation=\"gelu\")\r\n",
        "    self.conv1 = GCNConv(network_size//2,activation=\"gelu\")\r\n",
        "\r\n",
        "    self.maxpool = GlobalMaxPool()\r\n",
        "    self.avgpool = GlobalAvgPool()\r\n",
        "    self.sumpool = GlobalSumPool()\r\n",
        "\r\n",
        "    self.largedense= Dense(network_size)\r\n",
        "    self.mediumdense= Dense(network_size//2)\r\n",
        "                           \r\n",
        "    self.smalldense = Dense(network_size//4)\r\n",
        "\r\n",
        "    self.out = Dense(n_out)\r\n",
        " \r\n",
        "\r\n",
        "  def call(self, inputs, training = False):\r\n",
        "    x, a, i = inputs\r\n",
        "    # a, e    = self.generate_edge_features(x, a) # NEXT STEP is implementing this for myself\r\n",
        "    # x = self.inp([x,a,e])\r\n",
        "    x = self.conv([x,a])\r\n",
        "    x = self.conv1([x,a])\r\n",
        "    \r\n",
        "    xm = self.maxpool([x,i])\r\n",
        "    xa = self.avgpool([x,i])\r\n",
        "    xs = self.sumpool([x,i])\r\n",
        "\r\n",
        "    x = tf.concat([xm, xa, xs], axis = 1) \r\n",
        "\r\n",
        "\r\n",
        "\r\n",
        "    x = self.largedense(x)\r\n",
        "    x = self.mediumdense(x)\r\n",
        "    x = self.smalldense(x)\r\n",
        "\r\n",
        "    out = self.out(x)\r\n",
        "\r\n",
        "    return out\r\n",
        "    # return oute,outa,outz\r\n",
        "\r\n",
        "  #Shamelessly stolen from Johann\r\n",
        "  def generate_edge_features(self, x, a):\r\n",
        "      send    = a.indices[:, 0]\r\n",
        "      receive = a.indices[:, 1]\r\n",
        "\r\n",
        "      diff_x  = tf.subtract(tf.gather(x, receive), tf.gather(x, send))\r\n",
        "\r\n",
        "      dists   = tf.sqrt(\r\n",
        "        tf.reduce_sum(\r\n",
        "          tf.square(\r\n",
        "            diff_x[:, :3]\r\n",
        "          ), axis = 1\r\n",
        "        ))\r\n",
        "\r\n",
        "      vects = tf.math.divide_no_nan(diff_x[:, :3], tf.expand_dims(dists, axis = -1))\r\n",
        "\r\n",
        "      e = tf.concat([diff_x[:, 3:], tf.expand_dims(dists, -1), vects], axis = 1)\r\n",
        "\r\n",
        "      return a, e\r\n",
        "\r\n",
        "# Build model\r\n",
        "model = model_class()\r\n",
        "\r\n",
        "opt = Adam(lr=learning_rate)\r\n",
        "loss_fn = custom_loss\r\n",
        "# loss_fn = MeanAbsoluteError()\r\n",
        "acc_fn = MeanAbsoluteError()\r\n",
        "\r\n",
        "\r\n",
        "model.compile()\r\n",
        "# model.build()\r\n",
        "# fit(train_loader)"
      ],
      "execution_count": 6,
      "outputs": []
    },
    {
      "cell_type": "code",
      "metadata": {
        "id": "C_Y52q67_kNR"
      },
      "source": [
        "################################################################################\r\n",
        "# DEFINE TF-FUNCTIONS\r\n",
        "################################################################################\r\n",
        "@tf.function(input_signature=train_loader.tf_signature(), experimental_relax_shapes=True)\r\n",
        "def train_step(inputs, target):\r\n",
        "    with tf.GradientTape() as tape:\r\n",
        "        predictions = model(inputs, training=True)\r\n",
        "        loss = loss_fn(target, predictions)\r\n",
        "        loss += sum(model.losses)\r\n",
        "    gradients = tape.gradient(loss, model.trainable_variables)\r\n",
        "    opt.apply_gradients(zip(gradients, model.trainable_variables))\r\n",
        "    acc = acc_fn(target,predictions)\r\n",
        "\r\n",
        "    return loss, acc\r\n",
        "\r\n",
        "def validate(inputs,target):\r\n",
        "    predictions = model(inputs, training=False)\r\n",
        "    loss = loss_fn(target, predictions)\r\n",
        "    loss += sum(model.losses)\r\n",
        "    acc = acc_fn(target,predictions)\r\n",
        "\r\n",
        "    return loss, acc\r\n",
        "\r\n",
        "\r\n",
        "\r\n",
        "\r\n",
        "loss_fn = custom_loss\r\n",
        "acc_fn = custom_acc\r\n",
        "def fit(train_loader,logwandb = False):\r\n",
        "  if logwandb:\r\n",
        "    run = wandb.init(project='IceCube GNN Bachelor',config = config)\r\n",
        "\r\n",
        "  current_batch = 0\r\n",
        "  model_loss = []\r\n",
        "  model_acc = []\r\n",
        "  vali_acc = []\r\n",
        "  epoch = 0\r\n",
        "\r\n",
        "  epoch_steps = train_loader.steps_per_epoch\r\n",
        "\r\n",
        "  t = tqdm(total  = train_loader.steps_per_epoch,leave = True)\r\n",
        "  t.set_description(f'Currently on epoch {0} of {epochs} ')\r\n",
        "\r\n",
        "  pb = []\r\n",
        "  tar = []\r\n",
        "  step = 0\r\n",
        "\r\n",
        "  last_loss = 0\r\n",
        "  \r\n",
        "  for batch in train_loader:\r\n",
        "      step += 1\r\n",
        "      inputs, target = batch\r\n",
        "      inputs = scale_inputs(inputs)\r\n",
        "\r\n",
        "      loss, acc = train_step(inputs,target)\r\n",
        "\r\n",
        "      model_loss.append(loss)\r\n",
        "      model_acc.append(acc)\r\n",
        "      current_batch += 1\r\n",
        "      t.update(1)\r\n",
        "\r\n",
        "      if current_batch == epoch_steps:\r\n",
        "          test_loader = DisjointLoader(dataset_te, batch_size=batch_size, epochs=test_epochs, shuffle=True)\r\n",
        "          t.set_description(f'Currently validating results')\r\n",
        "\r\n",
        "          for vali_batch in test_loader:\r\n",
        "            vali_inputs, vali_target = vali_batch\r\n",
        "            valie_inputs = scale_inputs(vali_inputs)\r\n",
        "            vali_loss, va = validate(vali_inputs,vali_target)\r\n",
        "            vali_acc.append(va)\r\n",
        "          va = np.mean(vali_acc)\r\n",
        "\r\n",
        "          m_loss = np.mean(model_loss)\r\n",
        "          change = (m_loss-last_loss)/max(0.000001,last_loss)\r\n",
        "          last_loss = m_loss\r\n",
        "\r\n",
        "          s = \"Train loss: {} - Train accuracy: {} - Loss change {:+.3f}% | Validation accuracy {} | Epoch: {}\".format(m_loss, np.mean(model_acc), change*100,va, epoch)\r\n",
        "          t.write(s)\r\n",
        "\r\n",
        "          ma = np.array(model_acc)\r\n",
        "          s = \"Accuracy is: Energy {} | Azimuth {} | Zenith {}\".format(np.mean(ma[:,0]),np.mean(ma[:,1]),np.mean(ma[:,2]))\r\n",
        "          t.write(s)\r\n",
        "          # print(\"Two current guesses are\\n\",np.array(pb[0]),np.array(pb[1]),\"for\\n\",tar[0],tar[1])\r\n",
        "\r\n",
        "          # if epoch%5 == 0 and epoch != 0:\r\n",
        "            # print(\"Two current guesses are\\n\",np.array(pb[0]),np.array(pb[1]),\"for\\n\",tar[0],tar[1])\r\n",
        "            # pass\r\n",
        "          # else:\r\n",
        "            # pb = model(inputs, training=False)\r\n",
        "            # tar = target\r\n",
        "\r\n",
        "\r\n",
        "\r\n",
        "          if logwandb:\r\n",
        "            wandb.log({\r\n",
        "                      \"train_loss\": m_loss,\r\n",
        "                      \"energy_accuracy\": np.mean(ma[:,0]),\r\n",
        "                      \"azimuth_accuracy\": np.mean(ma[:,1]),\r\n",
        "                      \"zenith_accuracy\": np.mean(ma[:,2]),\r\n",
        "                      \"val_loss\": va,\r\n",
        "                      })\r\n",
        "\r\n",
        "\r\n",
        "\r\n",
        "\r\n",
        "          model_loss = []\r\n",
        "          model_acc = []\r\n",
        "          vali_acc = []\r\n",
        "          current_batch = 0\r\n",
        "          step = 0\r\n",
        "\r\n",
        "          t.n = 0\r\n",
        "          t.last_print_n = 0\r\n",
        "          t.refresh()\r\n",
        "          epoch += 1\r\n",
        "\r\n",
        "          t.set_description(f'Currently on epoch {epoch} of {epochs} ')\r\n"
      ],
      "execution_count": 7,
      "outputs": []
    },
    {
      "cell_type": "code",
      "metadata": {
        "colab": {
          "base_uri": "https://localhost:8080/",
          "height": 270,
          "referenced_widgets": [
            "c810f81f8e914e9c84084af7a970811d",
            "7907a88c2b0a480e91c65d327854fd92",
            "d7514e54c49b4b4ca8cec513da144875",
            "e349c7a7a9b04effb5829f1ddfcecbfb",
            "4e9143ed0f464fb4b3e3f7842cf5779f",
            "2235bb676ce5482e88a38ae1b5062a2a",
            "890469706c1a4ca88c90f739c57e0b08",
            "fdc9c5b56eef4c8896c1a3c22b4856b6"
          ]
        },
        "id": "7E3bDUpo_tue",
        "outputId": "eed31383-cdc8-46d3-9b8f-ca456fc50f49"
      },
      "source": [
        "fit(train_loader,logwandb = False)\r\n",
        "run.finish()\r\n",
        "print(\"\\n\\nTraining of the following model is now complete:\")\r\n",
        "model.summary()\r\n",
        "save_path = \"/content/drive/MyDrive/Bachelor Project - IceCube ML/Saved Models\"\r\n",
        "# pth = save_path + f\"/{wandb.run.name}-{int(epochs)}epochs\" \r\n",
        "pth = save_path + f\"/Ramusway-{int(epochs)}\"\r\n",
        "# pth = save_path + \"savetest\"\r\n",
        "# model.save(pth)"
      ],
      "execution_count": null,
      "outputs": [
        {
          "output_type": "display_data",
          "data": {
            "application/vnd.jupyter.widget-view+json": {
              "model_id": "c810f81f8e914e9c84084af7a970811d",
              "version_major": 2,
              "version_minor": 0
            },
            "text/plain": [
              "HBox(children=(FloatProgress(value=0.0, max=5625.0), HTML(value='')))"
            ]
          },
          "metadata": {
            "tags": []
          }
        },
        {
          "output_type": "stream",
          "text": [
            "Train loss: 0.7949867389564593 - Train accuracy: 0.25528198715118133 - Loss change +79498673.896% | Validation accuracy 0.19092880264778575 | Epoch: 0\n",
            "Accuracy is: Energy 0.31812123139867826 | Azimuth 0.19456605021519713 | Zenith 0.2531586798396685\n",
            "Train loss: 0.2938578958389905 - Train accuracy: 0.19139850899563118 - Loss change -63.036% | Validation accuracy 0.18776046024214652 | Epoch: 1\n",
            "Accuracy is: Energy 0.2027363681914562 | Azimuth 0.1562538437403323 | Zenith 0.2152053150551051\n",
            "Train loss: 0.28095461573356295 - Train accuracy: 0.18910972391863487 - Loss change -4.391% | Validation accuracy 0.186237839711565 | Epoch: 2\n",
            "Accuracy is: Energy 0.19859672953834384 | Azimuth 0.15598424240084122 | Zenith 0.21274819981671966\n",
            "Train loss: 0.26754377511987665 - Train accuracy: 0.18599266981147553 - Loss change -4.773% | Validation accuracy 0.18598458078022054 | Epoch: 3\n",
            "Accuracy is: Energy 0.19335199327912034 | Azimuth 0.15512959337653426 | Zenith 0.2094964227787716\n",
            "Train loss: 0.2595873149625535 - Train accuracy: 0.18281886959726384 - Loss change -2.974% | Validation accuracy 0.18194833639429736 | Epoch: 4\n",
            "Accuracy is: Energy 0.188305704539319 | Azimuth 0.1541569969699253 | Zenith 0.20599390728254713\n",
            "Train loss: 0.2514194130863461 - Train accuracy: 0.17965042625119412 - Loss change -3.146% | Validation accuracy 0.17807125998717033 | Epoch: 5\n",
            "Accuracy is: Energy 0.1838493916329341 | Azimuth 0.15379674150683145 | Zenith 0.20130514561381666\n"
          ],
          "name": "stdout"
        }
      ]
    },
    {
      "cell_type": "code",
      "metadata": {
        "colab": {
          "base_uri": "https://localhost:8080/",
          "height": 337
        },
        "id": "Ka1sa9P2yVfX",
        "outputId": "9ee1bb7f-1e39-466d-977c-2e9fc2e092bf"
      },
      "source": [
        "\r\n",
        "# keras.models.load_model(\"/content/drive/MyDrive/Bachelor Project - IceCube ML/Saved Models/astral-valley-61-52epochs\")\r\n",
        "\r\n",
        "@tf.function(input_signature=test_loader.tf_signature(), experimental_relax_shapes=True)\r\n",
        "def get_predictions(inputs,target):\r\n",
        "  return model(inputs,training = False)\r\n",
        "\r\n",
        "def get_true_guesses(inputs,target):\r\n",
        "  pred = model(inputs,training = False)\r\n",
        "  energy = pred[:,0]\r\n",
        "  azi  = tf.atan2(pred[:,2],pred[:,1])\r\n",
        "  zeni = tf.atan2(pred[:,4],pred[:,3])\r\n",
        "  return (energy,azi,zeni)\r\n",
        "\r\n",
        "\r\n",
        "def make1D(a):\r\n",
        "  new = []\r\n",
        "  for aa in a:\r\n",
        "    for aaa in aa:\r\n",
        "      new.append(aaa)\r\n",
        "  return np.array(new)\r\n",
        "\r\n",
        "def test_model():\r\n",
        "  # print(\"Testing model\")\r\n",
        "  model_loss, model_acc = [],[]\r\n",
        "\r\n",
        "  test_loader = DisjointLoader(dataset_te, batch_size=batch_size, epochs=10,shuffle = True)\r\n",
        "\r\n",
        "  predictions, truths = [],[]\r\n",
        "\r\n",
        "  for batch in test_loader:\r\n",
        "    inputs, target = batch\r\n",
        "    inputs = scale_inputs(inputs) \r\n",
        "    # print(inputs)\r\n",
        "    pred = get_predictions(inputs,target)\r\n",
        "\r\n",
        "    true_guesses = get_true_guesses(inputs,target)\r\n",
        "\r\n",
        "    predictions.append(true_guesses)\r\n",
        "    truths.append(np.array(target))\r\n",
        "    \r\n",
        "    # print(pred)\r\n",
        "    model_loss.append(loss_fn(target, np.array(pred)))\r\n",
        "    model_acc.append(acc_fn(target, pred))\r\n",
        "  \r\n",
        "  model_acc = np.array(model_acc)\r\n",
        "  print(f\"Done! \\nModel loss {np.mean(model_loss)} | Energy accuracy {np.mean(model_acc[:,0])} | Azimuth accuracy {np.mean(model_acc[:,1])} | Zenith accuracy {np.mean(model_acc[:,2])}\")\r\n",
        "  return predictions, truths\r\n",
        "\r\n",
        "\r\n",
        "\r\n",
        "predictions, truths = test_model()"
      ],
      "execution_count": 88,
      "outputs": [
        {
          "output_type": "error",
          "ename": "Exception",
          "evalue": "ignored",
          "traceback": [
            "\u001b[0;31m---------------------------------------------------------------------------\u001b[0m",
            "\u001b[0;31mException\u001b[0m                                 Traceback (most recent call last)",
            "\u001b[0;32m<ipython-input-88-e946d0f54d79>\u001b[0m in \u001b[0;36m<module>\u001b[0;34m()\u001b[0m\n\u001b[1;32m     50\u001b[0m \u001b[0;34m\u001b[0m\u001b[0m\n\u001b[1;32m     51\u001b[0m \u001b[0;34m\u001b[0m\u001b[0m\n\u001b[0;32m---> 52\u001b[0;31m \u001b[0mpredictions\u001b[0m\u001b[0;34m,\u001b[0m \u001b[0mtruths\u001b[0m \u001b[0;34m=\u001b[0m \u001b[0mtest_model\u001b[0m\u001b[0;34m(\u001b[0m\u001b[0;34m)\u001b[0m\u001b[0;34m\u001b[0m\u001b[0;34m\u001b[0m\u001b[0m\n\u001b[0m",
            "\u001b[0;32m<ipython-input-88-e946d0f54d79>\u001b[0m in \u001b[0;36mtest_model\u001b[0;34m()\u001b[0m\n\u001b[1;32m     45\u001b[0m \u001b[0;34m\u001b[0m\u001b[0m\n\u001b[1;32m     46\u001b[0m   \u001b[0mmodel_acc\u001b[0m \u001b[0;34m=\u001b[0m \u001b[0mnp\u001b[0m\u001b[0;34m.\u001b[0m\u001b[0marray\u001b[0m\u001b[0;34m(\u001b[0m\u001b[0mmodel_acc\u001b[0m\u001b[0;34m)\u001b[0m\u001b[0;34m\u001b[0m\u001b[0;34m\u001b[0m\u001b[0m\n\u001b[0;32m---> 47\u001b[0;31m   \u001b[0mprint\u001b[0m\u001b[0;34m(\u001b[0m\u001b[0;34mf\"Done! \\nModel loss {np.mean(model_loss)} | Energy accuracy {np.mean(model_acc[:,0])} | Azimuth accuracy {np.mean(model_acc[:,1])} | Zenith accuracy {np.mean(model_acc[:,2])}\"\u001b[0m\u001b[0;34m)\u001b[0m\u001b[0;34m\u001b[0m\u001b[0;34m\u001b[0m\u001b[0m\n\u001b[0m\u001b[1;32m     48\u001b[0m   \u001b[0;32mreturn\u001b[0m \u001b[0mpredictions\u001b[0m\u001b[0;34m,\u001b[0m \u001b[0mtruths\u001b[0m\u001b[0;34m\u001b[0m\u001b[0;34m\u001b[0m\u001b[0m\n\u001b[1;32m     49\u001b[0m \u001b[0;34m\u001b[0m\u001b[0m\n",
            "\u001b[0;32m/usr/local/lib/python3.6/dist-packages/wandb/sdk/lib/redirect.py\u001b[0m in \u001b[0;36mnew_write\u001b[0;34m(data)\u001b[0m\n\u001b[1;32m     98\u001b[0m \u001b[0;34m\u001b[0m\u001b[0m\n\u001b[1;32m     99\u001b[0m             \u001b[0;32mdef\u001b[0m \u001b[0mnew_write\u001b[0m\u001b[0;34m(\u001b[0m\u001b[0mdata\u001b[0m\u001b[0;34m)\u001b[0m\u001b[0;34m:\u001b[0m\u001b[0;34m\u001b[0m\u001b[0;34m\u001b[0m\u001b[0m\n\u001b[0;32m--> 100\u001b[0;31m                 \u001b[0mcb\u001b[0m\u001b[0;34m(\u001b[0m\u001b[0mname\u001b[0m\u001b[0;34m,\u001b[0m \u001b[0mdata\u001b[0m\u001b[0;34m)\u001b[0m\u001b[0;34m\u001b[0m\u001b[0;34m\u001b[0m\u001b[0m\n\u001b[0m\u001b[1;32m    101\u001b[0m                 \u001b[0mold_write\u001b[0m\u001b[0;34m(\u001b[0m\u001b[0mdata\u001b[0m\u001b[0;34m)\u001b[0m\u001b[0;34m\u001b[0m\u001b[0;34m\u001b[0m\u001b[0m\n\u001b[1;32m    102\u001b[0m                 \u001b[0;32mtry\u001b[0m\u001b[0;34m:\u001b[0m\u001b[0;34m\u001b[0m\u001b[0;34m\u001b[0m\u001b[0m\n",
            "\u001b[0;32m/usr/local/lib/python3.6/dist-packages/wandb/sdk/wandb_run.py\u001b[0m in \u001b[0;36m_console_callback\u001b[0;34m(self, name, data)\u001b[0m\n\u001b[1;32m    737\u001b[0m         \u001b[0;31m# logger.info(\"console callback: %s, %s\", name, data)\u001b[0m\u001b[0;34m\u001b[0m\u001b[0;34m\u001b[0m\u001b[0;34m\u001b[0m\u001b[0m\n\u001b[1;32m    738\u001b[0m         \u001b[0;32mif\u001b[0m \u001b[0mself\u001b[0m\u001b[0;34m.\u001b[0m\u001b[0m_backend\u001b[0m\u001b[0;34m:\u001b[0m\u001b[0;34m\u001b[0m\u001b[0;34m\u001b[0m\u001b[0m\n\u001b[0;32m--> 739\u001b[0;31m             \u001b[0mself\u001b[0m\u001b[0;34m.\u001b[0m\u001b[0m_backend\u001b[0m\u001b[0;34m.\u001b[0m\u001b[0minterface\u001b[0m\u001b[0;34m.\u001b[0m\u001b[0mpublish_output\u001b[0m\u001b[0;34m(\u001b[0m\u001b[0mname\u001b[0m\u001b[0;34m,\u001b[0m \u001b[0mdata\u001b[0m\u001b[0;34m)\u001b[0m\u001b[0;34m\u001b[0m\u001b[0;34m\u001b[0m\u001b[0m\n\u001b[0m\u001b[1;32m    740\u001b[0m \u001b[0;34m\u001b[0m\u001b[0m\n\u001b[1;32m    741\u001b[0m     def _tensorboard_callback(\n",
            "\u001b[0;32m/usr/local/lib/python3.6/dist-packages/wandb/sdk/interface/interface.py\u001b[0m in \u001b[0;36mpublish_output\u001b[0;34m(self, name, data)\u001b[0m\n\u001b[1;32m    184\u001b[0m         \u001b[0mo\u001b[0m \u001b[0;34m=\u001b[0m \u001b[0mpb\u001b[0m\u001b[0;34m.\u001b[0m\u001b[0mOutputRecord\u001b[0m\u001b[0;34m(\u001b[0m\u001b[0moutput_type\u001b[0m\u001b[0;34m=\u001b[0m\u001b[0motype\u001b[0m\u001b[0;34m,\u001b[0m \u001b[0mline\u001b[0m\u001b[0;34m=\u001b[0m\u001b[0mdata\u001b[0m\u001b[0;34m)\u001b[0m\u001b[0;34m\u001b[0m\u001b[0;34m\u001b[0m\u001b[0m\n\u001b[1;32m    185\u001b[0m         \u001b[0mo\u001b[0m\u001b[0;34m.\u001b[0m\u001b[0mtimestamp\u001b[0m\u001b[0;34m.\u001b[0m\u001b[0mGetCurrentTime\u001b[0m\u001b[0;34m(\u001b[0m\u001b[0;34m)\u001b[0m\u001b[0;34m\u001b[0m\u001b[0;34m\u001b[0m\u001b[0m\n\u001b[0;32m--> 186\u001b[0;31m         \u001b[0mself\u001b[0m\u001b[0;34m.\u001b[0m\u001b[0m_publish_output\u001b[0m\u001b[0;34m(\u001b[0m\u001b[0mo\u001b[0m\u001b[0;34m)\u001b[0m\u001b[0;34m\u001b[0m\u001b[0;34m\u001b[0m\u001b[0m\n\u001b[0m\u001b[1;32m    187\u001b[0m \u001b[0;34m\u001b[0m\u001b[0m\n\u001b[1;32m    188\u001b[0m     \u001b[0;32mdef\u001b[0m \u001b[0m_publish_output\u001b[0m\u001b[0;34m(\u001b[0m\u001b[0mself\u001b[0m\u001b[0;34m,\u001b[0m \u001b[0moutdata\u001b[0m\u001b[0;34m:\u001b[0m \u001b[0mpb\u001b[0m\u001b[0;34m.\u001b[0m\u001b[0mOutputRecord\u001b[0m\u001b[0;34m)\u001b[0m \u001b[0;34m->\u001b[0m \u001b[0;32mNone\u001b[0m\u001b[0;34m:\u001b[0m\u001b[0;34m\u001b[0m\u001b[0;34m\u001b[0m\u001b[0m\n",
            "\u001b[0;32m/usr/local/lib/python3.6/dist-packages/wandb/sdk/interface/interface.py\u001b[0m in \u001b[0;36m_publish_output\u001b[0;34m(self, outdata)\u001b[0m\n\u001b[1;32m    189\u001b[0m         \u001b[0mrec\u001b[0m \u001b[0;34m=\u001b[0m \u001b[0mpb\u001b[0m\u001b[0;34m.\u001b[0m\u001b[0mRecord\u001b[0m\u001b[0;34m(\u001b[0m\u001b[0;34m)\u001b[0m\u001b[0;34m\u001b[0m\u001b[0;34m\u001b[0m\u001b[0m\n\u001b[1;32m    190\u001b[0m         \u001b[0mrec\u001b[0m\u001b[0;34m.\u001b[0m\u001b[0moutput\u001b[0m\u001b[0;34m.\u001b[0m\u001b[0mCopyFrom\u001b[0m\u001b[0;34m(\u001b[0m\u001b[0moutdata\u001b[0m\u001b[0;34m)\u001b[0m\u001b[0;34m\u001b[0m\u001b[0;34m\u001b[0m\u001b[0m\n\u001b[0;32m--> 191\u001b[0;31m         \u001b[0mself\u001b[0m\u001b[0;34m.\u001b[0m\u001b[0m_publish\u001b[0m\u001b[0;34m(\u001b[0m\u001b[0mrec\u001b[0m\u001b[0;34m)\u001b[0m\u001b[0;34m\u001b[0m\u001b[0;34m\u001b[0m\u001b[0m\n\u001b[0m\u001b[1;32m    192\u001b[0m \u001b[0;34m\u001b[0m\u001b[0m\n\u001b[1;32m    193\u001b[0m     def publish_tbdata(\n",
            "\u001b[0;32m/usr/local/lib/python3.6/dist-packages/wandb/sdk/interface/interface.py\u001b[0m in \u001b[0;36m_publish\u001b[0;34m(self, record, local)\u001b[0m\n\u001b[1;32m    512\u001b[0m     \u001b[0;32mdef\u001b[0m \u001b[0m_publish\u001b[0m\u001b[0;34m(\u001b[0m\u001b[0mself\u001b[0m\u001b[0;34m,\u001b[0m \u001b[0mrecord\u001b[0m\u001b[0;34m:\u001b[0m \u001b[0mpb\u001b[0m\u001b[0;34m.\u001b[0m\u001b[0mRecord\u001b[0m\u001b[0;34m,\u001b[0m \u001b[0mlocal\u001b[0m\u001b[0;34m:\u001b[0m \u001b[0mbool\u001b[0m \u001b[0;34m=\u001b[0m \u001b[0;32mNone\u001b[0m\u001b[0;34m)\u001b[0m \u001b[0;34m->\u001b[0m \u001b[0;32mNone\u001b[0m\u001b[0;34m:\u001b[0m\u001b[0;34m\u001b[0m\u001b[0;34m\u001b[0m\u001b[0m\n\u001b[1;32m    513\u001b[0m         \u001b[0;32mif\u001b[0m \u001b[0mself\u001b[0m\u001b[0;34m.\u001b[0m\u001b[0m_process\u001b[0m \u001b[0;32mand\u001b[0m \u001b[0;32mnot\u001b[0m \u001b[0mself\u001b[0m\u001b[0;34m.\u001b[0m\u001b[0m_process\u001b[0m\u001b[0;34m.\u001b[0m\u001b[0mis_alive\u001b[0m\u001b[0;34m(\u001b[0m\u001b[0;34m)\u001b[0m\u001b[0;34m:\u001b[0m\u001b[0;34m\u001b[0m\u001b[0;34m\u001b[0m\u001b[0m\n\u001b[0;32m--> 514\u001b[0;31m             \u001b[0;32mraise\u001b[0m \u001b[0mException\u001b[0m\u001b[0;34m(\u001b[0m\u001b[0;34m\"The wandb backend process has shutdown\"\u001b[0m\u001b[0;34m)\u001b[0m\u001b[0;34m\u001b[0m\u001b[0;34m\u001b[0m\u001b[0m\n\u001b[0m\u001b[1;32m    515\u001b[0m         \u001b[0;32mif\u001b[0m \u001b[0mlocal\u001b[0m\u001b[0;34m:\u001b[0m\u001b[0;34m\u001b[0m\u001b[0;34m\u001b[0m\u001b[0m\n\u001b[1;32m    516\u001b[0m             \u001b[0mrecord\u001b[0m\u001b[0;34m.\u001b[0m\u001b[0mcontrol\u001b[0m\u001b[0;34m.\u001b[0m\u001b[0mlocal\u001b[0m \u001b[0;34m=\u001b[0m \u001b[0mlocal\u001b[0m\u001b[0;34m\u001b[0m\u001b[0;34m\u001b[0m\u001b[0m\n",
            "\u001b[0;31mException\u001b[0m: The wandb backend process has shutdown"
          ]
        }
      ]
    },
    {
      "cell_type": "code",
      "metadata": {
        "id": "44GCd_FzSA0j"
      },
      "source": [
        ""
      ],
      "execution_count": null,
      "outputs": []
    },
    {
      "cell_type": "code",
      "metadata": {
        "colab": {
          "base_uri": "https://localhost:8080/",
          "height": 377
        },
        "id": "KkQzrIPNSQ0j",
        "outputId": "bfe6d51c-0e48-4b0a-8c0e-f52effd8f249"
      },
      "source": [
        "preds = []\r\n",
        "\r\n",
        "for i in range(len(predictions)):\r\n",
        "  preds.append(predictions[i][0])\r\n",
        "\r\n",
        "trs = []\r\n",
        "\r\n",
        "for i in range(len(truths[:,2])):\r\n",
        "  trs.append(truths[:,2][i])\r\n",
        "# print(len(trs), len(preds))\r\n",
        "# trs\r\n",
        "\r\n",
        "# truths[:,1]\r\n",
        "# preds[:10]\r\n",
        "plt.figure(figsize=(14,6))\r\n",
        "plt.hist(trs,bins=50,histtype=\"step\",cumulative=False)\r\n",
        "# plt.hist(preds,bins=50,histtype=\"step\",cumulative=False)\r\n",
        "plt.show()"
      ],
      "execution_count": null,
      "outputs": [
        {
          "output_type": "display_data",
          "data": {
            "image/png": "[encoded data removed]",
            "text/plain": [
              "<Figure size 1008x432 with 1 Axes>"
            ]
          },
          "metadata": {
            "tags": [],
            "needs_background": "light"
          }
        }
      ]
    },
    {
      "cell_type": "code",
      "metadata": {
        "id": "74ChDcxA613C"
      },
      "source": [
        ""
      ],
      "execution_count": null,
      "outputs": []
    }
  ]
}