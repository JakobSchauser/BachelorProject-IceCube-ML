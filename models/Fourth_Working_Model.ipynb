{
  "nbformat": 4,
  "nbformat_minor": 0,
  "metadata": {
    "colab": {
      "name": "Fourth Working Model",
      "provenance": [],
      "collapsed_sections": [],
      "mount_file_id": "1F5LapnzmQ3_-UbqgwUGvW0joIZtifhJc",
      "authorship_tag": "ABX9TyOCJ//qcl/dgkogNf3XKihQ",
      "include_colab_link": true
    },
    "kernelspec": {
      "name": "python3",
      "display_name": "Python 3"
    },
    "accelerator": "GPU",
    "widgets": {
      "application/vnd.jupyter.widget-state+json": {
        "8e8be37081b74133b3c3ac60e0800883": {
          "model_module": "@jupyter-widgets/controls",
          "model_name": "VBoxModel",
          "state": {
            "_view_name": "VBoxView",
            "_dom_classes": [],
            "_model_name": "VBoxModel",
            "_view_module": "@jupyter-widgets/controls",
            "_model_module_version": "1.5.0",
            "_view_count": null,
            "_view_module_version": "1.5.0",
            "box_style": "",
            "layout": "IPY_MODEL_cc7aa8ae6ff64bb58a5e04ff46d01112",
            "_model_module": "@jupyter-widgets/controls",
            "children": [
              "IPY_MODEL_e2d968126b56487f89f3b58b2ecc3c47",
              "IPY_MODEL_015aaaa8dfa242fcb6eabc434b21fe1f"
            ]
          }
        },
        "cc7aa8ae6ff64bb58a5e04ff46d01112": {
          "model_module": "@jupyter-widgets/base",
          "model_name": "LayoutModel",
          "state": {
            "_view_name": "LayoutView",
            "grid_template_rows": null,
            "right": null,
            "justify_content": null,
            "_view_module": "@jupyter-widgets/base",
            "overflow": null,
            "_model_module_version": "1.2.0",
            "_view_count": null,
            "flex_flow": null,
            "width": null,
            "min_width": null,
            "border": null,
            "align_items": null,
            "bottom": null,
            "_model_module": "@jupyter-widgets/base",
            "top": null,
            "grid_column": null,
            "overflow_y": null,
            "overflow_x": null,
            "grid_auto_flow": null,
            "grid_area": null,
            "grid_template_columns": null,
            "flex": null,
            "_model_name": "LayoutModel",
            "justify_items": null,
            "grid_row": null,
            "max_height": null,
            "align_content": null,
            "visibility": null,
            "align_self": null,
            "height": null,
            "min_height": null,
            "padding": null,
            "grid_auto_rows": null,
            "grid_gap": null,
            "max_width": null,
            "order": null,
            "_view_module_version": "1.2.0",
            "grid_template_areas": null,
            "object_position": null,
            "object_fit": null,
            "grid_auto_columns": null,
            "margin": null,
            "display": null,
            "left": null
          }
        },
        "e2d968126b56487f89f3b58b2ecc3c47": {
          "model_module": "@jupyter-widgets/controls",
          "model_name": "LabelModel",
          "state": {
            "_view_name": "LabelView",
            "style": "IPY_MODEL_a7379611c4344edb89ad5c90a2b1e626",
            "_dom_classes": [],
            "description": "",
            "_model_name": "LabelModel",
            "placeholder": "​",
            "_view_module": "@jupyter-widgets/controls",
            "_model_module_version": "1.5.0",
            "value": " 0.01MB of 0.01MB uploaded (0.00MB deduped)\r",
            "_view_count": null,
            "_view_module_version": "1.5.0",
            "description_tooltip": null,
            "_model_module": "@jupyter-widgets/controls",
            "layout": "IPY_MODEL_907cee8fcbe9471bba16051a0add6752"
          }
        },
        "015aaaa8dfa242fcb6eabc434b21fe1f": {
          "model_module": "@jupyter-widgets/controls",
          "model_name": "FloatProgressModel",
          "state": {
            "_view_name": "ProgressView",
            "style": "IPY_MODEL_c1ee37d413264154ab856b1f370f5748",
            "_dom_classes": [],
            "description": "",
            "_model_name": "FloatProgressModel",
            "bar_style": "",
            "max": 1,
            "_view_module": "@jupyter-widgets/controls",
            "_model_module_version": "1.5.0",
            "value": 1,
            "_view_count": null,
            "_view_module_version": "1.5.0",
            "orientation": "horizontal",
            "min": 0,
            "description_tooltip": null,
            "_model_module": "@jupyter-widgets/controls",
            "layout": "IPY_MODEL_80c3ec9ac4c0468182e3e633437c3a4d"
          }
        },
        "a7379611c4344edb89ad5c90a2b1e626": {
          "model_module": "@jupyter-widgets/controls",
          "model_name": "DescriptionStyleModel",
          "state": {
            "_view_name": "StyleView",
            "_model_name": "DescriptionStyleModel",
            "description_width": "",
            "_view_module": "@jupyter-widgets/base",
            "_model_module_version": "1.5.0",
            "_view_count": null,
            "_view_module_version": "1.2.0",
            "_model_module": "@jupyter-widgets/controls"
          }
        },
        "907cee8fcbe9471bba16051a0add6752": {
          "model_module": "@jupyter-widgets/base",
          "model_name": "LayoutModel",
          "state": {
            "_view_name": "LayoutView",
            "grid_template_rows": null,
            "right": null,
            "justify_content": null,
            "_view_module": "@jupyter-widgets/base",
            "overflow": null,
            "_model_module_version": "1.2.0",
            "_view_count": null,
            "flex_flow": null,
            "width": null,
            "min_width": null,
            "border": null,
            "align_items": null,
            "bottom": null,
            "_model_module": "@jupyter-widgets/base",
            "top": null,
            "grid_column": null,
            "overflow_y": null,
            "overflow_x": null,
            "grid_auto_flow": null,
            "grid_area": null,
            "grid_template_columns": null,
            "flex": null,
            "_model_name": "LayoutModel",
            "justify_items": null,
            "grid_row": null,
            "max_height": null,
            "align_content": null,
            "visibility": null,
            "align_self": null,
            "height": null,
            "min_height": null,
            "padding": null,
            "grid_auto_rows": null,
            "grid_gap": null,
            "max_width": null,
            "order": null,
            "_view_module_version": "1.2.0",
            "grid_template_areas": null,
            "object_position": null,
            "object_fit": null,
            "grid_auto_columns": null,
            "margin": null,
            "display": null,
            "left": null
          }
        },
        "c1ee37d413264154ab856b1f370f5748": {
          "model_module": "@jupyter-widgets/controls",
          "model_name": "ProgressStyleModel",
          "state": {
            "_view_name": "StyleView",
            "_model_name": "ProgressStyleModel",
            "description_width": "",
            "_view_module": "@jupyter-widgets/base",
            "_model_module_version": "1.5.0",
            "_view_count": null,
            "_view_module_version": "1.2.0",
            "bar_color": null,
            "_model_module": "@jupyter-widgets/controls"
          }
        },
        "80c3ec9ac4c0468182e3e633437c3a4d": {
          "model_module": "@jupyter-widgets/base",
          "model_name": "LayoutModel",
          "state": {
            "_view_name": "LayoutView",
            "grid_template_rows": null,
            "right": null,
            "justify_content": null,
            "_view_module": "@jupyter-widgets/base",
            "overflow": null,
            "_model_module_version": "1.2.0",
            "_view_count": null,
            "flex_flow": null,
            "width": null,
            "min_width": null,
            "border": null,
            "align_items": null,
            "bottom": null,
            "_model_module": "@jupyter-widgets/base",
            "top": null,
            "grid_column": null,
            "overflow_y": null,
            "overflow_x": null,
            "grid_auto_flow": null,
            "grid_area": null,
            "grid_template_columns": null,
            "flex": null,
            "_model_name": "LayoutModel",
            "justify_items": null,
            "grid_row": null,
            "max_height": null,
            "align_content": null,
            "visibility": null,
            "align_self": null,
            "height": null,
            "min_height": null,
            "padding": null,
            "grid_auto_rows": null,
            "grid_gap": null,
            "max_width": null,
            "order": null,
            "_view_module_version": "1.2.0",
            "grid_template_areas": null,
            "object_position": null,
            "object_fit": null,
            "grid_auto_columns": null,
            "margin": null,
            "display": null,
            "left": null
          }
        },
        "d3b8b049d7c749368db373286ec2ce9e": {
          "model_module": "@jupyter-widgets/controls",
          "model_name": "HBoxModel",
          "state": {
            "_view_name": "HBoxView",
            "_dom_classes": [],
            "_model_name": "HBoxModel",
            "_view_module": "@jupyter-widgets/controls",
            "_model_module_version": "1.5.0",
            "_view_count": null,
            "_view_module_version": "1.5.0",
            "box_style": "",
            "layout": "IPY_MODEL_bde1f68d040a427bbb0c5940bb5bdbaf",
            "_model_module": "@jupyter-widgets/controls",
            "children": [
              "IPY_MODEL_60ce754ed9eb4fb19cfee9a409efa2a2",
              "IPY_MODEL_daa14ae858f942a0ac33d3db75933a5d"
            ]
          }
        },
        "bde1f68d040a427bbb0c5940bb5bdbaf": {
          "model_module": "@jupyter-widgets/base",
          "model_name": "LayoutModel",
          "state": {
            "_view_name": "LayoutView",
            "grid_template_rows": null,
            "right": null,
            "justify_content": null,
            "_view_module": "@jupyter-widgets/base",
            "overflow": null,
            "_model_module_version": "1.2.0",
            "_view_count": null,
            "flex_flow": null,
            "width": null,
            "min_width": null,
            "border": null,
            "align_items": null,
            "bottom": null,
            "_model_module": "@jupyter-widgets/base",
            "top": null,
            "grid_column": null,
            "overflow_y": null,
            "overflow_x": null,
            "grid_auto_flow": null,
            "grid_area": null,
            "grid_template_columns": null,
            "flex": null,
            "_model_name": "LayoutModel",
            "justify_items": null,
            "grid_row": null,
            "max_height": null,
            "align_content": null,
            "visibility": null,
            "align_self": null,
            "height": null,
            "min_height": null,
            "padding": null,
            "grid_auto_rows": null,
            "grid_gap": null,
            "max_width": null,
            "order": null,
            "_view_module_version": "1.2.0",
            "grid_template_areas": null,
            "object_position": null,
            "object_fit": null,
            "grid_auto_columns": null,
            "margin": null,
            "display": null,
            "left": null
          }
        },
        "60ce754ed9eb4fb19cfee9a409efa2a2": {
          "model_module": "@jupyter-widgets/controls",
          "model_name": "FloatProgressModel",
          "state": {
            "_view_name": "ProgressView",
            "style": "IPY_MODEL_20ec94660dea4f7d854b9e957574eab4",
            "_dom_classes": [],
            "description": "Currently on epoch 25 of 25 :   0%",
            "_model_name": "FloatProgressModel",
            "bar_style": "",
            "max": 2813,
            "_view_module": "@jupyter-widgets/controls",
            "_model_module_version": "1.5.0",
            "value": 0,
            "_view_count": null,
            "_view_module_version": "1.5.0",
            "orientation": "horizontal",
            "min": 0,
            "description_tooltip": null,
            "_model_module": "@jupyter-widgets/controls",
            "layout": "IPY_MODEL_de8645867ada44b19f09209f98cba90a"
          }
        },
        "daa14ae858f942a0ac33d3db75933a5d": {
          "model_module": "@jupyter-widgets/controls",
          "model_name": "HTMLModel",
          "state": {
            "_view_name": "HTMLView",
            "style": "IPY_MODEL_315dda8bc12a4d97ae52c750c2134be9",
            "_dom_classes": [],
            "description": "",
            "_model_name": "HTMLModel",
            "placeholder": "​",
            "_view_module": "@jupyter-widgets/controls",
            "_model_module_version": "1.5.0",
            "value": " 0/2813 [25:06&lt;00:46, 59.91it/s]",
            "_view_count": null,
            "_view_module_version": "1.5.0",
            "description_tooltip": null,
            "_model_module": "@jupyter-widgets/controls",
            "layout": "IPY_MODEL_16f953a48a7c4c259da74bc9551df03c"
          }
        },
        "20ec94660dea4f7d854b9e957574eab4": {
          "model_module": "@jupyter-widgets/controls",
          "model_name": "ProgressStyleModel",
          "state": {
            "_view_name": "StyleView",
            "_model_name": "ProgressStyleModel",
            "description_width": "initial",
            "_view_module": "@jupyter-widgets/base",
            "_model_module_version": "1.5.0",
            "_view_count": null,
            "_view_module_version": "1.2.0",
            "bar_color": null,
            "_model_module": "@jupyter-widgets/controls"
          }
        },
        "de8645867ada44b19f09209f98cba90a": {
          "model_module": "@jupyter-widgets/base",
          "model_name": "LayoutModel",
          "state": {
            "_view_name": "LayoutView",
            "grid_template_rows": null,
            "right": null,
            "justify_content": null,
            "_view_module": "@jupyter-widgets/base",
            "overflow": null,
            "_model_module_version": "1.2.0",
            "_view_count": null,
            "flex_flow": null,
            "width": null,
            "min_width": null,
            "border": null,
            "align_items": null,
            "bottom": null,
            "_model_module": "@jupyter-widgets/base",
            "top": null,
            "grid_column": null,
            "overflow_y": null,
            "overflow_x": null,
            "grid_auto_flow": null,
            "grid_area": null,
            "grid_template_columns": null,
            "flex": null,
            "_model_name": "LayoutModel",
            "justify_items": null,
            "grid_row": null,
            "max_height": null,
            "align_content": null,
            "visibility": null,
            "align_self": null,
            "height": null,
            "min_height": null,
            "padding": null,
            "grid_auto_rows": null,
            "grid_gap": null,
            "max_width": null,
            "order": null,
            "_view_module_version": "1.2.0",
            "grid_template_areas": null,
            "object_position": null,
            "object_fit": null,
            "grid_auto_columns": null,
            "margin": null,
            "display": null,
            "left": null
          }
        },
        "315dda8bc12a4d97ae52c750c2134be9": {
          "model_module": "@jupyter-widgets/controls",
          "model_name": "DescriptionStyleModel",
          "state": {
            "_view_name": "StyleView",
            "_model_name": "DescriptionStyleModel",
            "description_width": "",
            "_view_module": "@jupyter-widgets/base",
            "_model_module_version": "1.5.0",
            "_view_count": null,
            "_view_module_version": "1.2.0",
            "_model_module": "@jupyter-widgets/controls"
          }
        },
        "16f953a48a7c4c259da74bc9551df03c": {
          "model_module": "@jupyter-widgets/base",
          "model_name": "LayoutModel",
          "state": {
            "_view_name": "LayoutView",
            "grid_template_rows": null,
            "right": null,
            "justify_content": null,
            "_view_module": "@jupyter-widgets/base",
            "overflow": null,
            "_model_module_version": "1.2.0",
            "_view_count": null,
            "flex_flow": null,
            "width": null,
            "min_width": null,
            "border": null,
            "align_items": null,
            "bottom": null,
            "_model_module": "@jupyter-widgets/base",
            "top": null,
            "grid_column": null,
            "overflow_y": null,
            "overflow_x": null,
            "grid_auto_flow": null,
            "grid_area": null,
            "grid_template_columns": null,
            "flex": null,
            "_model_name": "LayoutModel",
            "justify_items": null,
            "grid_row": null,
            "max_height": null,
            "align_content": null,
            "visibility": null,
            "align_self": null,
            "height": null,
            "min_height": null,
            "padding": null,
            "grid_auto_rows": null,
            "grid_gap": null,
            "max_width": null,
            "order": null,
            "_view_module_version": "1.2.0",
            "grid_template_areas": null,
            "object_position": null,
            "object_fit": null,
            "grid_auto_columns": null,
            "margin": null,
            "display": null,
            "left": null
          }
        }
      }
    }
  },
  "cells": [
    {
      "cell_type": "markdown",
      "metadata": {
        "id": "view-in-github",
        "colab_type": "text"
      },
      "source": [
        "<a href=\"https://colab.research.google.com/github/JakobSchauser/BachelorProject-IceCube-ML/blob/main/Fourth_Working_Model.ipynb\" target=\"_parent\"><img src=\"https://colab.research.google.com/assets/colab-badge.svg\" alt=\"Open In Colab\"/></a>"
      ]
    },
    {
      "cell_type": "code",
      "metadata": {
        "id": "mKMo6IdMfBDD"
      },
      "source": [
        "!pip install spektral -q\r\n",
        "\r\n",
        "import numpy as np\r\n",
        "import tensorflow as tf\r\n",
        "import keras\r\n",
        "import pickle\r\n",
        "\r\n",
        "from tensorflow.keras.layers import Dense, Input\r\n",
        "from tensorflow.keras.losses import MeanSquaredError, MeanAbsoluteError\r\n",
        "from tensorflow.keras.metrics import MeanAbsoluteError as MeanAbsoluteError_acc\r\n",
        "from tensorflow.keras.models import Model\r\n",
        "from tensorflow.keras.optimizers import Adam\r\n",
        "from tensorflow.sparse import SparseTensor\r\n",
        "\r\n",
        "\r\n",
        "from spektral.data import DisjointLoader, Dataset\r\n",
        "from spektral.datasets import QM9\r\n",
        "from spektral.layers import AGNNConv, GlobalSumPool, GlobalMaxPool, GlobalAvgPool, GCNConv, ECCConv\r\n",
        "\r\n",
        "from tqdm.notebook import tqdm\r\n",
        "\r\n",
        "import matplotlib.pyplot as plt\r\n",
        "import seaborn as sns\r\n",
        "sns.set()\r\n",
        "%matplotlib inline\r\n",
        "\r\n",
        "PI = np.pi\r\n",
        "\r\n",
        "# Lifehack\r\n",
        "true = True\r\n",
        "false = False"
      ],
      "execution_count": 20,
      "outputs": []
    },
    {
      "cell_type": "code",
      "metadata": {
        "colab": {
          "base_uri": "https://localhost:8080/"
        },
        "id": "jRsrlI0nNqIq",
        "outputId": "fcc14b58-5fa7-4ce5-e91c-3ddf6e01f08c"
      },
      "source": [
        "!pip install wandb -q\r\n",
        "\r\n",
        "import wandb\r\n",
        "from wandb.keras import WandbCallback\r\n",
        "\r\n",
        "wandb.login()"
      ],
      "execution_count": 21,
      "outputs": [
        {
          "output_type": "stream",
          "text": [
            "\u001b[34m\u001b[1mwandb\u001b[0m: \u001b[33mWARNING\u001b[0m Calling wandb.login() after wandb.init() has no effect.\n"
          ],
          "name": "stderr"
        },
        {
          "output_type": "execute_result",
          "data": {
            "text/plain": [
              "True"
            ]
          },
          "metadata": {
            "tags": []
          },
          "execution_count": 21
        }
      ]
    },
    {
      "cell_type": "code",
      "metadata": {
        "colab": {
          "base_uri": "https://localhost:8080/"
        },
        "id": "2gQ8LBcAfIm7",
        "outputId": "68d4c200-a227-4ea2-dc0b-407752d54a25"
      },
      "source": [
        "################################################################################\r\n",
        "# LOAD DATA\r\n",
        "################################################################################\r\n",
        "# Find the reverse transformer\r\n",
        "pcl = \"/content/drive/MyDrive/Bachelor Project - IceCube ML/transformers.pkl\"\r\n",
        "\r\n",
        "with open(pcl,'rb') as tra:\r\n",
        "    transformer = pickle.load(tra)\r\n",
        "\r\n",
        "transformer = transformer[\"truth\"]\r\n",
        "\r\n",
        "\r\n",
        "class dat(Dataset):\r\n",
        "  def __init__(self,n = 1,**kwargs):\r\n",
        "    self.n = n\r\n",
        "    super().__init__(**kwargs)\r\n",
        "  def read(self):\r\n",
        "    # path = \"/content/drive/MyDrive/Bachelor Project - IceCube ML/generatedDataAnglesEnergy100000 0.npz\" # Uncleaned\r\n",
        "    path = \"/content/drive/MyDrive/Bachelor Project - IceCube ML/generatedDataAnglesEnergyClean200000events 0.npz\" # Cleaned\r\n",
        "    # path = \"/content/drive/MyDrive/Bachelor Project - IceCube ML/data.dat\" # From Severin\r\n",
        "    dataset = np.load(path,allow_pickle = True)[\"arr_0\"]\r\n",
        "    graphs = []\r\n",
        "    for g in dataset:\r\n",
        "      e,a,z = g[\"y\"]\r\n",
        "      g[\"y\"] = [transformer['energy_log10'].transform([[e]])[0][0],transformer['azimuth'].transform([[a]])[0][0],transformer['zenith'].transform([[z]])[0][0]]\r\n",
        "      graphs.append(g)\r\n",
        "    return np.array(dataset)\r\n",
        "\r\n",
        "dataset = dat()\r\n",
        "\r\n",
        "print(\"Dataset is\", dataset, \"consisting of\", dataset[0])\r\n",
        "\r\n",
        "\r\n",
        "\r\n",
        "\r\n",
        "#### Put on GPU when possible\r\n",
        "physical_devices = tf.config.list_physical_devices('GPU')\r\n",
        "if len(physical_devices) > 0:\r\n",
        "    print(\"Running on GPU\")\r\n",
        "    tf.config.experimental.set_memory_growth(physical_devices[0], True)\r\n",
        "else:\r\n",
        "    print(\"Running on CPU\")"
      ],
      "execution_count": 22,
      "outputs": [
        {
          "output_type": "stream",
          "text": [
            "/usr/local/lib/python3.6/dist-packages/sklearn/base.py:318: UserWarning: Trying to unpickle estimator RobustScaler from version 0.19.1 when using version 0.22.2.post1. This might lead to breaking code or invalid results. Use at your own risk.\n",
            "  UserWarning)\n"
          ],
          "name": "stderr"
        },
        {
          "output_type": "stream",
          "text": [
            "Dataset is dat(n_graphs=200000) consisting of Graph(n_nodes=13, n_node_features=5, n_edge_features=None, n_labels=3)\n",
            "Running on GPU\n"
          ],
          "name": "stdout"
        }
      ]
    },
    {
      "cell_type": "code",
      "metadata": {
        "id": "QtXbVD-LfZr6"
      },
      "source": [
        "def custom_loss(target,predictions):\r\n",
        "    predictions = tf.cast(predictions,\"float64\")\r\n",
        "\r\n",
        "    energy    = tf.abs(target[:,0] - predictions[:,0])\r\n",
        "    azi, zeni = tf.abs(target[:,1] - predictions[:,1]), tf.abs(target[:,2] - predictions[:,2])\r\n",
        "\r\n",
        "\r\n",
        "    azi  = tf.minimum(azi, tf.abs(tf.abs(azi )-2*PI))     # 2 should be pi or 2pi\r\n",
        "    zeni = tf.minimum(tf.abs(zeni), tf.abs(tf.abs(zeni)-2*PI))  # 2 should be pi or 2pi\r\n",
        "\r\n",
        "    # azi, zeni = azi*10,zeni*10\r\n",
        "\r\n",
        "    #Trying something crazy\r\n",
        "    # more = 2\r\n",
        "    # menergy, mazi, mzeni = tf.where(energy<tf.abs(predictions[:,0]-mean_energy),energy,energy*more), tf.where(azi<tf.abs(predictions[:,1]-mean_azimuth),azi,azi*more), tf.where(zeni<tf.abs(predictions[:,2]-mean_zenith),zeni,zeni*more)\r\n",
        "    # energy,azi,zeni = menergy,mazi,mzeni\r\n",
        "\r\n",
        "\r\n",
        "    loss = 0\r\n",
        "    loss += tf.reduce_mean(tf.square(energy))\r\n",
        "    loss += tf.reduce_mean(tf.square(azi))\r\n",
        "    loss += tf.reduce_mean(tf.square(zeni))\r\n",
        "    loss += 0.1\r\n",
        "    return loss\r\n",
        "\r\n",
        "\r\n",
        "\r\n"
      ],
      "execution_count": 23,
      "outputs": []
    },
    {
      "cell_type": "code",
      "metadata": {
        "cellView": "form",
        "id": "gnzJXaA9a1HR"
      },
      "source": [
        "################################################################################\r\n",
        "# PARAMETERS\r\n",
        "################################################################################\r\n",
        "#@markdown ### Define the model and training parameters and sync with WandB\r\n",
        "batch_size =  64#@param {type: \"number\"}\r\n",
        "\r\n",
        "# one-variable network size changer\r\n",
        "network_size = 512 #@param {type: \"number\"}\r\n",
        "\r\n",
        "learning_rate = 1e-4  #@param {type: \"number\"}\r\n",
        "\r\n",
        "training_epochs = 25 #@param {type: \"slider\", min: 10, max: 200}\r\n",
        "\r\n",
        "\r\n",
        "loss_function = \"custom_loss\"  #@param ['custom_loss']\r\n",
        "\r\n",
        "config = {\r\n",
        "        \"learning_rate\": learning_rate,\r\n",
        "        \"epochs\": training_epochs,\r\n",
        "        \"batch_size\": batch_size,\r\n",
        "        \"loss_function\": loss_function,\r\n",
        "        \"architecture\": \"Broadening CNN - short but wide\",\r\n",
        "        \"network_size\": network_size,\r\n",
        "        \"dataset\": \"MuonGun\"\r\n",
        "      }\r\n",
        "\r\n",
        "epochs = config[\"epochs\"]  # Number of training epochs\r\n",
        "test_epochs = 2 # Number of testing epochs\r\n",
        "\r\n"
      ],
      "execution_count": 24,
      "outputs": []
    },
    {
      "cell_type": "code",
      "metadata": {
        "id": "Y5n3nAsOi5Dt"
      },
      "source": [
        "# Parameters\r\n",
        "F = dataset.n_node_features  # Dimension of node features\r\n",
        "S = dataset.n_edge_features  # Dimension of edge features\r\n",
        "n_out = dataset.n_labels  # Dimension of the target\r\n",
        "\r\n",
        "# Train/test split\r\n",
        "idxs = np.random.permutation(len(dataset))\r\n",
        "split = int(0.9 * len(dataset))\r\n",
        "idx_tr, idx_te = np.split(idxs, [split])\r\n",
        "dataset_tr, dataset_te = dataset[idx_tr], dataset[idx_te]\r\n",
        "\r\n",
        "train_loader = DisjointLoader(dataset_tr, batch_size=batch_size, epochs=epochs)\r\n",
        "test_loader = DisjointLoader(dataset_te, batch_size=batch_size, epochs=test_epochs, shuffle=True)\r\n",
        "\r\n",
        "\r\n",
        "\r\n",
        "\r\n",
        "\r\n",
        "class model_class(Model):\r\n",
        "  def __init__(self,forward = False,):\r\n",
        "    super().__init__()\r\n",
        "    \r\n",
        "    self.forward = forward\r\n",
        "\r\n",
        "    steps = [i**2 for i in range(1,2)]\r\n",
        "\r\n",
        "    # self.inp = ECCConv(network_size,activation=\"relu\",n_out = network_size)\r\n",
        "    # self.inp    = AGNNConv()\r\n",
        "    self.inp = GCNConv(network_size)\r\n",
        "    self.encode = [GCNConv(network_size*s, activation = \"relu\") for s in steps]\r\n",
        "    self.decode = [Dense(network_size*s, activation = \"relu\") for s in steps[::-1]]\r\n",
        "    self.pool   = [GlobalSumPool(), GlobalMaxPool(),GlobalAvgPool()]\r\n",
        "    self.out    = Dense(n_out) \r\n",
        "\r\n",
        "  def call(self, inputs, training = False):\r\n",
        "    x, a, i = inputs\r\n",
        "    # a, e    = self.generate_edge_features(x, a) # NEXT STEP is implementing this for myself\r\n",
        "    # x = self.inp([x,a,e])\r\n",
        "    x = self.inp([x,a])\r\n",
        "\r\n",
        "    for enc in self.encode:\r\n",
        "      x = enc([x,a])\r\n",
        "    \r\n",
        "    xp0 = self.pool[0]([x,i])\r\n",
        "    xp1 = self.pool[1]([x,i])\r\n",
        "    xp2 = self.pool[2]([x,i])\r\n",
        "\r\n",
        "\r\n",
        "    x_pools = [xp0,xp1,xp2]\r\n",
        "    x = tf.concat(x_pools, axis = 1)\r\n",
        "\r\n",
        "    for dec in self.decode:\r\n",
        "      x = dec(x)\r\n",
        "\r\n",
        "    x_out = self.out(x)\r\n",
        "\r\n",
        "    return x_out\r\n",
        "\r\n",
        "  #Shamelessly stolen from Johann\r\n",
        "  def generate_edge_features(self, x, a):\r\n",
        "      send    = a.indices[:, 0]\r\n",
        "      receive = a.indices[:, 1]\r\n",
        "\r\n",
        "      diff_x  = tf.subtract(tf.gather(x, receive), tf.gather(x, send))\r\n",
        "\r\n",
        "      dists   = tf.sqrt(\r\n",
        "        tf.reduce_sum(\r\n",
        "          tf.square(\r\n",
        "            diff_x[:, :3]\r\n",
        "          ), axis = 1\r\n",
        "        ))\r\n",
        "\r\n",
        "      vects = tf.math.divide_no_nan(diff_x[:, :3], tf.expand_dims(dists, axis = -1))\r\n",
        "\r\n",
        "      e = tf.concat([diff_x[:, 3:], tf.expand_dims(dists, -1), vects], axis = 1)\r\n",
        "\r\n",
        "      return a, e\r\n",
        "\r\n",
        "# Build model\r\n",
        "model = model_class()\r\n",
        "\r\n",
        "opt = Adam(lr=learning_rate)\r\n",
        "loss_fn = custom_loss\r\n",
        "# loss_fn = MeanAbsoluteError()\r\n",
        "acc_fn = MeanAbsoluteError()\r\n",
        "\r\n",
        "\r\n",
        "model.compile()\r\n",
        "# model.build()"
      ],
      "execution_count": 25,
      "outputs": []
    },
    {
      "cell_type": "code",
      "metadata": {
        "id": "C_Y52q67_kNR"
      },
      "source": [
        "################################################################################\r\n",
        "# DEFINE TF-FUNCTIONS\r\n",
        "################################################################################\r\n",
        "@tf.function(input_signature=train_loader.tf_signature(), experimental_relax_shapes=True)\r\n",
        "def train_step(inputs, target):\r\n",
        "    with tf.GradientTape() as tape:\r\n",
        "        predictions = model(inputs, training=True)\r\n",
        "        loss = loss_fn(target, predictions)\r\n",
        "        loss += sum(model.losses)\r\n",
        "    gradients = tape.gradient(loss, model.trainable_variables)\r\n",
        "    opt.apply_gradients(zip(gradients, model.trainable_variables))\r\n",
        "    acc = acc_fn(target,predictions)\r\n",
        "\r\n",
        "    return loss, acc\r\n",
        "\r\n",
        "def validate(inputs,target):\r\n",
        "    predictions = model(inputs, training=False)\r\n",
        "    loss = loss_fn(target, predictions)\r\n",
        "    loss += sum(model.losses)\r\n",
        "    acc = acc_fn(target,predictions)\r\n",
        "\r\n",
        "    return loss, acc\r\n",
        "\r\n",
        "def scale_inputs(inputs):\r\n",
        "    inputs[0][:,:3] = inputs[0][:,:3]/100 # x y z\r\n",
        "    inputs[0][:,3] = inputs[0][:,3]/10000 # time\r\n",
        "    inputs[0][:,4] = inputs[0][:,4]/1 # charge\r\n",
        "    return inputs\r\n",
        "\r\n",
        "\r\n",
        "\r\n",
        "loss_fn = custom_loss\r\n",
        "\r\n",
        "def fit(train_loader):\r\n",
        "  run = wandb.init(project='IceCube GNN Bachelor',config = config)\r\n",
        "  current_batch = 0\r\n",
        "  model_loss = []\r\n",
        "  model_acc = []\r\n",
        "  vali_acc = []\r\n",
        "  epoch = 0\r\n",
        "\r\n",
        "  epoch_steps = train_loader.steps_per_epoch\r\n",
        "\r\n",
        "  t = tqdm(total  = train_loader.steps_per_epoch,leave = True)\r\n",
        "  t.set_description(f'Currently on epoch {0} of {epochs} ')\r\n",
        "\r\n",
        "  pb = []\r\n",
        "  tar = []\r\n",
        "  step = 0\r\n",
        "\r\n",
        "  last_loss = 0\r\n",
        "  for batch in train_loader:\r\n",
        "      step += 1\r\n",
        "      inputs, target = batch\r\n",
        "      inputs = scale_inputs(inputs)\r\n",
        "\r\n",
        "      loss, acc = train_step(inputs,target)\r\n",
        "\r\n",
        "      model_loss.append(loss)\r\n",
        "      model_acc.append(acc)\r\n",
        "      current_batch += 1\r\n",
        "      t.update(1)\r\n",
        "      if current_batch == epoch_steps:\r\n",
        "          test_loader = DisjointLoader(dataset_te, batch_size=batch_size, epochs=test_epochs, shuffle=True)\r\n",
        "          t.set_description(f'Currently validating results')\r\n",
        "\r\n",
        "          for vali_batch in test_loader:\r\n",
        "            vali_inputs, vali_target = vali_batch\r\n",
        "            valie_inputs = scale_inputs(vali_inputs)\r\n",
        "            vali_loss, va = validate(vali_inputs,vali_target)\r\n",
        "            vali_acc.append(va)\r\n",
        "          va = np.mean(vali_acc)\r\n",
        "\r\n",
        "          m_loss = np.mean(model_loss)\r\n",
        "          change = (m_loss-last_loss)/max(0.000001,last_loss)\r\n",
        "          last_loss = m_loss\r\n",
        "\r\n",
        "          s = \"Train loss: {} - Train accuracy: {} - Loss change {:+.3f}% | Validation accuracy {} | Epoch: {}\".format(m_loss, np.mean(model_acc), change*100,va, epoch)\r\n",
        "          t.write(s)\r\n",
        "          if epoch%5 == 0 and epoch != 0:\r\n",
        "            print(\"Two current guesses are\\n\",np.array(pb[0]),np.array(pb[1]),\"for\\n\",tar[0],tar[1])\r\n",
        "          else:\r\n",
        "            pb = model(inputs, training=False)\r\n",
        "            tar = target\r\n",
        "\r\n",
        "\r\n",
        "          wandb.log({\r\n",
        "                    \"train_loss\": m_loss,\r\n",
        "                    \"train_accuracy\": np.mean(model_acc),\r\n",
        "                    \"val_loss\": va,\r\n",
        "                    })\r\n",
        "\r\n",
        "\r\n",
        "\r\n",
        "\r\n",
        "          model_loss = []\r\n",
        "          model_acc = []\r\n",
        "          vali_acc = []\r\n",
        "          current_batch = 0\r\n",
        "          step = 0\r\n",
        "\r\n",
        "          t.n = 0\r\n",
        "          t.last_print_n = 0\r\n",
        "          t.refresh()\r\n",
        "          epoch += 1\r\n",
        "\r\n",
        "          t.set_description(f'Currently on epoch {epoch} of {epochs} ')\r\n"
      ],
      "execution_count": 26,
      "outputs": []
    },
    {
      "cell_type": "code",
      "metadata": {
        "colab": {
          "base_uri": "https://localhost:8080/",
          "height": 1000,
          "referenced_widgets": [
            "8e8be37081b74133b3c3ac60e0800883",
            "cc7aa8ae6ff64bb58a5e04ff46d01112",
            "e2d968126b56487f89f3b58b2ecc3c47",
            "015aaaa8dfa242fcb6eabc434b21fe1f",
            "a7379611c4344edb89ad5c90a2b1e626",
            "907cee8fcbe9471bba16051a0add6752",
            "c1ee37d413264154ab856b1f370f5748",
            "80c3ec9ac4c0468182e3e633437c3a4d",
            "d3b8b049d7c749368db373286ec2ce9e",
            "bde1f68d040a427bbb0c5940bb5bdbaf",
            "60ce754ed9eb4fb19cfee9a409efa2a2",
            "daa14ae858f942a0ac33d3db75933a5d",
            "20ec94660dea4f7d854b9e957574eab4",
            "de8645867ada44b19f09209f98cba90a",
            "315dda8bc12a4d97ae52c750c2134be9",
            "16f953a48a7c4c259da74bc9551df03c"
          ]
        },
        "id": "7E3bDUpo_tue",
        "outputId": "7ab4fd99-ab71-43d0-d537-b8e4ba95ea4d"
      },
      "source": [
        "fit(train_loader)\r\n",
        "print(\"\\n\\nTraining of the following model is now complete:\")\r\n",
        "model.summary()\r\n",
        "save_path = \"/content/drive/MyDrive/Bachelor Project - IceCube ML/Saved Models\"\r\n",
        "pth = save_path + f\"/{wandb.run.name}-{int(epochs)}epochs\" \r\n",
        "# pth = save_path + \"savetest\"\r\n",
        "model.save(pth)"
      ],
      "execution_count": 27,
      "outputs": [
        {
          "output_type": "display_data",
          "data": {
            "text/html": [
              "Finishing last run (ID:1i66pn3o) before initializing another..."
            ],
            "text/plain": [
              "<IPython.core.display.HTML object>"
            ]
          },
          "metadata": {
            "tags": []
          }
        },
        {
          "output_type": "display_data",
          "data": {
            "text/html": [
              "<br/>Waiting for W&B process to finish, PID 2684<br/>Program ended successfully."
            ],
            "text/plain": [
              "<IPython.core.display.HTML object>"
            ]
          },
          "metadata": {
            "tags": []
          }
        },
        {
          "output_type": "display_data",
          "data": {
            "application/vnd.jupyter.widget-view+json": {
              "model_id": "8e8be37081b74133b3c3ac60e0800883",
              "version_minor": 0,
              "version_major": 2
            },
            "text/plain": [
              "VBox(children=(Label(value=' 0.00MB of 0.00MB uploaded (0.00MB deduped)\\r'), FloatProgress(value=1.0, max=1.0)…"
            ]
          },
          "metadata": {
            "tags": []
          }
        },
        {
          "output_type": "display_data",
          "data": {
            "text/html": [
              "Find user logs for this run at: <code>/content/wandb/run-20210219_111523-1i66pn3o/logs/debug.log</code>"
            ],
            "text/plain": [
              "<IPython.core.display.HTML object>"
            ]
          },
          "metadata": {
            "tags": []
          }
        },
        {
          "output_type": "display_data",
          "data": {
            "text/html": [
              "Find internal logs for this run at: <code>/content/wandb/run-20210219_111523-1i66pn3o/logs/debug-internal.log</code>"
            ],
            "text/plain": [
              "<IPython.core.display.HTML object>"
            ]
          },
          "metadata": {
            "tags": []
          }
        },
        {
          "output_type": "display_data",
          "data": {
            "text/html": [
              "Synced 5 W&B file(s), 0 media file(s), 0 artifact file(s) and 0 other file(s)"
            ],
            "text/plain": [
              "<IPython.core.display.HTML object>"
            ]
          },
          "metadata": {
            "tags": []
          }
        },
        {
          "output_type": "display_data",
          "data": {
            "text/html": [
              "\n",
              "                    <br/>Synced <strong style=\"color:#cdcd00\">grateful-water-26</strong>: <a href=\"https://wandb.ai/jakobschauser/IceCube%20GNN%20Bachelor/runs/1i66pn3o\" target=\"_blank\">https://wandb.ai/jakobschauser/IceCube%20GNN%20Bachelor/runs/1i66pn3o</a><br/>\n",
              "                "
            ],
            "text/plain": [
              "<IPython.core.display.HTML object>"
            ]
          },
          "metadata": {
            "tags": []
          }
        },
        {
          "output_type": "display_data",
          "data": {
            "text/html": [
              "...Successfully finished last run (ID:1i66pn3o). Initializing new run:<br/><br/>"
            ],
            "text/plain": [
              "<IPython.core.display.HTML object>"
            ]
          },
          "metadata": {
            "tags": []
          }
        },
        {
          "output_type": "display_data",
          "data": {
            "text/html": [
              "\n",
              "                Tracking run with wandb version 0.10.19<br/>\n",
              "                Syncing run <strong style=\"color:#cdcd00\">denim-bush-27</strong> to <a href=\"https://wandb.ai\" target=\"_blank\">Weights & Biases</a> <a href=\"https://docs.wandb.com/integrations/jupyter.html\" target=\"_blank\">(Documentation)</a>.<br/>\n",
              "                Project page: <a href=\"https://wandb.ai/jakobschauser/IceCube%20GNN%20Bachelor\" target=\"_blank\">https://wandb.ai/jakobschauser/IceCube%20GNN%20Bachelor</a><br/>\n",
              "                Run page: <a href=\"https://wandb.ai/jakobschauser/IceCube%20GNN%20Bachelor/runs/2l4ut4rc\" target=\"_blank\">https://wandb.ai/jakobschauser/IceCube%20GNN%20Bachelor/runs/2l4ut4rc</a><br/>\n",
              "                Run data is saved locally in <code>/content/wandb/run-20210219_111643-2l4ut4rc</code><br/><br/>\n",
              "            "
            ],
            "text/plain": [
              "<IPython.core.display.HTML object>"
            ]
          },
          "metadata": {
            "tags": []
          }
        },
        {
          "output_type": "display_data",
          "data": {
            "application/vnd.jupyter.widget-view+json": {
              "model_id": "d3b8b049d7c749368db373286ec2ce9e",
              "version_minor": 0,
              "version_major": 2
            },
            "text/plain": [
              "HBox(children=(FloatProgress(value=0.0, max=2813.0), HTML(value='')))"
            ]
          },
          "metadata": {
            "tags": []
          }
        },
        {
          "output_type": "stream",
          "text": [
            "Train loss: 37.994520669781956 - Train accuracy: 1.267197608947754 - Loss change +3799452066.978% | Validation accuracy 1.2999087572097778 | Epoch: 0\n",
            "Train loss: 22.582819485617474 - Train accuracy: 0.7701308131217957 - Loss change -40.563% | Validation accuracy 0.29649630188941956 | Epoch: 1\n",
            "Train loss: 7.673786507509674 - Train accuracy: 0.5717210173606873 - Loss change -66.019% | Validation accuracy 0.3301229178905487 | Epoch: 2\n",
            "Train loss: 7.383893515967728 - Train accuracy: 0.5360537171363831 - Loss change -3.778% | Validation accuracy 0.2810201644897461 | Epoch: 3\n",
            "Train loss: 1.9300854583944334 - Train accuracy: 0.33946847915649414 - Loss change -73.861% | Validation accuracy 0.30347248911857605 | Epoch: 4\n",
            "Train loss: 7.875360509552567 - Train accuracy: 0.48184213042259216 - Loss change +308.032% | Validation accuracy 0.21141879260540009 | Epoch: 5\n",
            "Two current guesses are\n",
            " [-2.1472895 -1.0286056 -1.2318062] [-1.6817951  -0.96262324 -1.0419354 ] for\n",
            " [-2.02667317 -1.27404852 -0.76937645] [-1.86526003 -1.1561843  -1.55031092]\n",
            "Train loss: 0.7348541671987436 - Train accuracy: 0.2610282599925995 - Loss change -90.669% | Validation accuracy 0.25481903553009033 | Epoch: 6\n",
            "Train loss: 4.4906394684572355 - Train accuracy: 0.3660144507884979 - Loss change +511.093% | Validation accuracy 1.5511993169784546 | Epoch: 7\n",
            "Train loss: 2.1100407336915614 - Train accuracy: 0.2991742789745331 - Loss change -53.012% | Validation accuracy 0.21209955215454102 | Epoch: 8\n",
            "Train loss: 1.2896165753357711 - Train accuracy: 0.2647321820259094 - Loss change -38.882% | Validation accuracy 0.2199312150478363 | Epoch: 9\n",
            "Train loss: 0.8851985310745469 - Train accuracy: 0.23978549242019653 - Loss change -31.360% | Validation accuracy 0.17652997374534607 | Epoch: 10\n",
            "Two current guesses are\n",
            " [-1.6811848 -0.9506135 -1.1561626] [-2.1357746 -0.9339971 -1.240097 ] for\n",
            " [-1.64540297 -1.14712357 -1.45441165] [-1.90950488 -1.19427804 -1.40450041]\n",
            "Train loss: 0.4439990361505582 - Train accuracy: 0.21010203659534454 - Loss change -49.842% | Validation accuracy 0.23906657099723816 | Epoch: 11\n",
            "Train loss: 0.375982704846207 - Train accuracy: 0.1934247761964798 - Loss change -15.319% | Validation accuracy 0.20049592852592468 | Epoch: 12\n",
            "Train loss: 1.2633386037987329 - Train accuracy: 0.2367675006389618 - Loss change +236.010% | Validation accuracy 0.1854267716407776 | Epoch: 13\n",
            "Train loss: 0.3051658232093197 - Train accuracy: 0.18239474296569824 - Loss change -75.844% | Validation accuracy 0.16458860039710999 | Epoch: 14\n",
            "Train loss: 0.5165255696951738 - Train accuracy: 0.19882771372795105 - Loss change +69.261% | Validation accuracy 0.16323742270469666 | Epoch: 15\n",
            "Two current guesses are\n",
            " [-2.075492   -0.94864416 -1.3282478 ] [-1.7003665 -0.9931148 -1.0535591] for\n",
            " [-1.94899987 -1.04493691 -1.29347297] [-1.58257301 -0.73944404 -1.36815229]\n",
            "Train loss: 0.3087844733936432 - Train accuracy: 0.1787988543510437 - Loss change -40.219% | Validation accuracy 0.16249708831310272 | Epoch: 16\n",
            "Train loss: 0.25506267891926937 - Train accuracy: 0.16636379063129425 - Loss change -17.398% | Validation accuracy 0.16897770762443542 | Epoch: 17\n",
            "Train loss: 0.2510014679046941 - Train accuracy: 0.16470521688461304 - Loss change -1.592% | Validation accuracy 0.15974174439907074 | Epoch: 18\n",
            "Train loss: 0.23885236388911946 - Train accuracy: 0.1606924831867218 - Loss change -4.840% | Validation accuracy 0.15256968140602112 | Epoch: 19\n",
            "Train loss: 0.232883074373096 - Train accuracy: 0.1565946489572525 - Loss change -2.499% | Validation accuracy 0.14947283267974854 | Epoch: 20\n",
            "Two current guesses are\n",
            " [-1.7591993  -0.90944016 -1.2274079 ] [-1.8880472 -0.9065856 -1.0828353] for\n",
            " [-1.78856808 -0.88778932 -1.29632381] [-1.80391114 -0.76472764 -1.57643221]\n",
            "Train loss: 0.2259662770255527 - Train accuracy: 0.1531406193971634 - Loss change -2.970% | Validation accuracy 0.14977110922336578 | Epoch: 21\n",
            "Train loss: 0.21843276960266472 - Train accuracy: 0.15078328549861908 - Loss change -3.334% | Validation accuracy 0.14823947846889496 | Epoch: 22\n",
            "Train loss: 0.21959226778690397 - Train accuracy: 0.15116795897483826 - Loss change +0.531% | Validation accuracy 0.14670228958129883 | Epoch: 23\n",
            "Train loss: 0.2137128257265927 - Train accuracy: 0.14817309379577637 - Loss change -2.677% | Validation accuracy 0.1458076685667038 | Epoch: 24\n",
            "\n",
            "\n",
            "Training of the following model is now complete:\n",
            "Model: \"model_class_3\"\n",
            "_________________________________________________________________\n",
            "Layer (type)                 Output Shape              Param #   \n",
            "=================================================================\n",
            "gcn_conv_5 (GCNConv)         multiple                  2560      \n",
            "_________________________________________________________________\n",
            "gcn_conv_6 (GCNConv)         multiple                  262144    \n",
            "_________________________________________________________________\n",
            "dense_6 (Dense)              multiple                  786944    \n",
            "_________________________________________________________________\n",
            "global_sum_pool_3 (GlobalSum multiple                  0         \n",
            "_________________________________________________________________\n",
            "global_max_pool_3 (GlobalMax multiple                  0         \n",
            "_________________________________________________________________\n",
            "global_avg_pool_3 (GlobalAvg multiple                  0         \n",
            "_________________________________________________________________\n",
            "dense_7 (Dense)              multiple                  1539      \n",
            "=================================================================\n",
            "Total params: 1,053,187\n",
            "Trainable params: 1,053,187\n",
            "Non-trainable params: 0\n",
            "_________________________________________________________________\n",
            "INFO:tensorflow:Assets written to: /content/drive/MyDrive/Bachelor Project - IceCube ML/Saved Models/denim-bush-27-25epochs/assets\n"
          ],
          "name": "stdout"
        }
      ]
    },
    {
      "cell_type": "code",
      "metadata": {
        "colab": {
          "base_uri": "https://localhost:8080/",
          "height": 435
        },
        "id": "Ka1sa9P2yVfX",
        "outputId": "8921ebdf-7a7e-43be-bba8-2215cb5427b4"
      },
      "source": [
        "@tf.function(input_signature=test_loader.tf_signature(), experimental_relax_shapes=True)\r\n",
        "def get_predictions(inputs,target):\r\n",
        "  return model(inputs,training = False)\r\n",
        "\r\n",
        "def make1D(a):\r\n",
        "  new = []\r\n",
        "  for aa in a:\r\n",
        "    for aaa in aa:\r\n",
        "      new.append(aaa)\r\n",
        "  return np.array(new)\r\n",
        "\r\n",
        "def test_model():\r\n",
        "  print(\"Testing model\")\r\n",
        "  model_loss, model_acc = [],[]\r\n",
        "\r\n",
        "  test_loader = DisjointLoader(dataset_te, batch_size=batch_size, epochs=10,shuffle = True)\r\n",
        "\r\n",
        "  predictions, truths = [],[]\r\n",
        "\r\n",
        "  for batch in test_loader:\r\n",
        "    inputs, target = batch\r\n",
        "    inputs = scale_inputs(inputs)\r\n",
        "    # print(inputs)\r\n",
        "    pred = get_predictions(inputs,target)\r\n",
        "\r\n",
        "    predictions.append(np.array(pred))\r\n",
        "    truths.append(np.array(target))\r\n",
        "\r\n",
        "    model_loss.append(loss_fn(target, pred))\r\n",
        "    model_acc.append(acc_fn(target, pred))\r\n",
        "  \r\n",
        "  predictions = make1D(predictions)\r\n",
        "  truths      = make1D(truths)\r\n",
        "\r\n",
        "  print(f\"Done! \\nModel loss {np.mean(model_loss)} | Model accuracy {np.mean(model_loss)}\")\r\n",
        "\r\n",
        "  diffs = abs(truths-predictions)\r\n",
        "  periodic = abs(abs(truths-predictions)-2)\r\n",
        "  diffs = np.minimum(diffs,periodic)\r\n",
        "\r\n",
        "  titles = [\"Energy\",\"Azimuth\",\"Zenith\"]\r\n",
        "\r\n",
        "  fig, axs = plt.subplots(1,3,figsize=(16,5),constrained_layout=True)\r\n",
        "\r\n",
        "\r\n",
        "  for i in range(3):\r\n",
        "    axs[i].hist(truths[:,i],bins = 50,histtype = \"step\",label=\"truth\")\r\n",
        "    axs[i].hist(predictions[:,i],bins = 500,histtype = \"step\",label=\"predicted\")\r\n",
        "    axs[i].hist((predictions[:,i]-truths[:,i]),bins = 500,histtype = \"step\",label=\"difference\")\r\n",
        "\r\n",
        "    axs[i].legend()\r\n",
        "    axs[i].set_title(titles[i])\r\n",
        "  return predictions, truths\r\n",
        "\r\n",
        "predictions, truths = test_model()"
      ],
      "execution_count": 28,
      "outputs": [
        {
          "output_type": "stream",
          "text": [
            "Testing model\n",
            "Done! \n",
            "Model loss 0.2103064336839296 | Model accuracy 0.2103064336839296\n"
          ],
          "name": "stdout"
        },
        {
          "output_type": "display_data",
          "data": {
            "image/png": "[encoded data removed]",
            "text/plain": [
              "<Figure size 1152x360 with 3 Axes>"
            ]
          },
          "metadata": {
            "tags": [],
            "needs_background": "light"
          }
        }
      ]
    }
  ]
}