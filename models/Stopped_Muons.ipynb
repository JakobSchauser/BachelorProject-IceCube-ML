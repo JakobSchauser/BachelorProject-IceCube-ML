{
  "nbformat": 4,
  "nbformat_minor": 0,
  "metadata": {
    "colab": {
      "name": "Stopped Muons",
      "provenance": [],
      "collapsed_sections": [],
      "mount_file_id": "1TG5FS2yQBxJUQOcm5OZNGUKmPqFl-QM-",
      "authorship_tag": "ABX9TyP2dpXgLH7ovYCXFFYVqwbf",
      "include_colab_link": true
    },
    "kernelspec": {
      "name": "python3",
      "display_name": "Python 3"
    },
    "widgets": {
      "application/vnd.jupyter.widget-state+json": {
        "bffba0498c8547faa6884a714ddc02a4": {
          "model_module": "@jupyter-widgets/controls",
          "model_name": "VBoxModel",
          "state": {
            "_view_name": "VBoxView",
            "_dom_classes": [],
            "_model_name": "VBoxModel",
            "_view_module": "@jupyter-widgets/controls",
            "_model_module_version": "1.5.0",
            "_view_count": null,
            "_view_module_version": "1.5.0",
            "box_style": "",
            "layout": "IPY_MODEL_6104e9ba056548cc9c65decc5e30e8a2",
            "_model_module": "@jupyter-widgets/controls",
            "children": [
              "IPY_MODEL_c2ecb0d3a92b40c79a587a121843d805",
              "IPY_MODEL_9c3172e6c37f4827a7997b301cbd2875"
            ]
          }
        },
        "6104e9ba056548cc9c65decc5e30e8a2": {
          "model_module": "@jupyter-widgets/base",
          "model_name": "LayoutModel",
          "state": {
            "_view_name": "LayoutView",
            "grid_template_rows": null,
            "right": null,
            "justify_content": null,
            "_view_module": "@jupyter-widgets/base",
            "overflow": null,
            "_model_module_version": "1.2.0",
            "_view_count": null,
            "flex_flow": null,
            "width": null,
            "min_width": null,
            "border": null,
            "align_items": null,
            "bottom": null,
            "_model_module": "@jupyter-widgets/base",
            "top": null,
            "grid_column": null,
            "overflow_y": null,
            "overflow_x": null,
            "grid_auto_flow": null,
            "grid_area": null,
            "grid_template_columns": null,
            "flex": null,
            "_model_name": "LayoutModel",
            "justify_items": null,
            "grid_row": null,
            "max_height": null,
            "align_content": null,
            "visibility": null,
            "align_self": null,
            "height": null,
            "min_height": null,
            "padding": null,
            "grid_auto_rows": null,
            "grid_gap": null,
            "max_width": null,
            "order": null,
            "_view_module_version": "1.2.0",
            "grid_template_areas": null,
            "object_position": null,
            "object_fit": null,
            "grid_auto_columns": null,
            "margin": null,
            "display": null,
            "left": null
          }
        },
        "c2ecb0d3a92b40c79a587a121843d805": {
          "model_module": "@jupyter-widgets/controls",
          "model_name": "LabelModel",
          "state": {
            "_view_name": "LabelView",
            "style": "IPY_MODEL_53b220cb4133444b989531e2bb7fe66d",
            "_dom_classes": [],
            "description": "",
            "_model_name": "LabelModel",
            "placeholder": "​",
            "_view_module": "@jupyter-widgets/controls",
            "_model_module_version": "1.5.0",
            "value": " 0.01MB of 0.01MB uploaded (0.00MB deduped)\r",
            "_view_count": null,
            "_view_module_version": "1.5.0",
            "description_tooltip": null,
            "_model_module": "@jupyter-widgets/controls",
            "layout": "IPY_MODEL_4298ca4ee9f94a85807c53d8bf2e005b"
          }
        },
        "9c3172e6c37f4827a7997b301cbd2875": {
          "model_module": "@jupyter-widgets/controls",
          "model_name": "FloatProgressModel",
          "state": {
            "_view_name": "ProgressView",
            "style": "IPY_MODEL_cfa9e945f0c449a8a9809ce5946fd168",
            "_dom_classes": [],
            "description": "",
            "_model_name": "FloatProgressModel",
            "bar_style": "",
            "max": 1,
            "_view_module": "@jupyter-widgets/controls",
            "_model_module_version": "1.5.0",
            "value": 1,
            "_view_count": null,
            "_view_module_version": "1.5.0",
            "orientation": "horizontal",
            "min": 0,
            "description_tooltip": null,
            "_model_module": "@jupyter-widgets/controls",
            "layout": "IPY_MODEL_49f7cb4cfd7d416abe44cdebe1da0c49"
          }
        },
        "53b220cb4133444b989531e2bb7fe66d": {
          "model_module": "@jupyter-widgets/controls",
          "model_name": "DescriptionStyleModel",
          "state": {
            "_view_name": "StyleView",
            "_model_name": "DescriptionStyleModel",
            "description_width": "",
            "_view_module": "@jupyter-widgets/base",
            "_model_module_version": "1.5.0",
            "_view_count": null,
            "_view_module_version": "1.2.0",
            "_model_module": "@jupyter-widgets/controls"
          }
        },
        "4298ca4ee9f94a85807c53d8bf2e005b": {
          "model_module": "@jupyter-widgets/base",
          "model_name": "LayoutModel",
          "state": {
            "_view_name": "LayoutView",
            "grid_template_rows": null,
            "right": null,
            "justify_content": null,
            "_view_module": "@jupyter-widgets/base",
            "overflow": null,
            "_model_module_version": "1.2.0",
            "_view_count": null,
            "flex_flow": null,
            "width": null,
            "min_width": null,
            "border": null,
            "align_items": null,
            "bottom": null,
            "_model_module": "@jupyter-widgets/base",
            "top": null,
            "grid_column": null,
            "overflow_y": null,
            "overflow_x": null,
            "grid_auto_flow": null,
            "grid_area": null,
            "grid_template_columns": null,
            "flex": null,
            "_model_name": "LayoutModel",
            "justify_items": null,
            "grid_row": null,
            "max_height": null,
            "align_content": null,
            "visibility": null,
            "align_self": null,
            "height": null,
            "min_height": null,
            "padding": null,
            "grid_auto_rows": null,
            "grid_gap": null,
            "max_width": null,
            "order": null,
            "_view_module_version": "1.2.0",
            "grid_template_areas": null,
            "object_position": null,
            "object_fit": null,
            "grid_auto_columns": null,
            "margin": null,
            "display": null,
            "left": null
          }
        },
        "cfa9e945f0c449a8a9809ce5946fd168": {
          "model_module": "@jupyter-widgets/controls",
          "model_name": "ProgressStyleModel",
          "state": {
            "_view_name": "StyleView",
            "_model_name": "ProgressStyleModel",
            "description_width": "",
            "_view_module": "@jupyter-widgets/base",
            "_model_module_version": "1.5.0",
            "_view_count": null,
            "_view_module_version": "1.2.0",
            "bar_color": null,
            "_model_module": "@jupyter-widgets/controls"
          }
        },
        "49f7cb4cfd7d416abe44cdebe1da0c49": {
          "model_module": "@jupyter-widgets/base",
          "model_name": "LayoutModel",
          "state": {
            "_view_name": "LayoutView",
            "grid_template_rows": null,
            "right": null,
            "justify_content": null,
            "_view_module": "@jupyter-widgets/base",
            "overflow": null,
            "_model_module_version": "1.2.0",
            "_view_count": null,
            "flex_flow": null,
            "width": null,
            "min_width": null,
            "border": null,
            "align_items": null,
            "bottom": null,
            "_model_module": "@jupyter-widgets/base",
            "top": null,
            "grid_column": null,
            "overflow_y": null,
            "overflow_x": null,
            "grid_auto_flow": null,
            "grid_area": null,
            "grid_template_columns": null,
            "flex": null,
            "_model_name": "LayoutModel",
            "justify_items": null,
            "grid_row": null,
            "max_height": null,
            "align_content": null,
            "visibility": null,
            "align_self": null,
            "height": null,
            "min_height": null,
            "padding": null,
            "grid_auto_rows": null,
            "grid_gap": null,
            "max_width": null,
            "order": null,
            "_view_module_version": "1.2.0",
            "grid_template_areas": null,
            "object_position": null,
            "object_fit": null,
            "grid_auto_columns": null,
            "margin": null,
            "display": null,
            "left": null
          }
        },
        "16ea45bb1a094768aad6c0c038972ebc": {
          "model_module": "@jupyter-widgets/controls",
          "model_name": "HBoxModel",
          "state": {
            "_view_name": "HBoxView",
            "_dom_classes": [],
            "_model_name": "HBoxModel",
            "_view_module": "@jupyter-widgets/controls",
            "_model_module_version": "1.5.0",
            "_view_count": null,
            "_view_module_version": "1.5.0",
            "box_style": "",
            "layout": "IPY_MODEL_d0583c6d80c04de0aca63e0959203739",
            "_model_module": "@jupyter-widgets/controls",
            "children": [
              "IPY_MODEL_dc531c906e0543849c45ad045485a5d6",
              "IPY_MODEL_d8d2891e1bbc4bed983a898b2be701dd"
            ]
          }
        },
        "d0583c6d80c04de0aca63e0959203739": {
          "model_module": "@jupyter-widgets/base",
          "model_name": "LayoutModel",
          "state": {
            "_view_name": "LayoutView",
            "grid_template_rows": null,
            "right": null,
            "justify_content": null,
            "_view_module": "@jupyter-widgets/base",
            "overflow": null,
            "_model_module_version": "1.2.0",
            "_view_count": null,
            "flex_flow": "row wrap",
            "width": "70%",
            "min_width": null,
            "border": null,
            "align_items": null,
            "bottom": null,
            "_model_module": "@jupyter-widgets/base",
            "top": null,
            "grid_column": null,
            "overflow_y": null,
            "overflow_x": null,
            "grid_auto_flow": null,
            "grid_area": null,
            "grid_template_columns": null,
            "flex": null,
            "_model_name": "LayoutModel",
            "justify_items": null,
            "grid_row": null,
            "max_height": null,
            "align_content": null,
            "visibility": null,
            "align_self": null,
            "height": null,
            "min_height": null,
            "padding": null,
            "grid_auto_rows": null,
            "grid_gap": null,
            "max_width": null,
            "order": null,
            "_view_module_version": "1.2.0",
            "grid_template_areas": null,
            "object_position": null,
            "object_fit": null,
            "grid_auto_columns": null,
            "margin": null,
            "display": "inline-flex",
            "left": null
          }
        },
        "dc531c906e0543849c45ad045485a5d6": {
          "model_module": "@jupyter-widgets/controls",
          "model_name": "FloatProgressModel",
          "state": {
            "_view_name": "ProgressView",
            "style": "IPY_MODEL_a85b43ee90a948dfa5a9d8927f8ce980",
            "_dom_classes": [],
            "description": "Current loss 0.468 | Working on epoch 18 of 30::  10%",
            "_model_name": "FloatProgressModel",
            "bar_style": "",
            "max": 2813,
            "_view_module": "@jupyter-widgets/controls",
            "_model_module_version": "1.5.0",
            "value": 291,
            "_view_count": null,
            "_view_module_version": "1.5.0",
            "orientation": "horizontal",
            "min": 0,
            "description_tooltip": null,
            "_model_module": "@jupyter-widgets/controls",
            "layout": "IPY_MODEL_0518ad4fd9814299abab515d9662f90d"
          }
        },
        "d8d2891e1bbc4bed983a898b2be701dd": {
          "model_module": "@jupyter-widgets/controls",
          "model_name": "HTMLModel",
          "state": {
            "_view_name": "HTMLView",
            "style": "IPY_MODEL_8114e6480efb4b1e8d65fafa91ced339",
            "_dom_classes": [],
            "description": "",
            "_model_name": "HTMLModel",
            "placeholder": "​",
            "_view_module": "@jupyter-widgets/controls",
            "_model_module_version": "1.5.0",
            "value": " 291/2813 [28:58&lt;01:13, 34.24it/s]",
            "_view_count": null,
            "_view_module_version": "1.5.0",
            "description_tooltip": null,
            "_model_module": "@jupyter-widgets/controls",
            "layout": "IPY_MODEL_32d50f40a2f146f8bc5385736b7e4453"
          }
        },
        "a85b43ee90a948dfa5a9d8927f8ce980": {
          "model_module": "@jupyter-widgets/controls",
          "model_name": "ProgressStyleModel",
          "state": {
            "_view_name": "StyleView",
            "_model_name": "ProgressStyleModel",
            "description_width": "initial",
            "_view_module": "@jupyter-widgets/base",
            "_model_module_version": "1.5.0",
            "_view_count": null,
            "_view_module_version": "1.2.0",
            "bar_color": null,
            "_model_module": "@jupyter-widgets/controls"
          }
        },
        "0518ad4fd9814299abab515d9662f90d": {
          "model_module": "@jupyter-widgets/base",
          "model_name": "LayoutModel",
          "state": {
            "_view_name": "LayoutView",
            "grid_template_rows": null,
            "right": null,
            "justify_content": null,
            "_view_module": "@jupyter-widgets/base",
            "overflow": null,
            "_model_module_version": "1.2.0",
            "_view_count": null,
            "flex_flow": null,
            "width": null,
            "min_width": null,
            "border": null,
            "align_items": null,
            "bottom": null,
            "_model_module": "@jupyter-widgets/base",
            "top": null,
            "grid_column": null,
            "overflow_y": null,
            "overflow_x": null,
            "grid_auto_flow": null,
            "grid_area": null,
            "grid_template_columns": null,
            "flex": "2",
            "_model_name": "LayoutModel",
            "justify_items": null,
            "grid_row": null,
            "max_height": null,
            "align_content": null,
            "visibility": null,
            "align_self": null,
            "height": null,
            "min_height": null,
            "padding": null,
            "grid_auto_rows": null,
            "grid_gap": null,
            "max_width": null,
            "order": null,
            "_view_module_version": "1.2.0",
            "grid_template_areas": null,
            "object_position": null,
            "object_fit": null,
            "grid_auto_columns": null,
            "margin": null,
            "display": null,
            "left": null
          }
        },
        "8114e6480efb4b1e8d65fafa91ced339": {
          "model_module": "@jupyter-widgets/controls",
          "model_name": "DescriptionStyleModel",
          "state": {
            "_view_name": "StyleView",
            "_model_name": "DescriptionStyleModel",
            "description_width": "",
            "_view_module": "@jupyter-widgets/base",
            "_model_module_version": "1.5.0",
            "_view_count": null,
            "_view_module_version": "1.2.0",
            "_model_module": "@jupyter-widgets/controls"
          }
        },
        "32d50f40a2f146f8bc5385736b7e4453": {
          "model_module": "@jupyter-widgets/base",
          "model_name": "LayoutModel",
          "state": {
            "_view_name": "LayoutView",
            "grid_template_rows": null,
            "right": null,
            "justify_content": null,
            "_view_module": "@jupyter-widgets/base",
            "overflow": null,
            "_model_module_version": "1.2.0",
            "_view_count": null,
            "flex_flow": null,
            "width": null,
            "min_width": null,
            "border": null,
            "align_items": null,
            "bottom": null,
            "_model_module": "@jupyter-widgets/base",
            "top": null,
            "grid_column": null,
            "overflow_y": null,
            "overflow_x": null,
            "grid_auto_flow": null,
            "grid_area": null,
            "grid_template_columns": null,
            "flex": null,
            "_model_name": "LayoutModel",
            "justify_items": null,
            "grid_row": null,
            "max_height": null,
            "align_content": null,
            "visibility": null,
            "align_self": null,
            "height": null,
            "min_height": null,
            "padding": null,
            "grid_auto_rows": null,
            "grid_gap": null,
            "max_width": null,
            "order": null,
            "_view_module_version": "1.2.0",
            "grid_template_areas": null,
            "object_position": null,
            "object_fit": null,
            "grid_auto_columns": null,
            "margin": null,
            "display": null,
            "left": null
          }
        },
        "fcb57b5dc98947c78691b694b29aaca9": {
          "model_module": "@jupyter-widgets/controls",
          "model_name": "HBoxModel",
          "state": {
            "_view_name": "HBoxView",
            "_dom_classes": [],
            "_model_name": "HBoxModel",
            "_view_module": "@jupyter-widgets/controls",
            "_model_module_version": "1.5.0",
            "_view_count": null,
            "_view_module_version": "1.5.0",
            "box_style": "",
            "layout": "IPY_MODEL_531bd89f1c6d48a0891d57ef132ffdb6",
            "_model_module": "@jupyter-widgets/controls",
            "children": [
              "IPY_MODEL_485f232b6d2641b1a7bf7805c5dc9f71",
              "IPY_MODEL_434dd0c83381418a81740bbcf7f21781"
            ]
          }
        },
        "531bd89f1c6d48a0891d57ef132ffdb6": {
          "model_module": "@jupyter-widgets/base",
          "model_name": "LayoutModel",
          "state": {
            "_view_name": "LayoutView",
            "grid_template_rows": null,
            "right": null,
            "justify_content": null,
            "_view_module": "@jupyter-widgets/base",
            "overflow": null,
            "_model_module_version": "1.2.0",
            "_view_count": null,
            "flex_flow": null,
            "width": null,
            "min_width": null,
            "border": null,
            "align_items": null,
            "bottom": null,
            "_model_module": "@jupyter-widgets/base",
            "top": null,
            "grid_column": null,
            "overflow_y": null,
            "overflow_x": null,
            "grid_auto_flow": null,
            "grid_area": null,
            "grid_template_columns": null,
            "flex": null,
            "_model_name": "LayoutModel",
            "justify_items": null,
            "grid_row": null,
            "max_height": null,
            "align_content": null,
            "visibility": null,
            "align_self": null,
            "height": null,
            "min_height": null,
            "padding": null,
            "grid_auto_rows": null,
            "grid_gap": null,
            "max_width": null,
            "order": null,
            "_view_module_version": "1.2.0",
            "grid_template_areas": null,
            "object_position": null,
            "object_fit": null,
            "grid_auto_columns": null,
            "margin": null,
            "display": null,
            "left": null
          }
        },
        "485f232b6d2641b1a7bf7805c5dc9f71": {
          "model_module": "@jupyter-widgets/controls",
          "model_name": "FloatProgressModel",
          "state": {
            "_view_name": "ProgressView",
            "style": "IPY_MODEL_7b2650812dd84b89b82326b5a2c6d55f",
            "_dom_classes": [],
            "description": "",
            "_model_name": "FloatProgressModel",
            "bar_style": "success",
            "max": 1,
            "_view_module": "@jupyter-widgets/controls",
            "_model_module_version": "1.5.0",
            "value": 1,
            "_view_count": null,
            "_view_module_version": "1.5.0",
            "orientation": "horizontal",
            "min": 0,
            "description_tooltip": null,
            "_model_module": "@jupyter-widgets/controls",
            "layout": "IPY_MODEL_f977f95539bc41e6b34061a7ff02cab6"
          }
        },
        "434dd0c83381418a81740bbcf7f21781": {
          "model_module": "@jupyter-widgets/controls",
          "model_name": "HTMLModel",
          "state": {
            "_view_name": "HTMLView",
            "style": "IPY_MODEL_0e626b5cca4a4d69b02fa9766128aea8",
            "_dom_classes": [],
            "description": "",
            "_model_name": "HTMLModel",
            "placeholder": "​",
            "_view_module": "@jupyter-widgets/controls",
            "_model_module_version": "1.5.0",
            "value": " 1250/? [15:30&lt;00:00,  1.34it/s]",
            "_view_count": null,
            "_view_module_version": "1.5.0",
            "description_tooltip": null,
            "_model_module": "@jupyter-widgets/controls",
            "layout": "IPY_MODEL_748be55923db46ecbd9d7c1f7d9cd2bc"
          }
        },
        "7b2650812dd84b89b82326b5a2c6d55f": {
          "model_module": "@jupyter-widgets/controls",
          "model_name": "ProgressStyleModel",
          "state": {
            "_view_name": "StyleView",
            "_model_name": "ProgressStyleModel",
            "description_width": "initial",
            "_view_module": "@jupyter-widgets/base",
            "_model_module_version": "1.5.0",
            "_view_count": null,
            "_view_module_version": "1.2.0",
            "bar_color": null,
            "_model_module": "@jupyter-widgets/controls"
          }
        },
        "f977f95539bc41e6b34061a7ff02cab6": {
          "model_module": "@jupyter-widgets/base",
          "model_name": "LayoutModel",
          "state": {
            "_view_name": "LayoutView",
            "grid_template_rows": null,
            "right": null,
            "justify_content": null,
            "_view_module": "@jupyter-widgets/base",
            "overflow": null,
            "_model_module_version": "1.2.0",
            "_view_count": null,
            "flex_flow": null,
            "width": null,
            "min_width": null,
            "border": null,
            "align_items": null,
            "bottom": null,
            "_model_module": "@jupyter-widgets/base",
            "top": null,
            "grid_column": null,
            "overflow_y": null,
            "overflow_x": null,
            "grid_auto_flow": null,
            "grid_area": null,
            "grid_template_columns": null,
            "flex": null,
            "_model_name": "LayoutModel",
            "justify_items": null,
            "grid_row": null,
            "max_height": null,
            "align_content": null,
            "visibility": null,
            "align_self": null,
            "height": null,
            "min_height": null,
            "padding": null,
            "grid_auto_rows": null,
            "grid_gap": null,
            "max_width": null,
            "order": null,
            "_view_module_version": "1.2.0",
            "grid_template_areas": null,
            "object_position": null,
            "object_fit": null,
            "grid_auto_columns": null,
            "margin": null,
            "display": null,
            "left": null
          }
        },
        "0e626b5cca4a4d69b02fa9766128aea8": {
          "model_module": "@jupyter-widgets/controls",
          "model_name": "DescriptionStyleModel",
          "state": {
            "_view_name": "StyleView",
            "_model_name": "DescriptionStyleModel",
            "description_width": "",
            "_view_module": "@jupyter-widgets/base",
            "_model_module_version": "1.5.0",
            "_view_count": null,
            "_view_module_version": "1.2.0",
            "_model_module": "@jupyter-widgets/controls"
          }
        },
        "748be55923db46ecbd9d7c1f7d9cd2bc": {
          "model_module": "@jupyter-widgets/base",
          "model_name": "LayoutModel",
          "state": {
            "_view_name": "LayoutView",
            "grid_template_rows": null,
            "right": null,
            "justify_content": null,
            "_view_module": "@jupyter-widgets/base",
            "overflow": null,
            "_model_module_version": "1.2.0",
            "_view_count": null,
            "flex_flow": null,
            "width": null,
            "min_width": null,
            "border": null,
            "align_items": null,
            "bottom": null,
            "_model_module": "@jupyter-widgets/base",
            "top": null,
            "grid_column": null,
            "overflow_y": null,
            "overflow_x": null,
            "grid_auto_flow": null,
            "grid_area": null,
            "grid_template_columns": null,
            "flex": null,
            "_model_name": "LayoutModel",
            "justify_items": null,
            "grid_row": null,
            "max_height": null,
            "align_content": null,
            "visibility": null,
            "align_self": null,
            "height": null,
            "min_height": null,
            "padding": null,
            "grid_auto_rows": null,
            "grid_gap": null,
            "max_width": null,
            "order": null,
            "_view_module_version": "1.2.0",
            "grid_template_areas": null,
            "object_position": null,
            "object_fit": null,
            "grid_auto_columns": null,
            "margin": null,
            "display": null,
            "left": null
          }
        }
      }
    }
  },
  "cells": [
    {
      "cell_type": "markdown",
      "metadata": {
        "id": "view-in-github",
        "colab_type": "text"
      },
      "source": [
        "<a href=\"https://colab.research.google.com/github/JakobSchauser/BachelorProject-IceCube-ML/blob/main/Stopped_Muons.ipynb\" target=\"_parent\"><img src=\"https://colab.research.google.com/assets/colab-badge.svg\" alt=\"Open In Colab\"/></a>"
      ]
    },
    {
      "cell_type": "code",
      "metadata": {
        "id": "E8ns3IbtO3zT"
      },
      "source": [
        "!pip install spektral -q\r\n",
        " \r\n",
        "import numpy as np\r\n",
        "import tensorflow as tf\r\n",
        "import keras\r\n",
        "import pickle\r\n",
        "import spektral\r\n",
        " \r\n",
        "from tensorflow.keras.layers import Dense, Input, Dropout, BatchNormalization\r\n",
        "from tensorflow.keras.losses import MeanSquaredError, MeanAbsoluteError\r\n",
        "from tensorflow.keras.metrics import MeanAbsoluteError as MeanAbsoluteError_acc\r\n",
        "from tensorflow.keras.models import Model\r\n",
        "from tensorflow.keras.optimizers import Adam\r\n",
        "from tensorflow.sparse import SparseTensor\r\n",
        " \r\n",
        "from keras import backend as K\r\n",
        " \r\n",
        "from time import time\r\n",
        " \r\n",
        " \r\n",
        "from spektral.data import DisjointLoader, Dataset\r\n",
        "from spektral.datasets import QM9\r\n",
        "from spektral.layers import AGNNConv, GlobalSumPool, GlobalMaxPool, GlobalAvgPool, GCNConv, ECCConv\r\n",
        "from spektral import transforms\r\n",
        " \r\n",
        "from tqdm.notebook import tqdm\r\n",
        " \r\n",
        "import matplotlib.pyplot as plt\r\n",
        "import seaborn as sns\r\n",
        "sns.set()\r\n",
        "%matplotlib inline\r\n",
        " \r\n",
        "PI = np.pi\r\n",
        " \r\n",
        " \r\n",
        "# Lifehack\r\n",
        "true = True\r\n",
        "false = False"
      ],
      "execution_count": null,
      "outputs": []
    },
    {
      "cell_type": "code",
      "metadata": {
        "colab": {
          "base_uri": "https://localhost:8080/"
        },
        "id": "Pfgecd746jQ9",
        "outputId": "d0215fa3-5f71-4c2e-be4b-915bd853237f"
      },
      "source": [
        "!pip install wandb -q\r\n",
        "\r\n",
        "import wandb\r\n",
        "from wandb.keras import WandbCallback\r\n",
        "\r\n",
        "wandb.login()"
      ],
      "execution_count": null,
      "outputs": [
        {
          "output_type": "stream",
          "text": [
            "\u001b[34m\u001b[1mwandb\u001b[0m: \u001b[33mWARNING\u001b[0m Calling wandb.login() after wandb.init() has no effect.\n"
          ],
          "name": "stderr"
        },
        {
          "output_type": "execute_result",
          "data": {
            "text/plain": [
              "True"
            ]
          },
          "metadata": {
            "tags": []
          },
          "execution_count": 120
        }
      ]
    },
    {
      "cell_type": "code",
      "metadata": {
        "colab": {
          "base_uri": "https://localhost:8080/"
        },
        "id": "OxZm1P9V2pm6",
        "outputId": "f74c2311-6da6-43db-8410-b209ec798fa3"
      },
      "source": [
        "class dat(Dataset):\r\n",
        "  def __init__(self,n = 1,**kwargs):\r\n",
        "    self.n = n\r\n",
        "    super().__init__(**kwargs)\r\n",
        "  def read(self):\r\n",
        "    # path = \"/content/drive/MyDrive/Bachelor Project - IceCube ML/generatedDataAnglesEnergy100000 0.npz\" # Uncleaned\r\n",
        "    path = \"/content/drive/MyDrive/Bachelor Project - IceCube ML/generatedDataStoppedMuon100000events 0.npz\" # Cleaned\r\n",
        "    # path = \"/content/drive/MyDrive/Bachelor Project - IceCube ML/data.dat\" # From Severin\r\n",
        "    dataset = np.load(path,allow_pickle = True)[\"arr_0\"]\r\n",
        "    graphs = []\r\n",
        "    for g in dataset:\r\n",
        "      # e,a,z = g[\"y\"]\r\n",
        "      # g[\"y\"] = [transformer['energy_log10'].inverse_transform([[e]])[0][0],transformer['azimuth'].inverse_transform([[a]])[0][0]-PI,transformer['zenith'].inverse_transform([[z]])[0][0]]\r\n",
        "      graphs.append(g)\r\n",
        "    return np.array(dataset)\r\n",
        "\r\n",
        "dataset = dat()\r\n",
        "\r\n",
        "print(\"Dataset is\", dataset, \"consisting of\", dataset[0])"
      ],
      "execution_count": null,
      "outputs": [
        {
          "output_type": "stream",
          "text": [
            "Dataset is dat(n_graphs=100000) consisting of Graph(n_nodes=13, n_node_features=5, n_edge_features=None, n_labels=1)\n"
          ],
          "name": "stdout"
        }
      ]
    },
    {
      "cell_type": "code",
      "metadata": {
        "id": "HJhCwyubMg-z"
      },
      "source": [
        "\r\n",
        "def scale_inputs(inputs):\r\n",
        "    inputs[0][:,:3] = inputs[0][:,:3]/100 # x y z\r\n",
        "    inputs[0][:,3] = inputs[0][:,3]/10000 # time\r\n",
        "    inputs[0][:,4] = inputs[0][:,4]/1 # charge\r\n",
        "    return inputs\r\n",
        "\r\n",
        "\r\n",
        "def lr_schedule(start_lr,epoch,total_epochs):\r\n",
        "  # return start_lr/((1+epoch/total_epochs)*5)\r\n",
        "  if epoch < total_epochs//4:\r\n",
        "    return start_lr*(1+epoch/(total_epochs//4))\r\n",
        "  return 2*start_lr/(10*epoch/total_epochs)"
      ],
      "execution_count": null,
      "outputs": []
    },
    {
      "cell_type": "code",
      "metadata": {
        "id": "4b0LqVCDMjeJ"
      },
      "source": [
        "################################################################################\r\n",
        "# PARAMETERS\r\n",
        "################################################################################\r\n",
        "#@markdown ### Define the model and training parameters and sync with WandB\r\n",
        "batch_size =  32#@param {type: \"number\"}\r\n",
        " \r\n",
        "# one-variable network size changer\r\n",
        "network_size =  128#@param {type: \"number\"}\r\n",
        " \r\n",
        "learning_rate =   1e-3#@param {type: \"number\"}\r\n",
        " \r\n",
        "training_epochs = 30 #@param {type: \"slider\", min: 10, max: 200}\r\n",
        " \r\n",
        "early_stopping_rounds =  3#@param {type: \"number\"}\r\n",
        " \r\n",
        "dropout_rate = 0.1 #@param {type: \"number\"}\r\n",
        " \r\n",
        "loss_function = \"binary_cross_entropy\"  #@param ['custom_loss',\"rasmus_loss\",\"binary_cross_entropy\"]\r\n",
        " \r\n",
        "config = {\r\n",
        "        \"learning_rate\": learning_rate,\r\n",
        "        \"epochs\": training_epochs,\r\n",
        "        \"batch_size\": batch_size,\r\n",
        "        \"loss_function\": loss_function,\r\n",
        "        \"architecture\": \"Broadening CNN - short but wide\",\r\n",
        "        \"network_size\": network_size,\r\n",
        "        \"dropout_rate\": dropout_rate,\r\n",
        "        \"dataset\": \"MuonGun\",\r\n",
        "        \"early_stopping_rounds\": early_stopping_rounds,\r\n",
        "      }\r\n",
        " \r\n",
        "epochs = config[\"epochs\"]  # Number of training epochs\r\n",
        "test_epochs = 2 # Number of testing epochs"
      ],
      "execution_count": null,
      "outputs": []
    },
    {
      "cell_type": "code",
      "metadata": {
        "id": "ALg2yWv-MkLZ"
      },
      "source": [
        "# Parameters\r\n",
        "F = dataset.n_node_features  # Dimension of node features\r\n",
        "S = dataset.n_edge_features  # Dimension of edge features\r\n",
        "n_out = dataset.n_labels  # Dimension of the target\r\n",
        "\r\n",
        "# Train/test split\r\n",
        "idxs = np.random.permutation(len(dataset))\r\n",
        "split = int(0.9 * len(dataset))\r\n",
        "idx_tr, idx_te = np.split(idxs, [split])\r\n",
        "dataset_tr, dataset_te = dataset[idx_tr], dataset[idx_te]\r\n",
        "\r\n",
        "train_loader = DisjointLoader(dataset_tr, batch_size=batch_size, epochs=epochs, shuffle=True)\r\n",
        "test_loader = DisjointLoader(dataset_te, batch_size=batch_size, epochs=test_epochs, shuffle=True)\r\n",
        "\r\n",
        "\r\n",
        "\r\n",
        "\r\n",
        "\r\n",
        "class model_class(Model):\r\n",
        "  def __init__(self):\r\n",
        "    super().__init__()\r\n",
        "    \r\n",
        "    self.preprocess = transforms.layer_preprocess.LayerPreprocess(GCNConv)\r\n",
        "\r\n",
        "    # self.inp = ECCConv(network_size//4)\r\n",
        "\r\n",
        "    self.steps = [2**i for i in range(2)]\r\n",
        "    self.convs = [GCNConv(network_size*s,activation=\"gelu\") for s in self.steps]\r\n",
        "\r\n",
        "    self.maxpool = GlobalMaxPool()\r\n",
        "    self.avgpool = GlobalAvgPool()\r\n",
        "    self.sumpool = GlobalSumPool()\r\n",
        "\r\n",
        "    self.denses = [Dense(network_size*s,activation= \"gelu\") for s in self.steps[::-1]]\r\n",
        "    self.dropouts = [Dropout(dropout_rate) for s in self.steps]\r\n",
        "    # self.normalizations = [BatchNormalization() for s in self.steps]\r\n",
        "\r\n",
        "    self.out = Dense(n_out,activation = \"sigmoid\")\r\n",
        "    # self.oneout = Dense(1)\r\n",
        "\r\n",
        "  def call(self, inputs, training = False):\r\n",
        "\r\n",
        "    x, a, i = inputs\r\n",
        "    # a, e    = self.generate_edge_features(x, a) # NEXT STEP is implementing this for myself\r\n",
        "    # x = self.inp([x,a,e])\r\n",
        "    # a = self.preprocess(a)\r\n",
        "    for conv in self.convs:\r\n",
        "      x = conv([x,a])\r\n",
        "    \r\n",
        "    \r\n",
        "    xm = self.maxpool([x,i])\r\n",
        "    xa = self.avgpool([x,i])\r\n",
        "    xs = self.sumpool([x,i])\r\n",
        "\r\n",
        "    x = tf.concat([xm, xa, xs], axis = 1) \r\n",
        "\r\n",
        "\r\n",
        "    for dense, dropout in zip(self.denses,self.dropouts):\r\n",
        "      # x = norm(x) # ,training = training # batch_normalization is broken in curretn keras\r\n",
        "      x = dense(x)\r\n",
        "      x = dropout(x,training = training)\r\n",
        "\r\n",
        "\r\n",
        "    out = self.out(x)\r\n",
        "\r\n",
        "    # xe = self.smalldense(x)\r\n",
        "    # xa = self.smalldense(x)\r\n",
        "    # xz = self.smalldense(x)\r\n",
        "\r\n",
        "    # oute = self.oneout(xe)\r\n",
        "    # outa1 = self.oneout(xa)\r\n",
        "    # outa2 = self.oneout(xa)\r\n",
        "\r\n",
        "    # outz1 = self.oneout(xz)\r\n",
        "    # outz2 = self.oneout(xz)\r\n",
        "\r\n",
        "\r\n",
        "    return out\r\n",
        "    # return tf.concat([oute, outa1,outa2, outz1,outz2], axis = 1) \r\n",
        "\r\n",
        "\r\n",
        "  #Shamelessly stolen from Johann\r\n",
        "  def generate_edge_features(self, x, a):\r\n",
        "      send    = a.indices[:, 0]\r\n",
        "      receive = a.indices[:, 1]\r\n",
        "\r\n",
        "      diff_x  = tf.subtract(tf.gather(x, receive), tf.gather(x, send))\r\n",
        "\r\n",
        "      dists   = tf.sqrt(\r\n",
        "        tf.reduce_sum(\r\n",
        "          tf.square(\r\n",
        "            diff_x[:, :3]\r\n",
        "          ), axis = 1\r\n",
        "        ))\r\n",
        "\r\n",
        "      vects = tf.math.divide_no_nan(diff_x[:, :3], tf.expand_dims(dists, axis = -1))\r\n",
        "\r\n",
        "      e = tf.concat([diff_x[:, 3:], tf.expand_dims(dists, -1), vects], axis = 1)\r\n",
        "\r\n",
        "      return a, e\r\n",
        "\r\n",
        "# Build model\r\n",
        "model = model_class()\r\n",
        "\r\n",
        "opt = Adam(lr=learning_rate,clipvalue=1)\r\n",
        "from tensorflow.keras.losses import BinaryCrossentropy\r\n",
        "from tensorflow.keras.metrics import AUC\r\n",
        "\r\n",
        "loss_fn = BinaryCrossentropy()\r\n",
        "acc_fn =  AUC()\r\n",
        "# loss_fn = custom_loss\r\n",
        "# loss_fn = MeanAbsoluteError()\r\n",
        "# acc_fn = custom_acc\r\n",
        "\r\n",
        "\r\n",
        "model.compile()\r\n",
        "# model.build()\r\n",
        "# fit(train_loader)"
      ],
      "execution_count": null,
      "outputs": []
    },
    {
      "cell_type": "code",
      "metadata": {
        "id": "i5MrTd14Mnj5"
      },
      "source": [
        "################################################################################\r\n",
        "# DEFINE TF-FUNCTIONS\r\n",
        "################################################################################\r\n",
        "@tf.function(input_signature=train_loader.tf_signature(), experimental_relax_shapes=True)\r\n",
        "def train_step(inputs, target):\r\n",
        "    with tf.GradientTape() as tape:\r\n",
        "        predictions = model(inputs, training=True)\r\n",
        "        loss = loss_fn(target, predictions)\r\n",
        "        loss += sum(model.losses)\r\n",
        "    gradients = tape.gradient(loss, model.trainable_variables)\r\n",
        "    opt.apply_gradients(zip(gradients, model.trainable_variables))\r\n",
        "    acc = acc_fn(target,predictions)\r\n",
        "\r\n",
        "    return loss, acc\r\n",
        "\r\n",
        "def validate(inputs,target):\r\n",
        "    predictions = model(inputs, training=False)\r\n",
        "    loss = loss_fn(target, predictions)\r\n",
        "    loss += sum(model.losses)\r\n",
        "    acc = acc_fn(target,predictions)\r\n",
        "\r\n",
        "    return loss, acc\r\n",
        "\r\n",
        "\r\n",
        "def fit(train_loader,logwandb = False):\r\n",
        "  if logwandb:\r\n",
        "    run = wandb.init(project='IceCube Stopped Muons',config = config)\r\n",
        "\r\n",
        "  current_batch = 0\r\n",
        "  model_loss = []\r\n",
        "  model_acc = []\r\n",
        "  vali_loss = []\r\n",
        "  epoch = 0\r\n",
        "\r\n",
        "  earlystop = 0\r\n",
        "  should_stop = False\r\n",
        "\r\n",
        "  epoch_steps = train_loader.steps_per_epoch\r\n",
        "\r\n",
        "  t = tqdm(total  = train_loader.steps_per_epoch,leave = True, ncols='70%')\r\n",
        "  t.set_description(f'Currently on epoch {0} of {epochs} ')\r\n",
        "\r\n",
        "  pb = []\r\n",
        "  tar = []\r\n",
        "  step = 0\r\n",
        "\r\n",
        "  last_loss = 0\r\n",
        "  \r\n",
        "  for batch in train_loader:\r\n",
        "      if should_stop:\r\n",
        "        print(\"Ending fitting because of early stopping\")\r\n",
        "        break\r\n",
        "\r\n",
        "      step += 1\r\n",
        "      inputs, target = batch\r\n",
        "      inputs = scale_inputs(inputs)\r\n",
        "\r\n",
        "      loss, acc = train_step(inputs,target)\r\n",
        "\r\n",
        "      model_loss.append(loss)\r\n",
        "      model_acc.append(acc)\r\n",
        "      current_batch += 1\r\n",
        "      t.update(1)\r\n",
        "\r\n",
        "      if step%100 == 0:\r\n",
        "        t.set_description(f'Current loss {np.mean(model_loss):.3} | Working on epoch {epoch} of {epochs}:')\r\n",
        "\r\n",
        "      if current_batch == epoch_steps:\r\n",
        "          test_loader = DisjointLoader(dataset_te, batch_size=batch_size, epochs=test_epochs, shuffle=True)\r\n",
        "          t.set_description(f'Currently validating results for epoch {epoch} of {epochs}:')\r\n",
        "          vali_acc = []\r\n",
        "          for vali_batch in test_loader:\r\n",
        "            vali_inputs, vali_target = vali_batch\r\n",
        "            valie_inputs = scale_inputs(vali_inputs)\r\n",
        "            valoss, vaacc = validate(vali_inputs,vali_target)\r\n",
        "            vali_acc.append(vaacc)\r\n",
        "            vali_loss.append(valoss)\r\n",
        "          va = np.mean(vali_loss)\r\n",
        "          vaac = np.mean(vali_acc)\r\n",
        "\r\n",
        "          m_loss = np.mean(model_loss)\r\n",
        "          change = (m_loss-last_loss)/max(0.000001,last_loss)\r\n",
        "          last_loss = m_loss\r\n",
        "\r\n",
        "          s = \"Train loss: {} - Loss change {:+.3f}% | Validation loss {} | Epoch: {}\".format(m_loss, change*100,va, epoch)\r\n",
        "          t.write(s)\r\n",
        "          ma = np.array(model_acc)\r\n",
        "          s = \"Train accuracy: {:.3} | Validation accuracy: {:.3}\".format(np.mean(ma),vaac)\r\n",
        "          t.write(s)\r\n",
        "\r\n",
        "          if m_loss < va:\r\n",
        "            if earlystop < early_stopping_rounds:\r\n",
        "              earlystop += 1\r\n",
        "            else:\r\n",
        "              should_stop = True\r\n",
        "          else:\r\n",
        "            earlystop = 0\r\n",
        "\r\n",
        "\r\n",
        "\r\n",
        "          if epoch%10 == 0:\r\n",
        "            # maybe write a saving state here\r\n",
        "            pass\r\n",
        "\r\n",
        "          # print(\"Two current guesses are\\n\",np.array(pb[0]),np.array(pb[1]),\"for\\n\",tar[0],tar[1])\r\n",
        "\r\n",
        "          # if epoch%5 == 0 and epoch != 0:\r\n",
        "            # print(\"Two current guesses are\\n\",np.array(pb[0]),np.array(pb[1]),\"for\\n\",tar[0],tar[1])\r\n",
        "            # pass\r\n",
        "          # else:\r\n",
        "            # pb = model(inputs, training=False)\r\n",
        "            # tar = target\r\n",
        "\r\n",
        "\r\n",
        "\r\n",
        "          if logwandb:\r\n",
        "            wandb.log({\r\n",
        "                      \"train_loss\": m_loss,\r\n",
        "                      \"train_accuracy\": np.mean(ma),\r\n",
        "                      \"validation_loss\": va,\r\n",
        "                      \"validation_accuracy\": vaac,\r\n",
        "                      })\r\n",
        "\r\n",
        "\r\n",
        "\r\n",
        "\r\n",
        "          model_loss = []\r\n",
        "          model_acc = []\r\n",
        "          vali_loss = []\r\n",
        "          current_batch = 0\r\n",
        "          step = 0\r\n",
        "\r\n",
        "          t.n = 0\r\n",
        "          t.last_print_n = 0\r\n",
        "          t.refresh()\r\n",
        "\r\n",
        "          epoch += 1\r\n",
        "\r\n",
        "\r\n",
        "          K.set_value(model.optimizer.learning_rate, lr_schedule(learning_rate,epoch,epochs))"
      ],
      "execution_count": null,
      "outputs": []
    },
    {
      "cell_type": "code",
      "metadata": {
        "colab": {
          "base_uri": "https://localhost:8080/",
          "height": 1000,
          "referenced_widgets": [
            "bffba0498c8547faa6884a714ddc02a4",
            "6104e9ba056548cc9c65decc5e30e8a2",
            "c2ecb0d3a92b40c79a587a121843d805",
            "9c3172e6c37f4827a7997b301cbd2875",
            "53b220cb4133444b989531e2bb7fe66d",
            "4298ca4ee9f94a85807c53d8bf2e005b",
            "cfa9e945f0c449a8a9809ce5946fd168",
            "49f7cb4cfd7d416abe44cdebe1da0c49",
            "16ea45bb1a094768aad6c0c038972ebc",
            "d0583c6d80c04de0aca63e0959203739",
            "dc531c906e0543849c45ad045485a5d6",
            "d8d2891e1bbc4bed983a898b2be701dd",
            "a85b43ee90a948dfa5a9d8927f8ce980",
            "0518ad4fd9814299abab515d9662f90d",
            "8114e6480efb4b1e8d65fafa91ced339",
            "32d50f40a2f146f8bc5385736b7e4453"
          ]
        },
        "id": "0j4lihYOMpzi",
        "outputId": "aea43901-4130-4dfc-9b53-d7ebab430e78"
      },
      "source": [
        "logwandb = True\r\n",
        "\r\n",
        "fit(train_loader,logwandb = logwandb)\r\n",
        "\r\n",
        "print(\"\\n\\nTraining of the following model is now complete:\")\r\n",
        "model.summary()\r\n",
        "save_path = \"/content/drive/MyDrive/Bachelor Project - IceCube ML/Saved Models\"\r\n",
        "\r\n",
        "\r\n",
        "if logwandb:\r\n",
        "  pth = save_path + f\"/{wandb.run.name}-run\"\r\n",
        "  wandb.run.finish()  \r\n",
        "else:\r\n",
        "  pth = save_path + \"/StoppedMuons  \"\r\n",
        "\r\n",
        "model.save(pth)"
      ],
      "execution_count": null,
      "outputs": [
        {
          "output_type": "display_data",
          "data": {
            "text/html": [
              "Finishing last run (ID:376lly7a) before initializing another..."
            ],
            "text/plain": [
              "<IPython.core.display.HTML object>"
            ]
          },
          "metadata": {
            "tags": []
          }
        },
        {
          "output_type": "display_data",
          "data": {
            "text/html": [
              "<br/>Waiting for W&B process to finish, PID 2218<br/>Program ended successfully."
            ],
            "text/plain": [
              "<IPython.core.display.HTML object>"
            ]
          },
          "metadata": {
            "tags": []
          }
        },
        {
          "output_type": "display_data",
          "data": {
            "application/vnd.jupyter.widget-view+json": {
              "model_id": "bffba0498c8547faa6884a714ddc02a4",
              "version_minor": 0,
              "version_major": 2
            },
            "text/plain": [
              "VBox(children=(Label(value=' 0.00MB of 0.00MB uploaded (0.00MB deduped)\\r'), FloatProgress(value=1.0, max=1.0)…"
            ]
          },
          "metadata": {
            "tags": []
          }
        },
        {
          "output_type": "display_data",
          "data": {
            "text/html": [
              "Find user logs for this run at: <code>/content/wandb/run-20210311_105927-376lly7a/logs/debug.log</code>"
            ],
            "text/plain": [
              "<IPython.core.display.HTML object>"
            ]
          },
          "metadata": {
            "tags": []
          }
        },
        {
          "output_type": "display_data",
          "data": {
            "text/html": [
              "Find internal logs for this run at: <code>/content/wandb/run-20210311_105927-376lly7a/logs/debug-internal.log</code>"
            ],
            "text/plain": [
              "<IPython.core.display.HTML object>"
            ]
          },
          "metadata": {
            "tags": []
          }
        },
        {
          "output_type": "display_data",
          "data": {
            "text/html": [
              "<h3>Run summary:</h3><br/><style>\n",
              "    table.wandb td:nth-child(1) { padding: 0 10px; text-align: right }\n",
              "    </style><table class=\"wandb\">\n",
              "<tr><td>train_loss</td><td>0.47406</td></tr><tr><td>train_accuracy</td><td>0.75611</td></tr><tr><td>validation_loss</td><td>0.46754</td></tr><tr><td>validation_accuracy</td><td>0.75703</td></tr><tr><td>_runtime</td><td>1440</td></tr><tr><td>_timestamp</td><td>1615461811</td></tr><tr><td>_step</td><td>11</td></tr></table>"
            ],
            "text/plain": [
              "<IPython.core.display.HTML object>"
            ]
          },
          "metadata": {
            "tags": []
          }
        },
        {
          "output_type": "display_data",
          "data": {
            "text/html": [
              "<h3>Run history:</h3><br/><style>\n",
              "    table.wandb td:nth-child(1) { padding: 0 10px; text-align: right }\n",
              "    </style><table class=\"wandb\">\n",
              "<tr><td>train_loss</td><td>█▅▄▃▃▃▂▂▂▁▁▁</td></tr><tr><td>train_accuracy</td><td>▁▃▄▅▆▆▆▇▇▇██</td></tr><tr><td>validation_loss</td><td>█▇▅▅▄▄▅▄▂▂▂▁</td></tr><tr><td>validation_accuracy</td><td>▁▃▄▄▅▆▆▇▇▇██</td></tr><tr><td>_runtime</td><td>▁▂▂▃▄▄▅▅▆▇▇█</td></tr><tr><td>_timestamp</td><td>▁▂▂▃▄▄▅▅▆▇▇█</td></tr><tr><td>_step</td><td>▁▂▂▃▄▄▅▅▆▇▇█</td></tr></table><br/>"
            ],
            "text/plain": [
              "<IPython.core.display.HTML object>"
            ]
          },
          "metadata": {
            "tags": []
          }
        },
        {
          "output_type": "display_data",
          "data": {
            "text/html": [
              "Synced 5 W&B file(s), 0 media file(s), 0 artifact file(s) and 0 other file(s)"
            ],
            "text/plain": [
              "<IPython.core.display.HTML object>"
            ]
          },
          "metadata": {
            "tags": []
          }
        },
        {
          "output_type": "display_data",
          "data": {
            "text/html": [
              "\n",
              "                    <br/>Synced <strong style=\"color:#cdcd00\">soft-dust-2</strong>: <a href=\"https://wandb.ai/jakobschauser/IceCube%20Stopped%20Muons/runs/376lly7a\" target=\"_blank\">https://wandb.ai/jakobschauser/IceCube%20Stopped%20Muons/runs/376lly7a</a><br/>\n",
              "                "
            ],
            "text/plain": [
              "<IPython.core.display.HTML object>"
            ]
          },
          "metadata": {
            "tags": []
          }
        },
        {
          "output_type": "display_data",
          "data": {
            "text/html": [
              "...Successfully finished last run (ID:376lly7a). Initializing new run:<br/><br/>"
            ],
            "text/plain": [
              "<IPython.core.display.HTML object>"
            ]
          },
          "metadata": {
            "tags": []
          }
        },
        {
          "output_type": "display_data",
          "data": {
            "text/html": [
              "\n",
              "                Tracking run with wandb version 0.10.22<br/>\n",
              "                Syncing run <strong style=\"color:#cdcd00\">apricot-jazz-3</strong> to <a href=\"https://wandb.ai\" target=\"_blank\">Weights & Biases</a> <a href=\"https://docs.wandb.com/integrations/jupyter.html\" target=\"_blank\">(Documentation)</a>.<br/>\n",
              "                Project page: <a href=\"https://wandb.ai/jakobschauser/IceCube%20Stopped%20Muons\" target=\"_blank\">https://wandb.ai/jakobschauser/IceCube%20Stopped%20Muons</a><br/>\n",
              "                Run page: <a href=\"https://wandb.ai/jakobschauser/IceCube%20Stopped%20Muons/runs/3ngs0266\" target=\"_blank\">https://wandb.ai/jakobschauser/IceCube%20Stopped%20Muons/runs/3ngs0266</a><br/>\n",
              "                Run data is saved locally in <code>/content/wandb/run-20210311_112631-3ngs0266</code><br/><br/>\n",
              "            "
            ],
            "text/plain": [
              "<IPython.core.display.HTML object>"
            ]
          },
          "metadata": {
            "tags": []
          }
        },
        {
          "output_type": "display_data",
          "data": {
            "application/vnd.jupyter.widget-view+json": {
              "model_id": "16ea45bb1a094768aad6c0c038972ebc",
              "version_minor": 0,
              "version_major": 2
            },
            "text/plain": [
              "HBox(children=(FloatProgress(value=0.0, layout=Layout(flex='2'), max=2813.0), HTML(value='')), layout=Layout(d…"
            ]
          },
          "metadata": {
            "tags": []
          }
        },
        {
          "output_type": "stream",
          "text": [
            "\r\r\r\r\r\r\r\r\r\r\r\r\r\r\r\r\r\r\r\r\r\r\r\rTrain loss: 0.5647515058517456 - Loss change +56475150.585% | Validation loss 0.5127106308937073 | Epoch: 0\n",
            "Train accuracy: 0.707 | Validation accuracy: 0.749\n",
            "Train loss: 0.5166946649551392 - Loss change -8.509% | Validation loss 0.49791085720062256 | Epoch: 1\n",
            "Train accuracy: 0.759 | Validation accuracy: 0.766\n",
            "Train loss: 0.5034651756286621 - Loss change -2.560% | Validation loss 0.48450028896331787 | Epoch: 2\n",
            "Train accuracy: 0.771 | Validation accuracy: 0.776\n",
            "Train loss: 0.4913567006587982 - Loss change -2.405% | Validation loss 0.4822896122932434 | Epoch: 3\n",
            "Train accuracy: 0.78 | Validation accuracy: 0.783\n",
            "Train loss: 0.48472872376441956 - Loss change -1.349% | Validation loss 0.47630128264427185 | Epoch: 4\n",
            "Train accuracy: 0.786 | Validation accuracy: 0.789\n",
            "Train loss: 0.47988712787628174 - Loss change -0.999% | Validation loss 0.47083139419555664 | Epoch: 5\n",
            "Train accuracy: 0.791 | Validation accuracy: 0.793\n",
            "Train loss: 0.4784904420375824 - Loss change -0.291% | Validation loss 0.47098252177238464 | Epoch: 6\n",
            "Train accuracy: 0.795 | Validation accuracy: 0.796\n",
            "Train loss: 0.4759410321712494 - Loss change -0.533% | Validation loss 0.47427576780319214 | Epoch: 7\n",
            "Train accuracy: 0.798 | Validation accuracy: 0.799\n",
            "Train loss: 0.4749568700790405 - Loss change -0.207% | Validation loss 0.46485787630081177 | Epoch: 8\n",
            "Train accuracy: 0.8 | Validation accuracy: 0.801\n",
            "Train loss: 0.47467654943466187 - Loss change -0.059% | Validation loss 0.4588441252708435 | Epoch: 9\n",
            "Train accuracy: 0.802 | Validation accuracy: 0.803\n",
            "Train loss: 0.47205787897109985 - Loss change -0.552% | Validation loss 0.46662381291389465 | Epoch: 10\n",
            "Train accuracy: 0.804 | Validation accuracy: 0.805\n",
            "Train loss: 0.4706927537918091 - Loss change -0.289% | Validation loss 0.4605035185813904 | Epoch: 11\n",
            "Train accuracy: 0.806 | Validation accuracy: 0.806\n",
            "Train loss: 0.46981075406074524 - Loss change -0.187% | Validation loss 0.45956897735595703 | Epoch: 12\n",
            "Train accuracy: 0.807 | Validation accuracy: 0.808\n",
            "Train loss: 0.4690195620059967 - Loss change -0.168% | Validation loss 0.45843252539634705 | Epoch: 13\n",
            "Train accuracy: 0.808 | Validation accuracy: 0.809\n",
            "Train loss: 0.4698845148086548 - Loss change +0.184% | Validation loss 0.45826029777526855 | Epoch: 14\n",
            "Train accuracy: 0.809 | Validation accuracy: 0.81\n",
            "Train loss: 0.4699183702468872 - Loss change +0.007% | Validation loss 0.4580768942832947 | Epoch: 15\n",
            "Train accuracy: 0.81 | Validation accuracy: 0.811\n",
            "Train loss: 0.46836838126182556 - Loss change -0.330% | Validation loss 0.456914484500885 | Epoch: 16\n",
            "Train accuracy: 0.811 | Validation accuracy: 0.812\n",
            "Train loss: 0.46858879923820496 - Loss change +0.047% | Validation loss 0.4574498236179352 | Epoch: 17\n",
            "Train accuracy: 0.812 | Validation accuracy: 0.812\n"
          ],
          "name": "stdout"
        },
        {
          "output_type": "error",
          "ename": "KeyboardInterrupt",
          "evalue": "ignored",
          "traceback": [
            "\u001b[0;31m---------------------------------------------------------------------------\u001b[0m",
            "\u001b[0;31mKeyboardInterrupt\u001b[0m                         Traceback (most recent call last)",
            "\u001b[0;32m<ipython-input-135-19b8ef3374c9>\u001b[0m in \u001b[0;36m<module>\u001b[0;34m()\u001b[0m\n\u001b[1;32m      1\u001b[0m \u001b[0mlogwandb\u001b[0m \u001b[0;34m=\u001b[0m \u001b[0;32mTrue\u001b[0m\u001b[0;34m\u001b[0m\u001b[0;34m\u001b[0m\u001b[0m\n\u001b[1;32m      2\u001b[0m \u001b[0;34m\u001b[0m\u001b[0m\n\u001b[0;32m----> 3\u001b[0;31m \u001b[0mfit\u001b[0m\u001b[0;34m(\u001b[0m\u001b[0mtrain_loader\u001b[0m\u001b[0;34m,\u001b[0m\u001b[0mlogwandb\u001b[0m \u001b[0;34m=\u001b[0m \u001b[0mlogwandb\u001b[0m\u001b[0;34m)\u001b[0m\u001b[0;34m\u001b[0m\u001b[0;34m\u001b[0m\u001b[0m\n\u001b[0m\u001b[1;32m      4\u001b[0m \u001b[0;34m\u001b[0m\u001b[0m\n\u001b[1;32m      5\u001b[0m \u001b[0mprint\u001b[0m\u001b[0;34m(\u001b[0m\u001b[0;34m\"\\n\\nTraining of the following model is now complete:\"\u001b[0m\u001b[0;34m)\u001b[0m\u001b[0;34m\u001b[0m\u001b[0;34m\u001b[0m\u001b[0m\n",
            "\u001b[0;32m<ipython-input-134-8426c81949d4>\u001b[0m in \u001b[0;36mfit\u001b[0;34m(train_loader, logwandb)\u001b[0m\n\u001b[1;32m     56\u001b[0m       \u001b[0minputs\u001b[0m \u001b[0;34m=\u001b[0m \u001b[0mscale_inputs\u001b[0m\u001b[0;34m(\u001b[0m\u001b[0minputs\u001b[0m\u001b[0;34m)\u001b[0m\u001b[0;34m\u001b[0m\u001b[0;34m\u001b[0m\u001b[0m\n\u001b[1;32m     57\u001b[0m \u001b[0;34m\u001b[0m\u001b[0m\n\u001b[0;32m---> 58\u001b[0;31m       \u001b[0mloss\u001b[0m\u001b[0;34m,\u001b[0m \u001b[0macc\u001b[0m \u001b[0;34m=\u001b[0m \u001b[0mtrain_step\u001b[0m\u001b[0;34m(\u001b[0m\u001b[0minputs\u001b[0m\u001b[0;34m,\u001b[0m\u001b[0mtarget\u001b[0m\u001b[0;34m)\u001b[0m\u001b[0;34m\u001b[0m\u001b[0;34m\u001b[0m\u001b[0m\n\u001b[0m\u001b[1;32m     59\u001b[0m \u001b[0;34m\u001b[0m\u001b[0m\n\u001b[1;32m     60\u001b[0m       \u001b[0mmodel_loss\u001b[0m\u001b[0;34m.\u001b[0m\u001b[0mappend\u001b[0m\u001b[0;34m(\u001b[0m\u001b[0mloss\u001b[0m\u001b[0;34m)\u001b[0m\u001b[0;34m\u001b[0m\u001b[0;34m\u001b[0m\u001b[0m\n",
            "\u001b[0;32m/usr/local/lib/python3.7/dist-packages/tensorflow/python/eager/def_function.py\u001b[0m in \u001b[0;36m__call__\u001b[0;34m(self, *args, **kwds)\u001b[0m\n\u001b[1;32m    826\u001b[0m     \u001b[0mtracing_count\u001b[0m \u001b[0;34m=\u001b[0m \u001b[0mself\u001b[0m\u001b[0;34m.\u001b[0m\u001b[0mexperimental_get_tracing_count\u001b[0m\u001b[0;34m(\u001b[0m\u001b[0;34m)\u001b[0m\u001b[0;34m\u001b[0m\u001b[0;34m\u001b[0m\u001b[0m\n\u001b[1;32m    827\u001b[0m     \u001b[0;32mwith\u001b[0m \u001b[0mtrace\u001b[0m\u001b[0;34m.\u001b[0m\u001b[0mTrace\u001b[0m\u001b[0;34m(\u001b[0m\u001b[0mself\u001b[0m\u001b[0;34m.\u001b[0m\u001b[0m_name\u001b[0m\u001b[0;34m)\u001b[0m \u001b[0;32mas\u001b[0m \u001b[0mtm\u001b[0m\u001b[0;34m:\u001b[0m\u001b[0;34m\u001b[0m\u001b[0;34m\u001b[0m\u001b[0m\n\u001b[0;32m--> 828\u001b[0;31m       \u001b[0mresult\u001b[0m \u001b[0;34m=\u001b[0m \u001b[0mself\u001b[0m\u001b[0;34m.\u001b[0m\u001b[0m_call\u001b[0m\u001b[0;34m(\u001b[0m\u001b[0;34m*\u001b[0m\u001b[0margs\u001b[0m\u001b[0;34m,\u001b[0m \u001b[0;34m**\u001b[0m\u001b[0mkwds\u001b[0m\u001b[0;34m)\u001b[0m\u001b[0;34m\u001b[0m\u001b[0;34m\u001b[0m\u001b[0m\n\u001b[0m\u001b[1;32m    829\u001b[0m       \u001b[0mcompiler\u001b[0m \u001b[0;34m=\u001b[0m \u001b[0;34m\"xla\"\u001b[0m \u001b[0;32mif\u001b[0m \u001b[0mself\u001b[0m\u001b[0;34m.\u001b[0m\u001b[0m_experimental_compile\u001b[0m \u001b[0;32melse\u001b[0m \u001b[0;34m\"nonXla\"\u001b[0m\u001b[0;34m\u001b[0m\u001b[0;34m\u001b[0m\u001b[0m\n\u001b[1;32m    830\u001b[0m       \u001b[0mnew_tracing_count\u001b[0m \u001b[0;34m=\u001b[0m \u001b[0mself\u001b[0m\u001b[0;34m.\u001b[0m\u001b[0mexperimental_get_tracing_count\u001b[0m\u001b[0;34m(\u001b[0m\u001b[0;34m)\u001b[0m\u001b[0;34m\u001b[0m\u001b[0;34m\u001b[0m\u001b[0m\n",
            "\u001b[0;32m/usr/local/lib/python3.7/dist-packages/tensorflow/python/eager/def_function.py\u001b[0m in \u001b[0;36m_call\u001b[0;34m(self, *args, **kwds)\u001b[0m\n\u001b[1;32m    853\u001b[0m       \u001b[0;31m# In this case we have created variables on the first call, so we run the\u001b[0m\u001b[0;34m\u001b[0m\u001b[0;34m\u001b[0m\u001b[0;34m\u001b[0m\u001b[0m\n\u001b[1;32m    854\u001b[0m       \u001b[0;31m# defunned version which is guaranteed to never create variables.\u001b[0m\u001b[0;34m\u001b[0m\u001b[0;34m\u001b[0m\u001b[0;34m\u001b[0m\u001b[0m\n\u001b[0;32m--> 855\u001b[0;31m       \u001b[0;32mreturn\u001b[0m \u001b[0mself\u001b[0m\u001b[0;34m.\u001b[0m\u001b[0m_stateless_fn\u001b[0m\u001b[0;34m(\u001b[0m\u001b[0;34m*\u001b[0m\u001b[0margs\u001b[0m\u001b[0;34m,\u001b[0m \u001b[0;34m**\u001b[0m\u001b[0mkwds\u001b[0m\u001b[0;34m)\u001b[0m  \u001b[0;31m# pylint: disable=not-callable\u001b[0m\u001b[0;34m\u001b[0m\u001b[0;34m\u001b[0m\u001b[0m\n\u001b[0m\u001b[1;32m    856\u001b[0m     \u001b[0;32melif\u001b[0m \u001b[0mself\u001b[0m\u001b[0;34m.\u001b[0m\u001b[0m_stateful_fn\u001b[0m \u001b[0;32mis\u001b[0m \u001b[0;32mnot\u001b[0m \u001b[0;32mNone\u001b[0m\u001b[0;34m:\u001b[0m\u001b[0;34m\u001b[0m\u001b[0;34m\u001b[0m\u001b[0m\n\u001b[1;32m    857\u001b[0m       \u001b[0;31m# Release the lock early so that multiple threads can perform the call\u001b[0m\u001b[0;34m\u001b[0m\u001b[0;34m\u001b[0m\u001b[0;34m\u001b[0m\u001b[0m\n",
            "\u001b[0;32m/usr/local/lib/python3.7/dist-packages/tensorflow/python/eager/function.py\u001b[0m in \u001b[0;36m__call__\u001b[0;34m(self, *args, **kwargs)\u001b[0m\n\u001b[1;32m   2941\u001b[0m        filtered_flat_args) = self._maybe_define_function(args, kwargs)\n\u001b[1;32m   2942\u001b[0m     return graph_function._call_flat(\n\u001b[0;32m-> 2943\u001b[0;31m         filtered_flat_args, captured_inputs=graph_function.captured_inputs)  # pylint: disable=protected-access\n\u001b[0m\u001b[1;32m   2944\u001b[0m \u001b[0;34m\u001b[0m\u001b[0m\n\u001b[1;32m   2945\u001b[0m   \u001b[0;34m@\u001b[0m\u001b[0mproperty\u001b[0m\u001b[0;34m\u001b[0m\u001b[0;34m\u001b[0m\u001b[0m\n",
            "\u001b[0;32m/usr/local/lib/python3.7/dist-packages/tensorflow/python/eager/function.py\u001b[0m in \u001b[0;36m_call_flat\u001b[0;34m(self, args, captured_inputs, cancellation_manager)\u001b[0m\n\u001b[1;32m   1917\u001b[0m       \u001b[0;31m# No tape is watching; skip to running the function.\u001b[0m\u001b[0;34m\u001b[0m\u001b[0;34m\u001b[0m\u001b[0;34m\u001b[0m\u001b[0m\n\u001b[1;32m   1918\u001b[0m       return self._build_call_outputs(self._inference_function.call(\n\u001b[0;32m-> 1919\u001b[0;31m           ctx, args, cancellation_manager=cancellation_manager))\n\u001b[0m\u001b[1;32m   1920\u001b[0m     forward_backward = self._select_forward_and_backward_functions(\n\u001b[1;32m   1921\u001b[0m         \u001b[0margs\u001b[0m\u001b[0;34m,\u001b[0m\u001b[0;34m\u001b[0m\u001b[0;34m\u001b[0m\u001b[0m\n",
            "\u001b[0;32m/usr/local/lib/python3.7/dist-packages/tensorflow/python/eager/function.py\u001b[0m in \u001b[0;36mcall\u001b[0;34m(self, ctx, args, cancellation_manager)\u001b[0m\n\u001b[1;32m    558\u001b[0m               \u001b[0minputs\u001b[0m\u001b[0;34m=\u001b[0m\u001b[0margs\u001b[0m\u001b[0;34m,\u001b[0m\u001b[0;34m\u001b[0m\u001b[0;34m\u001b[0m\u001b[0m\n\u001b[1;32m    559\u001b[0m               \u001b[0mattrs\u001b[0m\u001b[0;34m=\u001b[0m\u001b[0mattrs\u001b[0m\u001b[0;34m,\u001b[0m\u001b[0;34m\u001b[0m\u001b[0;34m\u001b[0m\u001b[0m\n\u001b[0;32m--> 560\u001b[0;31m               ctx=ctx)\n\u001b[0m\u001b[1;32m    561\u001b[0m         \u001b[0;32melse\u001b[0m\u001b[0;34m:\u001b[0m\u001b[0;34m\u001b[0m\u001b[0;34m\u001b[0m\u001b[0m\n\u001b[1;32m    562\u001b[0m           outputs = execute.execute_with_cancellation(\n",
            "\u001b[0;32m/usr/local/lib/python3.7/dist-packages/tensorflow/python/eager/execute.py\u001b[0m in \u001b[0;36mquick_execute\u001b[0;34m(op_name, num_outputs, inputs, attrs, ctx, name)\u001b[0m\n\u001b[1;32m     58\u001b[0m     \u001b[0mctx\u001b[0m\u001b[0;34m.\u001b[0m\u001b[0mensure_initialized\u001b[0m\u001b[0;34m(\u001b[0m\u001b[0;34m)\u001b[0m\u001b[0;34m\u001b[0m\u001b[0;34m\u001b[0m\u001b[0m\n\u001b[1;32m     59\u001b[0m     tensors = pywrap_tfe.TFE_Py_Execute(ctx._handle, device_name, op_name,\n\u001b[0;32m---> 60\u001b[0;31m                                         inputs, attrs, num_outputs)\n\u001b[0m\u001b[1;32m     61\u001b[0m   \u001b[0;32mexcept\u001b[0m \u001b[0mcore\u001b[0m\u001b[0;34m.\u001b[0m\u001b[0m_NotOkStatusException\u001b[0m \u001b[0;32mas\u001b[0m \u001b[0me\u001b[0m\u001b[0;34m:\u001b[0m\u001b[0;34m\u001b[0m\u001b[0;34m\u001b[0m\u001b[0m\n\u001b[1;32m     62\u001b[0m     \u001b[0;32mif\u001b[0m \u001b[0mname\u001b[0m \u001b[0;32mis\u001b[0m \u001b[0;32mnot\u001b[0m \u001b[0;32mNone\u001b[0m\u001b[0;34m:\u001b[0m\u001b[0;34m\u001b[0m\u001b[0;34m\u001b[0m\u001b[0m\n",
            "\u001b[0;31mKeyboardInterrupt\u001b[0m: "
          ]
        }
      ]
    },
    {
      "cell_type": "code",
      "metadata": {
        "id": "ZWBqTBbhjCAs"
      },
      "source": [
        "from sklearn.metrics import roc_auc_score, roc_curve\r\n",
        "\r\n",
        "test_loader = DisjointLoader(dataset_te, batch_size=batch_size, epochs=test_epochs, shuffle=True)\r\n",
        "\r\n",
        "\r\n",
        "def make_1D(lst):\r\n",
        "  return [val for sublist in lst for val in sublist]\r\n",
        "\r\n",
        "@tf.function(input_signature=test_loader.tf_signature(), experimental_relax_shapes=True)\r\n",
        "def get_predictions(inputs,target):\r\n",
        "  pred = model(inputs,training = False)\r\n",
        "\r\n",
        "  return pred\r\n",
        "\r\n",
        "def test_model():\r\n",
        "  truths, guesses = [], []\r\n",
        "  for batch in tqdm(test_loader):\r\n",
        "    inputs, target = batch\r\n",
        "    inputs = scale_inputs(inputs)\r\n",
        "    preds = get_predictions(inputs, target)\r\n",
        "    truths.append(batch[1])\r\n",
        "    guesses.append(preds)\r\n",
        "  return np.array(make_1D(guesses)).squeeze(),np.array(make_1D(truths)).squeeze()\r\n",
        "\r\n",
        "def plot_roc(y_true,y_score):\r\n",
        "  rc = roc_curve(y_true, y_score)\r\n",
        "  fpr, tpr, th = rc\r\n",
        "  auc = roc_auc_score(y_true, y_score)\r\n",
        "\r\n",
        "  plt.figure(figsize = (10,10))\r\n",
        "  plt.plot(fpr,tpr)\r\n",
        "  plt.title(\"ROC-curve with auc {:.3}\".format(auc))\r\n",
        "  plt.show()\r\n"
      ],
      "execution_count": null,
      "outputs": []
    },
    {
      "cell_type": "code",
      "metadata": {
        "colab": {
          "base_uri": "https://localhost:8080/",
          "height": 659,
          "referenced_widgets": [
            "fcb57b5dc98947c78691b694b29aaca9",
            "531bd89f1c6d48a0891d57ef132ffdb6",
            "485f232b6d2641b1a7bf7805c5dc9f71",
            "434dd0c83381418a81740bbcf7f21781",
            "7b2650812dd84b89b82326b5a2c6d55f",
            "f977f95539bc41e6b34061a7ff02cab6",
            "0e626b5cca4a4d69b02fa9766128aea8",
            "748be55923db46ecbd9d7c1f7d9cd2bc"
          ]
        },
        "id": "xNXhauOkYGyn",
        "outputId": "b2cb35f0-c51b-479c-dd97-6ac6701d89ad"
      },
      "source": [
        "preds, truths = test_model()\r\n",
        "plot_roc(truths,preds)"
      ],
      "execution_count": null,
      "outputs": [
        {
          "output_type": "display_data",
          "data": {
            "application/vnd.jupyter.widget-view+json": {
              "model_id": "fcb57b5dc98947c78691b694b29aaca9",
              "version_minor": 0,
              "version_major": 2
            },
            "text/plain": [
              "HBox(children=(FloatProgress(value=1.0, bar_style='info', max=1.0), HTML(value='')))"
            ]
          },
          "metadata": {
            "tags": []
          }
        },
        {
          "output_type": "stream",
          "text": [
            "\n"
          ],
          "name": "stdout"
        },
        {
          "output_type": "display_data",
          "data": {
            "image/png": "[encoded data removed]",
            "text/plain": [
              "<Figure size 720x720 with 1 Axes>"
            ]
          },
          "metadata": {
            "tags": [],
            "needs_background": "light"
          }
        }
      ]
    },
    {
      "cell_type": "code",
      "metadata": {
        "colab": {
          "base_uri": "https://localhost:8080/"
        },
        "id": "EGw3vsW8qyJA",
        "outputId": "9975d0ac-6301-4d51-af36-582df681c861"
      },
      "source": [
        ""
      ],
      "execution_count": null,
      "outputs": [
        {
          "output_type": "execute_result",
          "data": {
            "text/plain": [
              "(20000,)"
            ]
          },
          "metadata": {
            "tags": []
          },
          "execution_count": 98
        }
      ]
    },
    {
      "cell_type": "code",
      "metadata": {
        "id": "EreCGQ-Zs1AX"
      },
      "source": [
        ""
      ],
      "execution_count": null,
      "outputs": []
    }
  ]
}