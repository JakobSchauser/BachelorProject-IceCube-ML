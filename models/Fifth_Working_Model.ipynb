{
  "nbformat": 4,
  "nbformat_minor": 0,
  "metadata": {
    "colab": {
      "name": "Fifth Working Model",
      "provenance": [],
      "collapsed_sections": [],
      "mount_file_id": "1F5LapnzmQ3_-UbqgwUGvW0joIZtifhJc",
      "authorship_tag": "ABX9TyNvbYjkRuaAShvxU4khHkvN",
      "include_colab_link": true
    },
    "kernelspec": {
      "name": "python3",
      "display_name": "Python 3"
    },
    "widgets": {
      "application/vnd.jupyter.widget-state+json": {
        "f3d55cf87cb244818a701eb3689a605e": {
          "model_module": "@jupyter-widgets/controls",
          "model_name": "HBoxModel",
          "state": {
            "_view_name": "HBoxView",
            "_dom_classes": [],
            "_model_name": "HBoxModel",
            "_view_module": "@jupyter-widgets/controls",
            "_model_module_version": "1.5.0",
            "_view_count": null,
            "_view_module_version": "1.5.0",
            "box_style": "",
            "layout": "IPY_MODEL_5466190767a04252890cacd332b9ce7e",
            "_model_module": "@jupyter-widgets/controls",
            "children": [
              "IPY_MODEL_fa2d9376f55f4997910ff80342d0ff36",
              "IPY_MODEL_220a7be7f9ba40aa9006785427717064"
            ]
          }
        },
        "5466190767a04252890cacd332b9ce7e": {
          "model_module": "@jupyter-widgets/base",
          "model_name": "LayoutModel",
          "state": {
            "_view_name": "LayoutView",
            "grid_template_rows": null,
            "right": null,
            "justify_content": null,
            "_view_module": "@jupyter-widgets/base",
            "overflow": null,
            "_model_module_version": "1.2.0",
            "_view_count": null,
            "flex_flow": "row wrap",
            "width": "70%",
            "min_width": null,
            "border": null,
            "align_items": null,
            "bottom": null,
            "_model_module": "@jupyter-widgets/base",
            "top": null,
            "grid_column": null,
            "overflow_y": null,
            "overflow_x": null,
            "grid_auto_flow": null,
            "grid_area": null,
            "grid_template_columns": null,
            "flex": null,
            "_model_name": "LayoutModel",
            "justify_items": null,
            "grid_row": null,
            "max_height": null,
            "align_content": null,
            "visibility": null,
            "align_self": null,
            "height": null,
            "min_height": null,
            "padding": null,
            "grid_auto_rows": null,
            "grid_gap": null,
            "max_width": null,
            "order": null,
            "_view_module_version": "1.2.0",
            "grid_template_areas": null,
            "object_position": null,
            "object_fit": null,
            "grid_auto_columns": null,
            "margin": null,
            "display": "inline-flex",
            "left": null
          }
        },
        "fa2d9376f55f4997910ff80342d0ff36": {
          "model_module": "@jupyter-widgets/controls",
          "model_name": "FloatProgressModel",
          "state": {
            "_view_name": "ProgressView",
            "style": "IPY_MODEL_285123d2a3014eb694267ad5e9e8b45f",
            "_dom_classes": [],
            "description": "Currently validating results for epoch 34 of 35::   0%",
            "_model_name": "FloatProgressModel",
            "bar_style": "",
            "max": 5625,
            "_view_module": "@jupyter-widgets/controls",
            "_model_module_version": "1.5.0",
            "value": 0,
            "_view_count": null,
            "_view_module_version": "1.5.0",
            "orientation": "horizontal",
            "min": 0,
            "description_tooltip": null,
            "_model_module": "@jupyter-widgets/controls",
            "layout": "IPY_MODEL_21ae9e8cb8494f45ae851dcbddc336a2"
          }
        },
        "220a7be7f9ba40aa9006785427717064": {
          "model_module": "@jupyter-widgets/controls",
          "model_name": "HTMLModel",
          "state": {
            "_view_name": "HTMLView",
            "style": "IPY_MODEL_9a5c97f494bd4ff295b87715dff92973",
            "_dom_classes": [],
            "description": "",
            "_model_name": "HTMLModel",
            "placeholder": "​",
            "_view_module": "@jupyter-widgets/controls",
            "_model_module_version": "1.5.0",
            "value": " 0/5625 [1:10:47&lt;01:46, 52.98it/s]",
            "_view_count": null,
            "_view_module_version": "1.5.0",
            "description_tooltip": null,
            "_model_module": "@jupyter-widgets/controls",
            "layout": "IPY_MODEL_eb4272ab41fd46209c648ee5d8555678"
          }
        },
        "285123d2a3014eb694267ad5e9e8b45f": {
          "model_module": "@jupyter-widgets/controls",
          "model_name": "ProgressStyleModel",
          "state": {
            "_view_name": "StyleView",
            "_model_name": "ProgressStyleModel",
            "description_width": "initial",
            "_view_module": "@jupyter-widgets/base",
            "_model_module_version": "1.5.0",
            "_view_count": null,
            "_view_module_version": "1.2.0",
            "bar_color": null,
            "_model_module": "@jupyter-widgets/controls"
          }
        },
        "21ae9e8cb8494f45ae851dcbddc336a2": {
          "model_module": "@jupyter-widgets/base",
          "model_name": "LayoutModel",
          "state": {
            "_view_name": "LayoutView",
            "grid_template_rows": null,
            "right": null,
            "justify_content": null,
            "_view_module": "@jupyter-widgets/base",
            "overflow": null,
            "_model_module_version": "1.2.0",
            "_view_count": null,
            "flex_flow": null,
            "width": null,
            "min_width": null,
            "border": null,
            "align_items": null,
            "bottom": null,
            "_model_module": "@jupyter-widgets/base",
            "top": null,
            "grid_column": null,
            "overflow_y": null,
            "overflow_x": null,
            "grid_auto_flow": null,
            "grid_area": null,
            "grid_template_columns": null,
            "flex": "2",
            "_model_name": "LayoutModel",
            "justify_items": null,
            "grid_row": null,
            "max_height": null,
            "align_content": null,
            "visibility": null,
            "align_self": null,
            "height": null,
            "min_height": null,
            "padding": null,
            "grid_auto_rows": null,
            "grid_gap": null,
            "max_width": null,
            "order": null,
            "_view_module_version": "1.2.0",
            "grid_template_areas": null,
            "object_position": null,
            "object_fit": null,
            "grid_auto_columns": null,
            "margin": null,
            "display": null,
            "left": null
          }
        },
        "9a5c97f494bd4ff295b87715dff92973": {
          "model_module": "@jupyter-widgets/controls",
          "model_name": "DescriptionStyleModel",
          "state": {
            "_view_name": "StyleView",
            "_model_name": "DescriptionStyleModel",
            "description_width": "",
            "_view_module": "@jupyter-widgets/base",
            "_model_module_version": "1.5.0",
            "_view_count": null,
            "_view_module_version": "1.2.0",
            "_model_module": "@jupyter-widgets/controls"
          }
        },
        "eb4272ab41fd46209c648ee5d8555678": {
          "model_module": "@jupyter-widgets/base",
          "model_name": "LayoutModel",
          "state": {
            "_view_name": "LayoutView",
            "grid_template_rows": null,
            "right": null,
            "justify_content": null,
            "_view_module": "@jupyter-widgets/base",
            "overflow": null,
            "_model_module_version": "1.2.0",
            "_view_count": null,
            "flex_flow": null,
            "width": null,
            "min_width": null,
            "border": null,
            "align_items": null,
            "bottom": null,
            "_model_module": "@jupyter-widgets/base",
            "top": null,
            "grid_column": null,
            "overflow_y": null,
            "overflow_x": null,
            "grid_auto_flow": null,
            "grid_area": null,
            "grid_template_columns": null,
            "flex": null,
            "_model_name": "LayoutModel",
            "justify_items": null,
            "grid_row": null,
            "max_height": null,
            "align_content": null,
            "visibility": null,
            "align_self": null,
            "height": null,
            "min_height": null,
            "padding": null,
            "grid_auto_rows": null,
            "grid_gap": null,
            "max_width": null,
            "order": null,
            "_view_module_version": "1.2.0",
            "grid_template_areas": null,
            "object_position": null,
            "object_fit": null,
            "grid_auto_columns": null,
            "margin": null,
            "display": null,
            "left": null
          }
        }
      }
    },
    "accelerator": "GPU"
  },
  "cells": [
    {
      "cell_type": "markdown",
      "metadata": {
        "id": "view-in-github",
        "colab_type": "text"
      },
      "source": [
        "<a href=\"https://colab.research.google.com/github/JakobSchauser/BachelorProject-IceCube-ML/blob/main/Fifth_Working_Model.ipynb\" target=\"_parent\"><img src=\"https://colab.research.google.com/assets/colab-badge.svg\" alt=\"Open In Colab\"/></a>"
      ]
    },
    {
      "cell_type": "code",
      "metadata": {
        "id": "mKMo6IdMfBDD",
        "colab": {
          "base_uri": "https://localhost:8080/"
        },
        "outputId": "91b14027-1ec5-4a1b-c6f7-364764018a7d"
      },
      "source": [
        "!pip install spektral -q\r\n",
        "\r\n",
        "import numpy as np\r\n",
        "import tensorflow as tf\r\n",
        "import keras\r\n",
        "import pickle\r\n",
        "import spektral\r\n",
        "\r\n",
        "from tensorflow.keras.layers import Dense, Input\r\n",
        "from tensorflow.keras.losses import MeanSquaredError, MeanAbsoluteError\r\n",
        "from tensorflow.keras.metrics import MeanAbsoluteError as MeanAbsoluteError_acc\r\n",
        "from tensorflow.keras.models import Model\r\n",
        "from tensorflow.keras.optimizers import Adam\r\n",
        "from tensorflow.sparse import SparseTensor\r\n",
        "\r\n",
        "\r\n",
        "from time import time\r\n",
        "\r\n",
        "\r\n",
        "from spektral.data import DisjointLoader, Dataset\r\n",
        "from spektral.datasets import QM9\r\n",
        "from spektral.layers import AGNNConv, GlobalSumPool, GlobalMaxPool, GlobalAvgPool, GCNConv, ECCConv\r\n",
        "from spektral import transforms\r\n",
        "\r\n",
        "from tqdm.notebook import tqdm\r\n",
        "\r\n",
        "import matplotlib.pyplot as plt\r\n",
        "import seaborn as sns\r\n",
        "sns.set()\r\n",
        "%matplotlib inline\r\n",
        "\r\n",
        "PI = np.pi\r\n",
        "\r\n",
        "\r\n",
        "# Lifehack\r\n",
        "true = True\r\n",
        "false = False"
      ],
      "execution_count": null,
      "outputs": [
        {
          "output_type": "stream",
          "text": [
            "\u001b[?25l\r\u001b[K     |██▉                             | 10kB 19.9MB/s eta 0:00:01\r\u001b[K     |█████▋                          | 20kB 10.9MB/s eta 0:00:01\r\u001b[K     |████████▌                       | 30kB 8.1MB/s eta 0:00:01\r\u001b[K     |███████████▎                    | 40kB 7.1MB/s eta 0:00:01\r\u001b[K     |██████████████                  | 51kB 4.2MB/s eta 0:00:01\r\u001b[K     |█████████████████               | 61kB 4.8MB/s eta 0:00:01\r\u001b[K     |███████████████████▊            | 71kB 4.9MB/s eta 0:00:01\r\u001b[K     |██████████████████████▋         | 81kB 5.2MB/s eta 0:00:01\r\u001b[K     |█████████████████████████▍      | 92kB 5.5MB/s eta 0:00:01\r\u001b[K     |████████████████████████████▏   | 102kB 5.6MB/s eta 0:00:01\r\u001b[K     |███████████████████████████████ | 112kB 5.6MB/s eta 0:00:01\r\u001b[K     |████████████████████████████████| 122kB 5.6MB/s \n",
            "\u001b[?25h"
          ],
          "name": "stdout"
        }
      ]
    },
    {
      "cell_type": "code",
      "metadata": {
        "id": "khgQYgEWWvw5"
      },
      "source": [
        ""
      ],
      "execution_count": null,
      "outputs": []
    },
    {
      "cell_type": "code",
      "metadata": {
        "colab": {
          "base_uri": "https://localhost:8080/",
          "height": 221
        },
        "id": "jRsrlI0nNqIq",
        "outputId": "63156cd8-b233-4c2e-8337-88bcb18de9cf"
      },
      "source": [
        "!pip install wandb -q\r\n",
        "\r\n",
        "import wandb\r\n",
        "from wandb.keras import WandbCallback\r\n",
        "\r\n",
        "wandb.login()"
      ],
      "execution_count": null,
      "outputs": [
        {
          "output_type": "stream",
          "text": [
            "\u001b[K     |████████████████████████████████| 2.0MB 5.5MB/s \n",
            "\u001b[K     |████████████████████████████████| 102kB 9.0MB/s \n",
            "\u001b[K     |████████████████████████████████| 163kB 23.7MB/s \n",
            "\u001b[K     |████████████████████████████████| 133kB 16.2MB/s \n",
            "\u001b[K     |████████████████████████████████| 71kB 8.1MB/s \n",
            "\u001b[?25h  Building wheel for subprocess32 (setup.py) ... \u001b[?25l\u001b[?25hdone\n",
            "  Building wheel for pathtools (setup.py) ... \u001b[?25l\u001b[?25hdone\n"
          ],
          "name": "stdout"
        },
        {
          "output_type": "display_data",
          "data": {
            "application/javascript": [
              "\n",
              "        window._wandbApiKey = new Promise((resolve, reject) => {\n",
              "            function loadScript(url) {\n",
              "            return new Promise(function(resolve, reject) {\n",
              "                let newScript = document.createElement(\"script\");\n",
              "                newScript.onerror = reject;\n",
              "                newScript.onload = resolve;\n",
              "                document.body.appendChild(newScript);\n",
              "                newScript.src = url;\n",
              "            });\n",
              "            }\n",
              "            loadScript(\"https://cdn.jsdelivr.net/npm/postmate/build/postmate.min.js\").then(() => {\n",
              "            const iframe = document.createElement('iframe')\n",
              "            iframe.style.cssText = \"width:0;height:0;border:none\"\n",
              "            document.body.appendChild(iframe)\n",
              "            const handshake = new Postmate({\n",
              "                container: iframe,\n",
              "                url: 'https://wandb.ai/authorize'\n",
              "            });\n",
              "            const timeout = setTimeout(() => reject(\"Couldn't auto authenticate\"), 5000)\n",
              "            handshake.then(function(child) {\n",
              "                child.on('authorize', data => {\n",
              "                    clearTimeout(timeout)\n",
              "                    resolve(data)\n",
              "                });\n",
              "            });\n",
              "            })\n",
              "        });\n",
              "    "
            ],
            "text/plain": [
              "<IPython.core.display.Javascript object>"
            ]
          },
          "metadata": {
            "tags": []
          }
        },
        {
          "output_type": "stream",
          "text": [
            "\u001b[34m\u001b[1mwandb\u001b[0m: You can find your API key in your browser here: https://wandb.ai/authorize\n"
          ],
          "name": "stderr"
        },
        {
          "output_type": "stream",
          "text": [
            "wandb: Paste an API key from your profile and hit enter: ··········\n"
          ],
          "name": "stdout"
        },
        {
          "output_type": "stream",
          "text": [
            "\u001b[34m\u001b[1mwandb\u001b[0m: Appending key for api.wandb.ai to your netrc file: /root/.netrc\n"
          ],
          "name": "stderr"
        },
        {
          "output_type": "execute_result",
          "data": {
            "text/plain": [
              "True"
            ]
          },
          "metadata": {
            "tags": []
          },
          "execution_count": 72
        }
      ]
    },
    {
      "cell_type": "code",
      "metadata": {
        "colab": {
          "base_uri": "https://localhost:8080/"
        },
        "id": "2gQ8LBcAfIm7",
        "outputId": "490d7853-9f33-4466-ae81-30d51a3226db"
      },
      "source": [
        "################################################################################\r\n",
        "# LOAD DATA\r\n",
        "################################################################################\r\n",
        "# Find the reverse transformer\r\n",
        "pcl = \"/content/drive/MyDrive/Bachelor Project - IceCube ML/transformers.pkl\"\r\n",
        "\r\n",
        "with open(pcl,'rb') as tra:\r\n",
        "    transformer = pickle.load(tra)\r\n",
        "\r\n",
        "transformer = transformer[\"truth\"]\r\n",
        "\r\n",
        "\r\n",
        "class dat(Dataset):\r\n",
        "  def __init__(self,n = 1,**kwargs):\r\n",
        "    self.n = n\r\n",
        "    super().__init__(**kwargs)\r\n",
        "  def read(self):\r\n",
        "    # path = \"/content/drive/MyDrive/Bachelor Project - IceCube ML/generatedDataAnglesEnergy100000 0.npz\" # Uncleaned\r\n",
        "    path = \"/content/drive/MyDrive/Bachelor Project - IceCube ML/generatedDataAnglesEnergyClean200000events 0.npz\" # Cleaned\r\n",
        "    # path = \"/content/drive/MyDrive/Bachelor Project - IceCube ML/data.dat\" # From Severin\r\n",
        "    dataset = np.load(path,allow_pickle = True)[\"arr_0\"]\r\n",
        "    graphs = []\r\n",
        "    for g in dataset:\r\n",
        "      e,a,z = g[\"y\"]\r\n",
        "      g[\"y\"] = [transformer['energy_log10'].inverse_transform([[e]])[0][0],transformer['azimuth'].inverse_transform([[a]])[0][0],transformer['zenith'].inverse_transform([[z]])[0][0]]\r\n",
        "      graphs.append(g)\r\n",
        "    return np.array(dataset)\r\n",
        "\r\n",
        "dataset = dat()\r\n",
        "\r\n",
        "print(\"Dataset is\", dataset, \"consisting of\", dataset[0])\r\n",
        "\r\n",
        "\r\n",
        "\r\n",
        "\r\n",
        "#### Put on GPU when possible\r\n",
        "physical_devices = tf.config.list_physical_devices('GPU')\r\n",
        "if len(physical_devices) > 0:\r\n",
        "    print(\"Running on GPU\")\r\n",
        "    tf.config.experimental.set_memory_growth(physical_devices[0], True)\r\n",
        "else:\r\n",
        "    print(\"Running on CPU\")"
      ],
      "execution_count": null,
      "outputs": [
        {
          "output_type": "stream",
          "text": [
            "/usr/local/lib/python3.7/dist-packages/sklearn/base.py:318: UserWarning: Trying to unpickle estimator RobustScaler from version 0.19.1 when using version 0.22.2.post1. This might lead to breaking code or invalid results. Use at your own risk.\n",
            "  UserWarning)\n"
          ],
          "name": "stderr"
        },
        {
          "output_type": "stream",
          "text": [
            "Dataset is dat(n_graphs=200000) consisting of Graph(n_nodes=13, n_node_features=5, n_edge_features=None, n_labels=3)\n",
            "Running on GPU\n"
          ],
          "name": "stdout"
        }
      ]
    },
    {
      "cell_type": "code",
      "metadata": {
        "colab": {
          "base_uri": "https://localhost:8080/",
          "height": 322
        },
        "id": "LaxXZ3b4TCkP",
        "outputId": "8747e509-a403-4632-af9a-5b7eacf938b3"
      },
      "source": [
        "fig, axs = plt.subplots(1,3,figsize=(14,5))\r\n",
        "\r\n",
        "N = 100000\r\n",
        "\r\n",
        "trs = np.empty((N,3))\r\n",
        "for k in range(N):\r\n",
        "  trs[k] = dataset[k][\"y\"]\r\n",
        "\r\n",
        "for k in range(3):\r\n",
        "  axs[k].hist(trs[:,k],histtype=\"step\")"
      ],
      "execution_count": null,
      "outputs": [
        {
          "output_type": "display_data",
          "data": {
            "image/png": "[encoded data removed]",
            "text/plain": [
              "<Figure size 1008x360 with 3 Axes>"
            ]
          },
          "metadata": {
            "tags": [],
            "needs_background": "light"
          }
        }
      ]
    },
    {
      "cell_type": "code",
      "metadata": {
        "id": "4FEPaDtqysJ1"
      },
      "source": [
        "# from spektral.transforms import GCNFilter\r\n",
        "\r\n",
        "# t = time.time()\r\n",
        "# dataset.apply(GCNFilter())\r\n",
        "# print(f\"Goddamn, this takes {t-time.time():.3} seconds!\")"
      ],
      "execution_count": null,
      "outputs": []
    },
    {
      "cell_type": "code",
      "metadata": {
        "id": "QtXbVD-LfZr6"
      },
      "source": [
        "def custom_loss(target,predictions):\r\n",
        "    predictions = tf.cast(predictions,\"float64\")\r\n",
        "\r\n",
        "    energy = tf.abs(target[:,0] - predictions[:,0])\r\n",
        "\r\n",
        "    azi  = [tf.cos(target[:,1]) - predictions[:,1] , \r\n",
        "            tf.sin(target[:,1]) - predictions[:,2]]\r\n",
        "\r\n",
        "    zeni = [tf.cos(target[:,2]) - predictions[:,3] , \r\n",
        "            tf.sin(target[:,2]) - predictions[:,4]]\r\n",
        "\r\n",
        "\r\n",
        "    loss = 0\r\n",
        "    loss += tf.reduce_mean(tf.square(energy))\r\n",
        "    loss += tf.reduce_mean(tf.square(azi[0]))\r\n",
        "    loss += tf.reduce_mean(tf.square(azi[1]))\r\n",
        "    loss += tf.reduce_mean(tf.square(zeni[0]))\r\n",
        "    loss += tf.reduce_mean(tf.square(zeni[1]))\r\n",
        "    loss += 0.1\r\n",
        "    return loss\r\n",
        "\r\n",
        "loss_fn = custom_loss\r\n",
        "\r\n",
        "\r\n",
        "def custom_acc(target,predictions):\r\n",
        "    predictions = tf.cast(predictions,\"float64\")\r\n",
        "\r\n",
        "    \r\n",
        "    energy    = tf.abs(target[:,0] - predictions[:,0])\r\n",
        "\r\n",
        "    aziguess = tf.atan2(predictions[:,2],predictions[:,1])\r\n",
        "    azi = tf.minimum( tf.abs(target[:,1] - aziguess) , tf.abs(tf.abs(target[:,1] - aziguess) - 2*PI))\r\n",
        "\r\n",
        "    zeniguess = tf.atan2(predictions[:,4],predictions[:,3])\r\n",
        "    zeni = tf.minimum( tf.abs(target[:,2] - zeniguess) , tf.abs(tf.abs(target[:,2] - zeniguess) - 2*PI))\r\n",
        "    \r\n",
        "\r\n",
        "    return (energy,azi,zeni)\r\n",
        "\r\n",
        "def scale_inputs(inputs):\r\n",
        "    inputs[0][:,:3] = inputs[0][:,:3]/100 # x y z\r\n",
        "    inputs[0][:,3] = inputs[0][:,3]/10000 # time\r\n",
        "    inputs[0][:,4] = inputs[0][:,4]/1 # charge\r\n",
        "    return inputs\r\n",
        "\r\n",
        "\r\n"
      ],
      "execution_count": null,
      "outputs": []
    },
    {
      "cell_type": "code",
      "metadata": {
        "id": "gnzJXaA9a1HR"
      },
      "source": [
        "################################################################################\r\n",
        "# PARAMETERS\r\n",
        "################################################################################\r\n",
        "#@markdown ### Define the model and training parameters and sync with WandB\r\n",
        "batch_size =  32#@param {type: \"number\"}\r\n",
        "\r\n",
        "# one-variable network size changer\r\n",
        "network_size =  64#@param {type: \"number\"}\r\n",
        "\r\n",
        "learning_rate = 2e-4  #@param {type: \"number\"}\r\n",
        "\r\n",
        "training_epochs = 35 #@param {type: \"slider\", min: 10, max: 200}\r\n",
        "\r\n",
        "\r\n",
        "loss_function = \"rasmus_loss\"  #@param ['custom_loss',\"rasmus_loss\"]\r\n",
        "\r\n",
        "config = {\r\n",
        "        \"learning_rate\": learning_rate,\r\n",
        "        \"epochs\": training_epochs,\r\n",
        "        \"batch_size\": batch_size,\r\n",
        "        \"loss_function\": loss_function,\r\n",
        "        \"architecture\": \"Broadening CNN - short but wide\",\r\n",
        "        \"network_size\": network_size,\r\n",
        "        \"dataset\": \"MuonGun\"\r\n",
        "      }\r\n",
        "\r\n",
        "epochs = config[\"epochs\"]  # Number of training epochs\r\n",
        "test_epochs = 2 # Number of testing epochs\r\n",
        "\r\n"
      ],
      "execution_count": null,
      "outputs": []
    },
    {
      "cell_type": "code",
      "metadata": {
        "id": "Y5n3nAsOi5Dt"
      },
      "source": [
        "# Parameters\r\n",
        "F = dataset.n_node_features  # Dimension of node features\r\n",
        "S = dataset.n_edge_features  # Dimension of edge features\r\n",
        "# n_out = dataset.n_labels  # Dimension of the target\r\n",
        "n_out = 5\r\n",
        "\r\n",
        "# Train/test split\r\n",
        "idxs = np.random.permutation(len(dataset))\r\n",
        "split = int(0.9 * len(dataset))\r\n",
        "idx_tr, idx_te = np.split(idxs, [split])\r\n",
        "dataset_tr, dataset_te = dataset[idx_tr], dataset[idx_te]\r\n",
        "\r\n",
        "train_loader = DisjointLoader(dataset_tr, batch_size=batch_size, epochs=epochs, shuffle=True)\r\n",
        "test_loader = DisjointLoader(dataset_te, batch_size=batch_size, epochs=test_epochs, shuffle=True)\r\n",
        "\r\n",
        "\r\n",
        "\r\n",
        "\r\n",
        "\r\n",
        "class model_class(Model):\r\n",
        "  def __init__(self):\r\n",
        "    super().__init__()\r\n",
        "    \r\n",
        "    # self.preprocess = transforms.layer_preprocess.LayerPreprocess(GCNConv)\r\n",
        "\r\n",
        "    # self.inp = ECCConv(network_size//4)\r\n",
        "    self.conv = GCNConv(network_size//4,activation=\"gelu\")    \r\n",
        "    self.conv1 = GCNConv(network_size//2,activation=\"gelu\")\r\n",
        "    self.conv2 = GCNConv(network_size,activation=\"gelu\")\r\n",
        "\r\n",
        "    self.maxpool = GlobalMaxPool()\r\n",
        "    self.avgpool = GlobalAvgPool()\r\n",
        "    self.sumpool = GlobalSumPool()\r\n",
        "\r\n",
        "    self.largedense= Dense(network_size)\r\n",
        "    self.mediumdense= Dense(network_size//2)\r\n",
        "    self.smalldense = Dense(network_size//4)\r\n",
        "\r\n",
        "    self.out = Dense(n_out)\r\n",
        "    # self.oneout = Dense(1)\r\n",
        "\r\n",
        "  def call(self, inputs, training = False):\r\n",
        "\r\n",
        "    x, a, i = inputs\r\n",
        "    # a, e    = self.generate_edge_features(x, a) # NEXT STEP is implementing this for myself\r\n",
        "    # x = self.inp([x,a,e])\r\n",
        "    # a = self.preprocess(a)\r\n",
        "    x = self.conv([x,a])\r\n",
        "    x = self.conv1([x,a])\r\n",
        "    x = self.conv2([x,a])\r\n",
        "\r\n",
        "    \r\n",
        "    xm = self.maxpool([x,i])\r\n",
        "    xa = self.avgpool([x,i])\r\n",
        "    xs = self.sumpool([x,i])\r\n",
        "\r\n",
        "    x = tf.concat([xm, xa, xs], axis = 1) \r\n",
        "\r\n",
        "\r\n",
        "    # x = self.largedense(x)\r\n",
        "    x = self.largedense(x)\r\n",
        "    x = self.mediumdense(x)\r\n",
        "    \r\n",
        "    x = self.smalldense(x)\r\n",
        "    out = self.out(x)\r\n",
        "\r\n",
        "    # xe = self.smalldense(x)\r\n",
        "    # xa = self.smalldense(x)\r\n",
        "    # xz = self.smalldense(x)\r\n",
        "\r\n",
        "    # oute = self.oneout(xe)\r\n",
        "    # outa1 = self.oneout(xa)\r\n",
        "    # outa2 = self.oneout(xa)\r\n",
        "\r\n",
        "    # outz1 = self.oneout(xz)\r\n",
        "    # outz2 = self.oneout(xz)\r\n",
        "\r\n",
        "\r\n",
        "    return out\r\n",
        "    # return tf.concat([oute, outa1,outa2, outz1,outz2], axis = 1) \r\n",
        "\r\n",
        "\r\n",
        "  #Shamelessly stolen from Johann\r\n",
        "  def generate_edge_features(self, x, a):\r\n",
        "      send    = a.indices[:, 0]\r\n",
        "      receive = a.indices[:, 1]\r\n",
        "\r\n",
        "      diff_x  = tf.subtract(tf.gather(x, receive), tf.gather(x, send))\r\n",
        "\r\n",
        "      dists   = tf.sqrt(\r\n",
        "        tf.reduce_sum(\r\n",
        "          tf.square(\r\n",
        "            diff_x[:, :3]\r\n",
        "          ), axis = 1\r\n",
        "        ))\r\n",
        "\r\n",
        "      vects = tf.math.divide_no_nan(diff_x[:, :3], tf.expand_dims(dists, axis = -1))\r\n",
        "\r\n",
        "      e = tf.concat([diff_x[:, 3:], tf.expand_dims(dists, -1), vects], axis = 1)\r\n",
        "\r\n",
        "      return a, e\r\n",
        "\r\n",
        "# Build model\r\n",
        "model = model_class()\r\n",
        "\r\n",
        "opt = Adam(lr=learning_rate)\r\n",
        "loss_fn = custom_loss\r\n",
        "# loss_fn = MeanAbsoluteError()\r\n",
        "acc_fn = MeanAbsoluteError()\r\n",
        "\r\n",
        "\r\n",
        "model.compile()\r\n",
        "# model.build()\r\n",
        "# fit(train_loader)"
      ],
      "execution_count": null,
      "outputs": []
    },
    {
      "cell_type": "code",
      "metadata": {
        "id": "C_Y52q67_kNR"
      },
      "source": [
        "################################################################################\r\n",
        "# DEFINE TF-FUNCTIONS\r\n",
        "################################################################################\r\n",
        "@tf.function(input_signature=train_loader.tf_signature(), experimental_relax_shapes=True)\r\n",
        "def train_step(inputs, target):\r\n",
        "    with tf.GradientTape() as tape:\r\n",
        "        predictions = model(inputs, training=True)\r\n",
        "        loss = loss_fn(target, predictions)\r\n",
        "        loss += sum(model.losses)\r\n",
        "    gradients = tape.gradient(loss, model.trainable_variables)\r\n",
        "    opt.apply_gradients(zip(gradients, model.trainable_variables))\r\n",
        "    acc = acc_fn(target,predictions)\r\n",
        "\r\n",
        "    return loss, acc\r\n",
        "\r\n",
        "def validate(inputs,target):\r\n",
        "    predictions = model(inputs, training=False)\r\n",
        "    loss = loss_fn(target, predictions)\r\n",
        "    loss += sum(model.losses)\r\n",
        "    acc = acc_fn(target,predictions)\r\n",
        "\r\n",
        "    return loss, acc\r\n",
        "\r\n",
        "\r\n",
        "\r\n",
        "\r\n",
        "loss_fn = custom_loss\r\n",
        "acc_fn = custom_acc\r\n",
        "def fit(train_loader,logwandb = False):\r\n",
        "  if logwandb:\r\n",
        "    run = wandb.init(project='IceCube GNN Bachelor',config = config)\r\n",
        "\r\n",
        "  current_batch = 0\r\n",
        "  model_loss = []\r\n",
        "  model_acc = []\r\n",
        "  vali_loss = []\r\n",
        "  epoch = 0\r\n",
        "\r\n",
        "  epoch_steps = train_loader.steps_per_epoch\r\n",
        "\r\n",
        "  t = tqdm(total  = train_loader.steps_per_epoch,leave = True, ncols='70%')\r\n",
        "  t.set_description(f'Currently on epoch {0} of {epochs} ')\r\n",
        "\r\n",
        "  pb = []\r\n",
        "  tar = []\r\n",
        "  step = 0\r\n",
        "\r\n",
        "  last_loss = 0\r\n",
        "  \r\n",
        "  for batch in train_loader:\r\n",
        "      step += 1\r\n",
        "      inputs, target = batch\r\n",
        "      inputs = scale_inputs(inputs)\r\n",
        "\r\n",
        "      loss, acc = train_step(inputs,target)\r\n",
        "\r\n",
        "      model_loss.append(loss)\r\n",
        "      model_acc.append(acc)\r\n",
        "      current_batch += 1\r\n",
        "      t.update(1)\r\n",
        "\r\n",
        "      if step%10 == 0:\r\n",
        "        t.set_description(f'Current loss {np.mean(model_loss):.3} | Working on epoch {epoch} of {epochs}:')\r\n",
        "\r\n",
        "      if current_batch == epoch_steps:\r\n",
        "          test_loader = DisjointLoader(dataset_te, batch_size=batch_size, epochs=test_epochs, shuffle=True)\r\n",
        "          t.set_description(f'Currently validating results for epoch {epoch} of {epochs}:')\r\n",
        "\r\n",
        "          for vali_batch in test_loader:\r\n",
        "            vali_inputs, vali_target = vali_batch\r\n",
        "            valie_inputs = scale_inputs(vali_inputs)\r\n",
        "            valoss, vaacc = validate(vali_inputs,vali_target)\r\n",
        "            vali_loss.append(valoss)\r\n",
        "          va = np.mean(vali_loss)\r\n",
        "\r\n",
        "          m_loss = np.mean(model_loss)\r\n",
        "          change = (m_loss-last_loss)/max(0.000001,last_loss)\r\n",
        "          last_loss = m_loss\r\n",
        "\r\n",
        "          s = \"Train loss: {} - Loss change {:+.3f}% | Validation loss {} | Epoch: {}\".format(m_loss, change*100,va, epoch)\r\n",
        "          t.write(s)\r\n",
        "\r\n",
        "          ma = np.array(model_acc)\r\n",
        "          s = \"Accuracy is: Energy {} | Azimuth {} | Zenith {}\\n\".format(np.mean(ma[:,0]),np.mean(ma[:,1]),np.mean(ma[:,2]))\r\n",
        "          t.write(s)\r\n",
        "          # print(\"Two current guesses are\\n\",np.array(pb[0]),np.array(pb[1]),\"for\\n\",tar[0],tar[1])\r\n",
        "\r\n",
        "          # if epoch%5 == 0 and epoch != 0:\r\n",
        "            # print(\"Two current guesses are\\n\",np.array(pb[0]),np.array(pb[1]),\"for\\n\",tar[0],tar[1])\r\n",
        "            # pass\r\n",
        "          # else:\r\n",
        "            # pb = model(inputs, training=False)\r\n",
        "            # tar = target\r\n",
        "\r\n",
        "\r\n",
        "\r\n",
        "          if logwandb:\r\n",
        "            wandb.log({\r\n",
        "                      \"train_loss\": m_loss,\r\n",
        "                      \"energy_accuracy\": np.mean(ma[:,0]),\r\n",
        "                      \"azimuth_accuracy\": np.mean(ma[:,1]),\r\n",
        "                      \"zenith_accuracy\": np.mean(ma[:,2]),\r\n",
        "                      \"val_loss\": va,\r\n",
        "                      })\r\n",
        "\r\n",
        "\r\n",
        "\r\n",
        "\r\n",
        "          model_loss = []\r\n",
        "          model_acc = []\r\n",
        "          vali_loss = []\r\n",
        "          current_batch = 0\r\n",
        "          step = 0\r\n",
        "\r\n",
        "          t.n = 0\r\n",
        "          t.last_print_n = 0\r\n",
        "          t.refresh()\r\n",
        "          epoch += 1\r\n",
        "\r\n"
      ],
      "execution_count": null,
      "outputs": []
    },
    {
      "cell_type": "code",
      "metadata": {
        "colab": {
          "base_uri": "https://localhost:8080/",
          "height": 1000,
          "referenced_widgets": [
            "f3d55cf87cb244818a701eb3689a605e",
            "5466190767a04252890cacd332b9ce7e",
            "fa2d9376f55f4997910ff80342d0ff36",
            "220a7be7f9ba40aa9006785427717064",
            "285123d2a3014eb694267ad5e9e8b45f",
            "21ae9e8cb8494f45ae851dcbddc336a2",
            "9a5c97f494bd4ff295b87715dff92973",
            "eb4272ab41fd46209c648ee5d8555678",
            "5ca1054941c147b08b4f759619e7a79d"
          ]
        },
        "id": "7E3bDUpo_tue",
        "outputId": "307be8e8-796e-4dde-8d9c-1eebe3d30d68"
      },
      "source": [
        "logwandb = True\r\n",
        "\r\n",
        "fit(train_loader,logwandb = logwandb)\r\n",
        "\r\n",
        "print(\"\\n\\nTraining of the following model is now complete:\")\r\n",
        "model.summary()\r\n",
        "save_path = \"/content/drive/MyDrive/Bachelor Project - IceCube ML/Saved Models\"\r\n",
        "\r\n",
        "\r\n",
        "if logwandb:\r\n",
        "  pth = save_path + f\"/{wandb.run.name}-{int(epochs)}epochs\"\r\n",
        "  wandb.run.finish()  \r\n",
        "else:\r\n",
        "  pth = save_path + \"ThomasVersionGoodDataProductionNoEdge\"\r\n",
        "\r\n",
        "model.save(pth)"
      ],
      "execution_count": 107,
      "outputs": [
        {
          "output_type": "display_data",
          "data": {
            "text/html": [
              "\n",
              "                Tracking run with wandb version 0.10.20<br/>\n",
              "                Syncing run <strong style=\"color:#cdcd00\">fancy-silence-64</strong> to <a href=\"https://wandb.ai\" target=\"_blank\">Weights & Biases</a> <a href=\"https://docs.wandb.com/integrations/jupyter.html\" target=\"_blank\">(Documentation)</a>.<br/>\n",
              "                Project page: <a href=\"https://wandb.ai/jakobschauser/IceCube%20GNN%20Bachelor\" target=\"_blank\">https://wandb.ai/jakobschauser/IceCube%20GNN%20Bachelor</a><br/>\n",
              "                Run page: <a href=\"https://wandb.ai/jakobschauser/IceCube%20GNN%20Bachelor/runs/3u5x50np\" target=\"_blank\">https://wandb.ai/jakobschauser/IceCube%20GNN%20Bachelor/runs/3u5x50np</a><br/>\n",
              "                Run data is saved locally in <code>/content/wandb/run-20210224_132259-3u5x50np</code><br/><br/>\n",
              "            "
            ],
            "text/plain": [
              "<IPython.core.display.HTML object>"
            ]
          },
          "metadata": {
            "tags": []
          }
        },
        {
          "output_type": "display_data",
          "data": {
            "application/vnd.jupyter.widget-view+json": {
              "model_id": "f3d55cf87cb244818a701eb3689a605e",
              "version_major": 2,
              "version_minor": 0
            },
            "text/plain": [
              "HBox(children=(FloatProgress(value=0.0, layout=Layout(flex='2'), max=5625.0), HTML(value='')), layout=Layout(d…"
            ]
          },
          "metadata": {
            "tags": []
          }
        },
        {
          "output_type": "stream",
          "text": [
            "Train loss: 781.5302248906797 - Loss change +78153022489.068% | Validation loss 15.636469726459053 | Epoch: 0\n",
            "Accuracy is: Energy 2.7077061457337632 | Azimuth 3.7958518177250538 | Zenith 1.1373273951844924\n",
            "\n",
            "Train loss: 108.55373132384118 - Loss change -86.110% | Validation loss 11.39227155339416 | Epoch: 1\n",
            "Accuracy is: Energy 1.1873687643540964 | Azimuth 3.663930936620146 | Zenith 0.835112083592997\n",
            "\n",
            "Train loss: 14.503662993726476 - Loss change -86.639% | Validation loss 1.7485000346506487 | Epoch: 2\n",
            "Accuracy is: Energy 0.5005592845257132 | Azimuth 3.5335603042789345 | Zenith 0.47328564854385996\n",
            "\n",
            "Train loss: 2.898406950329387 - Loss change -80.016% | Validation loss 1.3525020165709893 | Epoch: 3\n",
            "Accuracy is: Energy 0.3076193757961282 | Azimuth 3.487967276306762 | Zenith 0.32917258964687857\n",
            "\n",
            "Train loss: 1.759099858604091 - Loss change -39.308% | Validation loss 1.2705761069240873 | Epoch: 4\n",
            "Accuracy is: Energy 0.21999828759054266 | Azimuth 3.414933473035784 | Zenith 0.28087323427260286\n",
            "\n",
            "Train loss: 1.3150723357393417 - Loss change -25.242% | Validation loss 1.2492479705865953 | Epoch: 5\n",
            "Accuracy is: Energy 0.20142037744690797 | Azimuth 3.5168024109383875 | Zenith 0.26055604418668\n",
            "\n",
            "Train loss: 1.2422698781782437 - Loss change -5.536% | Validation loss 1.2556367558072423 | Epoch: 6\n",
            "Accuracy is: Energy 0.19209923122003877 | Azimuth 3.511156448342104 | Zenith 0.2533204015417849\n",
            "\n",
            "Train loss: 1.2027681331177513 - Loss change -3.180% | Validation loss 1.1625043015799659 | Epoch: 7\n",
            "Accuracy is: Energy 0.18854360472588447 | Azimuth 3.5215769235270558 | Zenith 0.2474109652965018\n",
            "\n",
            "Train loss: 1.1551674291035245 - Loss change -3.958% | Validation loss 1.1081056036244146 | Epoch: 8\n",
            "Accuracy is: Energy 0.18494961709718635 | Azimuth 3.470605428711706 | Zenith 0.2437234188474666\n",
            "\n",
            "Train loss: 1.115208902086184 - Loss change -3.459% | Validation loss 1.0695771972680947 | Epoch: 9\n",
            "Accuracy is: Energy 0.18354904606050731 | Azimuth 3.4596947502831568 | Zenith 0.23923131112427864\n",
            "\n",
            "Train loss: 1.0816403083789847 - Loss change -3.010% | Validation loss 1.0436800701208726 | Epoch: 10\n",
            "Accuracy is: Energy 0.1822275018217044 | Azimuth 3.469129367693537 | Zenith 0.23602866531264635\n",
            "\n",
            "Train loss: 1.0582635617936713 - Loss change -2.161% | Validation loss 1.184029139886774 | Epoch: 11\n",
            "Accuracy is: Energy 0.18164668164063527 | Azimuth 3.445365997705808 | Zenith 0.23306647560245616\n",
            "\n",
            "Train loss: 1.0367650061332987 - Loss change -2.031% | Validation loss 0.996544203272727 | Epoch: 12\n",
            "Accuracy is: Energy 0.180933002928438 | Azimuth 3.4253063043244696 | Zenith 0.2298995881907584\n",
            "\n",
            "Train loss: 1.0196909391066156 - Loss change -1.647% | Validation loss 0.9815771312324932 | Epoch: 13\n",
            "Accuracy is: Energy 0.18157557078532743 | Azimuth 3.418775421658904 | Zenith 0.22847744796381395\n",
            "\n",
            "Train loss: 0.9976999679844244 - Loss change -2.157% | Validation loss 0.9987283369738692 | Epoch: 14\n",
            "Accuracy is: Energy 0.18074926712823822 | Azimuth 3.4227320280619136 | Zenith 0.22693253373516883\n",
            "\n",
            "Train loss: 0.9760743280130236 - Loss change -2.168% | Validation loss 0.9895807071385582 | Epoch: 15\n",
            "Accuracy is: Energy 0.1802803124043443 | Azimuth 3.4239688397473635 | Zenith 0.22570783180936935\n",
            "\n",
            "Train loss: 0.9740564071291451 - Loss change -0.207% | Validation loss 1.0360959041459221 | Epoch: 16\n",
            "Accuracy is: Energy 0.17965761070895034 | Azimuth 3.417363950223252 | Zenith 0.22452924379557795\n",
            "\n",
            "Train loss: 0.9572841307141375 - Loss change -1.722% | Validation loss 0.9349971386221436 | Epoch: 17\n",
            "Accuracy is: Energy 0.1786341533502586 | Azimuth 3.419472280492888 | Zenith 0.22261115079468347\n",
            "\n",
            "Train loss: 0.9439221849573526 - Loss change -1.396% | Validation loss 0.9298390183955473 | Epoch: 18\n",
            "Accuracy is: Energy 0.17821705637783974 | Azimuth 3.4231772319177463 | Zenith 0.22143383944854794\n",
            "\n",
            "Train loss: 0.9401287620574508 - Loss change -0.402% | Validation loss 0.9193193376244977 | Epoch: 19\n",
            "Accuracy is: Energy 0.17826088345593052 | Azimuth 3.42496723145296 | Zenith 0.21924749564276563\n",
            "\n",
            "Train loss: 0.9334992831604206 - Loss change -0.705% | Validation loss 0.9146724695824576 | Epoch: 20\n",
            "Accuracy is: Energy 0.1777015128817502 | Azimuth 3.4302009356095895 | Zenith 0.21735941749826806\n",
            "\n",
            "Train loss: 0.9243157108151474 - Loss change -0.984% | Validation loss 0.9416586918237193 | Epoch: 21\n",
            "Accuracy is: Energy 0.17721736064611052 | Azimuth 3.4301847745288714 | Zenith 0.21553307225633023\n",
            "\n",
            "Train loss: 0.9169119348198556 - Loss change -0.801% | Validation loss 0.9167512538771616 | Epoch: 22\n",
            "Accuracy is: Energy 0.17750415882927165 | Azimuth 3.4304973524486444 | Zenith 0.21362770846318507\n",
            "\n",
            "Train loss: 0.9121721802179991 - Loss change -0.517% | Validation loss 0.897611966989288 | Epoch: 23\n",
            "Accuracy is: Energy 0.17681453855931056 | Azimuth 3.4308754143806324 | Zenith 0.21195322865934993\n",
            "\n",
            "Train loss: 0.908980390721587 - Loss change -0.350% | Validation loss 0.8903799630593596 | Epoch: 24\n",
            "Accuracy is: Energy 0.17650029414429716 | Azimuth 3.41457500251163 | Zenith 0.21046711244017371\n",
            "\n",
            "Train loss: 0.9035188074374275 - Loss change -0.601% | Validation loss 0.9013036210216755 | Epoch: 25\n",
            "Accuracy is: Energy 0.17622677568887418 | Azimuth 3.4236758608864704 | Zenith 0.20951905811342178\n",
            "\n",
            "Train loss: 0.9008039509238669 - Loss change -0.300% | Validation loss 0.8915590330481831 | Epoch: 26\n",
            "Accuracy is: Energy 0.17592371843127244 | Azimuth 3.4281868741700117 | Zenith 0.20776763548286165\n",
            "\n",
            "Train loss: 0.8954421321274847 - Loss change -0.595% | Validation loss 0.897887632628356 | Epoch: 27\n",
            "Accuracy is: Energy 0.1758385379533849 | Azimuth 3.417885995149174 | Zenith 0.2072704304553726\n",
            "\n",
            "Train loss: 0.8916667449449173 - Loss change -0.422% | Validation loss 0.9003234841868283 | Epoch: 28\n",
            "Accuracy is: Energy 0.17562667824419825 | Azimuth 3.4138003056428623 | Zenith 0.20671878192125231\n",
            "\n",
            "Train loss: 0.8867559434454303 - Loss change -0.551% | Validation loss 0.8858502067190137 | Epoch: 29\n",
            "Accuracy is: Energy 0.17546447563822123 | Azimuth 3.4118965537991888 | Zenith 0.20598015629520688\n",
            "\n",
            "Train loss: 0.8834533136032132 - Loss change -0.372% | Validation loss 0.8870900898373839 | Epoch: 30\n",
            "Accuracy is: Energy 0.17554765138488002 | Azimuth 3.410913775027884 | Zenith 0.20460424452705545\n",
            "\n",
            "Train loss: 0.8776381888223951 - Loss change -0.658% | Validation loss 0.8721753030524418 | Epoch: 31\n",
            "Accuracy is: Energy 0.17490959091882313 | Azimuth 3.4181250053341907 | Zenith 0.20403055356936045\n",
            "\n",
            "Train loss: 0.877077354681468 - Loss change -0.064% | Validation loss 0.8756674156684141 | Epoch: 32\n",
            "Accuracy is: Energy 0.17488971443459386 | Azimuth 3.4133783486646476 | Zenith 0.2036653904827727\n",
            "\n",
            "Train loss: 0.8741934243066126 - Loss change -0.329% | Validation loss 0.8606240851973127 | Epoch: 33\n",
            "Accuracy is: Energy 0.17496484508310697 | Azimuth 3.413836021690151 | Zenith 0.20303842300604677\n",
            "\n",
            "Train loss: 0.8736333482089158 - Loss change -0.064% | Validation loss 0.8805302546089606 | Epoch: 34\n",
            "Accuracy is: Energy 0.17476248311039086 | Azimuth 3.4141751188730924 | Zenith 0.20264108651522858\n",
            "\n",
            "\n",
            "\n",
            "Training of the following model is now complete:\n",
            "Model: \"model_class_22\"\n",
            "_________________________________________________________________\n",
            "Layer (type)                 Output Shape              Param #   \n",
            "=================================================================\n",
            "gcn_conv_63 (GCNConv)        multiple                  80        \n",
            "_________________________________________________________________\n",
            "gcn_conv_64 (GCNConv)        multiple                  512       \n",
            "_________________________________________________________________\n",
            "gcn_conv_65 (GCNConv)        multiple                  2048      \n",
            "_________________________________________________________________\n",
            "global_max_pool_21 (GlobalMa multiple                  0         \n",
            "_________________________________________________________________\n",
            "global_avg_pool_21 (GlobalAv multiple                  0         \n",
            "_________________________________________________________________\n",
            "global_sum_pool_21 (GlobalSu multiple                  0         \n",
            "_________________________________________________________________\n",
            "dense_99 (Dense)             multiple                  12352     \n",
            "_________________________________________________________________\n",
            "dense_100 (Dense)            multiple                  2080      \n",
            "_________________________________________________________________\n",
            "dense_101 (Dense)            multiple                  528       \n",
            "_________________________________________________________________\n",
            "dense_102 (Dense)            multiple                  85        \n",
            "=================================================================\n",
            "Total params: 17,685\n",
            "Trainable params: 17,685\n",
            "Non-trainable params: 0\n",
            "_________________________________________________________________\n"
          ],
          "name": "stdout"
        },
        {
          "output_type": "display_data",
          "data": {
            "text/html": [
              "<br/>Waiting for W&B process to finish, PID 2913<br/>Program ended successfully."
            ],
            "text/plain": [
              "<IPython.core.display.HTML object>"
            ]
          },
          "metadata": {
            "tags": []
          }
        },
        {
          "output_type": "display_data",
          "data": {
            "application/vnd.jupyter.widget-view+json": {
              "model_id": "5ca1054941c147b08b4f759619e7a79d",
              "version_minor": 0,
              "version_major": 2
            },
            "text/plain": [
              "VBox(children=(Label(value=' 0.00MB of 0.00MB uploaded (0.00MB deduped)\\r'), FloatProgress(value=1.0, max=1.0)…"
            ]
          },
          "metadata": {
            "tags": []
          }
        },
        {
          "output_type": "display_data",
          "data": {
            "text/html": [
              "Find user logs for this run at: <code>/content/wandb/run-20210224_132259-3u5x50np/logs/debug.log</code>"
            ],
            "text/plain": [
              "<IPython.core.display.HTML object>"
            ]
          },
          "metadata": {
            "tags": []
          }
        },
        {
          "output_type": "display_data",
          "data": {
            "text/html": [
              "Find internal logs for this run at: <code>/content/wandb/run-20210224_132259-3u5x50np/logs/debug-internal.log</code>"
            ],
            "text/plain": [
              "<IPython.core.display.HTML object>"
            ]
          },
          "metadata": {
            "tags": []
          }
        },
        {
          "output_type": "display_data",
          "data": {
            "text/html": [
              "<h3>Run summary:</h3><br/><style>\n",
              "    table.wandb td:nth-child(1) { padding: 0 10px; text-align: right }\n",
              "    </style><table class=\"wandb\">\n",
              "<tr><td>train_loss</td><td>0.87363</td></tr><tr><td>energy_accuracy</td><td>0.17476</td></tr><tr><td>azimuth_accuracy</td><td>3.41418</td></tr><tr><td>zenith_accuracy</td><td>0.20264</td></tr><tr><td>val_loss</td><td>0.88053</td></tr><tr><td>_runtime</td><td>4251</td></tr><tr><td>_timestamp</td><td>1614177230</td></tr><tr><td>_step</td><td>34</td></tr></table>"
            ],
            "text/plain": [
              "<IPython.core.display.HTML object>"
            ]
          },
          "metadata": {
            "tags": []
          }
        },
        {
          "output_type": "display_data",
          "data": {
            "text/html": [
              "<h3>Run history:</h3><br/><style>\n",
              "    table.wandb td:nth-child(1) { padding: 0 10px; text-align: right }\n",
              "    </style><table class=\"wandb\">\n",
              "<tr><td>train_loss</td><td>█▂▁▁▁▁▁▁▁▁▁▁▁▁▁▁▁▁▁▁▁▁▁▁▁▁▁▁▁▁▁▁▁▁▁</td></tr><tr><td>energy_accuracy</td><td>█▄▂▁▁▁▁▁▁▁▁▁▁▁▁▁▁▁▁▁▁▁▁▁▁▁▁▁▁▁▁▁▁▁▁</td></tr><tr><td>azimuth_accuracy</td><td>█▆▃▂▁▃▃▃▂▂▂▂▁▁▁▁▁▁▁▁▁▁▁▁▁▁▁▁▁▁▁▁▁▁▁</td></tr><tr><td>zenith_accuracy</td><td>█▆▃▂▂▁▁▁▁▁▁▁▁▁▁▁▁▁▁▁▁▁▁▁▁▁▁▁▁▁▁▁▁▁▁</td></tr><tr><td>val_loss</td><td>█▆▁▁▁▁▁▁▁▁▁▁▁▁▁▁▁▁▁▁▁▁▁▁▁▁▁▁▁▁▁▁▁▁▁</td></tr><tr><td>_runtime</td><td>▁▁▁▂▂▂▂▂▃▃▃▃▃▄▄▄▄▅▅▅▅▅▆▆▆▆▆▇▇▇▇▇███</td></tr><tr><td>_timestamp</td><td>▁▁▁▂▂▂▂▂▃▃▃▃▃▄▄▄▄▅▅▅▅▅▆▆▆▆▆▇▇▇▇▇███</td></tr><tr><td>_step</td><td>▁▁▁▂▂▂▂▂▃▃▃▃▃▄▄▄▄▅▅▅▅▅▆▆▆▆▆▇▇▇▇▇███</td></tr></table><br/>"
            ],
            "text/plain": [
              "<IPython.core.display.HTML object>"
            ]
          },
          "metadata": {
            "tags": []
          }
        },
        {
          "output_type": "display_data",
          "data": {
            "text/html": [
              "Synced 5 W&B file(s), 0 media file(s), 0 artifact file(s) and 0 other file(s)"
            ],
            "text/plain": [
              "<IPython.core.display.HTML object>"
            ]
          },
          "metadata": {
            "tags": []
          }
        },
        {
          "output_type": "display_data",
          "data": {
            "text/html": [
              "\n",
              "                    <br/>Synced <strong style=\"color:#cdcd00\">fancy-silence-64</strong>: <a href=\"https://wandb.ai/jakobschauser/IceCube%20GNN%20Bachelor/runs/3u5x50np\" target=\"_blank\">https://wandb.ai/jakobschauser/IceCube%20GNN%20Bachelor/runs/3u5x50np</a><br/>\n",
              "                "
            ],
            "text/plain": [
              "<IPython.core.display.HTML object>"
            ]
          },
          "metadata": {
            "tags": []
          }
        },
        {
          "output_type": "stream",
          "text": [
            "INFO:tensorflow:Assets written to: /content/drive/MyDrive/Bachelor Project - IceCube ML/Saved Models/fancy-silence-64-35epochs/assets\n"
          ],
          "name": "stdout"
        }
      ]
    },
    {
      "cell_type": "code",
      "metadata": {
        "id": "Ka1sa9P2yVfX"
      },
      "source": [
        "\r\n",
        "# keras.models.load_model(\"/content/drive/MyDrive/Bachelor Project - IceCube ML/Saved Models/astral-valley-61-52epochs\")\r\n",
        "\r\n",
        "@tf.function(input_signature=test_loader.tf_signature(), experimental_relax_shapes=True)\r\n",
        "def get_predictions(inputs,target):\r\n",
        "  return model(inputs,training = False)\r\n",
        "\r\n",
        "def get_true_guesses(inputs,target):\r\n",
        "  pred = model(inputs,training = False)\r\n",
        "  energy = pred[:,0]\r\n",
        "  azi  = tf.atan2(pred[:,2],pred[:,1])\r\n",
        "  zeni = tf.atan2(pred[:,4],pred[:,3])\r\n",
        "  return (energy,azi,zeni)\r\n",
        "\r\n",
        "\r\n",
        "def make1D(a):\r\n",
        "  new = []\r\n",
        "  for aa in a:\r\n",
        "    for aaa in aa:\r\n",
        "      new.append(aaa)\r\n",
        "  return np.array(new)\r\n",
        "\r\n",
        "def test_model():\r\n",
        "  print(\"Testing model\")\r\n",
        "  model_loss, model_acc = [],[]\r\n",
        "\r\n",
        "  test_loader = DisjointLoader(dataset_te, batch_size=batch_size, epochs=10,shuffle = True)\r\n",
        "\r\n",
        "  predictions, truths = [],[]\r\n",
        "\r\n",
        "  for batch in tqdm(test_loader):\r\n",
        "    inputs, target = batch\r\n",
        "    inputs = scale_inputs(inputs) \r\n",
        "    # print(inputs)\r\n",
        "    pred = get_predictions(inputs,target)\r\n",
        "\r\n",
        "    true_guesses = get_true_guesses(inputs,target)\r\n",
        "\r\n",
        "    predictions.append(true_guesses)\r\n",
        "    truths.append(np.array(target))\r\n",
        "    \r\n",
        "    # print(pred)\r\n",
        "    model_loss.append(loss_fn(target, np.array(pred)))\r\n",
        "    model_acc.append(acc_fn(target, pred))\r\n",
        "  \r\n",
        "  model_acc = np.array(model_acc)\r\n",
        "  print(f\"Done! \\nModel loss {np.mean(model_loss)} | Energy accuracy {np.mean(model_acc[:,0])} | Azimuth accuracy {np.mean(model_acc[:,1])} | Zenith accuracy {np.mean(model_acc[:,2])}\")\r\n",
        "  return predictions, truths\r\n",
        "\r\n",
        "\r\n",
        "def make_plots(predictions, truths):\r\n",
        "  preds, trs = [],[]\r\n",
        "\r\n",
        "  for p,t in zip(predictions,truths):\r\n",
        "    preds.append(np.array(p))\r\n",
        "    trs.append([t[:,0],t[:,1],t[:,2]])\r\n",
        "\r\n",
        "  trs = np.array(trs)\r\n",
        "  preds = np.array(preds)\r\n",
        "\r\n",
        "\r\n",
        "  fig, axs = plt.subplots(1,3,figsize=(17,7))\r\n",
        "\r\n",
        "  titles = [\"Energy\",\"Azimuth\",\"Zenith\"]\r\n",
        "  for k in range(3):\r\n",
        "    add = 0\r\n",
        "    if k == 1:\r\n",
        "      add = PI\r\n",
        "    axs[k].hist(trs[:,k].flatten(),bins=100,histtype=\"step\")\r\n",
        "    axs[k].hist(preds[:,k].flatten()+add,bins=100,histtype=\"step\")\r\n",
        "    axs[k].set_title(titles[k])\r\n",
        "  plt.show()\r\n",
        "  "
      ],
      "execution_count": 134,
      "outputs": []
    },
    {
      "cell_type": "code",
      "metadata": {
        "colab": {
          "base_uri": "https://localhost:8080/",
          "height": 447
        },
        "id": "KkQzrIPNSQ0j",
        "outputId": "f6e543cf-7a49-4712-9af7-9a338fe06179"
      },
      "source": [
        "# predictions, truths = test_model()\r\n",
        "\r\n",
        "make_plots(predictions, truths)"
      ],
      "execution_count": 135,
      "outputs": [
        {
          "output_type": "display_data",
          "data": {
            "image/png": "[encoded data removed]",
            "text/plain": [
              "<Figure size 1224x504 with 3 Axes>"
            ]
          },
          "metadata": {
            "tags": [],
            "needs_background": "light"
          }
        }
      ]
    },
    {
      "cell_type": "code",
      "metadata": {
        "id": "cMlZmXpmeha5"
      },
      "source": [
        "e,a,z = predictions[0]\r\n",
        "et,at,zt = truths[0][:,0],truths[0][:,1],truths[0][:,2]\r\n",
        "\r\n"
      ],
      "execution_count": 121,
      "outputs": []
    }
  ]
}