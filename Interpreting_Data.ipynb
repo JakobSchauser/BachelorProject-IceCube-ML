{
  "nbformat": 4,
  "nbformat_minor": 0,
  "metadata": {
    "colab": {
      "name": "Interpreting Data",
      "provenance": [],
      "collapsed_sections": [],
      "mount_file_id": "1N_KJ3qssxzhII9jaWX2LB5vVTk4NHbWO",
      "authorship_tag": "ABX9TyMl+0vITB9/KIbUdOmwJkit",
      "include_colab_link": true
    },
    "kernelspec": {
      "name": "python3",
      "display_name": "Python 3"
    }
  },
  "cells": [
    {
      "cell_type": "markdown",
      "metadata": {
        "id": "view-in-github",
        "colab_type": "text"
      },
      "source": [
        "<a href=\"https://colab.research.google.com/github/JakobSchauser/BachelorProject-IceCube-ML/blob/main/Interpreting_Data.ipynb\" target=\"_parent\"><img src=\"https://colab.research.google.com/assets/colab-badge.svg\" alt=\"Open In Colab\"/></a>"
      ]
    },
    {
      "cell_type": "code",
      "metadata": {
        "id": "fsjl_HsbCxea"
      },
      "source": [
        "# !pip install spektral"
      ],
      "execution_count": null,
      "outputs": []
    },
    {
      "cell_type": "code",
      "metadata": {
        "id": "Py7Ht421YWyV"
      },
      "source": [
        "import numpy as np\r\n",
        "import pandas as pd\r\n",
        "import tensorflow as tf\r\n",
        "\r\n",
        "\r\n",
        "import sqlite3\r\n",
        "import os\r\n",
        "from pandas import read_sql\r\n",
        "\r\n",
        "from sklearn.neighbors import kneighbors_graph as knn\r\n",
        "from sklearn.preprocessing import RobustScaler\r\n",
        "\r\n",
        "from spektral.data import Dataset, Graph\r\n",
        "\r\n",
        "from tqdm.notebook import tqdm\r\n",
        "\r\n",
        "\r\n",
        "#### Put on GPU when possible\r\n",
        "physical_devices = tf.config.list_physical_devices('GPU')\r\n",
        "if len(physical_devices) > 0:\r\n",
        "    print(\"Running on GPU\")\r\n",
        "    tf.config.experimental.set_memory_growth(physical_devices[0], True)"
      ],
      "execution_count": null,
      "outputs": []
    },
    {
      "cell_type": "code",
      "metadata": {
        "colab": {
          "base_uri": "https://localhost:8080/",
          "height": 330
        },
        "id": "182vTfECflP-",
        "outputId": "759ccf5f-6ae0-49a9-99c4-ef5c630275f3"
      },
      "source": [
        "class ParticleDataset(Dataset):\r\n",
        "    def __init__(self,data = []):\r\n",
        "        self.data = np.array(data)\r\n",
        "        \r\n",
        "    def read(self):\r\n",
        "        return self.data\r\n",
        "    \r\n",
        "    def generate_data(self, path = \"/content/drive/MyDrive/Bachelor Project - IceCube ML/139008_00.db\",limit = 1e3):\r\n",
        "        n_neighbors = 5\r\n",
        "        path = \"//sid.erda.dk/share_redirect/ETCAbdoluA/rasmus_classification_muon_3neutrino_3mio/data/rasmus_classification_muon_3neutrino_3mio.db\"\r\n",
        "\r\n",
        "        with sqlite3.connect(path) as con:\r\n",
        "            query = 'select * from sequential where event_no < {}'.format(limit)\r\n",
        "            sequential = pd.read_sql(query, con)\r\n",
        "            query = 'select * from scalar where event_no < {}'.format(limit)\r\n",
        "            scalar = pd.read_sql(query, con)\r\n",
        "\r\n",
        "        # Make sure the same events are used:\r\n",
        "\r\n",
        "        events  = set(sequential.event_no) & set(scalar.event_no)\r\n",
        "\r\n",
        "        sequential = sequential[sequential[\"event_no\"].isin(events)]\r\n",
        "        scalar = scalar[scalar[\"event_no\"].isin(events)]\r\n",
        "        \r\n",
        "        # print(scalar.columns)\r\n",
        "        # return\r\n",
        "        features = [\"dom_x\",\"dom_y\",\"dom_z\",\"dom_time\",\"dom_charge\"]\r\n",
        "        pos = [\"dom_x\",\"dom_y\",\"dom_z\"]\r\n",
        "        # target_features = ['true_primary_direction_x','true_primary_direction_y', 'true_primary_direction_z']\r\n",
        "        target_features = [\"true_primary_energy\"]\r\n",
        "        sequential_arr = np.array(sequential[features])\r\n",
        "        scalar_arr = np.array(scalar[target_features])\r\n",
        "\r\n",
        "        graphs = []\r\n",
        "        targets = []\r\n",
        "\r\n",
        "        #Find when event type changes\r\n",
        "        _, changes = np.unique(sequential[\"event_no\"].values,return_index = True)\r\n",
        "        changes = np.append(changes,len(sequential))\r\n",
        "\r\n",
        "        for i in tqdm(range(len(changes)-1)):\r\n",
        "            ind0,ind1 = changes[i],changes[i+1]\r\n",
        "            seq = sequential[ind0:ind1]\r\n",
        "            target = scalar_arr[i]\r\n",
        "\r\n",
        "            nbs = knn(seq[pos],n_neighbors)\r\n",
        "            dists = knn(seq[pos],n_neighbors,mode = \"distance\")\r\n",
        "            if len(target) == 0:\r\n",
        "              continue\r\n",
        "            # print((target.values))\r\n",
        "            # print((seq[features]))\r\n",
        "            x = sequential_arr[ind0:ind1]\r\n",
        "            graph = Graph(x = x, a = nbs.T, y = target)\r\n",
        "            \r\n",
        "            graphs.append(graph)\r\n",
        "            targets.append(target)\r\n",
        "        self.data = np.array(graphs,dtype=object)\r\n",
        "\r\n",
        "dataset = ParticleDataset()\r\n",
        "dataset.generate_data(limit = 6*1e6)"
      ],
      "execution_count": null,
      "outputs": [
        {
          "output_type": "error",
          "ename": "OperationalError",
          "evalue": "ignored",
          "traceback": [
            "\u001b[0;31m---------------------------------------------------------------------------\u001b[0m",
            "\u001b[0;31mOperationalError\u001b[0m                          Traceback (most recent call last)",
            "\u001b[0;32m<ipython-input-6-17a43aca2827>\u001b[0m in \u001b[0;36m<module>\u001b[0;34m()\u001b[0m\n\u001b[1;32m     58\u001b[0m \u001b[0;34m\u001b[0m\u001b[0m\n\u001b[1;32m     59\u001b[0m \u001b[0mdataset\u001b[0m \u001b[0;34m=\u001b[0m \u001b[0mParticleDataset\u001b[0m\u001b[0;34m(\u001b[0m\u001b[0;34m)\u001b[0m\u001b[0;34m\u001b[0m\u001b[0;34m\u001b[0m\u001b[0m\n\u001b[0;32m---> 60\u001b[0;31m \u001b[0mdataset\u001b[0m\u001b[0;34m.\u001b[0m\u001b[0mgenerate_data\u001b[0m\u001b[0;34m(\u001b[0m\u001b[0mlimit\u001b[0m \u001b[0;34m=\u001b[0m \u001b[0;36m6\u001b[0m\u001b[0;34m*\u001b[0m\u001b[0;36m1e6\u001b[0m\u001b[0;34m)\u001b[0m\u001b[0;34m\u001b[0m\u001b[0;34m\u001b[0m\u001b[0m\n\u001b[0m",
            "\u001b[0;32m<ipython-input-6-17a43aca2827>\u001b[0m in \u001b[0;36mgenerate_data\u001b[0;34m(self, path, limit)\u001b[0m\n\u001b[1;32m     10\u001b[0m         \u001b[0mpath\u001b[0m \u001b[0;34m=\u001b[0m \u001b[0;34m\"//sid.erda.dk/share_redirect/ETCAbdoluA/rasmus_classification_muon_3neutrino_3mio/data/rasmus_classification_muon_3neutrino_3mio.db\"\u001b[0m\u001b[0;34m\u001b[0m\u001b[0;34m\u001b[0m\u001b[0m\n\u001b[1;32m     11\u001b[0m \u001b[0;34m\u001b[0m\u001b[0m\n\u001b[0;32m---> 12\u001b[0;31m         \u001b[0;32mwith\u001b[0m \u001b[0msqlite3\u001b[0m\u001b[0;34m.\u001b[0m\u001b[0mconnect\u001b[0m\u001b[0;34m(\u001b[0m\u001b[0mpath\u001b[0m\u001b[0;34m)\u001b[0m \u001b[0;32mas\u001b[0m \u001b[0mcon\u001b[0m\u001b[0;34m:\u001b[0m\u001b[0;34m\u001b[0m\u001b[0;34m\u001b[0m\u001b[0m\n\u001b[0m\u001b[1;32m     13\u001b[0m             \u001b[0mquery\u001b[0m \u001b[0;34m=\u001b[0m \u001b[0;34m'select * from sequential where event_no < {}'\u001b[0m\u001b[0;34m.\u001b[0m\u001b[0mformat\u001b[0m\u001b[0;34m(\u001b[0m\u001b[0mlimit\u001b[0m\u001b[0;34m)\u001b[0m\u001b[0;34m\u001b[0m\u001b[0;34m\u001b[0m\u001b[0m\n\u001b[1;32m     14\u001b[0m             \u001b[0msequential\u001b[0m \u001b[0;34m=\u001b[0m \u001b[0mpd\u001b[0m\u001b[0;34m.\u001b[0m\u001b[0mread_sql\u001b[0m\u001b[0;34m(\u001b[0m\u001b[0mquery\u001b[0m\u001b[0;34m,\u001b[0m \u001b[0mcon\u001b[0m\u001b[0;34m)\u001b[0m\u001b[0;34m\u001b[0m\u001b[0;34m\u001b[0m\u001b[0m\n",
            "\u001b[0;31mOperationalError\u001b[0m: unable to open database file"
          ]
        }
      ]
    },
    {
      "cell_type": "code",
      "metadata": {
        "colab": {
          "base_uri": "https://localhost:8080/"
        },
        "id": "74TCwIS_dc2C",
        "outputId": "a3a89e73-c6b1-4c9b-c4cf-e01567cc02df"
      },
      "source": [
        "dataset.data"
      ],
      "execution_count": null,
      "outputs": [
        {
          "output_type": "execute_result",
          "data": {
            "text/plain": [
              "array([Graph(n_nodes=45, n_node_features=5, n_edge_features=None, n_labels=3),\n",
              "       Graph(n_nodes=56, n_node_features=5, n_edge_features=None, n_labels=3),\n",
              "       Graph(n_nodes=323, n_node_features=5, n_edge_features=None, n_labels=3),\n",
              "       ...,\n",
              "       Graph(n_nodes=46, n_node_features=5, n_edge_features=None, n_labels=3),\n",
              "       Graph(n_nodes=66, n_node_features=5, n_edge_features=None, n_labels=3),\n",
              "       Graph(n_nodes=66, n_node_features=5, n_edge_features=None, n_labels=3)],\n",
              "      dtype=object)"
            ]
          },
          "metadata": {
            "tags": []
          },
          "execution_count": 5
        }
      ]
    },
    {
      "cell_type": "code",
      "metadata": {
        "id": "Ez_0tBlcWZ89"
      },
      "source": [
        "lim_per_file = int(5*1e6)\r\n",
        "for i in range(1):\r\n",
        "  try:\r\n",
        "    p = \"/content/drive/MyDrive/Bachelor Project - IceCube ML/generatedDataDirection\"+str(len(lim_per_file)+\" \"+str(1))\r\n",
        "    np.savez(p,dataset.data[i*lim_per_file:(i+1)*lim_per_file])\r\n",
        "  except:\r\n",
        "    print(\"File already exists\")"
      ],
      "execution_count": null,
      "outputs": []
    },
    {
      "cell_type": "code",
      "metadata": {
        "colab": {
          "base_uri": "https://localhost:8080/"
        },
        "id": "tSkgxmD60vtb",
        "outputId": "3d371eb0-6ab2-4c86-882b-c18c8209816b"
      },
      "source": [
        "dataset.read()"
      ],
      "execution_count": null,
      "outputs": [
        {
          "output_type": "execute_result",
          "data": {
            "text/plain": [
              "array([Graph(n_nodes=45, n_node_features=5, n_edge_features=None, n_labels=3),\n",
              "       Graph(n_nodes=56, n_node_features=5, n_edge_features=None, n_labels=3),\n",
              "       Graph(n_nodes=323, n_node_features=5, n_edge_features=None, n_labels=3),\n",
              "       ...,\n",
              "       Graph(n_nodes=46, n_node_features=5, n_edge_features=None, n_labels=3),\n",
              "       Graph(n_nodes=66, n_node_features=5, n_edge_features=None, n_labels=3),\n",
              "       Graph(n_nodes=66, n_node_features=5, n_edge_features=None, n_labels=3)],\n",
              "      dtype=object)"
            ]
          },
          "metadata": {
            "tags": []
          },
          "execution_count": 7
        }
      ]
    }
  ]
}