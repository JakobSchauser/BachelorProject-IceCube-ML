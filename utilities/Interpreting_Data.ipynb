{
 "cells": [
  {
   "attachments": {
    "image.png": {
     "image/png": "[encoded data removed]"
    }
   },
   "cell_type": "markdown",
   "metadata": {},
   "source": [
    "![image.png](attachment:image.png)"
   ]
  },
  {
   "cell_type": "code",
   "execution_count": 15,
   "metadata": {
    "ExecuteTime": {
     "end_time": "2021-02-11T10:37:47.926244Z",
     "start_time": "2021-02-11T10:37:47.918138Z"
    },
    "id": "Py7Ht421YWyV"
   },
   "outputs": [],
   "source": [
    "import numpy as np\n",
    "import pandas as pd\n",
    "import tensorflow as tf\n",
    "import scipy as sp\n",
    "\n",
    "import sqlite3\n",
    "import os\n",
    "from pandas import read_sql\n",
    "\n",
    "\n",
    "from sklearn.neighbors import kneighbors_graph as knn\n",
    "from sklearn.preprocessing import RobustScaler\n",
    "import spektral \n",
    "from spektral.data import Dataset, Graph\n",
    "\n",
    "from tqdm.notebook import tqdm\n",
    "\n",
    "\n",
    "#### Put on GPU when possible\n",
    "put_on_gpu = False\n",
    "\n",
    "physical_devices = tf.config.list_physical_devices('GPU')\n",
    "if len(physical_devices) > 0 and put_on_gpu:\n",
    "    print(\"Running on GPU\")\n",
    "    tf.config.experimental.set_memory_growth(physical_devices[0], True)"
   ]
  },
  {
   "cell_type": "code",
   "execution_count": 18,
   "metadata": {
    "ExecuteTime": {
     "end_time": "2021-02-11T10:57:42.246212Z",
     "start_time": "2021-02-11T10:41:36.950546Z"
    },
    "colab": {
     "base_uri": "https://localhost:8080/",
     "height": 330
    },
    "id": "182vTfECflP-",
    "outputId": "759ccf5f-6ae0-49a9-99c4-ef5c630275f3"
   },
   "outputs": [
    {
     "name": "stdout",
     "output_type": "stream",
     "text": [
      "Index(['row', 'event_no', 'string', 'dom', 'pmt', 'dom_x', 'dom_y', 'dom_z',\n",
      "       'pmt_x', 'pmt_y', 'pmt_z', 'pmt_area', 'pmt_type', 'time',\n",
      "       'charge_log10', 'lc', 'pulse_width', 'SplitInIcePulses',\n",
      "       'SRTInIcePulses'],\n",
      "      dtype='object')\n",
      "Index(['event_no', 'energy_log10', 'time', 'position_x', 'position_y',\n",
      "       'position_z', 'direction_x', 'direction_y', 'direction_z', 'azimuth',\n",
      "       'zenith', 'pid', 'interaction_type', 'muon_track_length',\n",
      "       'stopped_muon'],\n",
      "      dtype='object')\n",
      "6151995 200000\n"
     ]
    },
    {
     "data": {
      "application/vnd.jupyter.widget-view+json": {
       "model_id": "89d71eff0a084b8cbd4180969560ff07",
       "version_major": 2,
       "version_minor": 0
      },
      "text/plain": [
       "  0%|          | 0/200000 [00:00<?, ?it/s]"
      ]
     },
     "metadata": {},
     "output_type": "display_data"
    }
   ],
   "source": [
    "class ParticleDataset(Dataset):\n",
    "    def __init__(self,data = []):\n",
    "        self.data = np.array(data)\n",
    "        \n",
    "    def read(self):\n",
    "        return self.data\n",
    "    \n",
    "    def generate_data(self, path = None,limit = 1e3, pid = 13,cleaning = 1):\n",
    "        n_neighbors = 5\n",
    "        \n",
    "        if not path:\n",
    "            path = \"C:/Users/jakob/Documents/Bachelorproject - IceCube ML/data/rasmus_classification_muon_3neutrino_3mio.db\"\n",
    "        \n",
    "        with sqlite3.connect(path) as con:\n",
    "            query = f'select * from truth where pid = {pid} LIMIT {limit}'\n",
    "            truth = pd.read_sql(query, con)\n",
    "            \n",
    "            # Make sure the same events are used:\n",
    "            events = tuple(truth[\"event_no\"])\n",
    "            \n",
    "            query = f'select * from features where event_no in {events} and SRTInIcePulses = {cleaning}'\n",
    "            features = pd.read_sql(query, con)\n",
    "\n",
    "\n",
    "        print(features.columns)\n",
    "        print(truth.columns)\n",
    "        print(len(features),len(truth))\n",
    "        featurelist = [\"dom_x\",\"dom_y\",\"dom_z\",\"time\",\"charge_log10\"]\n",
    "        pos = [\"dom_x\",\"dom_y\",\"dom_z\"]\n",
    "        target_features = ['energy_log10','azimuth','zenith']\n",
    "#         target_features = [\"energy_log10\"]\n",
    "        \n",
    "        features_arr = np.array(features[featurelist])\n",
    "        truth_arr = np.array(truth[target_features])\n",
    "\n",
    "        graphs = []\n",
    "        targets = []\n",
    "\n",
    "        #Find when event type changes\n",
    "        _, changes = np.unique(features[\"event_no\"].values,return_index = True)\n",
    "        changes = np.append(changes,len(features))\n",
    "        \n",
    "        for i in tqdm(range(len(changes)-1)):\n",
    "            ind0,ind1 = changes[i],changes[i+1]\n",
    "            seq = features[ind0:ind1]\n",
    "            target = truth_arr[i]\n",
    "            try:\n",
    "                nbs = knn(seq[pos],n_neighbors)\n",
    "            except:\n",
    "                nbs = sp.sparse.eye(n_neighbors)\n",
    "#             dists = knn(seq[pos],n_neighbors,mode = \"distance\")\n",
    "            if len(target) == 0:\n",
    "              continue\n",
    "            # print((target.values))\n",
    "            # print((seq[features]))\n",
    "            x = features_arr[ind0:ind1]\n",
    "            graph = Graph(x = x, a = nbs.T, y = target)\n",
    "            \n",
    "            graphs.append(graph)\n",
    "            targets.append(target)\n",
    "        self.data = np.array(graphs,dtype=object)\n",
    "\n",
    "dataset = ParticleDataset()\n",
    "dataset.generate_data(limit = 2*1e5)"
   ]
  },
  {
   "cell_type": "code",
   "execution_count": 3,
   "metadata": {
    "ExecuteTime": {
     "end_time": "2021-02-09T20:40:30.920596Z",
     "start_time": "2021-02-09T20:40:30.905273Z"
    },
    "colab": {
     "base_uri": "https://localhost:8080/"
    },
    "id": "74TCwIS_dc2C",
    "outputId": "a3a89e73-c6b1-4c9b-c4cf-e01567cc02df"
   },
   "outputs": [
    {
     "data": {
      "text/plain": [
       "100000"
      ]
     },
     "execution_count": 3,
     "metadata": {},
     "output_type": "execute_result"
    }
   ],
   "source": [
    "len(dataset.data)"
   ]
  },
  {
   "cell_type": "code",
   "execution_count": 19,
   "metadata": {
    "ExecuteTime": {
     "end_time": "2021-02-11T10:59:48.589467Z",
     "start_time": "2021-02-11T10:59:38.612648Z"
    },
    "id": "Ez_0tBlcWZ89"
   },
   "outputs": [
    {
     "name": "stdout",
     "output_type": "stream",
     "text": [
      "File created\n"
     ]
    }
   ],
   "source": [
    "lim_per_file = int(5*1e6)\n",
    "for i in range(1):\n",
    "#   try:\n",
    "    p = \"2e5generatedDataAnglesEnergyClean\"+str(len(dataset.data))+\" \"+str(i)\n",
    "    np.savez(p,dataset.data[i*lim_per_file:(i+1)*lim_per_file])\n",
    "    #   except:\n",
    "    print(\"File created\")"
   ]
  },
  {
   "cell_type": "code",
   "execution_count": 20,
   "metadata": {
    "ExecuteTime": {
     "end_time": "2021-02-11T10:59:50.959169Z",
     "start_time": "2021-02-11T10:59:50.947183Z"
    },
    "colab": {
     "base_uri": "https://localhost:8080/"
    },
    "id": "tSkgxmD60vtb",
    "outputId": "3d371eb0-6ab2-4c86-882b-c18c8209816b"
   },
   "outputs": [
    {
     "data": {
      "text/plain": [
       "array([Graph(n_nodes=13, n_node_features=5, n_edge_features=None, n_labels=3),\n",
       "       Graph(n_nodes=28, n_node_features=5, n_edge_features=None, n_labels=3),\n",
       "       Graph(n_nodes=281, n_node_features=5, n_edge_features=None, n_labels=3),\n",
       "       ...,\n",
       "       Graph(n_nodes=29, n_node_features=5, n_edge_features=None, n_labels=3),\n",
       "       Graph(n_nodes=12, n_node_features=5, n_edge_features=None, n_labels=3),\n",
       "       Graph(n_nodes=11, n_node_features=5, n_edge_features=None, n_labels=3)],\n",
       "      dtype=object)"
      ]
     },
     "execution_count": 20,
     "metadata": {},
     "output_type": "execute_result"
    }
   ],
   "source": [
    "dataset.read()"
   ]
  }
 ],
 "metadata": {
  "colab": {
   "collapsed_sections": [],
   "name": "Interpreting Data",
   "provenance": []
  },
  "hide_input": false,
  "kernelspec": {
   "display_name": "Python 3",
   "language": "python",
   "name": "python3"
  },
  "language_info": {
   "codemirror_mode": {
    "name": "ipython",
    "version": 3
   },
   "file_extension": ".py",
   "mimetype": "text/x-python",
   "name": "python",
   "nbconvert_exporter": "python",
   "pygments_lexer": "ipython3",
   "version": "3.6.12"
  },
  "toc": {
   "base_numbering": 1,
   "nav_menu": {},
   "number_sections": true,
   "sideBar": true,
   "skip_h1_title": false,
   "title_cell": "Table of Contents",
   "title_sidebar": "Contents",
   "toc_cell": false,
   "toc_position": {},
   "toc_section_display": true,
   "toc_window_display": false
  }
 },
 "nbformat": 4,
 "nbformat_minor": 1
}
