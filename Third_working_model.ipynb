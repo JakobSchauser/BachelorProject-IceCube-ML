{
  "nbformat": 4,
  "nbformat_minor": 0,
  "metadata": {
    "colab": {
      "name": "Third working model",
      "provenance": [],
      "collapsed_sections": [],
      "mount_file_id": "1KmYziF-evb-Oo1jFnSCyyDi48yTW9OGI",
      "authorship_tag": "ABX9TyNS2h7zFbX1X2erYH3sBj05",
      "include_colab_link": true
    },
    "kernelspec": {
      "name": "python3",
      "display_name": "Python 3"
    },
    "widgets": {
      "application/vnd.jupyter.widget-state+json": {
        "62cd571a3b124a97bd1e6c5cd60a45f1": {
          "model_module": "@jupyter-widgets/controls",
          "model_name": "HBoxModel",
          "state": {
            "_view_name": "HBoxView",
            "_dom_classes": [],
            "_model_name": "HBoxModel",
            "_view_module": "@jupyter-widgets/controls",
            "_model_module_version": "1.5.0",
            "_view_count": null,
            "_view_module_version": "1.5.0",
            "box_style": "",
            "layout": "IPY_MODEL_b2e82758f3e143988c2db3b8a2709ec3",
            "_model_module": "@jupyter-widgets/controls",
            "children": [
              "IPY_MODEL_9c7512dc26f845538f753b89c0d983ee",
              "IPY_MODEL_6454efe2aed74397a533ba2fcc1feea0"
            ]
          }
        },
        "b2e82758f3e143988c2db3b8a2709ec3": {
          "model_module": "@jupyter-widgets/base",
          "model_name": "LayoutModel",
          "state": {
            "_view_name": "LayoutView",
            "grid_template_rows": null,
            "right": null,
            "justify_content": null,
            "_view_module": "@jupyter-widgets/base",
            "overflow": null,
            "_model_module_version": "1.2.0",
            "_view_count": null,
            "flex_flow": null,
            "width": null,
            "min_width": null,
            "border": null,
            "align_items": null,
            "bottom": null,
            "_model_module": "@jupyter-widgets/base",
            "top": null,
            "grid_column": null,
            "overflow_y": null,
            "overflow_x": null,
            "grid_auto_flow": null,
            "grid_area": null,
            "grid_template_columns": null,
            "flex": null,
            "_model_name": "LayoutModel",
            "justify_items": null,
            "grid_row": null,
            "max_height": null,
            "align_content": null,
            "visibility": null,
            "align_self": null,
            "height": null,
            "min_height": null,
            "padding": null,
            "grid_auto_rows": null,
            "grid_gap": null,
            "max_width": null,
            "order": null,
            "_view_module_version": "1.2.0",
            "grid_template_areas": null,
            "object_position": null,
            "object_fit": null,
            "grid_auto_columns": null,
            "margin": null,
            "display": null,
            "left": null
          }
        },
        "9c7512dc26f845538f753b89c0d983ee": {
          "model_module": "@jupyter-widgets/controls",
          "model_name": "FloatProgressModel",
          "state": {
            "_view_name": "ProgressView",
            "style": "IPY_MODEL_746e42bd514e46a7ae5cbc11e1f1adcb",
            "_dom_classes": [],
            "description": "Currently on epoch 22 of 200 :  11%",
            "_model_name": "FloatProgressModel",
            "bar_style": "",
            "max": 1125000,
            "_view_module": "@jupyter-widgets/controls",
            "_model_module_version": "1.5.0",
            "value": 127282,
            "_view_count": null,
            "_view_module_version": "1.5.0",
            "orientation": "horizontal",
            "min": 0,
            "description_tooltip": null,
            "_model_module": "@jupyter-widgets/controls",
            "layout": "IPY_MODEL_f9ddb26db36a48b8ae78732449718516"
          }
        },
        "6454efe2aed74397a533ba2fcc1feea0": {
          "model_module": "@jupyter-widgets/controls",
          "model_name": "HTMLModel",
          "state": {
            "_view_name": "HTMLView",
            "style": "IPY_MODEL_1dde61de02c04c6a9f2ea5b4cbf7ee27",
            "_dom_classes": [],
            "description": "",
            "_model_name": "HTMLModel",
            "placeholder": "​",
            "_view_module": "@jupyter-widgets/controls",
            "_model_module_version": "1.5.0",
            "value": " 127270/1125000 [24:31&lt;2:22:34, 116.63it/s]",
            "_view_count": null,
            "_view_module_version": "1.5.0",
            "description_tooltip": null,
            "_model_module": "@jupyter-widgets/controls",
            "layout": "IPY_MODEL_525a318c13ee4b6d924c547f0a0a29dc"
          }
        },
        "746e42bd514e46a7ae5cbc11e1f1adcb": {
          "model_module": "@jupyter-widgets/controls",
          "model_name": "ProgressStyleModel",
          "state": {
            "_view_name": "StyleView",
            "_model_name": "ProgressStyleModel",
            "description_width": "initial",
            "_view_module": "@jupyter-widgets/base",
            "_model_module_version": "1.5.0",
            "_view_count": null,
            "_view_module_version": "1.2.0",
            "bar_color": null,
            "_model_module": "@jupyter-widgets/controls"
          }
        },
        "f9ddb26db36a48b8ae78732449718516": {
          "model_module": "@jupyter-widgets/base",
          "model_name": "LayoutModel",
          "state": {
            "_view_name": "LayoutView",
            "grid_template_rows": null,
            "right": null,
            "justify_content": null,
            "_view_module": "@jupyter-widgets/base",
            "overflow": null,
            "_model_module_version": "1.2.0",
            "_view_count": null,
            "flex_flow": null,
            "width": null,
            "min_width": null,
            "border": null,
            "align_items": null,
            "bottom": null,
            "_model_module": "@jupyter-widgets/base",
            "top": null,
            "grid_column": null,
            "overflow_y": null,
            "overflow_x": null,
            "grid_auto_flow": null,
            "grid_area": null,
            "grid_template_columns": null,
            "flex": null,
            "_model_name": "LayoutModel",
            "justify_items": null,
            "grid_row": null,
            "max_height": null,
            "align_content": null,
            "visibility": null,
            "align_self": null,
            "height": null,
            "min_height": null,
            "padding": null,
            "grid_auto_rows": null,
            "grid_gap": null,
            "max_width": null,
            "order": null,
            "_view_module_version": "1.2.0",
            "grid_template_areas": null,
            "object_position": null,
            "object_fit": null,
            "grid_auto_columns": null,
            "margin": null,
            "display": null,
            "left": null
          }
        },
        "1dde61de02c04c6a9f2ea5b4cbf7ee27": {
          "model_module": "@jupyter-widgets/controls",
          "model_name": "DescriptionStyleModel",
          "state": {
            "_view_name": "StyleView",
            "_model_name": "DescriptionStyleModel",
            "description_width": "",
            "_view_module": "@jupyter-widgets/base",
            "_model_module_version": "1.5.0",
            "_view_count": null,
            "_view_module_version": "1.2.0",
            "_model_module": "@jupyter-widgets/controls"
          }
        },
        "525a318c13ee4b6d924c547f0a0a29dc": {
          "model_module": "@jupyter-widgets/base",
          "model_name": "LayoutModel",
          "state": {
            "_view_name": "LayoutView",
            "grid_template_rows": null,
            "right": null,
            "justify_content": null,
            "_view_module": "@jupyter-widgets/base",
            "overflow": null,
            "_model_module_version": "1.2.0",
            "_view_count": null,
            "flex_flow": null,
            "width": null,
            "min_width": null,
            "border": null,
            "align_items": null,
            "bottom": null,
            "_model_module": "@jupyter-widgets/base",
            "top": null,
            "grid_column": null,
            "overflow_y": null,
            "overflow_x": null,
            "grid_auto_flow": null,
            "grid_area": null,
            "grid_template_columns": null,
            "flex": null,
            "_model_name": "LayoutModel",
            "justify_items": null,
            "grid_row": null,
            "max_height": null,
            "align_content": null,
            "visibility": null,
            "align_self": null,
            "height": null,
            "min_height": null,
            "padding": null,
            "grid_auto_rows": null,
            "grid_gap": null,
            "max_width": null,
            "order": null,
            "_view_module_version": "1.2.0",
            "grid_template_areas": null,
            "object_position": null,
            "object_fit": null,
            "grid_auto_columns": null,
            "margin": null,
            "display": null,
            "left": null
          }
        }
      }
    },
    "accelerator": "GPU"
  },
  "cells": [
    {
      "cell_type": "markdown",
      "metadata": {
        "id": "view-in-github",
        "colab_type": "text"
      },
      "source": [
        "<a href=\"https://colab.research.google.com/github/JakobSchauser/BachelorProject-IceCube-ML/blob/main/Third_working_model.ipynb\" target=\"_parent\"><img src=\"https://colab.research.google.com/assets/colab-badge.svg\" alt=\"Open In Colab\"/></a>"
      ]
    },
    {
      "cell_type": "code",
      "metadata": {
        "id": "1tn8Ldcmh-XQ",
        "colab": {
          "base_uri": "https://localhost:8080/"
        },
        "outputId": "e7784a60-ea21-4741-8f9c-a4602809ca47"
      },
      "source": [
        "!pip install spektral -q"
      ],
      "execution_count": 1,
      "outputs": [
        {
          "output_type": "stream",
          "text": [
            "\u001b[?25l\r\u001b[K     |██▉                             | 10kB 26.1MB/s eta 0:00:01\r\u001b[K     |█████▋                          | 20kB 30.9MB/s eta 0:00:01\r\u001b[K     |████████▌                       | 30kB 27.0MB/s eta 0:00:01\r\u001b[K     |███████████▎                    | 40kB 24.3MB/s eta 0:00:01\r\u001b[K     |██████████████                  | 51kB 24.3MB/s eta 0:00:01\r\u001b[K     |█████████████████               | 61kB 17.1MB/s eta 0:00:01\r\u001b[K     |███████████████████▊            | 71kB 17.9MB/s eta 0:00:01\r\u001b[K     |██████████████████████▋         | 81kB 18.5MB/s eta 0:00:01\r\u001b[K     |█████████████████████████▍      | 92kB 16.5MB/s eta 0:00:01\r\u001b[K     |████████████████████████████▏   | 102kB 17.8MB/s eta 0:00:01\r\u001b[K     |███████████████████████████████ | 112kB 17.8MB/s eta 0:00:01\r\u001b[K     |████████████████████████████████| 122kB 17.8MB/s \n",
            "\u001b[?25h"
          ],
          "name": "stdout"
        }
      ]
    },
    {
      "cell_type": "code",
      "metadata": {
        "id": "59KUY4_0TB4L"
      },
      "source": [
        "import numpy as np\r\n",
        "import tensorflow as tf\r\n",
        "import keras\r\n",
        "from tensorflow.keras.layers import Dense, Input\r\n",
        "from tensorflow.keras.losses import MeanSquaredError, MeanAbsoluteError\r\n",
        "from tensorflow.keras.metrics import MeanAbsoluteError as MeanAbsoluteError_acc\r\n",
        "from tensorflow.keras.models import Model\r\n",
        "from tensorflow.keras.optimizers import Adam\r\n",
        "\r\n",
        "from spektral.data import DisjointLoader, Dataset\r\n",
        "from spektral.datasets import QM9\r\n",
        "from spektral.layers import ECCConv, GlobalSumPool, GCNConv\r\n",
        "\r\n",
        "from tqdm.notebook import tqdm\r\n",
        "\r\n",
        "PI = np.pi\r\n",
        "\r\n",
        "# Lifehack\r\n",
        "true = True\r\n",
        "false = False"
      ],
      "execution_count": 2,
      "outputs": []
    },
    {
      "cell_type": "code",
      "metadata": {
        "colab": {
          "base_uri": "https://localhost:8080/"
        },
        "id": "iHnsDHyBy61O",
        "outputId": "7d67dff1-5694-4b7d-e257-ce244b290c1f"
      },
      "source": [
        "################################################################################\r\n",
        "# LOAD DATA\r\n",
        "################################################################################\r\n",
        "\r\n",
        "class dat(Dataset):\r\n",
        "  def __init__(self,n = 1,**kwargs):\r\n",
        "    self.n = n\r\n",
        "    super().__init__(**kwargs)\r\n",
        "  def read(self):\r\n",
        "    # path = \"/content/drive/MyDrive/Bachelor Project - IceCube ML/generatedDataAnglesEnergy100000 0.npz\" # Uncleaned\r\n",
        "    path = \"/content/drive/MyDrive/Bachelor Project - IceCube ML/generatedDataAnglesEnergyClean200000events 0.npz\" # Cleaned\r\n",
        "    # path = \"/content/drive/MyDrive/Bachelor Project - IceCube ML/data.dat\" # From Severin\r\n",
        "    dataset = np.load(path,allow_pickle = True)[\"arr_0\"]\r\n",
        "    graphs = []\r\n",
        "    for g in dataset:\r\n",
        "      graphs.append(g)\r\n",
        "    return np.array(dataset)\r\n",
        "\r\n",
        "dataset = dat()\r\n",
        "\r\n",
        "print(\"Dataset is\", dataset, \"consisting of\", dataset[0])\r\n",
        "\r\n",
        "\r\n",
        "\r\n",
        "#### Put on GPU when possible\r\n",
        "physical_devices = tf.config.list_physical_devices('GPU')\r\n",
        "if len(physical_devices) > 0:\r\n",
        "    print(\"Running on GPU\")\r\n",
        "    tf.config.experimental.set_memory_growth(physical_devices[0], True)\r\n",
        "else:\r\n",
        "    print(\"Running on CPU\")"
      ],
      "execution_count": 46,
      "outputs": [
        {
          "output_type": "stream",
          "text": [
            "Dataset is dat(n_graphs=200000) consisting of Graph(n_nodes=13, n_node_features=5, n_edge_features=None, n_labels=3)\n",
            "Running on GPU\n"
          ],
          "name": "stdout"
        }
      ]
    },
    {
      "cell_type": "code",
      "metadata": {
        "colab": {
          "base_uri": "https://localhost:8080/"
        },
        "id": "3FpVKBgqTxwt",
        "outputId": "085ff0ef-17b2-4a1a-bc2b-64b8bf4965a1"
      },
      "source": [
        "alls = np.zeros((100000,3))\r\n",
        "for k in range(100000):\r\n",
        "  alls[k] = dataset[k][\"y\"]\r\n",
        "\r\n",
        "means = np.mean(alls,axis=0)\r\n",
        "mean_energy, mean_azimuth, mean_zenith = means\r\n",
        "print(means)\r\n",
        "# print(np.min(alls,axis=0))"
      ],
      "execution_count": 47,
      "outputs": [
        {
          "output_type": "stream",
          "text": [
            "[ 0.29942309  0.00598315 -0.29407023]\n"
          ],
          "name": "stdout"
        }
      ]
    },
    {
      "cell_type": "code",
      "metadata": {
        "id": "e1u8tIgjzKys"
      },
      "source": [
        "################################################################################\r\n",
        "# PARAMETERS\r\n",
        "################################################################################\r\n",
        "learning_rate = 1e-4  # Learning rate\r\n",
        "epochs = 200  # Number of training epochs\r\n",
        "test_epochs = 2 # Number of testing epochs\r\n",
        "batch_size = 64//2  # Batch size\r\n",
        "\r\n",
        "network_size = 64 # one-variable network size changer\r\n",
        "\r\n",
        "\r\n",
        "# Parameters\r\n",
        "F = dataset.n_node_features  # Dimension of node features\r\n",
        "S = dataset.n_edge_features  # Dimension of edge features\r\n",
        "n_out = dataset.n_labels  # Dimension of the target\r\n",
        "\r\n",
        "# Train/test split\r\n",
        "idxs = np.random.permutation(len(dataset))\r\n",
        "split = int(0.9 * len(dataset))\r\n",
        "idx_tr, idx_te = np.split(idxs, [split])\r\n",
        "dataset_tr, dataset_te = dataset[idx_tr], dataset[idx_te]\r\n",
        "\r\n",
        "train_loader = DisjointLoader(dataset_tr, batch_size=batch_size, epochs=epochs)\r\n",
        "test_loader = DisjointLoader(dataset_te, batch_size=batch_size, epochs=test_epochs, shuffle=True)"
      ],
      "execution_count": 63,
      "outputs": []
    },
    {
      "cell_type": "code",
      "metadata": {
        "colab": {
          "base_uri": "https://localhost:8080/"
        },
        "id": "VWxWP7-KzOy8",
        "outputId": "0ad03c25-8687-4fc9-e0af-cef4dc4d8237"
      },
      "source": [
        "################################################################################\r\n",
        "# BUILD MODEL\r\n",
        "################################################################################\r\n",
        "from keras.layers.normalization import BatchNormalization\r\n",
        "\r\n",
        "X_in = Input(shape=(F,), name=\"X_in\")\r\n",
        "A_in = Input(shape=(None,), sparse=True, name=\"A_in\")\r\n",
        "# E_in = Input(shape=(S,), name=\"E_in\")\r\n",
        "I_in = Input(shape=(), name=\"segment_ids_in\", dtype=tf.int32)\r\n",
        "\r\n",
        "x = Dense(network_size)(X_in)\r\n",
        "# x = GCNConv(network_size, activation=\"relu\")([X_in, A_in])\r\n",
        "# x = GCNConv(network_size*3//4, activation=\"relu\")([x, A_in])\r\n",
        "x = GCNConv(network_size*4, activation=\"relu\")([x, A_in])\r\n",
        "x = GCNConv(network_size*4, activation=\"relu\")([x, A_in])\r\n",
        "# x = GCNConv(network_size, activation=\"relu\")([x, A_in])\r\n",
        "x = Dense(network_size)(x)\r\n",
        "X_out = GlobalSumPool()([x, I_in])\r\n",
        "output = Dense(n_out)(X_out)\r\n",
        "\r\n",
        "# Build model\r\n",
        "model = Model(inputs=[X_in, A_in, I_in], outputs=output)\r\n",
        "opt = Adam(lr=learning_rate)\r\n",
        "loss_fn = MeanSquaredError()\r\n",
        "# loss_fn = MeanAbsoluteError()\r\n",
        "acc_fn = MeanAbsoluteError()\r\n",
        "\r\n",
        "model.compile()\r\n",
        "model.summary()\r\n",
        "print(\"Model input shape:\",model.input_shape)"
      ],
      "execution_count": 64,
      "outputs": [
        {
          "output_type": "stream",
          "text": [
            "Model: \"model_11\"\n",
            "__________________________________________________________________________________________________\n",
            "Layer (type)                    Output Shape         Param #     Connected to                     \n",
            "==================================================================================================\n",
            "X_in (InputLayer)               [(None, 5)]          0                                            \n",
            "__________________________________________________________________________________________________\n",
            "dense_33 (Dense)                (None, 64)           384         X_in[0][0]                       \n",
            "__________________________________________________________________________________________________\n",
            "A_in (InputLayer)               [(None, None)]       0                                            \n",
            "__________________________________________________________________________________________________\n",
            "gcn_conv_22 (GCNConv)           (None, 256)          16384       dense_33[0][0]                   \n",
            "                                                                 A_in[0][0]                       \n",
            "__________________________________________________________________________________________________\n",
            "gcn_conv_23 (GCNConv)           (None, 256)          65536       gcn_conv_22[0][0]                \n",
            "                                                                 A_in[0][0]                       \n",
            "__________________________________________________________________________________________________\n",
            "dense_34 (Dense)                (None, 64)           16448       gcn_conv_23[0][0]                \n",
            "__________________________________________________________________________________________________\n",
            "segment_ids_in (InputLayer)     [(None,)]            0                                            \n",
            "__________________________________________________________________________________________________\n",
            "global_sum_pool_11 (GlobalSumPo (None, 64)           0           dense_34[0][0]                   \n",
            "                                                                 segment_ids_in[0][0]             \n",
            "__________________________________________________________________________________________________\n",
            "dense_35 (Dense)                (None, 3)            195         global_sum_pool_11[0][0]         \n",
            "==================================================================================================\n",
            "Total params: 98,947\n",
            "Trainable params: 98,947\n",
            "Non-trainable params: 0\n",
            "__________________________________________________________________________________________________\n",
            "Model input shape: [(None, 5), (None, None), (None,)]\n"
          ],
          "name": "stdout"
        }
      ]
    },
    {
      "cell_type": "code",
      "metadata": {
        "id": "97DVDQvbzTGU"
      },
      "source": [
        "################################################################################\r\n",
        "# DEFINE TF-FUNCTIONS\r\n",
        "################################################################################\r\n",
        "@tf.function(input_signature=train_loader.tf_signature(), experimental_relax_shapes=True)\r\n",
        "def train_step(inputs, target):\r\n",
        "    with tf.GradientTape() as tape:\r\n",
        "        predictions = model(inputs, training=True)\r\n",
        "        loss = loss_fn(target, predictions)\r\n",
        "        loss += sum(model.losses)\r\n",
        "    gradients = tape.gradient(loss, model.trainable_variables)\r\n",
        "    opt.apply_gradients(zip(gradients, model.trainable_variables))\r\n",
        "    acc = acc_fn(target,predictions)\r\n",
        "\r\n",
        "    return loss, acc\r\n",
        "\r\n",
        "def validate(inputs,target):\r\n",
        "    predictions = model(inputs, training=False)\r\n",
        "    loss = loss_fn(target, predictions)\r\n",
        "    loss += sum(model.losses)\r\n",
        "    acc = acc_fn(target,predictions)\r\n",
        "\r\n",
        "    return loss, acc\r\n",
        "\r\n",
        "def scale_inputs(inputs):\r\n",
        "    inputs[0][:,:3] = inputs[0][:,:3]/100 # x y z\r\n",
        "    inputs[0][:,3] = inputs[0][:,3]/10000 # time\r\n",
        "    inputs[0][:,4] = inputs[0][:,4]/1 # charge\r\n",
        "    return inputs\r\n",
        "\r\n",
        "def custom_loss(target,predictions):\r\n",
        "    predictions = tf.cast(predictions,\"float64\")\r\n",
        "\r\n",
        "    energy    = tf.abs(target[:,0] - predictions[:,0])\r\n",
        "    azi, zeni = tf.abs(target[:,1] - predictions[:,1]), tf.abs(target[:,2] - predictions[:,2])\r\n",
        "\r\n",
        "\r\n",
        "    azi  = tf.minimum(azi, tf.abs(tf.abs(azi )-2))     # 2 should be pi or 2pi\r\n",
        "    zeni = tf.minimum(tf.abs(zeni), tf.abs(tf.abs(zeni)-2))  # 2 should be pi or 2pi\r\n",
        "\r\n",
        "    # azi, zeni = azi*10,zeni*10\r\n",
        "\r\n",
        "    #Trying something crazy\r\n",
        "    # more = 2\r\n",
        "    # menergy, mazi, mzeni = tf.where(energy<tf.abs(predictions[:,0]-mean_energy),energy,energy*more), tf.where(azi<tf.abs(predictions[:,1]-mean_azimuth),azi,azi*more), tf.where(zeni<tf.abs(predictions[:,2]-mean_zenith),zeni,zeni*more)\r\n",
        "    # energy,azi,zeni = menergy,mazi,mzeni\r\n",
        "\r\n",
        "\r\n",
        "    loss = 0\r\n",
        "    loss += tf.reduce_mean(tf.square(energy))\r\n",
        "    loss += tf.reduce_mean(tf.square(azi))\r\n",
        "    loss += tf.reduce_mean(tf.square(zeni))\r\n",
        "    loss += 0.1\r\n",
        "    return loss\r\n",
        "\r\n",
        "\r\n",
        "loss_fn = custom_loss\r\n",
        "\r\n",
        "\r\n",
        "def fit(train_loader):\r\n",
        "  current_batch = 0\r\n",
        "  model_loss = []\r\n",
        "  model_acc = []\r\n",
        "  vali_acc = []\r\n",
        "  epoch = 0\r\n",
        "\r\n",
        "  epoch_steps = train_loader.steps_per_epoch\r\n",
        "\r\n",
        "\r\n",
        "  t = tqdm(train_loader,total  = train_loader.steps_per_epoch*train_loader.epochs,leave = True)\r\n",
        "  t.set_description(f'Currently on epoch {0} of {epochs} ')\r\n",
        "\r\n",
        "  pb = []\r\n",
        "  tar = []\r\n",
        "  step = 0\r\n",
        "\r\n",
        "  last_vali = 0\r\n",
        "  for batch in t:\r\n",
        "      step += 1\r\n",
        "      inputs, target = batch\r\n",
        "      inputs = scale_inputs(inputs)\r\n",
        "\r\n",
        "      loss, acc = train_step(inputs,target)\r\n",
        "\r\n",
        "      model_loss.append(loss)\r\n",
        "      model_acc.append(acc)\r\n",
        "      current_batch += 1\r\n",
        "      if current_batch == epoch_steps:\r\n",
        "          test_loader = DisjointLoader(dataset_te, batch_size=batch_size, epochs=test_epochs, shuffle=True)\r\n",
        "          t.set_description(f'Currently validating results')\r\n",
        "\r\n",
        "          for vali_batch in test_loader:\r\n",
        "            vali_inputs, vali_target = vali_batch\r\n",
        "            valie_inputs = scale_inputs(vali_inputs)\r\n",
        "            vali_loss, va = validate(vali_inputs,vali_target)\r\n",
        "            vali_acc.append(vali_loss)\r\n",
        "          va = np.mean(vali_acc)\r\n",
        "          change = (va-last_vali)/max(0.000001,last_vali)\r\n",
        "          last_vali = va\r\n",
        "          s = \"Train loss: {} - Train accuracy: {} | Validation loss {} - Change {:.3}% | Epoch: {}\".format(np.mean(model_loss), np.mean(model_acc), va, change*100, epoch)\r\n",
        "          t.write(s)\r\n",
        "          if epoch%5 == 0 and epoch != 0:\r\n",
        "            print(\"Two current guesses are\\n\",np.array(pb[0]),np.array(pb[1]),\"for\\n\",tar[0],tar[1])\r\n",
        "          else:\r\n",
        "            pb = model(inputs, training=False)\r\n",
        "            tar = target\r\n",
        "\r\n",
        "          model_loss = []\r\n",
        "          model_acc = []\r\n",
        "          vali_acc = []\r\n",
        "          current_batch = 0\r\n",
        "          step = 0\r\n",
        "\r\n",
        "          epoch += 1\r\n",
        "          t.set_description(f'Currently on epoch {epoch} of {epochs} ')\r\n"
      ],
      "execution_count": 65,
      "outputs": []
    },
    {
      "cell_type": "code",
      "metadata": {
        "colab": {
          "base_uri": "https://localhost:8080/",
          "height": 644,
          "referenced_widgets": [
            "62cd571a3b124a97bd1e6c5cd60a45f1",
            "b2e82758f3e143988c2db3b8a2709ec3",
            "9c7512dc26f845538f753b89c0d983ee",
            "6454efe2aed74397a533ba2fcc1feea0",
            "746e42bd514e46a7ae5cbc11e1f1adcb",
            "f9ddb26db36a48b8ae78732449718516",
            "1dde61de02c04c6a9f2ea5b4cbf7ee27",
            "525a318c13ee4b6d924c547f0a0a29dc"
          ]
        },
        "id": "a_b_guM2zSZ9",
        "outputId": "995c506a-9de9-4e90-bc5d-8f72c7520030"
      },
      "source": [
        "################################################################################\r\n",
        "# FIT MODEL\r\n",
        "################################################################################\r\n",
        "print(\"Fitting model\")\r\n",
        "fit(train_loader)\r\n",
        "pth = \"/content/drive/MyDrive/Bachelor Project - IceCube ML/Saved Models\"\r\n",
        "model.save(pth+\"/AnglesEnergy-ScaledLoss-ExpandingArchitecture-2e5-200epochs\")"
      ],
      "execution_count": null,
      "outputs": [
        {
          "output_type": "stream",
          "text": [
            "Fitting model\n"
          ],
          "name": "stdout"
        },
        {
          "output_type": "display_data",
          "data": {
            "application/vnd.jupyter.widget-view+json": {
              "model_id": "62cd571a3b124a97bd1e6c5cd60a45f1",
              "version_minor": 0,
              "version_major": 2
            },
            "text/plain": [
              "HBox(children=(FloatProgress(value=0.0, max=1125000.0), HTML(value='')))"
            ]
          },
          "metadata": {
            "tags": []
          }
        },
        {
          "output_type": "stream",
          "text": [
            "Train loss: 44.3654831820774 - Train accuracy: 1.1127418279647827 | Validation loss 0.7973697230184977 - Change 7.97e+07% | Epoch: 0\n",
            "Train loss: 6.326070422586638 - Train accuracy: 0.516475260257721 | Validation loss 0.6559751315327781 - Change -17.7% | Epoch: 1\n",
            "Train loss: 2.4239272117436483 - Train accuracy: 0.4221689999103546 | Validation loss 0.6973854294668327 - Change 6.31% | Epoch: 2\n",
            "Train loss: 0.9462552659160889 - Train accuracy: 0.3438887596130371 | Validation loss 0.5851807002383688 - Change -16.1% | Epoch: 3\n",
            "Train loss: 0.6738626203488473 - Train accuracy: 0.32895660400390625 | Validation loss 0.5720782976733805 - Change -2.24% | Epoch: 4\n",
            "Train loss: 0.600749097188123 - Train accuracy: 0.31792381405830383 | Validation loss 0.586762469775076 - Change 2.57% | Epoch: 5\n",
            "Two current guesses are\n",
            " [ 0.24910411  0.04920866 -0.30444583] [ 0.24477436  0.07027016 -0.30285832] for\n",
            " [-0.01499892 -0.20181578 -0.62528071] [ 0.25935406  0.45036023 -0.69218219]\n",
            "Train loss: 0.6019699958255185 - Train accuracy: 0.31951960921287537 | Validation loss 0.5695206290765111 - Change -2.94% | Epoch: 6\n",
            "Train loss: 0.5861955488945128 - Train accuracy: 0.31612685322761536 | Validation loss 0.578433920684166 - Change 1.57% | Epoch: 7\n",
            "Train loss: 0.5804390046949512 - Train accuracy: 0.31510353088378906 | Validation loss 0.5797319607449933 - Change 0.224% | Epoch: 8\n",
            "Train loss: 0.581883897499902 - Train accuracy: 0.3149724006652832 | Validation loss 0.5682295694703067 - Change -1.98% | Epoch: 9\n",
            "Train loss: 0.5818800890913715 - Train accuracy: 0.31405964493751526 | Validation loss 0.6116781871327778 - Change 7.65% | Epoch: 10\n",
            "Two current guesses are\n",
            " [ 0.26291126  0.03218516 -0.30451554] [ 0.20444368  0.05492484 -0.29832888] for\n",
            " [ 0.06379064  0.33457599 -0.35912596] [-0.05270811 -0.78055689 -0.50996277]\n",
            "Train loss: 0.5765989330583626 - Train accuracy: 0.31415799260139465 | Validation loss 0.5636621690671544 - Change -7.85% | Epoch: 11\n",
            "Train loss: 0.5819427566758212 - Train accuracy: 0.31557440757751465 | Validation loss 0.5658162493100486 - Change 0.382% | Epoch: 12\n",
            "Train loss: 0.5715789775568481 - Train accuracy: 0.31219497323036194 | Validation loss 0.5696724221351118 - Change 0.682% | Epoch: 13\n",
            "Train loss: 0.5756150739500854 - Train accuracy: 0.31163886189460754 | Validation loss 0.5802725252196167 - Change 1.86% | Epoch: 14\n",
            "Train loss: 0.5730422994921465 - Train accuracy: 0.3126278221607208 | Validation loss 0.5668460437460333 - Change -2.31% | Epoch: 15\n",
            "Two current guesses are\n",
            " [ 0.2626889  -0.01501252 -0.25278962] [ 0.59288573 -0.04752365 -0.3239079 ] for\n",
            " [ 0.38942071  0.31901866 -0.45635064] [0.6947329  0.65247131 0.02055743]\n",
            "Train loss: 0.570014441970399 - Train accuracy: 0.31196272373199463 | Validation loss 0.5646334284733222 - Change -0.39% | Epoch: 16\n",
            "Train loss: 0.5674191760044336 - Train accuracy: 0.3109971284866333 | Validation loss 0.5677421733574025 - Change 0.551% | Epoch: 17\n",
            "Train loss: 0.5693601142698927 - Train accuracy: 0.31188666820526123 | Validation loss 0.5623338770187291 - Change -0.953% | Epoch: 18\n",
            "Train loss: 0.5701493129898983 - Train accuracy: 0.311157763004303 | Validation loss 0.5661510809594914 - Change 0.679% | Epoch: 19\n",
            "Train loss: 0.5667794991965623 - Train accuracy: 0.31054049730300903 | Validation loss 0.5853101367850064 - Change 3.38% | Epoch: 20\n",
            "Two current guesses are\n",
            " [ 0.38085017  0.02090634 -0.2104739 ] [ 0.28488216  0.03367215 -0.25102866] for\n",
            " [0.34598112 0.22685661 0.11321348] [-0.00821364 -0.32163964 -0.12789859]\n",
            "Train loss: 0.5686809805443092 - Train accuracy: 0.3114788234233856 | Validation loss 0.5648596013817784 - Change -3.49% | Epoch: 21\n"
          ],
          "name": "stdout"
        }
      ]
    },
    {
      "cell_type": "code",
      "metadata": {
        "id": "B_SPsOYQ6vEE"
      },
      "source": [
        "save_path = \"/content/drive/MyDrive/Bachelor Project - IceCube ML/Saved Models\"\r\n",
        "pth = save_path + \"/AnglesEnergy-LossSquared-50epochs\" \r\n",
        "model.save(pth)\r\n",
        "# dataset_targets = [\"energy_log10\",\"azimuth\",\"zenith\"]\r\n",
        "# dataset targets = [\"energy_log10\", \"position_x\", \"position_y\", \"position_z\", \"direction_x\", \"direction_y\", \"direction_z\"]"
      ],
      "execution_count": null,
      "outputs": []
    },
    {
      "cell_type": "code",
      "metadata": {
        "colab": {
          "base_uri": "https://localhost:8080/"
        },
        "id": "gjH4GKtlXAcW",
        "outputId": "8b5e4788-7152-419b-ab54-0f5bef7ff847"
      },
      "source": [
        "model = keras.models.load_model(pth)\r\n",
        "model.build(input_shape = [(None, 5), (None, None), (None,)])\r\n",
        "model.summary()"
      ],
      "execution_count": null,
      "outputs": [
        {
          "output_type": "stream",
          "text": [
            "Model: \"model\"\n",
            "__________________________________________________________________________________________________\n",
            "Layer (type)                    Output Shape         Param #     Connected to                     \n",
            "==================================================================================================\n",
            "X_in (InputLayer)               [(None, 5)]          0                                            \n",
            "__________________________________________________________________________________________________\n",
            "A_in (InputLayer)               [(None, None)]       0                                            \n",
            "__________________________________________________________________________________________________\n",
            "gcn_conv (GCNConv)              (None, 64)           320         X_in[0][0]                       \n",
            "                                                                 A_in[0][0]                       \n",
            "__________________________________________________________________________________________________\n",
            "gcn_conv_1 (GCNConv)            (None, 48)           3072        gcn_conv[0][0]                   \n",
            "                                                                 A_in[0][0]                       \n",
            "__________________________________________________________________________________________________\n",
            "gcn_conv_2 (GCNConv)            (None, 48)           2304        gcn_conv_1[0][0]                 \n",
            "                                                                 A_in[0][0]                       \n",
            "__________________________________________________________________________________________________\n",
            "gcn_conv_3 (GCNConv)            (None, 64)           3072        gcn_conv_2[0][0]                 \n",
            "                                                                 A_in[0][0]                       \n",
            "__________________________________________________________________________________________________\n",
            "segment_ids_in (InputLayer)     [(None,)]            0                                            \n",
            "__________________________________________________________________________________________________\n",
            "global_sum_pool (GlobalSumPool) (None, 64)           0           gcn_conv_3[0][0]                 \n",
            "                                                                 segment_ids_in[0][0]             \n",
            "__________________________________________________________________________________________________\n",
            "dense (Dense)                   (None, 3)            195         global_sum_pool[0][0]            \n",
            "==================================================================================================\n",
            "Total params: 8,963\n",
            "Trainable params: 8,963\n",
            "Non-trainable params: 0\n",
            "__________________________________________________________________________________________________\n"
          ],
          "name": "stdout"
        }
      ]
    },
    {
      "cell_type": "code",
      "metadata": {
        "id": "I9HRMFDIzWyU",
        "colab": {
          "base_uri": "https://localhost:8080/"
        },
        "outputId": "6a75114a-28df-4962-9f2e-a24ec56a92d7"
      },
      "source": [
        "################################################################################\r\n",
        "# EVALUATE MODEL\r\n",
        "################################################################################\r\n",
        "print(\"Testing model\")\r\n",
        "model_loss = 0\r\n",
        "model_acc = 0\r\n",
        "steps = 0\r\n",
        "test_loader = DisjointLoader(dataset_te, batch_size=batch_size, epochs=1,shuffle = True)\r\n",
        "\r\n",
        "predictions, truths = [],[]\r\n",
        "\r\n",
        "@tf.function(input_signature=test_loader.tf_signature(), experimental_relax_shapes=True)\r\n",
        "def get_preds(inputs,target):\r\n",
        "  return model(inputs,training = False)\r\n",
        "\r\n",
        "\r\n",
        "for i, batch in enumerate(test_loader):\r\n",
        "  steps += 1\r\n",
        "  inputs, target = batch\r\n",
        "  inputs = scale_inputs(inputs)\r\n",
        "  # print(inputs)\r\n",
        "  pred = get_preds(inputs,target)\r\n",
        "\r\n",
        "  predictions.append(np.array(pred))\r\n",
        "  truths.append(np.array(target))\r\n",
        "\r\n",
        "  model_loss += loss_fn(target, pred)\r\n",
        "  model_acc += acc_fn(target, pred)\r\n",
        "\r\n",
        "\r\n",
        "predictions = np.array(predictions)\r\n",
        "truths = np.array(truths)\r\n",
        "\r\n",
        "def make1D(a):\r\n",
        "  new = []\r\n",
        "  for aa in a:\r\n",
        "    for aaa in aa:\r\n",
        "      new.append(aaa)\r\n",
        "  return np.array(new)\r\n",
        "\r\n",
        "predictions = make1D(predictions)\r\n",
        "truths = make1D(truths)\r\n",
        "\r\n",
        "\r\n",
        "\r\n",
        "\r\n",
        "print(\"Done! \\nTest loss: {}\\nTest Acc: {}\".format(model_loss/steps, model_acc/steps))\r\n"
      ],
      "execution_count": 53,
      "outputs": [
        {
          "output_type": "stream",
          "text": [
            "Testing model\n",
            "Done! \n",
            "Test loss: 38.398391476546365\n",
            "Test Acc: 0.31282326579093933\n"
          ],
          "name": "stdout"
        }
      ]
    },
    {
      "cell_type": "code",
      "metadata": {
        "id": "bG28tUQz4M_s",
        "colab": {
          "base_uri": "https://localhost:8080/"
        },
        "outputId": "ea86f46d-747a-4c46-9fac-3f7dec7cf28f"
      },
      "source": [
        "diffs = abs(truths-predictions)\r\n",
        "periodic = abs(abs(truths-predictions)-2)\r\n",
        "diffs = np.minimum(diffs,periodic)\r\n",
        "\r\n",
        "d_energy, d_zenith, d_azimuth = diffs[:,0], diffs[:,1], diffs[:,2]\r\n",
        "energies = truths[:,0]\r\n",
        "d_zenith"
      ],
      "execution_count": 54,
      "outputs": [
        {
          "output_type": "execute_result",
          "data": {
            "text/plain": [
              "array([0.77148584, 0.75505028, 0.91482356, ..., 0.5201121 , 0.90182308,\n",
              "       0.44513254])"
            ]
          },
          "metadata": {
            "tags": []
          },
          "execution_count": 54
        }
      ]
    },
    {
      "cell_type": "code",
      "metadata": {
        "colab": {
          "base_uri": "https://localhost:8080/",
          "height": 385
        },
        "id": "lrADSbycR8mb",
        "outputId": "582b1937-94ef-42a3-c520-ee8255d574bf"
      },
      "source": [
        "import matplotlib.pyplot as plt\r\n",
        "import seaborn as sns\r\n",
        "sns.set()\r\n",
        "\r\n",
        "fig, axs = plt.subplots(1,3,figsize=(16,5),constrained_layout=True)\r\n",
        "\r\n",
        "titles = [\"Energy\",\"Azimuth\",\"Zenith\"]\r\n",
        "\r\n",
        "\r\n",
        "\r\n",
        "random = np.random.random(truths.shape)-0.5\r\n",
        "\r\n",
        "for i in range(3):\r\n",
        "  perc = (predictions[:,i]-truths[:,i])/(truths[:,i]+1)*100\r\n",
        "  rnd = (random[:,i]-truths[:,i])/(truths[:,i]+1)*100\r\n",
        "  axs[i].hist(perc[np.where(abs(perc)<200)],bins=200,histtype=\"step\",label=\"Relative difference\")\r\n",
        "  axs[i].hist(rnd[np.where(abs(rnd)<200)],bins=200,histtype=\"step\",label = \"Educated guesses\")\r\n",
        "  axs[i].legend()\r\n",
        "  axs[i].set_title(titles[i])\r\n",
        "\r\n",
        "\r\n",
        "plt.show()"
      ],
      "execution_count": 55,
      "outputs": [
        {
          "output_type": "display_data",
          "data": {
            "image/png": "[encoded data removed]",
            "text/plain": [
              "<Figure size 1152x360 with 3 Axes>"
            ]
          },
          "metadata": {
            "tags": []
          }
        }
      ]
    },
    {
      "cell_type": "code",
      "metadata": {
        "id": "XXxdXF4rQq5-",
        "colab": {
          "base_uri": "https://localhost:8080/",
          "height": 385
        },
        "outputId": "c4d32008-ce89-421e-bcfc-8f3e394480a7"
      },
      "source": [
        "fig, axs = plt.subplots(1,3,figsize=(16,5),constrained_layout=True)\r\n",
        "\r\n",
        "\r\n",
        "for i in range(3):\r\n",
        "  axs[i].hist(truths[:,i],bins = 50,histtype = \"step\",label=\"truth\")\r\n",
        "  axs[i].hist(predictions[:,i],bins = 500,histtype = \"step\",label=\"predicted\")\r\n",
        "  axs[i].hist((predictions[:,i]-truths[:,i]),bins = 500,histtype = \"step\",label=\"difference\")\r\n",
        "\r\n",
        "  axs[i].legend()\r\n",
        "\r\n",
        "axs[0].set(xlim=(-1,2),title= \"Energy\")\r\n",
        "axs[1].set(xlim=(-2.5,2.5),title= \"Azimuth\")\r\n",
        "axs[2].set(xlim=(-1,1),title= \"Zenith\")\r\n",
        "\r\n",
        "\r\n",
        "# plt.plot(energies,predictions[:,1]-truths[:,1],'.',label = \"predictions\",markersize=2)\r\n",
        "# plt.plot(energies,truths[:,1],'.',label=\"truth\",markersize=2)\r\n",
        "# plt.legend()\r\n",
        "plt.show()"
      ],
      "execution_count": 56,
      "outputs": [
        {
          "output_type": "display_data",
          "data": {
            "image/png": "[encoded data removed]",
            "text/plain": [
              "<Figure size 1152x360 with 3 Axes>"
            ]
          },
          "metadata": {
            "tags": []
          }
        }
      ]
    },
    {
      "cell_type": "code",
      "metadata": {
        "id": "w7l1zSJP6oHr",
        "colab": {
          "base_uri": "https://localhost:8080/"
        },
        "outputId": "7af1c65a-2324-46c4-989f-056926e35c60"
      },
      "source": [
        "print(sum(abs(predictions[:,1])<0.2),sum(abs(truths[:,1])<0.2)) \r\n",
        "## Scheiße - den gætter bare tæt på gennemsnittet 0"
      ],
      "execution_count": 57,
      "outputs": [
        {
          "output_type": "stream",
          "text": [
            "12734 4001\n"
          ],
          "name": "stdout"
        }
      ]
    }
  ]
}