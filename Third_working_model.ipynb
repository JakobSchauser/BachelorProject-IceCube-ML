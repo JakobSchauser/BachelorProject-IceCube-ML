{
  "nbformat": 4,
  "nbformat_minor": 0,
  "metadata": {
    "colab": {
      "name": "Third working model",
      "provenance": [],
      "collapsed_sections": [],
      "mount_file_id": "1KmYziF-evb-Oo1jFnSCyyDi48yTW9OGI",
      "authorship_tag": "ABX9TyOTNK2DomB9ff0BQpcuhirI",
      "include_colab_link": true
    },
    "kernelspec": {
      "name": "python3",
      "display_name": "Python 3"
    },
    "widgets": {
      "application/vnd.jupyter.widget-state+json": {
        "19a02e9cbc334441a21fed82d9d50173": {
          "model_module": "@jupyter-widgets/controls",
          "model_name": "HBoxModel",
          "state": {
            "_view_name": "HBoxView",
            "_dom_classes": [],
            "_model_name": "HBoxModel",
            "_view_module": "@jupyter-widgets/controls",
            "_model_module_version": "1.5.0",
            "_view_count": null,
            "_view_module_version": "1.5.0",
            "box_style": "",
            "layout": "IPY_MODEL_4543d6183c8f4b0fb7d38d311bfd59ef",
            "_model_module": "@jupyter-widgets/controls",
            "children": [
              "IPY_MODEL_c3d64d9de5154cf7a9e75c82496a5e1c",
              "IPY_MODEL_9768f5d49e944f0fbad6507d39a0f80d"
            ]
          }
        },
        "4543d6183c8f4b0fb7d38d311bfd59ef": {
          "model_module": "@jupyter-widgets/base",
          "model_name": "LayoutModel",
          "state": {
            "_view_name": "LayoutView",
            "grid_template_rows": null,
            "right": null,
            "justify_content": null,
            "_view_module": "@jupyter-widgets/base",
            "overflow": null,
            "_model_module_version": "1.2.0",
            "_view_count": null,
            "flex_flow": null,
            "width": null,
            "min_width": null,
            "border": null,
            "align_items": null,
            "bottom": null,
            "_model_module": "@jupyter-widgets/base",
            "top": null,
            "grid_column": null,
            "overflow_y": null,
            "overflow_x": null,
            "grid_auto_flow": null,
            "grid_area": null,
            "grid_template_columns": null,
            "flex": null,
            "_model_name": "LayoutModel",
            "justify_items": null,
            "grid_row": null,
            "max_height": null,
            "align_content": null,
            "visibility": null,
            "align_self": null,
            "height": null,
            "min_height": null,
            "padding": null,
            "grid_auto_rows": null,
            "grid_gap": null,
            "max_width": null,
            "order": null,
            "_view_module_version": "1.2.0",
            "grid_template_areas": null,
            "object_position": null,
            "object_fit": null,
            "grid_auto_columns": null,
            "margin": null,
            "display": null,
            "left": null
          }
        },
        "c3d64d9de5154cf7a9e75c82496a5e1c": {
          "model_module": "@jupyter-widgets/controls",
          "model_name": "FloatProgressModel",
          "state": {
            "_view_name": "ProgressView",
            "style": "IPY_MODEL_54f0dbae4e1c4b118a106a677f985d6f",
            "_dom_classes": [],
            "description": "Currently on epoch 0 of 200 :   0%",
            "_model_name": "FloatProgressModel",
            "bar_style": "",
            "max": 562600,
            "_view_module": "@jupyter-widgets/controls",
            "_model_module_version": "1.5.0",
            "value": 0,
            "_view_count": null,
            "_view_module_version": "1.5.0",
            "orientation": "horizontal",
            "min": 0,
            "description_tooltip": null,
            "_model_module": "@jupyter-widgets/controls",
            "layout": "IPY_MODEL_a5fa98a4bdc64e39bf0141ad080a4765"
          }
        },
        "9768f5d49e944f0fbad6507d39a0f80d": {
          "model_module": "@jupyter-widgets/controls",
          "model_name": "HTMLModel",
          "state": {
            "_view_name": "HTMLView",
            "style": "IPY_MODEL_b0c2f8d8cab9439d92f26a15434f8d36",
            "_dom_classes": [],
            "description": "",
            "_model_name": "HTMLModel",
            "placeholder": "​",
            "_view_module": "@jupyter-widgets/controls",
            "_model_module_version": "1.5.0",
            "value": " 0/562600 [00:00&lt;?, ?it/s]",
            "_view_count": null,
            "_view_module_version": "1.5.0",
            "description_tooltip": null,
            "_model_module": "@jupyter-widgets/controls",
            "layout": "IPY_MODEL_6b0dd48bfeca450186ce9b3ccc516d05"
          }
        },
        "54f0dbae4e1c4b118a106a677f985d6f": {
          "model_module": "@jupyter-widgets/controls",
          "model_name": "ProgressStyleModel",
          "state": {
            "_view_name": "StyleView",
            "_model_name": "ProgressStyleModel",
            "description_width": "initial",
            "_view_module": "@jupyter-widgets/base",
            "_model_module_version": "1.5.0",
            "_view_count": null,
            "_view_module_version": "1.2.0",
            "bar_color": null,
            "_model_module": "@jupyter-widgets/controls"
          }
        },
        "a5fa98a4bdc64e39bf0141ad080a4765": {
          "model_module": "@jupyter-widgets/base",
          "model_name": "LayoutModel",
          "state": {
            "_view_name": "LayoutView",
            "grid_template_rows": null,
            "right": null,
            "justify_content": null,
            "_view_module": "@jupyter-widgets/base",
            "overflow": null,
            "_model_module_version": "1.2.0",
            "_view_count": null,
            "flex_flow": null,
            "width": null,
            "min_width": null,
            "border": null,
            "align_items": null,
            "bottom": null,
            "_model_module": "@jupyter-widgets/base",
            "top": null,
            "grid_column": null,
            "overflow_y": null,
            "overflow_x": null,
            "grid_auto_flow": null,
            "grid_area": null,
            "grid_template_columns": null,
            "flex": null,
            "_model_name": "LayoutModel",
            "justify_items": null,
            "grid_row": null,
            "max_height": null,
            "align_content": null,
            "visibility": null,
            "align_self": null,
            "height": null,
            "min_height": null,
            "padding": null,
            "grid_auto_rows": null,
            "grid_gap": null,
            "max_width": null,
            "order": null,
            "_view_module_version": "1.2.0",
            "grid_template_areas": null,
            "object_position": null,
            "object_fit": null,
            "grid_auto_columns": null,
            "margin": null,
            "display": null,
            "left": null
          }
        },
        "b0c2f8d8cab9439d92f26a15434f8d36": {
          "model_module": "@jupyter-widgets/controls",
          "model_name": "DescriptionStyleModel",
          "state": {
            "_view_name": "StyleView",
            "_model_name": "DescriptionStyleModel",
            "description_width": "",
            "_view_module": "@jupyter-widgets/base",
            "_model_module_version": "1.5.0",
            "_view_count": null,
            "_view_module_version": "1.2.0",
            "_model_module": "@jupyter-widgets/controls"
          }
        },
        "6b0dd48bfeca450186ce9b3ccc516d05": {
          "model_module": "@jupyter-widgets/base",
          "model_name": "LayoutModel",
          "state": {
            "_view_name": "LayoutView",
            "grid_template_rows": null,
            "right": null,
            "justify_content": null,
            "_view_module": "@jupyter-widgets/base",
            "overflow": null,
            "_model_module_version": "1.2.0",
            "_view_count": null,
            "flex_flow": null,
            "width": null,
            "min_width": null,
            "border": null,
            "align_items": null,
            "bottom": null,
            "_model_module": "@jupyter-widgets/base",
            "top": null,
            "grid_column": null,
            "overflow_y": null,
            "overflow_x": null,
            "grid_auto_flow": null,
            "grid_area": null,
            "grid_template_columns": null,
            "flex": null,
            "_model_name": "LayoutModel",
            "justify_items": null,
            "grid_row": null,
            "max_height": null,
            "align_content": null,
            "visibility": null,
            "align_self": null,
            "height": null,
            "min_height": null,
            "padding": null,
            "grid_auto_rows": null,
            "grid_gap": null,
            "max_width": null,
            "order": null,
            "_view_module_version": "1.2.0",
            "grid_template_areas": null,
            "object_position": null,
            "object_fit": null,
            "grid_auto_columns": null,
            "margin": null,
            "display": null,
            "left": null
          }
        }
      }
    },
    "accelerator": "GPU"
  },
  "cells": [
    {
      "cell_type": "markdown",
      "metadata": {
        "id": "view-in-github",
        "colab_type": "text"
      },
      "source": [
        "<a href=\"https://colab.research.google.com/github/JakobSchauser/BachelorProject-IceCube-ML/blob/main/Third_working_model.ipynb\" target=\"_parent\"><img src=\"https://colab.research.google.com/assets/colab-badge.svg\" alt=\"Open In Colab\"/></a>"
      ]
    },
    {
      "cell_type": "code",
      "metadata": {
        "id": "1tn8Ldcmh-XQ",
        "colab": {
          "base_uri": "https://localhost:8080/"
        },
        "outputId": "173a6394-3763-4067-e6b4-cf43bc461668"
      },
      "source": [
        "!pip install spektral -q"
      ],
      "execution_count": 1,
      "outputs": [
        {
          "output_type": "stream",
          "text": [
            "\u001b[?25l\r\u001b[K     |██▉                             | 10kB 21.4MB/s eta 0:00:01\r\u001b[K     |█████▋                          | 20kB 24.5MB/s eta 0:00:01\r\u001b[K     |████████▌                       | 30kB 12.3MB/s eta 0:00:01\r\u001b[K     |███████████▎                    | 40kB 9.3MB/s eta 0:00:01\r\u001b[K     |██████████████                  | 51kB 4.5MB/s eta 0:00:01\r\u001b[K     |█████████████████               | 61kB 5.0MB/s eta 0:00:01\r\u001b[K     |███████████████████▊            | 71kB 5.1MB/s eta 0:00:01\r\u001b[K     |██████████████████████▋         | 81kB 5.5MB/s eta 0:00:01\r\u001b[K     |█████████████████████████▍      | 92kB 5.8MB/s eta 0:00:01\r\u001b[K     |████████████████████████████▏   | 102kB 6.1MB/s eta 0:00:01\r\u001b[K     |███████████████████████████████ | 112kB 6.1MB/s eta 0:00:01\r\u001b[K     |████████████████████████████████| 122kB 6.1MB/s \n",
            "\u001b[?25h"
          ],
          "name": "stdout"
        }
      ]
    },
    {
      "cell_type": "code",
      "metadata": {
        "id": "59KUY4_0TB4L"
      },
      "source": [
        "import numpy as np\r\n",
        "import tensorflow as tf\r\n",
        "import keras\r\n",
        "from tensorflow.keras.layers import Dense, Input\r\n",
        "from tensorflow.keras.losses import MeanSquaredError, MeanAbsoluteError\r\n",
        "from tensorflow.keras.metrics import MeanAbsoluteError as MeanAbsoluteError_acc\r\n",
        "from tensorflow.keras.models import Model\r\n",
        "from tensorflow.keras.optimizers import Adam\r\n",
        "\r\n",
        "from spektral.data import DisjointLoader, Dataset\r\n",
        "from spektral.datasets import QM9\r\n",
        "from spektral.layers import ECCConv, GlobalSumPool, GCNConv\r\n",
        "\r\n",
        "from tqdm.notebook import tqdm\r\n",
        "\r\n",
        "PI = np.pi\r\n",
        "\r\n",
        "# Lifehack\r\n",
        "true = True\r\n",
        "false = False"
      ],
      "execution_count": 2,
      "outputs": []
    },
    {
      "cell_type": "code",
      "metadata": {
        "colab": {
          "base_uri": "https://localhost:8080/"
        },
        "id": "iHnsDHyBy61O",
        "outputId": "cf3a548a-81a2-42f4-e63e-5084d28c1aea"
      },
      "source": [
        "################################################################################\r\n",
        "# LOAD DATA\r\n",
        "################################################################################\r\n",
        "\r\n",
        "class dat(Dataset):\r\n",
        "  def __init__(self,n = 1,**kwargs):\r\n",
        "    self.n = n\r\n",
        "    super().__init__(**kwargs)\r\n",
        "  def read(self):\r\n",
        "    # path = \"/content/drive/MyDrive/Bachelor Project - IceCube ML/generatedDataAnglesEnergy100000 0.npz\" # Uncleaned\r\n",
        "    path = \"/content/drive/MyDrive/Bachelor Project - IceCube ML/generatedDataAnglesEnergyClean200000events 0.npz\" # Cleaned\r\n",
        "    # path = \"/content/drive/MyDrive/Bachelor Project - IceCube ML/data.dat\" # From Severin\r\n",
        "    dataset = np.load(path,allow_pickle = True)[\"arr_0\"]\r\n",
        "    graphs = []\r\n",
        "    for g in dataset:\r\n",
        "      graphs.append(g)\r\n",
        "    return np.array(dataset)\r\n",
        "\r\n",
        "dataset = dat()\r\n",
        "\r\n",
        "print(\"Dataset is\", dataset, \"consisting of\", dataset[0])\r\n",
        "\r\n",
        "\r\n",
        "\r\n",
        "#### Put on GPU when possible\r\n",
        "physical_devices = tf.config.list_physical_devices('GPU')\r\n",
        "if len(physical_devices) > 0:\r\n",
        "    print(\"Running on GPU\")\r\n",
        "    tf.config.experimental.set_memory_growth(physical_devices[0], True)\r\n",
        "else:\r\n",
        "    print(\"Running on CPU\")"
      ],
      "execution_count": 159,
      "outputs": [
        {
          "output_type": "stream",
          "text": [
            "Dataset is dat(n_graphs=200000) consisting of Graph(n_nodes=13, n_node_features=5, n_edge_features=None, n_labels=3)\n",
            "Running on CPU\n"
          ],
          "name": "stdout"
        }
      ]
    },
    {
      "cell_type": "code",
      "metadata": {
        "colab": {
          "base_uri": "https://localhost:8080/"
        },
        "id": "3FpVKBgqTxwt",
        "outputId": "60bc723d-a473-45ce-c60f-10a7a2f1192a"
      },
      "source": [
        "alls = np.zeros((100000,3))\r\n",
        "for k in range(100000):\r\n",
        "  alls[k] = dataset[k][\"y\"]\r\n",
        "\r\n",
        "print(np.max(alls,axis=0))\r\n",
        "print(np.min(alls,axis=0))"
      ],
      "execution_count": 181,
      "outputs": [
        {
          "output_type": "stream",
          "text": [
            "[1.65156444 0.97610687 0.43305356]\n",
            "[-0.56945495 -0.99504761 -0.88597444]\n"
          ],
          "name": "stdout"
        }
      ]
    },
    {
      "cell_type": "code",
      "metadata": {
        "id": "e1u8tIgjzKys"
      },
      "source": [
        "################################################################################\r\n",
        "# PARAMETERS\r\n",
        "################################################################################\r\n",
        "learning_rate = 1e-4  # Learning rate\r\n",
        "epochs = 200  # Number of training epochs\r\n",
        "test_epochs = 2 # Number of testing epochs\r\n",
        "batch_size = 64  # Batch size\r\n",
        "\r\n",
        "network_size = 64 # one-variable network size changer\r\n",
        "\r\n",
        "\r\n",
        "# Parameters\r\n",
        "F = dataset.n_node_features  # Dimension of node features\r\n",
        "S = dataset.n_edge_features  # Dimension of edge features\r\n",
        "n_out = dataset.n_labels  # Dimension of the target\r\n",
        "\r\n",
        "# Train/test split\r\n",
        "idxs = np.random.permutation(len(dataset))\r\n",
        "split = int(0.9 * len(dataset))\r\n",
        "idx_tr, idx_te = np.split(idxs, [split])\r\n",
        "dataset_tr, dataset_te = dataset[idx_tr], dataset[idx_te]\r\n",
        "\r\n",
        "train_loader = DisjointLoader(dataset_tr, batch_size=batch_size, epochs=epochs)\r\n",
        "test_loader = DisjointLoader(dataset_te, batch_size=batch_size, epochs=test_epochs, shuffle=True)"
      ],
      "execution_count": 182,
      "outputs": []
    },
    {
      "cell_type": "code",
      "metadata": {
        "colab": {
          "base_uri": "https://localhost:8080/"
        },
        "id": "VWxWP7-KzOy8",
        "outputId": "5d96e99d-0cac-4b0c-b7c7-839813cd1a9c"
      },
      "source": [
        "################################################################################\r\n",
        "# BUILD MODEL\r\n",
        "################################################################################\r\n",
        "X_in = Input(shape=(F,), name=\"X_in\")\r\n",
        "A_in = Input(shape=(None,), sparse=True, name=\"A_in\")\r\n",
        "# E_in = Input(shape=(S,), name=\"E_in\")\r\n",
        "I_in = Input(shape=(), name=\"segment_ids_in\", dtype=tf.int32)\r\n",
        "\r\n",
        "x = GCNConv(network_size, activation=\"relu\")([X_in, A_in])\r\n",
        "x = GCNConv(network_size*3//4, activation=\"relu\")([x, A_in])\r\n",
        "# x = GCNConv(network_size*3//4, activation=\"relu\")([x, A_in])\r\n",
        "x = GCNConv(network_size*3//4, activation=\"relu\")([x, A_in])\r\n",
        "x = GCNConv(network_size, activation=\"relu\")([x, A_in])\r\n",
        "\r\n",
        "X_out = GlobalSumPool()([x, I_in])\r\n",
        "output = Dense(n_out)(X_out)\r\n",
        "\r\n",
        "# Build model\r\n",
        "model = Model(inputs=[X_in, A_in, I_in], outputs=output)\r\n",
        "opt = Adam(lr=learning_rate)\r\n",
        "loss_fn = MeanSquaredError()\r\n",
        "# loss_fn = MeanAbsoluteError()\r\n",
        "acc_fn = MeanAbsoluteError()\r\n",
        "model.compile()\r\n",
        "model.summary()\r\n",
        "print(\"Model input shape:\",model.input_shape)"
      ],
      "execution_count": 183,
      "outputs": [
        {
          "output_type": "stream",
          "text": [
            "Model: \"model_3\"\n",
            "__________________________________________________________________________________________________\n",
            "Layer (type)                    Output Shape         Param #     Connected to                     \n",
            "==================================================================================================\n",
            "X_in (InputLayer)               [(None, 5)]          0                                            \n",
            "__________________________________________________________________________________________________\n",
            "A_in (InputLayer)               [(None, None)]       0                                            \n",
            "__________________________________________________________________________________________________\n",
            "gcn_conv_12 (GCNConv)           (None, 64)           320         X_in[0][0]                       \n",
            "                                                                 A_in[0][0]                       \n",
            "__________________________________________________________________________________________________\n",
            "gcn_conv_13 (GCNConv)           (None, 48)           3072        gcn_conv_12[0][0]                \n",
            "                                                                 A_in[0][0]                       \n",
            "__________________________________________________________________________________________________\n",
            "gcn_conv_14 (GCNConv)           (None, 48)           2304        gcn_conv_13[0][0]                \n",
            "                                                                 A_in[0][0]                       \n",
            "__________________________________________________________________________________________________\n",
            "gcn_conv_15 (GCNConv)           (None, 64)           3072        gcn_conv_14[0][0]                \n",
            "                                                                 A_in[0][0]                       \n",
            "__________________________________________________________________________________________________\n",
            "segment_ids_in (InputLayer)     [(None,)]            0                                            \n",
            "__________________________________________________________________________________________________\n",
            "global_sum_pool_3 (GlobalSumPoo (None, 64)           0           gcn_conv_15[0][0]                \n",
            "                                                                 segment_ids_in[0][0]             \n",
            "__________________________________________________________________________________________________\n",
            "dense_3 (Dense)                 (None, 3)            195         global_sum_pool_3[0][0]          \n",
            "==================================================================================================\n",
            "Total params: 8,963\n",
            "Trainable params: 8,963\n",
            "Non-trainable params: 0\n",
            "__________________________________________________________________________________________________\n",
            "Model input shape: [(None, 5), (None, None), (None,)]\n"
          ],
          "name": "stdout"
        }
      ]
    },
    {
      "cell_type": "code",
      "metadata": {
        "colab": {
          "base_uri": "https://localhost:8080/",
          "height": 66,
          "referenced_widgets": [
            "19a02e9cbc334441a21fed82d9d50173",
            "4543d6183c8f4b0fb7d38d311bfd59ef",
            "c3d64d9de5154cf7a9e75c82496a5e1c",
            "9768f5d49e944f0fbad6507d39a0f80d",
            "54f0dbae4e1c4b118a106a677f985d6f",
            "a5fa98a4bdc64e39bf0141ad080a4765",
            "b0c2f8d8cab9439d92f26a15434f8d36",
            "6b0dd48bfeca450186ce9b3ccc516d05"
          ]
        },
        "id": "97DVDQvbzTGU",
        "outputId": "9c1a7b37-cd1b-4c6f-d960-8c771c648f6a"
      },
      "source": [
        "################################################################################\r\n",
        "# FIT MODEL\r\n",
        "################################################################################\r\n",
        "@tf.function(input_signature=train_loader.tf_signature(), experimental_relax_shapes=True)\r\n",
        "def train_step(inputs, target):\r\n",
        "    with tf.GradientTape() as tape:\r\n",
        "        predictions = model(inputs, training=True)\r\n",
        "        loss = loss_fn(target, predictions)\r\n",
        "        loss += sum(model.losses)\r\n",
        "    gradients = tape.gradient(loss, model.trainable_variables)\r\n",
        "    opt.apply_gradients(zip(gradients, model.trainable_variables))\r\n",
        "    acc = acc_fn(target,predictions)\r\n",
        "\r\n",
        "    return loss, acc\r\n",
        "\r\n",
        "def validate(inputs,target):\r\n",
        "    predictions = model(inputs, training=False)\r\n",
        "    loss = loss_fn(target, predictions)\r\n",
        "    loss += sum(model.losses)\r\n",
        "    acc = acc_fn(target,predictions)\r\n",
        "\r\n",
        "    return loss, acc\r\n",
        "\r\n",
        "def scale_inputs(inputs):\r\n",
        "    inputs[0][:,:3] = inputs[0][:,:3]/100 # x y z\r\n",
        "    inputs[0][:,3] = inputs[0][:,3]/10000 # time\r\n",
        "    inputs[0][:,4] = inputs[0][:,4]/1 # charge\r\n",
        "    return inputs\r\n",
        "\r\n",
        "def custom_loss(target,predictions):\r\n",
        "    predictions = tf.cast(predictions,\"float64\")\r\n",
        "\r\n",
        "    energy = tf.abs(target[:,0] - predictions[:,0])# tf.square(target[:,0] - predictions[:,0])\r\n",
        "    azi, zeni = target[:,1] - predictions[:,1], target[:,2] - predictions[:,2]\r\n",
        "    azi  = tf.minimum(tf.abs(azi ), tf.abs(tf.abs(azi )-2))     # 1 should be pi or 2pi\r\n",
        "    zeni = tf.minimum(tf.abs(zeni), tf.abs(tf.abs(zeni)-2))  # 1 should be pi or 2pi\r\n",
        "\r\n",
        "    loss = 0\r\n",
        "    loss += tf.reduce_mean(tf.square(energy))\r\n",
        "    loss += tf.reduce_mean(tf.square(azi))\r\n",
        "    loss += tf.reduce_mean(tf.square(zeni))\r\n",
        "    return loss\r\n",
        "\r\n",
        "\r\n",
        "loss_fn = custom_loss\r\n",
        "\r\n",
        "print(\"Fitting model\")\r\n",
        "\r\n",
        "current_batch = 0\r\n",
        "model_loss = []\r\n",
        "model_acc = []\r\n",
        "vali_acc = []\r\n",
        "epoch = 0\r\n",
        "\r\n",
        "epoch_steps = train_loader.steps_per_epoch\r\n",
        "\r\n",
        "\r\n",
        "t = tqdm(train_loader,total  = train_loader.steps_per_epoch*train_loader.epochs,leave = True)\r\n",
        "t.set_description(f'Currently on epoch {0} of {epochs} ')\r\n",
        "\r\n",
        "pb = []\r\n",
        "tar = []\r\n",
        "step = 0\r\n",
        "\r\n",
        "last_vali = 0\r\n",
        "\r\n",
        "if False:\r\n",
        "  for batch in t:\r\n",
        "      step += 1\r\n",
        "      inputs, target = batch\r\n",
        "      inputs = scale_inputs(inputs)\r\n",
        "\r\n",
        "      loss, acc = train_step(inputs,target)\r\n",
        "\r\n",
        "      model_loss.append(loss)\r\n",
        "      model_acc.append(acc)\r\n",
        "      current_batch += 1\r\n",
        "      if current_batch == epoch_steps:\r\n",
        "          test_loader = DisjointLoader(dataset_te, batch_size=batch_size, epochs=test_epochs, shuffle=True)\r\n",
        "          t.set_description(f'Currently validating results')\r\n",
        "\r\n",
        "          for vali_batch in test_loader:\r\n",
        "            vali_inputs, vali_target = vali_batch\r\n",
        "            valie_inputs = scale_inputs(vali_inputs)\r\n",
        "            vali_loss, va = validate(vali_inputs,vali_target)\r\n",
        "            vali_acc.append(vali_loss)\r\n",
        "          va = np.mean(vali_acc)\r\n",
        "          change = (va-last_vali)/max(0.000001,last_vali)\r\n",
        "          last_vali = va\r\n",
        "          s = \"Train loss: {} - Train accuracy: {} | Validation loss {} - Change {:.3}% | Epoch: {}\".format(np.mean(model_loss), np.mean(model_acc), va, change*100, epoch)\r\n",
        "          t.write(s)\r\n",
        "          if epoch%5 == 0 and epoch != 0:\r\n",
        "            print(\"Two current guesses are\\n\",np.array(pb[0]),np.array(pb[1]),\"for\\n\",target[0],target[1])\r\n",
        "          else:\r\n",
        "            pb = model(inputs, training=False)\r\n",
        "\r\n",
        "          model_loss = []\r\n",
        "          model_acc = []\r\n",
        "          vali_acc = []\r\n",
        "          current_batch = 0\r\n",
        "          step = 0\r\n",
        "\r\n",
        "          epoch += 1\r\n",
        "          t.set_description(f'Currently on epoch {epoch} of {epochs} ')\r\n",
        "\r\n"
      ],
      "execution_count": 184,
      "outputs": [
        {
          "output_type": "stream",
          "text": [
            "Fitting model\n"
          ],
          "name": "stdout"
        },
        {
          "output_type": "display_data",
          "data": {
            "application/vnd.jupyter.widget-view+json": {
              "model_id": "19a02e9cbc334441a21fed82d9d50173",
              "version_minor": 0,
              "version_major": 2
            },
            "text/plain": [
              "HBox(children=(FloatProgress(value=0.0, max=562600.0), HTML(value='')))"
            ]
          },
          "metadata": {
            "tags": []
          }
        }
      ]
    },
    {
      "cell_type": "code",
      "metadata": {
        "id": "B_SPsOYQ6vEE",
        "colab": {
          "base_uri": "https://localhost:8080/"
        },
        "outputId": "4601d3ee-99c9-4600-efd4-c03010ab9dca"
      },
      "source": [
        "model.save(\"2e5SavedModel-AnglesEnergy-100epochs\")\r\n",
        "\r\n",
        "dataset_targets = [\"energy_log10\",\"azimuth\",\"zenith\"]\r\n",
        "# dataset targets = [\"energy_log10\", \"position_x\", \"position_y\", \"position_z\", \"direction_x\", \"direction_y\", \"direction_z\"]"
      ],
      "execution_count": null,
      "outputs": [
        {
          "output_type": "stream",
          "text": [
            "INFO:tensorflow:Assets written to: 2e5SavedModel-AnglesEnergy-100epochs/assets\n"
          ],
          "name": "stdout"
        }
      ]
    },
    {
      "cell_type": "code",
      "metadata": {
        "colab": {
          "base_uri": "https://localhost:8080/"
        },
        "id": "gjH4GKtlXAcW",
        "outputId": "c1009274-9b7e-464b-e138-ba7074e71d65"
      },
      "source": [
        "model = keras.models.load_model(\"/content/drive/MyDrive/Bachelor Project - IceCube ML/2e5SavedModel-AnglesEnergy-100epochs\")\r\n",
        "model.build(input_shape = [(None, 5), (None, None), (None,)])\r\n",
        "model.summary()"
      ],
      "execution_count": 185,
      "outputs": [
        {
          "output_type": "stream",
          "text": [
            "Model: \"model_9\"\n",
            "__________________________________________________________________________________________________\n",
            "Layer (type)                    Output Shape         Param #     Connected to                     \n",
            "==================================================================================================\n",
            "X_in (InputLayer)               [(None, 5)]          0                                            \n",
            "__________________________________________________________________________________________________\n",
            "A_in (InputLayer)               [(None, None)]       0                                            \n",
            "__________________________________________________________________________________________________\n",
            "gcn_conv_41 (GCNConv)           (None, 64)           320         X_in[0][0]                       \n",
            "                                                                 A_in[0][0]                       \n",
            "__________________________________________________________________________________________________\n",
            "gcn_conv_42 (GCNConv)           (None, 48)           3072        gcn_conv_41[0][0]                \n",
            "                                                                 A_in[0][0]                       \n",
            "__________________________________________________________________________________________________\n",
            "gcn_conv_43 (GCNConv)           (None, 48)           2304        gcn_conv_42[0][0]                \n",
            "                                                                 A_in[0][0]                       \n",
            "__________________________________________________________________________________________________\n",
            "gcn_conv_44 (GCNConv)           (None, 64)           3072        gcn_conv_43[0][0]                \n",
            "                                                                 A_in[0][0]                       \n",
            "__________________________________________________________________________________________________\n",
            "segment_ids_in (InputLayer)     [(None,)]            0                                            \n",
            "__________________________________________________________________________________________________\n",
            "global_sum_pool_9 (GlobalSumPoo (None, 64)           0           gcn_conv_44[0][0]                \n",
            "                                                                 segment_ids_in[0][0]             \n",
            "__________________________________________________________________________________________________\n",
            "dense_9 (Dense)                 (None, 3)            195         global_sum_pool_9[0][0]          \n",
            "==================================================================================================\n",
            "Total params: 8,963\n",
            "Trainable params: 8,963\n",
            "Non-trainable params: 0\n",
            "__________________________________________________________________________________________________\n"
          ],
          "name": "stdout"
        }
      ]
    },
    {
      "cell_type": "code",
      "metadata": {
        "id": "I9HRMFDIzWyU",
        "colab": {
          "base_uri": "https://localhost:8080/"
        },
        "outputId": "1b55744c-61b1-4127-ae72-276e02fdaffc"
      },
      "source": [
        "################################################################################\r\n",
        "# EVALUATE MODEL\r\n",
        "################################################################################\r\n",
        "print(\"Testing model\")\r\n",
        "model_loss = 0\r\n",
        "model_acc = 0\r\n",
        "steps = 0\r\n",
        "test_loader = DisjointLoader(dataset_te, batch_size=batch_size, epochs=1,shuffle = True)\r\n",
        "\r\n",
        "predictions, truths = [],[]\r\n",
        "\r\n",
        "@tf.function(input_signature=test_loader.tf_signature(), experimental_relax_shapes=True)\r\n",
        "def get_preds(inputs,target):\r\n",
        "  return model(inputs,training = False)\r\n",
        "\r\n",
        "\r\n",
        "for i, batch in enumerate(test_loader):\r\n",
        "  steps += 1\r\n",
        "  inputs, target = batch\r\n",
        "  inputs = scale_inputs(inputs)\r\n",
        "  # print(inputs)\r\n",
        "  pred = get_preds(inputs,target)\r\n",
        "\r\n",
        "  predictions.append(np.array(pred))\r\n",
        "  truths.append(np.array(target))\r\n",
        "\r\n",
        "  model_loss += loss_fn(target, pred)\r\n",
        "  model_acc += acc_fn(target, pred)\r\n",
        "\r\n",
        "\r\n",
        "predictions = np.array(predictions)\r\n",
        "truths = np.array(truths)\r\n",
        "\r\n",
        "def make1D(a):\r\n",
        "  new = []\r\n",
        "  for aa in a:\r\n",
        "    for aaa in aa:\r\n",
        "      new.append(aaa)\r\n",
        "  return np.array(new)\r\n",
        "\r\n",
        "predictions = make1D(predictions)\r\n",
        "truths = make1D(truths)\r\n",
        "\r\n",
        "\r\n",
        "\r\n",
        "\r\n",
        "print(\"Done! \\nTest loss: {}\\nTest Acc: {}\".format(model_loss/steps, model_acc/steps))\r\n"
      ],
      "execution_count": 197,
      "outputs": [
        {
          "output_type": "stream",
          "text": [
            "Testing model\n",
            "Done! \n",
            "Test loss: 0.8482987179381244\n",
            "Test Acc: 0.350358247756958\n"
          ],
          "name": "stdout"
        },
        {
          "output_type": "stream",
          "text": [
            "/usr/local/lib/python3.6/dist-packages/ipykernel_launcher.py:31: VisibleDeprecationWarning: Creating an ndarray from ragged nested sequences (which is a list-or-tuple of lists-or-tuples-or ndarrays with different lengths or shapes) is deprecated. If you meant to do this, you must specify 'dtype=object' when creating the ndarray\n",
            "/usr/local/lib/python3.6/dist-packages/ipykernel_launcher.py:32: VisibleDeprecationWarning: Creating an ndarray from ragged nested sequences (which is a list-or-tuple of lists-or-tuples-or ndarrays with different lengths or shapes) is deprecated. If you meant to do this, you must specify 'dtype=object' when creating the ndarray\n"
          ],
          "name": "stderr"
        }
      ]
    },
    {
      "cell_type": "code",
      "metadata": {
        "id": "bG28tUQz4M_s",
        "colab": {
          "base_uri": "https://localhost:8080/"
        },
        "outputId": "396fa071-ceec-4ac8-e234-5e8aa9696562"
      },
      "source": [
        "diffs = abs(truths-predictions)\r\n",
        "periodic = abs(abs(truths-predictions)-2)\r\n",
        "diffs = np.minimum(diffs,periodic)\r\n",
        "\r\n",
        "d_energy, d_zenith, d_azimuth = diffs[:,0], diffs[:,1], diffs[:,2]\r\n",
        "energies = truths[:,0]\r\n",
        "d_zenith"
      ],
      "execution_count": 200,
      "outputs": [
        {
          "output_type": "execute_result",
          "data": {
            "text/plain": [
              "array([0.42242751, 0.62551973, 0.80587194, ..., 0.06442789, 0.20733558,\n",
              "       0.08234703])"
            ]
          },
          "metadata": {
            "tags": []
          },
          "execution_count": 200
        }
      ]
    },
    {
      "cell_type": "code",
      "metadata": {
        "colab": {
          "base_uri": "https://localhost:8080/",
          "height": 385
        },
        "id": "lrADSbycR8mb",
        "outputId": "6bf64062-e41b-4754-857d-b99b66bd5539"
      },
      "source": [
        "fig, axs = plt.subplots(1,3,figsize=(16,5),constrained_layout=True)\r\n",
        "\r\n",
        "titles = [\"Energy\",\"Zenith\",\"Azimuth\"]\r\n",
        "\r\n",
        "\r\n",
        "\r\n",
        "random = np.random.random(truths.shape)-0.5\r\n",
        "\r\n",
        "for i in range(3):\r\n",
        "  perc = (predictions[:,i]-truths[:,i])/(truths[:,i]+1)*100\r\n",
        "  rnd = (random[:,i]-truths[:,i])/(truths[:,i]+1)*100\r\n",
        "  axs[i].hist(perc[np.where(abs(perc)<200)],bins=200,histtype=\"step\",label=\"Relative difference\")\r\n",
        "  axs[i].hist(rnd[np.where(abs(rnd)<200)],bins=200,histtype=\"step\",label = \"Educated guesses\")\r\n",
        "  axs[i].legend()\r\n",
        "  axs[i].set_title(titles[i])\r\n",
        "\r\n",
        "\r\n",
        "plt.show()"
      ],
      "execution_count": 227,
      "outputs": [
        {
          "output_type": "display_data",
          "data": {
            "image/png": "[encoded data removed]",
            "text/plain": [
              "<Figure size 1152x360 with 3 Axes>"
            ]
          },
          "metadata": {
            "tags": []
          }
        }
      ]
    },
    {
      "cell_type": "code",
      "metadata": {
        "id": "XXxdXF4rQq5-",
        "colab": {
          "base_uri": "https://localhost:8080/",
          "height": 385
        },
        "outputId": "78ac7dbf-bbe7-495b-ec53-f576dc646cca"
      },
      "source": [
        "import matplotlib.pyplot as plt\r\n",
        "import seaborn as sns\r\n",
        "\r\n",
        "sns.set()\r\n",
        "fig, axs = plt.subplots(1,3,figsize=(16,5),constrained_layout=True)\r\n",
        "\r\n",
        "\r\n",
        "for i in range(3):\r\n",
        "  axs[i].hist(truths[:,i],bins = 50,histtype = \"step\",label=\"truth\")\r\n",
        "  axs[i].hist(predictions[:,i],bins = 500,histtype = \"step\",label=\"predicted\")\r\n",
        "  axs[i].hist((predictions[:,i]-truths[:,i]),bins = 500,histtype = \"step\",label=\"difference\")\r\n",
        "\r\n",
        "  axs[i].legend()\r\n",
        "\r\n",
        "axs[0].set(xlim=(-1,2),title= \"Energy\")\r\n",
        "axs[1].set(xlim=(-2.5,2.5),title= \"Zenith\")\r\n",
        "axs[2].set(xlim=(-1,1),title= \"Azimuth\")\r\n",
        "\r\n",
        "\r\n",
        "# plt.plot(energies,predictions[:,1]-truths[:,1],'.',label = \"predictions\",markersize=2)\r\n",
        "# plt.plot(energies,truths[:,1],'.',label=\"truth\",markersize=2)\r\n",
        "# plt.legend()\r\n",
        "plt.show()"
      ],
      "execution_count": 216,
      "outputs": [
        {
          "output_type": "display_data",
          "data": {
            "image/png": "[encoded data removed]",
            "text/plain": [
              "<Figure size 1152x360 with 3 Axes>"
            ]
          },
          "metadata": {
            "tags": []
          }
        }
      ]
    },
    {
      "cell_type": "code",
      "metadata": {
        "id": "w7l1zSJP6oHr",
        "colab": {
          "base_uri": "https://localhost:8080/"
        },
        "outputId": "0edb70ef-b539-43de-d688-821e8fcda906"
      },
      "source": [
        "print(predictions.shape,truths.shape)"
      ],
      "execution_count": 132,
      "outputs": [
        {
          "output_type": "stream",
          "text": [
            "(20000, 3) (20000, 3)\n"
          ],
          "name": "stdout"
        }
      ]
    }
  ]
}