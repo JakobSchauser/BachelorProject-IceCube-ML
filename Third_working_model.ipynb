{
  "nbformat": 4,
  "nbformat_minor": 0,
  "metadata": {
    "colab": {
      "name": "Third working model",
      "provenance": [],
      "collapsed_sections": [],
      "mount_file_id": "1KmYziF-evb-Oo1jFnSCyyDi48yTW9OGI",
      "authorship_tag": "ABX9TyOHlELx931Y+dO2KUlK7nHT",
      "include_colab_link": true
    },
    "kernelspec": {
      "name": "python3",
      "display_name": "Python 3"
    },
    "widgets": {
      "application/vnd.jupyter.widget-state+json": {
        "2684b23467d2482bb0cc59a4edae7921": {
          "model_module": "@jupyter-widgets/controls",
          "model_name": "HBoxModel",
          "state": {
            "_view_name": "HBoxView",
            "_dom_classes": [],
            "_model_name": "HBoxModel",
            "_view_module": "@jupyter-widgets/controls",
            "_model_module_version": "1.5.0",
            "_view_count": null,
            "_view_module_version": "1.5.0",
            "box_style": "",
            "layout": "IPY_MODEL_dab86a45afb24e7f97ec76d2c1a8a06f",
            "_model_module": "@jupyter-widgets/controls",
            "children": [
              "IPY_MODEL_3dcdd4f0c4794dd49845dd018718fd1a",
              "IPY_MODEL_ff4feec823d04908a10f0bf849674b37"
            ]
          }
        },
        "dab86a45afb24e7f97ec76d2c1a8a06f": {
          "model_module": "@jupyter-widgets/base",
          "model_name": "LayoutModel",
          "state": {
            "_view_name": "LayoutView",
            "grid_template_rows": null,
            "right": null,
            "justify_content": null,
            "_view_module": "@jupyter-widgets/base",
            "overflow": null,
            "_model_module_version": "1.2.0",
            "_view_count": null,
            "flex_flow": null,
            "width": null,
            "min_width": null,
            "border": null,
            "align_items": null,
            "bottom": null,
            "_model_module": "@jupyter-widgets/base",
            "top": null,
            "grid_column": null,
            "overflow_y": null,
            "overflow_x": null,
            "grid_auto_flow": null,
            "grid_area": null,
            "grid_template_columns": null,
            "flex": null,
            "_model_name": "LayoutModel",
            "justify_items": null,
            "grid_row": null,
            "max_height": null,
            "align_content": null,
            "visibility": null,
            "align_self": null,
            "height": null,
            "min_height": null,
            "padding": null,
            "grid_auto_rows": null,
            "grid_gap": null,
            "max_width": null,
            "order": null,
            "_view_module_version": "1.2.0",
            "grid_template_areas": null,
            "object_position": null,
            "object_fit": null,
            "grid_auto_columns": null,
            "margin": null,
            "display": null,
            "left": null
          }
        },
        "3dcdd4f0c4794dd49845dd018718fd1a": {
          "model_module": "@jupyter-widgets/controls",
          "model_name": "FloatProgressModel",
          "state": {
            "_view_name": "ProgressView",
            "style": "IPY_MODEL_517f4585150242298a7b84b4e226f744",
            "_dom_classes": [],
            "description": "Currently validating results:  11%",
            "_model_name": "FloatProgressModel",
            "bar_style": "danger",
            "max": 562600,
            "_view_module": "@jupyter-widgets/controls",
            "_model_module_version": "1.5.0",
            "value": 61881,
            "_view_count": null,
            "_view_module_version": "1.5.0",
            "orientation": "horizontal",
            "min": 0,
            "description_tooltip": null,
            "_model_module": "@jupyter-widgets/controls",
            "layout": "IPY_MODEL_8ee3cdf155214a4093548254e69c9604"
          }
        },
        "ff4feec823d04908a10f0bf849674b37": {
          "model_module": "@jupyter-widgets/controls",
          "model_name": "HTMLModel",
          "state": {
            "_view_name": "HTMLView",
            "style": "IPY_MODEL_42094583f2fa4234898fa55b2a435310",
            "_dom_classes": [],
            "description": "",
            "_model_name": "HTMLModel",
            "placeholder": "​",
            "_view_module": "@jupyter-widgets/controls",
            "_model_module_version": "1.5.0",
            "value": " 61881/562600 [13:59&lt;1:33:04, 89.67it/s]",
            "_view_count": null,
            "_view_module_version": "1.5.0",
            "description_tooltip": null,
            "_model_module": "@jupyter-widgets/controls",
            "layout": "IPY_MODEL_b0767175a15e40a0bbc24e2079406b79"
          }
        },
        "517f4585150242298a7b84b4e226f744": {
          "model_module": "@jupyter-widgets/controls",
          "model_name": "ProgressStyleModel",
          "state": {
            "_view_name": "StyleView",
            "_model_name": "ProgressStyleModel",
            "description_width": "initial",
            "_view_module": "@jupyter-widgets/base",
            "_model_module_version": "1.5.0",
            "_view_count": null,
            "_view_module_version": "1.2.0",
            "bar_color": null,
            "_model_module": "@jupyter-widgets/controls"
          }
        },
        "8ee3cdf155214a4093548254e69c9604": {
          "model_module": "@jupyter-widgets/base",
          "model_name": "LayoutModel",
          "state": {
            "_view_name": "LayoutView",
            "grid_template_rows": null,
            "right": null,
            "justify_content": null,
            "_view_module": "@jupyter-widgets/base",
            "overflow": null,
            "_model_module_version": "1.2.0",
            "_view_count": null,
            "flex_flow": null,
            "width": null,
            "min_width": null,
            "border": null,
            "align_items": null,
            "bottom": null,
            "_model_module": "@jupyter-widgets/base",
            "top": null,
            "grid_column": null,
            "overflow_y": null,
            "overflow_x": null,
            "grid_auto_flow": null,
            "grid_area": null,
            "grid_template_columns": null,
            "flex": null,
            "_model_name": "LayoutModel",
            "justify_items": null,
            "grid_row": null,
            "max_height": null,
            "align_content": null,
            "visibility": null,
            "align_self": null,
            "height": null,
            "min_height": null,
            "padding": null,
            "grid_auto_rows": null,
            "grid_gap": null,
            "max_width": null,
            "order": null,
            "_view_module_version": "1.2.0",
            "grid_template_areas": null,
            "object_position": null,
            "object_fit": null,
            "grid_auto_columns": null,
            "margin": null,
            "display": null,
            "left": null
          }
        },
        "42094583f2fa4234898fa55b2a435310": {
          "model_module": "@jupyter-widgets/controls",
          "model_name": "DescriptionStyleModel",
          "state": {
            "_view_name": "StyleView",
            "_model_name": "DescriptionStyleModel",
            "description_width": "",
            "_view_module": "@jupyter-widgets/base",
            "_model_module_version": "1.5.0",
            "_view_count": null,
            "_view_module_version": "1.2.0",
            "_model_module": "@jupyter-widgets/controls"
          }
        },
        "b0767175a15e40a0bbc24e2079406b79": {
          "model_module": "@jupyter-widgets/base",
          "model_name": "LayoutModel",
          "state": {
            "_view_name": "LayoutView",
            "grid_template_rows": null,
            "right": null,
            "justify_content": null,
            "_view_module": "@jupyter-widgets/base",
            "overflow": null,
            "_model_module_version": "1.2.0",
            "_view_count": null,
            "flex_flow": null,
            "width": null,
            "min_width": null,
            "border": null,
            "align_items": null,
            "bottom": null,
            "_model_module": "@jupyter-widgets/base",
            "top": null,
            "grid_column": null,
            "overflow_y": null,
            "overflow_x": null,
            "grid_auto_flow": null,
            "grid_area": null,
            "grid_template_columns": null,
            "flex": null,
            "_model_name": "LayoutModel",
            "justify_items": null,
            "grid_row": null,
            "max_height": null,
            "align_content": null,
            "visibility": null,
            "align_self": null,
            "height": null,
            "min_height": null,
            "padding": null,
            "grid_auto_rows": null,
            "grid_gap": null,
            "max_width": null,
            "order": null,
            "_view_module_version": "1.2.0",
            "grid_template_areas": null,
            "object_position": null,
            "object_fit": null,
            "grid_auto_columns": null,
            "margin": null,
            "display": null,
            "left": null
          }
        }
      }
    },
    "accelerator": "GPU"
  },
  "cells": [
    {
      "cell_type": "markdown",
      "metadata": {
        "id": "view-in-github",
        "colab_type": "text"
      },
      "source": [
        "<a href=\"https://colab.research.google.com/github/JakobSchauser/BachelorProject-IceCube-ML/blob/main/Third_working_model.ipynb\" target=\"_parent\"><img src=\"https://colab.research.google.com/assets/colab-badge.svg\" alt=\"Open In Colab\"/></a>"
      ]
    },
    {
      "cell_type": "code",
      "metadata": {
        "id": "1tn8Ldcmh-XQ"
      },
      "source": [
        "!pip install spektral -q"
      ],
      "execution_count": null,
      "outputs": []
    },
    {
      "cell_type": "code",
      "metadata": {
        "id": "59KUY4_0TB4L"
      },
      "source": [
        "import numpy as np\r\n",
        "import tensorflow as tf\r\n",
        "import keras\r\n",
        "from tensorflow.keras.layers import Dense, Input\r\n",
        "from tensorflow.keras.losses import MeanSquaredError, MeanAbsoluteError\r\n",
        "from tensorflow.keras.metrics import MeanAbsoluteError as MeanAbsoluteError_acc\r\n",
        "from tensorflow.keras.models import Model\r\n",
        "from tensorflow.keras.optimizers import Adam\r\n",
        "\r\n",
        "from spektral.data import DisjointLoader, Dataset\r\n",
        "from spektral.datasets import QM9\r\n",
        "from spektral.layers import ECCConv, GlobalSumPool, GCNConv\r\n",
        "\r\n",
        "from tqdm.notebook import tqdm\r\n",
        "\r\n",
        "PI = np.pi"
      ],
      "execution_count": null,
      "outputs": []
    },
    {
      "cell_type": "code",
      "metadata": {
        "colab": {
          "base_uri": "https://localhost:8080/"
        },
        "id": "iHnsDHyBy61O",
        "outputId": "e0d10ba1-98b4-4fd9-c028-cc9608d5197a"
      },
      "source": [
        "################################################################################\r\n",
        "# LOAD DATA\r\n",
        "################################################################################\r\n",
        "\r\n",
        "class dat(Dataset):\r\n",
        "  def __init__(self,n = 1,**kwargs):\r\n",
        "    self.n = n\r\n",
        "    super().__init__(**kwargs)\r\n",
        "  def read(self):\r\n",
        "    path = \"/content/drive/MyDrive/Bachelor Project - IceCube ML/generatedDataAnglesEnergy100000 0.npz\"\r\n",
        "    # path = \"/content/drive/MyDrive/Bachelor Project - IceCube ML/data.dat\"\r\n",
        "    dataset = np.load(path,allow_pickle = True)[\"arr_0\"]\r\n",
        "    graphs = []\r\n",
        "    for g in dataset:\r\n",
        "      graphs.append(g)\r\n",
        "    return np.array(dataset)\r\n",
        "\r\n",
        "dataset = dat()\r\n",
        "\r\n",
        "print(\"Dataset is\", dataset, \"consisting of\", dataset[0])\r\n",
        "\r\n",
        "\r\n",
        "\r\n",
        "#### Put on GPU when possible\r\n",
        "physical_devices = tf.config.list_physical_devices('GPU')\r\n",
        "if len(physical_devices) > 0:\r\n",
        "    print(\"Running on GPU\")\r\n",
        "    tf.config.experimental.set_memory_growth(physical_devices[0], True)\r\n",
        "else:\r\n",
        "    print(\"Running on CPU\")"
      ],
      "execution_count": null,
      "outputs": [
        {
          "output_type": "stream",
          "text": [
            "Dataset is dat(n_graphs=100000) consisting of Graph(n_nodes=45, n_node_features=5, n_edge_features=None, n_labels=3)\n",
            "Running on GPU\n"
          ],
          "name": "stdout"
        }
      ]
    },
    {
      "cell_type": "code",
      "metadata": {
        "colab": {
          "base_uri": "https://localhost:8080/"
        },
        "id": "3FpVKBgqTxwt",
        "outputId": "05311231-0247-4cbb-95b3-46f90c447197"
      },
      "source": [
        "alls = np.zeros((100000,3))\r\n",
        "for k in range(100000):\r\n",
        "  alls[k] = dataset[k][\"y\"]\r\n",
        "\r\n",
        "print(np.max(alls,axis=0))\r\n",
        "print(np.min(alls,axis=0))"
      ],
      "execution_count": null,
      "outputs": [
        {
          "output_type": "stream",
          "text": [
            "[1.65156444 0.97610687 0.43305356]\n",
            "[-0.56945495 -0.99504761 -0.88597444]\n"
          ],
          "name": "stdout"
        }
      ]
    },
    {
      "cell_type": "code",
      "metadata": {
        "id": "e1u8tIgjzKys"
      },
      "source": [
        "################################################################################\r\n",
        "# PARAMETERS\r\n",
        "################################################################################\r\n",
        "learning_rate = 5*1e-4  # Learning rate\r\n",
        "epochs = 200  # Number of training epochs\r\n",
        "test_epochs = 2 # Number of testing epochs\r\n",
        "batch_size = 64//2  # Batch size\r\n",
        "\r\n",
        "network_size = 64 # one-variable network size changer\r\n",
        "\r\n",
        "\r\n",
        "# Parameters\r\n",
        "F = dataset.n_node_features  # Dimension of node features\r\n",
        "S = dataset.n_edge_features  # Dimension of edge features\r\n",
        "n_out = dataset.n_labels  # Dimension of the target\r\n",
        "\r\n",
        "# Train/test split\r\n",
        "idxs = np.random.permutation(len(dataset))\r\n",
        "split = int(0.9 * len(dataset))\r\n",
        "idx_tr, idx_te = np.split(idxs, [split])\r\n",
        "dataset_tr, dataset_te = dataset[idx_tr], dataset[idx_te]\r\n",
        "\r\n",
        "train_loader = DisjointLoader(dataset_tr, batch_size=batch_size, epochs=epochs)\r\n",
        "test_loader = DisjointLoader(dataset_te, batch_size=batch_size, epochs=test_epochs, shuffle=True)"
      ],
      "execution_count": null,
      "outputs": []
    },
    {
      "cell_type": "code",
      "metadata": {
        "colab": {
          "base_uri": "https://localhost:8080/"
        },
        "id": "VWxWP7-KzOy8",
        "outputId": "981f2d0c-0503-4b5d-f2d8-e32269a16507"
      },
      "source": [
        "################################################################################\r\n",
        "# BUILD MODEL\r\n",
        "################################################################################\r\n",
        "X_in = Input(shape=(F,), name=\"X_in\")\r\n",
        "A_in = Input(shape=(None,), sparse=True, name=\"A_in\")\r\n",
        "# E_in = Input(shape=(S,), name=\"E_in\")\r\n",
        "I_in = Input(shape=(), name=\"segment_ids_in\", dtype=tf.int32)\r\n",
        "\r\n",
        "x = GCNConv(network_size, activation=\"relu\")([X_in, A_in])\r\n",
        "x = GCNConv(network_size*3//4, activation=\"relu\")([x, A_in])\r\n",
        "x = GCNConv(network_size*3//4, activation=\"relu\")([x, A_in])\r\n",
        "x = GCNConv(network_size, activation=\"relu\")([x, A_in])\r\n",
        "\r\n",
        "X_out = GlobalSumPool()([x, I_in])\r\n",
        "output = Dense(n_out)(X_out)\r\n",
        "\r\n",
        "# Build model\r\n",
        "model = Model(inputs=[X_in, A_in, I_in], outputs=output)\r\n",
        "opt = Adam(lr=learning_rate)\r\n",
        "loss_fn = MeanSquaredError()\r\n",
        "# loss_fn = MeanAbsoluteError()\r\n",
        "acc_fn = MeanAbsoluteError()\r\n",
        "model.compile()\r\n",
        "model.summary()\r\n"
      ],
      "execution_count": null,
      "outputs": [
        {
          "output_type": "stream",
          "text": [
            "Model: \"model_8\"\n",
            "__________________________________________________________________________________________________\n",
            "Layer (type)                    Output Shape         Param #     Connected to                     \n",
            "==================================================================================================\n",
            "X_in (InputLayer)               [(None, 5)]          0                                            \n",
            "__________________________________________________________________________________________________\n",
            "A_in (InputLayer)               [(None, None)]       0                                            \n",
            "__________________________________________________________________________________________________\n",
            "gcn_conv_32 (GCNConv)           (None, 64)           320         X_in[0][0]                       \n",
            "                                                                 A_in[0][0]                       \n",
            "__________________________________________________________________________________________________\n",
            "gcn_conv_33 (GCNConv)           (None, 48)           3072        gcn_conv_32[0][0]                \n",
            "                                                                 A_in[0][0]                       \n",
            "__________________________________________________________________________________________________\n",
            "gcn_conv_34 (GCNConv)           (None, 48)           2304        gcn_conv_33[0][0]                \n",
            "                                                                 A_in[0][0]                       \n",
            "__________________________________________________________________________________________________\n",
            "gcn_conv_35 (GCNConv)           (None, 64)           3072        gcn_conv_34[0][0]                \n",
            "                                                                 A_in[0][0]                       \n",
            "__________________________________________________________________________________________________\n",
            "segment_ids_in (InputLayer)     [(None,)]            0                                            \n",
            "__________________________________________________________________________________________________\n",
            "global_sum_pool_8 (GlobalSumPoo (None, 64)           0           gcn_conv_35[0][0]                \n",
            "                                                                 segment_ids_in[0][0]             \n",
            "__________________________________________________________________________________________________\n",
            "dense_8 (Dense)                 (None, 3)            195         global_sum_pool_8[0][0]          \n",
            "==================================================================================================\n",
            "Total params: 8,963\n",
            "Trainable params: 8,963\n",
            "Non-trainable params: 0\n",
            "__________________________________________________________________________________________________\n"
          ],
          "name": "stdout"
        }
      ]
    },
    {
      "cell_type": "code",
      "metadata": {
        "colab": {
          "base_uri": "https://localhost:8080/",
          "height": 974,
          "referenced_widgets": [
            "2684b23467d2482bb0cc59a4edae7921",
            "dab86a45afb24e7f97ec76d2c1a8a06f",
            "3dcdd4f0c4794dd49845dd018718fd1a",
            "ff4feec823d04908a10f0bf849674b37",
            "517f4585150242298a7b84b4e226f744",
            "8ee3cdf155214a4093548254e69c9604",
            "42094583f2fa4234898fa55b2a435310",
            "b0767175a15e40a0bbc24e2079406b79"
          ]
        },
        "id": "97DVDQvbzTGU",
        "outputId": "8a8e44fc-2ba1-4902-b47e-0753787db11e"
      },
      "source": [
        "################################################################################\r\n",
        "# FIT MODEL\r\n",
        "################################################################################\r\n",
        "@tf.function(input_signature=train_loader.tf_signature(), experimental_relax_shapes=True)\r\n",
        "def train_step(inputs, target):\r\n",
        "    with tf.GradientTape() as tape:\r\n",
        "        predictions = model(inputs, training=True)\r\n",
        "        loss = loss_fn(target, predictions)\r\n",
        "        loss += sum(model.losses)\r\n",
        "    gradients = tape.gradient(loss, model.trainable_variables)\r\n",
        "    opt.apply_gradients(zip(gradients, model.trainable_variables))\r\n",
        "    acc = acc_fn(target,predictions)\r\n",
        "\r\n",
        "    return loss, acc\r\n",
        "\r\n",
        "def validate(inputs,target):\r\n",
        "    predictions = model(inputs, training=False)\r\n",
        "    loss = loss_fn(target, predictions)\r\n",
        "    loss += sum(model.losses)\r\n",
        "    acc = acc_fn(target,predictions)\r\n",
        "\r\n",
        "    return loss, acc\r\n",
        "\r\n",
        "def scale_inputs(inputs):\r\n",
        "    inputs[0][:,:3] = inputs[0][:,:3]/100 # x y z\r\n",
        "    inputs[0][:,3] = inputs[0][:,3]/10000 # time\r\n",
        "    inputs[0][:,4] = inputs[0][:,4]/1 # charge\r\n",
        "    return inputs\r\n",
        "\r\n",
        "def custom_loss(target,predictions):\r\n",
        "    predictions = tf.cast(predictions,\"float64\")\r\n",
        "\r\n",
        "    energy = tf.square(target[:,0] - predictions[:,0])\r\n",
        "    azi, zeni = target[:,1] - predictions[:,1], target[:,2] - predictions[:,2]\r\n",
        "    azi  = tf.minimum(tf.abs(azi ), tf.abs(tf.abs(azi )-1))     # 1 should be pi or 2pi\r\n",
        "    zeni = tf.minimum(tf.abs(zeni), tf.abs(tf.abs(zeni)-1))  # 1 should be pi or 2pi\r\n",
        "\r\n",
        "    loss = 0\r\n",
        "    loss += tf.reduce_mean(energy)\r\n",
        "    loss += tf.reduce_mean(azi)\r\n",
        "    loss += tf.reduce_mean(zeni)\r\n",
        "    return loss\r\n",
        "\r\n",
        "\r\n",
        "\r\n",
        "loss_fn = custom_loss\r\n",
        "\r\n",
        "print(\"Fitting model\")\r\n",
        "\r\n",
        "current_batch = 0\r\n",
        "model_loss = []\r\n",
        "model_acc = []\r\n",
        "vali_acc = []\r\n",
        "epoch = 0\r\n",
        "\r\n",
        "epoch_steps = train_loader.steps_per_epoch\r\n",
        "\r\n",
        "\r\n",
        "t = tqdm(train_loader,total  = train_loader.steps_per_epoch*train_loader.epochs,leave = True)\r\n",
        "t.set_description(f'Currently on epoch {0} of {epochs} ')\r\n",
        "\r\n",
        "pb = []\r\n",
        "tar = []\r\n",
        "step = 0\r\n",
        "\r\n",
        "last_vali = 0\r\n",
        "\r\n",
        "for batch in t:\r\n",
        "    step += 1\r\n",
        "    inputs, target = batch\r\n",
        "    inputs = scale_inputs(inputs)\r\n",
        "\r\n",
        "    loss, acc = train_step(inputs,target)\r\n",
        "\r\n",
        "    model_loss.append(loss)\r\n",
        "    model_acc.append(acc)\r\n",
        "    current_batch += 1\r\n",
        "    if current_batch == epoch_steps:\r\n",
        "        test_loader = DisjointLoader(dataset_te, batch_size=batch_size, epochs=test_epochs, shuffle=True)\r\n",
        "        t.set_description(f'Currently validating results')\r\n",
        "\r\n",
        "        for vali_batch in test_loader:\r\n",
        "          vali_inputs, vali_target = vali_batch\r\n",
        "          valie_inputs = scale_inputs(vali_inputs)\r\n",
        "          vali_loss, va = validate(vali_inputs,vali_target)\r\n",
        "          vali_acc.append(va)\r\n",
        "        va = np.mean(vali_acc)\r\n",
        "        change = (va-last_vali)/max(0.000001,last_vali)\r\n",
        "        last_vali = va\r\n",
        "        s = \"Train loss: {} - Train accuracy: {} | Validation accuracy {} - Change {:.3}% | Epoch: {}\".format(np.mean(model_loss), np.mean(model_acc), va, change*100, epoch+1)\r\n",
        "        t.write(s)\r\n",
        "        if epoch%5 == 0 and epoch != 0:\r\n",
        "          print(\"Two current guesses are\\n\",np.array(pb[0]),np.array(pb[1]),\"for\\n\",target[0],target[1])\r\n",
        "        else:\r\n",
        "          pb = model(inputs, training=False)\r\n",
        "\r\n",
        "        model_loss = []\r\n",
        "        model_acc = []\r\n",
        "        vali_acc = []\r\n",
        "        current_batch = 0\r\n",
        "        step = 0\r\n",
        "\r\n",
        "        epoch += 1\r\n",
        "        t.set_description(f'Currently on epoch {epoch} of {epochs} ')\r\n",
        "\r\n",
        "\r\n",
        "      \r\n",
        "\r\n"
      ],
      "execution_count": null,
      "outputs": [
        {
          "output_type": "stream",
          "text": [
            "Fitting model\n"
          ],
          "name": "stdout"
        },
        {
          "output_type": "display_data",
          "data": {
            "application/vnd.jupyter.widget-view+json": {
              "model_id": "2684b23467d2482bb0cc59a4edae7921",
              "version_minor": 0,
              "version_major": 2
            },
            "text/plain": [
              "HBox(children=(FloatProgress(value=0.0, max=562600.0), HTML(value='')))"
            ]
          },
          "metadata": {
            "tags": []
          }
        },
        {
          "output_type": "stream",
          "text": [
            "Train loss: 1116.0356307664847 - Train accuracy: 14.748109817504883 | Validation accuracy 10.880841255187988 - Change 1.09e+09% | Epoch: 1\n",
            "Train loss: 128.83629623408333 - Train accuracy: 3.5652639865875244 | Validation accuracy 1.4170680046081543 - Change -87.0% | Epoch: 2\n",
            "Train loss: 25.485549441862783 - Train accuracy: 1.7606819868087769 | Validation accuracy 2.8965790271759033 - Change 1.04e+02% | Epoch: 3\n",
            "Train loss: 5.572242619462591 - Train accuracy: 0.925275444984436 | Validation accuracy 0.5689870119094849 - Change -80.4% | Epoch: 4\n",
            "Train loss: 2.2573539139334664 - Train accuracy: 0.6070595979690552 | Validation accuracy 0.4458633363246918 - Change -21.6% | Epoch: 5\n",
            "Train loss: 0.6187424770266992 - Train accuracy: 0.37311863899230957 | Validation accuracy 0.3365287184715271 - Change -24.5% | Epoch: 6\n",
            "Two current guesses are\n",
            " [-0.04320342 -0.60097456 -0.02488614] [ 0.22723342 -0.17472878 -0.00638575] for\n",
            " [ 0.53773003 -0.24204119 -0.19582589] [ 0.30322506 -0.20140653  0.03164225]\n",
            "Train loss: 0.6031753038996772 - Train accuracy: 0.3390059769153595 | Validation accuracy 0.3338415324687958 - Change -0.799% | Epoch: 7\n",
            "Train loss: 0.5617078285683398 - Train accuracy: 0.34666743874549866 | Validation accuracy 0.35560134053230286 - Change 6.52% | Epoch: 8\n",
            "Train loss: 0.5562455746588736 - Train accuracy: 0.3609706461429596 | Validation accuracy 0.36064019799232483 - Change 1.42% | Epoch: 9\n",
            "Train loss: 0.5585154470683776 - Train accuracy: 0.3628935217857361 | Validation accuracy 0.35977455973625183 - Change -0.24% | Epoch: 10\n",
            "Train loss: 0.5573250491635597 - Train accuracy: 0.3622165024280548 | Validation accuracy 0.359942227602005 - Change 0.0466% | Epoch: 11\n",
            "Two current guesses are\n",
            " [ 0.30093163 -0.45730355 -0.42132995] [ 0.3000427 -0.4573303 -0.4218182] for\n",
            " [ 0.37292638 -0.86229476 -0.76728578] [0.12046961 0.13296792 0.08637565]\n",
            "Train loss: 0.5623635933285429 - Train accuracy: 0.363594114780426 | Validation accuracy 0.3595935106277466 - Change -0.0969% | Epoch: 12\n",
            "Train loss: 0.5621579135085605 - Train accuracy: 0.3632037341594696 | Validation accuracy 0.35835757851600647 - Change -0.344% | Epoch: 13\n",
            "Train loss: 0.5571713562564875 - Train accuracy: 0.36182859539985657 | Validation accuracy 0.35933440923690796 - Change 0.273% | Epoch: 14\n",
            "Train loss: 0.5574184213356767 - Train accuracy: 0.3625745177268982 | Validation accuracy 0.35880956053733826 - Change -0.146% | Epoch: 15\n",
            "Train loss: 0.5590218694751666 - Train accuracy: 0.3617341220378876 | Validation accuracy 0.3618365526199341 - Change 0.844% | Epoch: 16\n",
            "Two current guesses are\n",
            " [ 0.29592445 -0.45239547 -0.418982  ] [ 0.29592445 -0.45239547 -0.418982  ] for\n",
            " [ 0.17480236 -0.69766575 -0.53181304] [0.44550345 0.00896633 0.11107338]\n",
            "Train loss: 0.5599747882121384 - Train accuracy: 0.3630845546722412 | Validation accuracy 0.3582257032394409 - Change -0.998% | Epoch: 17\n",
            "Train loss: 0.5571346188714514 - Train accuracy: 0.3619350790977478 | Validation accuracy 0.3582182824611664 - Change -0.00207% | Epoch: 18\n",
            "Train loss: 0.5575761441745473 - Train accuracy: 0.3621537983417511 | Validation accuracy 0.3608075678348541 - Change 0.723% | Epoch: 19\n",
            "Train loss: 0.5615459966104533 - Train accuracy: 0.36212295293807983 | Validation accuracy 0.3597775399684906 - Change -0.285% | Epoch: 20\n",
            "Train loss: 0.5586370969601835 - Train accuracy: 0.36390602588653564 | Validation accuracy 0.3571914732456207 - Change -0.719% | Epoch: 21\n",
            "Two current guesses are\n",
            " [ 0.29700974 -0.45743978 -0.42063826] [ 0.29700974 -0.45743978 -0.42063826] for\n",
            " [ 0.19447251 -0.15006518 -0.25899142] [ 0.28236004  0.80006765 -0.57816943]\n"
          ],
          "name": "stdout"
        },
        {
          "output_type": "error",
          "ename": "KeyboardInterrupt",
          "evalue": "ignored",
          "traceback": [
            "\u001b[0;31m---------------------------------------------------------------------------\u001b[0m",
            "\u001b[0;31mKeyboardInterrupt\u001b[0m                         Traceback (most recent call last)",
            "\u001b[0;32m<ipython-input-70-cec6d675958c>\u001b[0m in \u001b[0;36m<module>\u001b[0;34m()\u001b[0m\n\u001b[1;32m     83\u001b[0m           \u001b[0mvali_inputs\u001b[0m\u001b[0;34m,\u001b[0m \u001b[0mvali_target\u001b[0m \u001b[0;34m=\u001b[0m \u001b[0mvali_batch\u001b[0m\u001b[0;34m\u001b[0m\u001b[0;34m\u001b[0m\u001b[0m\n\u001b[1;32m     84\u001b[0m           \u001b[0mvalie_inputs\u001b[0m \u001b[0;34m=\u001b[0m \u001b[0mscale_inputs\u001b[0m\u001b[0;34m(\u001b[0m\u001b[0mvali_inputs\u001b[0m\u001b[0;34m)\u001b[0m\u001b[0;34m\u001b[0m\u001b[0;34m\u001b[0m\u001b[0m\n\u001b[0;32m---> 85\u001b[0;31m           \u001b[0mvali_loss\u001b[0m\u001b[0;34m,\u001b[0m \u001b[0mva\u001b[0m \u001b[0;34m=\u001b[0m \u001b[0mvalidate\u001b[0m\u001b[0;34m(\u001b[0m\u001b[0mvali_inputs\u001b[0m\u001b[0;34m,\u001b[0m\u001b[0mvali_target\u001b[0m\u001b[0;34m)\u001b[0m\u001b[0;34m\u001b[0m\u001b[0;34m\u001b[0m\u001b[0m\n\u001b[0m\u001b[1;32m     86\u001b[0m           \u001b[0mvali_acc\u001b[0m\u001b[0;34m.\u001b[0m\u001b[0mappend\u001b[0m\u001b[0;34m(\u001b[0m\u001b[0mva\u001b[0m\u001b[0;34m)\u001b[0m\u001b[0;34m\u001b[0m\u001b[0;34m\u001b[0m\u001b[0m\n\u001b[1;32m     87\u001b[0m         \u001b[0mva\u001b[0m \u001b[0;34m=\u001b[0m \u001b[0mnp\u001b[0m\u001b[0;34m.\u001b[0m\u001b[0mmean\u001b[0m\u001b[0;34m(\u001b[0m\u001b[0mvali_acc\u001b[0m\u001b[0;34m)\u001b[0m\u001b[0;34m\u001b[0m\u001b[0;34m\u001b[0m\u001b[0m\n",
            "\u001b[0;32m<ipython-input-70-cec6d675958c>\u001b[0m in \u001b[0;36mvalidate\u001b[0;34m(inputs, target)\u001b[0m\n\u001b[1;32m     18\u001b[0m     \u001b[0mloss\u001b[0m \u001b[0;34m=\u001b[0m \u001b[0mloss_fn\u001b[0m\u001b[0;34m(\u001b[0m\u001b[0mtarget\u001b[0m\u001b[0;34m,\u001b[0m \u001b[0mpredictions\u001b[0m\u001b[0;34m)\u001b[0m\u001b[0;34m\u001b[0m\u001b[0;34m\u001b[0m\u001b[0m\n\u001b[1;32m     19\u001b[0m     \u001b[0mloss\u001b[0m \u001b[0;34m+=\u001b[0m \u001b[0msum\u001b[0m\u001b[0;34m(\u001b[0m\u001b[0mmodel\u001b[0m\u001b[0;34m.\u001b[0m\u001b[0mlosses\u001b[0m\u001b[0;34m)\u001b[0m\u001b[0;34m\u001b[0m\u001b[0;34m\u001b[0m\u001b[0m\n\u001b[0;32m---> 20\u001b[0;31m     \u001b[0macc\u001b[0m \u001b[0;34m=\u001b[0m \u001b[0macc_fn\u001b[0m\u001b[0;34m(\u001b[0m\u001b[0mtarget\u001b[0m\u001b[0;34m,\u001b[0m\u001b[0mpredictions\u001b[0m\u001b[0;34m)\u001b[0m\u001b[0;34m\u001b[0m\u001b[0;34m\u001b[0m\u001b[0m\n\u001b[0m\u001b[1;32m     21\u001b[0m \u001b[0;34m\u001b[0m\u001b[0m\n\u001b[1;32m     22\u001b[0m     \u001b[0;32mreturn\u001b[0m \u001b[0mloss\u001b[0m\u001b[0;34m,\u001b[0m \u001b[0macc\u001b[0m\u001b[0;34m\u001b[0m\u001b[0;34m\u001b[0m\u001b[0m\n",
            "\u001b[0;32m/usr/local/lib/python3.6/dist-packages/tensorflow/python/keras/losses.py\u001b[0m in \u001b[0;36m__call__\u001b[0;34m(self, y_true, y_pred, sample_weight)\u001b[0m\n\u001b[1;32m    150\u001b[0m       \u001b[0;32melse\u001b[0m\u001b[0;34m:\u001b[0m\u001b[0;34m\u001b[0m\u001b[0;34m\u001b[0m\u001b[0m\n\u001b[1;32m    151\u001b[0m         \u001b[0mcall_fn\u001b[0m \u001b[0;34m=\u001b[0m \u001b[0mautograph\u001b[0m\u001b[0;34m.\u001b[0m\u001b[0mtf_convert\u001b[0m\u001b[0;34m(\u001b[0m\u001b[0mself\u001b[0m\u001b[0;34m.\u001b[0m\u001b[0mcall\u001b[0m\u001b[0;34m,\u001b[0m \u001b[0mag_ctx\u001b[0m\u001b[0;34m.\u001b[0m\u001b[0mcontrol_status_ctx\u001b[0m\u001b[0;34m(\u001b[0m\u001b[0;34m)\u001b[0m\u001b[0;34m)\u001b[0m\u001b[0;34m\u001b[0m\u001b[0;34m\u001b[0m\u001b[0m\n\u001b[0;32m--> 152\u001b[0;31m       \u001b[0mlosses\u001b[0m \u001b[0;34m=\u001b[0m \u001b[0mcall_fn\u001b[0m\u001b[0;34m(\u001b[0m\u001b[0my_true\u001b[0m\u001b[0;34m,\u001b[0m \u001b[0my_pred\u001b[0m\u001b[0;34m)\u001b[0m\u001b[0;34m\u001b[0m\u001b[0;34m\u001b[0m\u001b[0m\n\u001b[0m\u001b[1;32m    153\u001b[0m       return losses_utils.compute_weighted_loss(\n\u001b[1;32m    154\u001b[0m           losses, sample_weight, reduction=self._get_reduction())\n",
            "\u001b[0;32m/usr/local/lib/python3.6/dist-packages/tensorflow/python/keras/losses.py\u001b[0m in \u001b[0;36mcall\u001b[0;34m(self, y_true, y_pred)\u001b[0m\n\u001b[1;32m    254\u001b[0m           y_pred, y_true)\n\u001b[1;32m    255\u001b[0m     \u001b[0mag_fn\u001b[0m \u001b[0;34m=\u001b[0m \u001b[0mautograph\u001b[0m\u001b[0;34m.\u001b[0m\u001b[0mtf_convert\u001b[0m\u001b[0;34m(\u001b[0m\u001b[0mself\u001b[0m\u001b[0;34m.\u001b[0m\u001b[0mfn\u001b[0m\u001b[0;34m,\u001b[0m \u001b[0mag_ctx\u001b[0m\u001b[0;34m.\u001b[0m\u001b[0mcontrol_status_ctx\u001b[0m\u001b[0;34m(\u001b[0m\u001b[0;34m)\u001b[0m\u001b[0;34m)\u001b[0m\u001b[0;34m\u001b[0m\u001b[0;34m\u001b[0m\u001b[0m\n\u001b[0;32m--> 256\u001b[0;31m     \u001b[0;32mreturn\u001b[0m \u001b[0mag_fn\u001b[0m\u001b[0;34m(\u001b[0m\u001b[0my_true\u001b[0m\u001b[0;34m,\u001b[0m \u001b[0my_pred\u001b[0m\u001b[0;34m,\u001b[0m \u001b[0;34m**\u001b[0m\u001b[0mself\u001b[0m\u001b[0;34m.\u001b[0m\u001b[0m_fn_kwargs\u001b[0m\u001b[0;34m)\u001b[0m\u001b[0;34m\u001b[0m\u001b[0;34m\u001b[0m\u001b[0m\n\u001b[0m\u001b[1;32m    257\u001b[0m \u001b[0;34m\u001b[0m\u001b[0m\n\u001b[1;32m    258\u001b[0m   \u001b[0;32mdef\u001b[0m \u001b[0mget_config\u001b[0m\u001b[0;34m(\u001b[0m\u001b[0mself\u001b[0m\u001b[0;34m)\u001b[0m\u001b[0;34m:\u001b[0m\u001b[0;34m\u001b[0m\u001b[0;34m\u001b[0m\u001b[0m\n",
            "\u001b[0;32m/usr/local/lib/python3.6/dist-packages/tensorflow/python/util/dispatch.py\u001b[0m in \u001b[0;36mwrapper\u001b[0;34m(*args, **kwargs)\u001b[0m\n\u001b[1;32m    199\u001b[0m     \u001b[0;34m\"\"\"Call target, and fall back on dispatchers if there is a TypeError.\"\"\"\u001b[0m\u001b[0;34m\u001b[0m\u001b[0;34m\u001b[0m\u001b[0m\n\u001b[1;32m    200\u001b[0m     \u001b[0;32mtry\u001b[0m\u001b[0;34m:\u001b[0m\u001b[0;34m\u001b[0m\u001b[0;34m\u001b[0m\u001b[0m\n\u001b[0;32m--> 201\u001b[0;31m       \u001b[0;32mreturn\u001b[0m \u001b[0mtarget\u001b[0m\u001b[0;34m(\u001b[0m\u001b[0;34m*\u001b[0m\u001b[0margs\u001b[0m\u001b[0;34m,\u001b[0m \u001b[0;34m**\u001b[0m\u001b[0mkwargs\u001b[0m\u001b[0;34m)\u001b[0m\u001b[0;34m\u001b[0m\u001b[0;34m\u001b[0m\u001b[0m\n\u001b[0m\u001b[1;32m    202\u001b[0m     \u001b[0;32mexcept\u001b[0m \u001b[0;34m(\u001b[0m\u001b[0mTypeError\u001b[0m\u001b[0;34m,\u001b[0m \u001b[0mValueError\u001b[0m\u001b[0;34m)\u001b[0m\u001b[0;34m:\u001b[0m\u001b[0;34m\u001b[0m\u001b[0;34m\u001b[0m\u001b[0m\n\u001b[1;32m    203\u001b[0m       \u001b[0;31m# Note: convert_to_eager_tensor currently raises a ValueError, not a\u001b[0m\u001b[0;34m\u001b[0m\u001b[0;34m\u001b[0m\u001b[0;34m\u001b[0m\u001b[0m\n",
            "\u001b[0;32m/usr/local/lib/python3.6/dist-packages/tensorflow/python/keras/losses.py\u001b[0m in \u001b[0;36mmean_absolute_error\u001b[0;34m(y_true, y_pred)\u001b[0m\n\u001b[1;32m   1228\u001b[0m   \"\"\"\n\u001b[1;32m   1229\u001b[0m   \u001b[0my_pred\u001b[0m \u001b[0;34m=\u001b[0m \u001b[0mops\u001b[0m\u001b[0;34m.\u001b[0m\u001b[0mconvert_to_tensor_v2_with_dispatch\u001b[0m\u001b[0;34m(\u001b[0m\u001b[0my_pred\u001b[0m\u001b[0;34m)\u001b[0m\u001b[0;34m\u001b[0m\u001b[0;34m\u001b[0m\u001b[0m\n\u001b[0;32m-> 1230\u001b[0;31m   \u001b[0my_true\u001b[0m \u001b[0;34m=\u001b[0m \u001b[0mmath_ops\u001b[0m\u001b[0;34m.\u001b[0m\u001b[0mcast\u001b[0m\u001b[0;34m(\u001b[0m\u001b[0my_true\u001b[0m\u001b[0;34m,\u001b[0m \u001b[0my_pred\u001b[0m\u001b[0;34m.\u001b[0m\u001b[0mdtype\u001b[0m\u001b[0;34m)\u001b[0m\u001b[0;34m\u001b[0m\u001b[0;34m\u001b[0m\u001b[0m\n\u001b[0m\u001b[1;32m   1231\u001b[0m   \u001b[0;32mreturn\u001b[0m \u001b[0mK\u001b[0m\u001b[0;34m.\u001b[0m\u001b[0mmean\u001b[0m\u001b[0;34m(\u001b[0m\u001b[0mmath_ops\u001b[0m\u001b[0;34m.\u001b[0m\u001b[0mabs\u001b[0m\u001b[0;34m(\u001b[0m\u001b[0my_pred\u001b[0m \u001b[0;34m-\u001b[0m \u001b[0my_true\u001b[0m\u001b[0;34m)\u001b[0m\u001b[0;34m,\u001b[0m \u001b[0maxis\u001b[0m\u001b[0;34m=\u001b[0m\u001b[0;34m-\u001b[0m\u001b[0;36m1\u001b[0m\u001b[0;34m)\u001b[0m\u001b[0;34m\u001b[0m\u001b[0;34m\u001b[0m\u001b[0m\n\u001b[1;32m   1232\u001b[0m \u001b[0;34m\u001b[0m\u001b[0m\n",
            "\u001b[0;32m/usr/local/lib/python3.6/dist-packages/tensorflow/python/util/dispatch.py\u001b[0m in \u001b[0;36mwrapper\u001b[0;34m(*args, **kwargs)\u001b[0m\n\u001b[1;32m    199\u001b[0m     \u001b[0;34m\"\"\"Call target, and fall back on dispatchers if there is a TypeError.\"\"\"\u001b[0m\u001b[0;34m\u001b[0m\u001b[0;34m\u001b[0m\u001b[0m\n\u001b[1;32m    200\u001b[0m     \u001b[0;32mtry\u001b[0m\u001b[0;34m:\u001b[0m\u001b[0;34m\u001b[0m\u001b[0;34m\u001b[0m\u001b[0m\n\u001b[0;32m--> 201\u001b[0;31m       \u001b[0;32mreturn\u001b[0m \u001b[0mtarget\u001b[0m\u001b[0;34m(\u001b[0m\u001b[0;34m*\u001b[0m\u001b[0margs\u001b[0m\u001b[0;34m,\u001b[0m \u001b[0;34m**\u001b[0m\u001b[0mkwargs\u001b[0m\u001b[0;34m)\u001b[0m\u001b[0;34m\u001b[0m\u001b[0;34m\u001b[0m\u001b[0m\n\u001b[0m\u001b[1;32m    202\u001b[0m     \u001b[0;32mexcept\u001b[0m \u001b[0;34m(\u001b[0m\u001b[0mTypeError\u001b[0m\u001b[0;34m,\u001b[0m \u001b[0mValueError\u001b[0m\u001b[0;34m)\u001b[0m\u001b[0;34m:\u001b[0m\u001b[0;34m\u001b[0m\u001b[0;34m\u001b[0m\u001b[0m\n\u001b[1;32m    203\u001b[0m       \u001b[0;31m# Note: convert_to_eager_tensor currently raises a ValueError, not a\u001b[0m\u001b[0;34m\u001b[0m\u001b[0;34m\u001b[0m\u001b[0;34m\u001b[0m\u001b[0m\n",
            "\u001b[0;32m/usr/local/lib/python3.6/dist-packages/tensorflow/python/ops/math_ops.py\u001b[0m in \u001b[0;36mcast\u001b[0;34m(x, dtype, name)\u001b[0m\n\u001b[1;32m    964\u001b[0m       \u001b[0mx\u001b[0m \u001b[0;34m=\u001b[0m \u001b[0mops\u001b[0m\u001b[0;34m.\u001b[0m\u001b[0mconvert_to_tensor\u001b[0m\u001b[0;34m(\u001b[0m\u001b[0mx\u001b[0m\u001b[0;34m,\u001b[0m \u001b[0mname\u001b[0m\u001b[0;34m=\u001b[0m\u001b[0;34m\"x\"\u001b[0m\u001b[0;34m)\u001b[0m\u001b[0;34m\u001b[0m\u001b[0;34m\u001b[0m\u001b[0m\n\u001b[1;32m    965\u001b[0m       \u001b[0;32mif\u001b[0m \u001b[0mx\u001b[0m\u001b[0;34m.\u001b[0m\u001b[0mdtype\u001b[0m\u001b[0;34m.\u001b[0m\u001b[0mbase_dtype\u001b[0m \u001b[0;34m!=\u001b[0m \u001b[0mbase_type\u001b[0m\u001b[0;34m:\u001b[0m\u001b[0;34m\u001b[0m\u001b[0;34m\u001b[0m\u001b[0m\n\u001b[0;32m--> 966\u001b[0;31m         \u001b[0mx\u001b[0m \u001b[0;34m=\u001b[0m \u001b[0mgen_math_ops\u001b[0m\u001b[0;34m.\u001b[0m\u001b[0mcast\u001b[0m\u001b[0;34m(\u001b[0m\u001b[0mx\u001b[0m\u001b[0;34m,\u001b[0m \u001b[0mbase_type\u001b[0m\u001b[0;34m,\u001b[0m \u001b[0mname\u001b[0m\u001b[0;34m=\u001b[0m\u001b[0mname\u001b[0m\u001b[0;34m)\u001b[0m\u001b[0;34m\u001b[0m\u001b[0;34m\u001b[0m\u001b[0m\n\u001b[0m\u001b[1;32m    967\u001b[0m     \u001b[0;32mif\u001b[0m \u001b[0mx\u001b[0m\u001b[0;34m.\u001b[0m\u001b[0mdtype\u001b[0m\u001b[0;34m.\u001b[0m\u001b[0mis_complex\u001b[0m \u001b[0;32mand\u001b[0m \u001b[0mbase_type\u001b[0m\u001b[0;34m.\u001b[0m\u001b[0mis_floating\u001b[0m\u001b[0;34m:\u001b[0m\u001b[0;34m\u001b[0m\u001b[0;34m\u001b[0m\u001b[0m\n\u001b[1;32m    968\u001b[0m       \u001b[0mlogging\u001b[0m\u001b[0;34m.\u001b[0m\u001b[0mwarn\u001b[0m\u001b[0;34m(\u001b[0m\u001b[0;34m\"Casting complex to real discards imaginary part.\"\u001b[0m\u001b[0;34m)\u001b[0m\u001b[0;34m\u001b[0m\u001b[0;34m\u001b[0m\u001b[0m\n",
            "\u001b[0;32m/usr/local/lib/python3.6/dist-packages/tensorflow/python/ops/gen_math_ops.py\u001b[0m in \u001b[0;36mcast\u001b[0;34m(x, DstT, Truncate, name)\u001b[0m\n\u001b[1;32m   1822\u001b[0m     \u001b[0;32mtry\u001b[0m\u001b[0;34m:\u001b[0m\u001b[0;34m\u001b[0m\u001b[0;34m\u001b[0m\u001b[0m\n\u001b[1;32m   1823\u001b[0m       _result = pywrap_tfe.TFE_Py_FastPathExecute(\n\u001b[0;32m-> 1824\u001b[0;31m         _ctx, \"Cast\", name, x, \"DstT\", DstT, \"Truncate\", Truncate)\n\u001b[0m\u001b[1;32m   1825\u001b[0m       \u001b[0;32mreturn\u001b[0m \u001b[0m_result\u001b[0m\u001b[0;34m\u001b[0m\u001b[0;34m\u001b[0m\u001b[0m\n\u001b[1;32m   1826\u001b[0m     \u001b[0;32mexcept\u001b[0m \u001b[0m_core\u001b[0m\u001b[0;34m.\u001b[0m\u001b[0m_NotOkStatusException\u001b[0m \u001b[0;32mas\u001b[0m \u001b[0me\u001b[0m\u001b[0;34m:\u001b[0m\u001b[0;34m\u001b[0m\u001b[0;34m\u001b[0m\u001b[0m\n",
            "\u001b[0;31mKeyboardInterrupt\u001b[0m: "
          ]
        }
      ]
    },
    {
      "cell_type": "code",
      "metadata": {
        "id": "B_SPsOYQ6vEE"
      },
      "source": [
        "model.save(\"200SavedModel-AnglesEnergy\")\r\n",
        "\r\n",
        "dataset_targets = [\"energy_log10\",\"azimuth\",\"zenith\"]\r\n",
        "# dataset targets = [\"energy_log10\", \"position_x\", \"position_y\", \"position_z\", \"direction_x\", \"direction_y\", \"direction_z\"]"
      ],
      "execution_count": null,
      "outputs": []
    },
    {
      "cell_type": "code",
      "metadata": {
        "id": "I9HRMFDIzWyU"
      },
      "source": [
        "################################################################################\r\n",
        "# EVALUATE MODEL\r\n",
        "################################################################################\r\n",
        "print(\"Testing model\")\r\n",
        "model_loss = 0\r\n",
        "model_acc = 0\r\n",
        "steps = 0\r\n",
        "test_loader = DisjointLoader(dataset_te, batch_size=batch_size, epochs=1)\r\n",
        "\r\n",
        "guesses, diffs, energies = [],[],[]\r\n",
        "for batch in test_loader:\r\n",
        "  steps += 1\r\n",
        "  inputs, target = batch\r\n",
        "  inputs[0][:,:3] = inputs[0][:,:3]/100 # x y z\r\n",
        "  inputs[0][:,3] = inputs[0][:,3]/10000 # time\r\n",
        "  inputs[0][:,4] = inputs[0][:,4]/1 # charge\r\n",
        "\r\n",
        "\r\n",
        "  predictions = model(inputs, training=False)\r\n",
        "  guesses.append(predictions[:,1])\r\n",
        "  diffs.append(abs(predictions[:,1]-target[:,1]))\r\n",
        "  energies.append(target[:,0])\r\n",
        "  model_loss += loss_fn(target, predictions)\r\n",
        "  model_acc += acc_fn(target, predictions)\r\n",
        "\r\n",
        "guesses = np.array(guesses).ravel()\r\n",
        "energies = np.array(energies).ravel()\r\n",
        "diffs = np.array(diffs).ravel()\r\n",
        "print(\"An example for guesses is:\")\r\n",
        "print(guesses[:5],\"for\",energies[:5])\r\n",
        "\r\n",
        "\r\n",
        "\r\n",
        "print(\"Done! \\nTest loss: {}\\nTest Acc: {}\".format(model_loss/steps, model_acc/steps))\r\n",
        "\r\n"
      ],
      "execution_count": null,
      "outputs": []
    },
    {
      "cell_type": "code",
      "metadata": {
        "id": "bG28tUQz4M_s"
      },
      "source": [
        "len(diffs)"
      ],
      "execution_count": null,
      "outputs": []
    },
    {
      "cell_type": "code",
      "metadata": {
        "id": "XXxdXF4rQq5-"
      },
      "source": [
        "import matplotlib.pyplot as plt\r\n",
        "\r\n",
        "plt.figure(figsize=(14,6))\r\n",
        "plt.plot(energies,diffs,'.')"
      ],
      "execution_count": null,
      "outputs": []
    },
    {
      "cell_type": "code",
      "metadata": {
        "id": "w7l1zSJP6oHr"
      },
      "source": [
        "diffs[0][1]"
      ],
      "execution_count": null,
      "outputs": []
    }
  ]
}