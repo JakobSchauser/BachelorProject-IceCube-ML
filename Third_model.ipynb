{
  "nbformat": 4,
  "nbformat_minor": 0,
  "metadata": {
    "colab": {
      "name": "Third model",
      "provenance": [],
      "collapsed_sections": [],
      "mount_file_id": "1KmYziF-evb-Oo1jFnSCyyDi48yTW9OGI",
      "authorship_tag": "ABX9TyPiI8jf5n1QD/HxVUlShAOB",
      "include_colab_link": true
    },
    "kernelspec": {
      "name": "python3",
      "display_name": "Python 3"
    },
    "accelerator": "GPU",
    "widgets": {
      "application/vnd.jupyter.widget-state+json": {
        "ff8dd1fe0f4f47c1bbff46d3ff9a3778": {
          "model_module": "@jupyter-widgets/controls",
          "model_name": "HBoxModel",
          "state": {
            "_view_name": "HBoxView",
            "_dom_classes": [],
            "_model_name": "HBoxModel",
            "_view_module": "@jupyter-widgets/controls",
            "_model_module_version": "1.5.0",
            "_view_count": null,
            "_view_module_version": "1.5.0",
            "box_style": "",
            "layout": "IPY_MODEL_6862e645d29143d9af06f26085a8eee9",
            "_model_module": "@jupyter-widgets/controls",
            "children": [
              "IPY_MODEL_9690d63f7a164592a058cc50df591615",
              "IPY_MODEL_6fef4f2fd1c743f5b4e4d435a74afd6c"
            ]
          }
        },
        "6862e645d29143d9af06f26085a8eee9": {
          "model_module": "@jupyter-widgets/base",
          "model_name": "LayoutModel",
          "state": {
            "_view_name": "LayoutView",
            "grid_template_rows": null,
            "right": null,
            "justify_content": null,
            "_view_module": "@jupyter-widgets/base",
            "overflow": null,
            "_model_module_version": "1.2.0",
            "_view_count": null,
            "flex_flow": null,
            "width": null,
            "min_width": null,
            "border": null,
            "align_items": null,
            "bottom": null,
            "_model_module": "@jupyter-widgets/base",
            "top": null,
            "grid_column": null,
            "overflow_y": null,
            "overflow_x": null,
            "grid_auto_flow": null,
            "grid_area": null,
            "grid_template_columns": null,
            "flex": null,
            "_model_name": "LayoutModel",
            "justify_items": null,
            "grid_row": null,
            "max_height": null,
            "align_content": null,
            "visibility": null,
            "align_self": null,
            "height": null,
            "min_height": null,
            "padding": null,
            "grid_auto_rows": null,
            "grid_gap": null,
            "max_width": null,
            "order": null,
            "_view_module_version": "1.2.0",
            "grid_template_areas": null,
            "object_position": null,
            "object_fit": null,
            "grid_auto_columns": null,
            "margin": null,
            "display": null,
            "left": null
          }
        },
        "9690d63f7a164592a058cc50df591615": {
          "model_module": "@jupyter-widgets/controls",
          "model_name": "FloatProgressModel",
          "state": {
            "_view_name": "ProgressView",
            "style": "IPY_MODEL_149c840606af4ee8993e3c7713e8be6a",
            "_dom_classes": [],
            "description": "Currently on epoch 41 of 200:  21%",
            "_model_name": "FloatProgressModel",
            "bar_style": "danger",
            "max": 562600,
            "_view_module": "@jupyter-widgets/controls",
            "_model_module_version": "1.5.0",
            "value": 116119,
            "_view_count": null,
            "_view_module_version": "1.5.0",
            "orientation": "horizontal",
            "min": 0,
            "description_tooltip": null,
            "_model_module": "@jupyter-widgets/controls",
            "layout": "IPY_MODEL_79319c2898814c9caa4baf6596cd8475"
          }
        },
        "6fef4f2fd1c743f5b4e4d435a74afd6c": {
          "model_module": "@jupyter-widgets/controls",
          "model_name": "HTMLModel",
          "state": {
            "_view_name": "HTMLView",
            "style": "IPY_MODEL_1297bc6ab6a54274baa28320be3222b9",
            "_dom_classes": [],
            "description": "",
            "_model_name": "HTMLModel",
            "placeholder": "​",
            "_view_module": "@jupyter-widgets/controls",
            "_model_module_version": "1.5.0",
            "value": " 116119/562600 [19:10&lt;1:10:49, 105.08it/s]",
            "_view_count": null,
            "_view_module_version": "1.5.0",
            "description_tooltip": null,
            "_model_module": "@jupyter-widgets/controls",
            "layout": "IPY_MODEL_b8f7b8df37ba464b9e772eeb2e9870b1"
          }
        },
        "149c840606af4ee8993e3c7713e8be6a": {
          "model_module": "@jupyter-widgets/controls",
          "model_name": "ProgressStyleModel",
          "state": {
            "_view_name": "StyleView",
            "_model_name": "ProgressStyleModel",
            "description_width": "initial",
            "_view_module": "@jupyter-widgets/base",
            "_model_module_version": "1.5.0",
            "_view_count": null,
            "_view_module_version": "1.2.0",
            "bar_color": null,
            "_model_module": "@jupyter-widgets/controls"
          }
        },
        "79319c2898814c9caa4baf6596cd8475": {
          "model_module": "@jupyter-widgets/base",
          "model_name": "LayoutModel",
          "state": {
            "_view_name": "LayoutView",
            "grid_template_rows": null,
            "right": null,
            "justify_content": null,
            "_view_module": "@jupyter-widgets/base",
            "overflow": null,
            "_model_module_version": "1.2.0",
            "_view_count": null,
            "flex_flow": null,
            "width": null,
            "min_width": null,
            "border": null,
            "align_items": null,
            "bottom": null,
            "_model_module": "@jupyter-widgets/base",
            "top": null,
            "grid_column": null,
            "overflow_y": null,
            "overflow_x": null,
            "grid_auto_flow": null,
            "grid_area": null,
            "grid_template_columns": null,
            "flex": null,
            "_model_name": "LayoutModel",
            "justify_items": null,
            "grid_row": null,
            "max_height": null,
            "align_content": null,
            "visibility": null,
            "align_self": null,
            "height": null,
            "min_height": null,
            "padding": null,
            "grid_auto_rows": null,
            "grid_gap": null,
            "max_width": null,
            "order": null,
            "_view_module_version": "1.2.0",
            "grid_template_areas": null,
            "object_position": null,
            "object_fit": null,
            "grid_auto_columns": null,
            "margin": null,
            "display": null,
            "left": null
          }
        },
        "1297bc6ab6a54274baa28320be3222b9": {
          "model_module": "@jupyter-widgets/controls",
          "model_name": "DescriptionStyleModel",
          "state": {
            "_view_name": "StyleView",
            "_model_name": "DescriptionStyleModel",
            "description_width": "",
            "_view_module": "@jupyter-widgets/base",
            "_model_module_version": "1.5.0",
            "_view_count": null,
            "_view_module_version": "1.2.0",
            "_model_module": "@jupyter-widgets/controls"
          }
        },
        "b8f7b8df37ba464b9e772eeb2e9870b1": {
          "model_module": "@jupyter-widgets/base",
          "model_name": "LayoutModel",
          "state": {
            "_view_name": "LayoutView",
            "grid_template_rows": null,
            "right": null,
            "justify_content": null,
            "_view_module": "@jupyter-widgets/base",
            "overflow": null,
            "_model_module_version": "1.2.0",
            "_view_count": null,
            "flex_flow": null,
            "width": null,
            "min_width": null,
            "border": null,
            "align_items": null,
            "bottom": null,
            "_model_module": "@jupyter-widgets/base",
            "top": null,
            "grid_column": null,
            "overflow_y": null,
            "overflow_x": null,
            "grid_auto_flow": null,
            "grid_area": null,
            "grid_template_columns": null,
            "flex": null,
            "_model_name": "LayoutModel",
            "justify_items": null,
            "grid_row": null,
            "max_height": null,
            "align_content": null,
            "visibility": null,
            "align_self": null,
            "height": null,
            "min_height": null,
            "padding": null,
            "grid_auto_rows": null,
            "grid_gap": null,
            "max_width": null,
            "order": null,
            "_view_module_version": "1.2.0",
            "grid_template_areas": null,
            "object_position": null,
            "object_fit": null,
            "grid_auto_columns": null,
            "margin": null,
            "display": null,
            "left": null
          }
        }
      }
    }
  },
  "cells": [
    {
      "cell_type": "markdown",
      "metadata": {
        "id": "view-in-github",
        "colab_type": "text"
      },
      "source": [
        "<a href=\"https://colab.research.google.com/github/JakobSchauser/BachelorProject-IceCube-ML/blob/main/Third_model.ipynb\" target=\"_parent\"><img src=\"https://colab.research.google.com/assets/colab-badge.svg\" alt=\"Open In Colab\"/></a>"
      ]
    },
    {
      "cell_type": "code",
      "metadata": {
        "id": "1tn8Ldcmh-XQ"
      },
      "source": [
        "!pip install spektral -q"
      ],
      "execution_count": 42,
      "outputs": []
    },
    {
      "cell_type": "code",
      "metadata": {
        "id": "59KUY4_0TB4L"
      },
      "source": [
        "import numpy as np\r\n",
        "import tensorflow as tf\r\n",
        "from tensorflow.keras.layers import Dense, Input\r\n",
        "from tensorflow.keras.losses import MeanSquaredError\r\n",
        "from tensorflow.keras.metrics import MeanAbsoluteError\r\n",
        "from tensorflow.keras.models import Model\r\n",
        "from tensorflow.keras.optimizers import Adam\r\n",
        "\r\n",
        "from spektral.data import DisjointLoader, Dataset\r\n",
        "from spektral.datasets import QM9\r\n",
        "from spektral.layers import ECCConv, GlobalSumPool, GCNConv\r\n",
        "\r\n",
        "from tqdm.notebook import tqdm"
      ],
      "execution_count": 43,
      "outputs": []
    },
    {
      "cell_type": "code",
      "metadata": {
        "colab": {
          "base_uri": "https://localhost:8080/"
        },
        "id": "iHnsDHyBy61O",
        "outputId": "b0bb4812-9eba-49be-bd85-1b8fe6da2004"
      },
      "source": [
        "################################################################################\r\n",
        "# LOAD DATA\r\n",
        "################################################################################\r\n",
        "\r\n",
        "class dat(Dataset):\r\n",
        "  def __init__(self,n = 1,**kwargs):\r\n",
        "    self.n = n\r\n",
        "    super().__init__(**kwargs)\r\n",
        "  def read(self):\r\n",
        "    # path = \"/content/drive/MyDrive/Bachelor Project - IceCube ML/generatedDataEnergy100000 0.npz\"\r\n",
        "    path = \"/content/drive/MyDrive/Bachelor Project - IceCube ML/data.dat\"\r\n",
        "    dataset = np.load(path,allow_pickle = True)#[\"arr_0\"]\r\n",
        "    graphs = []\r\n",
        "    for g in dataset:\r\n",
        "      graphs.append(g)\r\n",
        "    return np.array(dataset)\r\n",
        "\r\n",
        "dataset = dat()\r\n",
        "\r\n",
        "print(\"Dataset is\", dataset, \"consisting of\", dataset[0])\r\n",
        "\r\n",
        "\r\n",
        "\r\n",
        "#### Put on GPU when possible\r\n",
        "physical_devices = tf.config.list_physical_devices('GPU')\r\n",
        "if len(physical_devices) > 0:\r\n",
        "    print(\"Running on GPU\")\r\n",
        "    tf.config.experimental.set_memory_growth(physical_devices[0], True)\r\n",
        "else:\r\n",
        "    print(\"Running on CPU\")"
      ],
      "execution_count": 44,
      "outputs": [
        {
          "output_type": "stream",
          "text": [
            "\n",
            "\n",
            "\n",
            "Dataset is dat(n_graphs=100000) consisting of Graph(n_nodes=34, n_node_features=5, n_edge_features=None, n_labels=7)\n",
            "Running on GPU\n"
          ],
          "name": "stdout"
        }
      ]
    },
    {
      "cell_type": "code",
      "metadata": {
        "id": "e1u8tIgjzKys"
      },
      "source": [
        "################################################################################\r\n",
        "# PARAMETERS\r\n",
        "################################################################################\r\n",
        "learning_rate = 1e-3  # Learning rate\r\n",
        "epochs = 200  # Number of training epochs\r\n",
        "batch_size = 32  # Batch size\r\n",
        "\r\n",
        "network_size = 32 # one-variable network size changer\r\n",
        "\r\n",
        "\r\n",
        "# Parameters\r\n",
        "F = dataset.n_node_features  # Dimension of node features\r\n",
        "S = dataset.n_edge_features  # Dimension of edge features\r\n",
        "n_out = dataset.n_labels  # Dimension of the target\r\n",
        "\r\n",
        "# Train/test split\r\n",
        "idxs = np.random.permutation(len(dataset))\r\n",
        "split = int(0.9 * len(dataset))\r\n",
        "idx_tr, idx_te = np.split(idxs, [split])\r\n",
        "dataset_tr, dataset_te = dataset[idx_tr], dataset[idx_te]\r\n",
        "\r\n",
        "train_loader = DisjointLoader(dataset_tr, batch_size=batch_size, epochs=epochs)\r\n",
        "test_loader = DisjointLoader(dataset_te, batch_size=batch_size, epochs=1)"
      ],
      "execution_count": 52,
      "outputs": []
    },
    {
      "cell_type": "code",
      "metadata": {
        "colab": {
          "base_uri": "https://localhost:8080/"
        },
        "id": "VWxWP7-KzOy8",
        "outputId": "f02d715c-8e33-423b-90b6-dfc9d36905f6"
      },
      "source": [
        "################################################################################\r\n",
        "# BUILD MODEL\r\n",
        "################################################################################\r\n",
        "X_in = Input(shape=(F,), name=\"X_in\")\r\n",
        "A_in = Input(shape=(None,), sparse=True, name=\"A_in\")\r\n",
        "# E_in = Input(shape=(S,), name=\"E_in\")\r\n",
        "I_in = Input(shape=(), name=\"segment_ids_in\", dtype=tf.int32)\r\n",
        "\r\n",
        "X_1 = GCNConv(32, activation=\"relu\")([X_in, A_in])\r\n",
        "X_2 = GCNConv(32, activation=\"relu\")([X_1, A_in])\r\n",
        "X_3 = GlobalSumPool()([X_2, I_in])\r\n",
        "output = Dense(n_out)(X_3)\r\n",
        "\r\n",
        "# Build model\r\n",
        "model = Model(inputs=[X_in, A_in, I_in], outputs=output)\r\n",
        "opt = Adam(lr=learning_rate)\r\n",
        "loss_fn = MeanSquaredError()\r\n",
        "acc_fn = MeanAbsoluteError()\r\n",
        "model.compile()\r\n",
        "model.summary()\r\n"
      ],
      "execution_count": 54,
      "outputs": [
        {
          "output_type": "stream",
          "text": [
            "Model: \"model_6\"\n",
            "__________________________________________________________________________________________________\n",
            "Layer (type)                    Output Shape         Param #     Connected to                     \n",
            "==================================================================================================\n",
            "X_in (InputLayer)               [(None, 5)]          0                                            \n",
            "__________________________________________________________________________________________________\n",
            "A_in (InputLayer)               [(None, None)]       0                                            \n",
            "__________________________________________________________________________________________________\n",
            "gcn_conv_12 (GCNConv)           (None, 32)           160         X_in[0][0]                       \n",
            "                                                                 A_in[0][0]                       \n",
            "__________________________________________________________________________________________________\n",
            "gcn_conv_13 (GCNConv)           (None, 32)           1024        gcn_conv_12[0][0]                \n",
            "                                                                 A_in[0][0]                       \n",
            "__________________________________________________________________________________________________\n",
            "segment_ids_in (InputLayer)     [(None,)]            0                                            \n",
            "__________________________________________________________________________________________________\n",
            "global_sum_pool_6 (GlobalSumPoo (None, 32)           0           gcn_conv_13[0][0]                \n",
            "                                                                 segment_ids_in[0][0]             \n",
            "__________________________________________________________________________________________________\n",
            "dense_6 (Dense)                 (None, 7)            231         global_sum_pool_6[0][0]          \n",
            "==================================================================================================\n",
            "Total params: 1,415\n",
            "Trainable params: 1,415\n",
            "Non-trainable params: 0\n",
            "__________________________________________________________________________________________________\n"
          ],
          "name": "stdout"
        }
      ]
    },
    {
      "cell_type": "code",
      "metadata": {
        "colab": {
          "base_uri": "https://localhost:8080/",
          "height": 1000,
          "referenced_widgets": [
            "ff8dd1fe0f4f47c1bbff46d3ff9a3778",
            "6862e645d29143d9af06f26085a8eee9",
            "9690d63f7a164592a058cc50df591615",
            "6fef4f2fd1c743f5b4e4d435a74afd6c",
            "149c840606af4ee8993e3c7713e8be6a",
            "79319c2898814c9caa4baf6596cd8475",
            "1297bc6ab6a54274baa28320be3222b9",
            "b8f7b8df37ba464b9e772eeb2e9870b1"
          ]
        },
        "id": "97DVDQvbzTGU",
        "outputId": "05d2516d-d1ba-41ba-a152-5028345df852"
      },
      "source": [
        "################################################################################\r\n",
        "# FIT MODEL\r\n",
        "################################################################################\r\n",
        "@tf.function(input_signature=train_loader.tf_signature(), experimental_relax_shapes=True)\r\n",
        "def train_step(inputs, target):\r\n",
        "    with tf.GradientTape() as tape:\r\n",
        "        predictions = model(inputs, training=True)\r\n",
        "        loss = loss_fn(target, predictions)\r\n",
        "        acc = acc_fn(target,predictions)\r\n",
        "        loss += sum(model.losses)\r\n",
        "    gradients = tape.gradient(loss, model.trainable_variables)\r\n",
        "    opt.apply_gradients(zip(gradients, model.trainable_variables))\r\n",
        "    return loss, acc\r\n",
        "\r\n",
        "\r\n",
        " \r\n",
        "print(\"Fitting model\")\r\n",
        "current_batch = 0\r\n",
        "model_loss = 0\r\n",
        "model_acc = 0\r\n",
        "\r\n",
        "epoch = 0\r\n",
        "\r\n",
        "epoch_steps = train_loader.steps_per_epoch\r\n",
        "\r\n",
        "\r\n",
        "\r\n",
        "t = tqdm(train_loader,initial = 0,total = train_loader.epochs*epoch_steps)\r\n",
        "pb = []\r\n",
        "tar = []\r\n",
        "for batch in t:\r\n",
        "    loss, acc = train_step(*batch)\r\n",
        "\r\n",
        "    model_loss += loss\r\n",
        "    model_acc += acc\r\n",
        "    current_batch += 1\r\n",
        "    t.set_description(f'Currently on epoch {epoch} of {epochs}')\r\n",
        "    if current_batch == epoch_steps:\r\n",
        "        s = \"Loss: {} - Accuracy: {} - Epoch: {}\".format(model_loss/epoch_steps, model_acc/epoch_steps, epoch)\r\n",
        "        t.write(s)\r\n",
        "        epoch += 1\r\n",
        "        if epoch%2 == 0:\r\n",
        "          print(\"Two current guesses are\\n\",np.array(pb[0][:3]),np.array(pb[1][:3]),\"for\\n\",tar[0][:3],tar[1][:3])\r\n",
        "        else:\r\n",
        "          inp, tar = batch\r\n",
        "          pb = model(inp, training=False)\r\n",
        "        model_loss = 0\r\n",
        "        model_acc = 0\r\n",
        "        current_batch = 0\r\n",
        "      \r\n",
        "\r\n"
      ],
      "execution_count": 55,
      "outputs": [
        {
          "output_type": "stream",
          "text": [
            "Fitting model\n"
          ],
          "name": "stdout"
        },
        {
          "output_type": "display_data",
          "data": {
            "application/vnd.jupyter.widget-view+json": {
              "model_id": "ff8dd1fe0f4f47c1bbff46d3ff9a3778",
              "version_minor": 0,
              "version_major": 2
            },
            "text/plain": [
              "HBox(children=(FloatProgress(value=0.0, max=562600.0), HTML(value='')))"
            ]
          },
          "metadata": {
            "tags": []
          }
        },
        {
          "output_type": "stream",
          "text": [
            "Loss: 42899574784.0 - Accuracy: 94144.453125 - Epoch: 0\n",
            "Loss: 132292184.0 - Accuracy: 20378.873046875 - Epoch: 1\n",
            "Two current guesses are\n",
            " [ -7138.813  -17340.89     6916.2397] [-52304.062 -45185.734 -19653.541] for\n",
            " [  1.86599042 -90.87925819 -45.60904589] [  2.29320716  86.58978536 -12.01520798]\n",
            "Loss: 620779712.0 - Accuracy: 14617.0439453125 - Epoch: 2\n",
            "Loss: 237627312.0 - Accuracy: 11748.56640625 - Epoch: 3\n",
            "Two current guesses are\n",
            " [-1192.8009  -828.8773  2800.093 ] [-230.14467 -270.59604 2181.265  ] for\n",
            " [  0.84544047 -21.33659651 -88.04220241] [  2.3180051  174.69502847 -18.46663626]\n",
            "Loss: 453761984.0 - Accuracy: 10120.392578125 - Epoch: 4\n",
            "Loss: 111425520.0 - Accuracy: 9178.921875 - Epoch: 5\n",
            "Two current guesses are\n",
            " [  625.0579   -109.66494 -1371.9594 ] [-257.16083  219.64757  846.4469 ] for\n",
            " [  1.48613198  94.98485903 -71.51337071] [  1.45300105 163.9399796  -46.78458392]\n",
            "Loss: 122749304.0 - Accuracy: 8409.705078125 - Epoch: 6\n",
            "Loss: 181599888.0 - Accuracy: 7832.7705078125 - Epoch: 7\n",
            "Two current guesses are\n",
            " [-193.56723 -839.04584 1152.4585 ] [ -32.22348 -149.46768  376.3803 ] for\n",
            " [  3.23136625 -95.23762284  33.79431074] [  1.01391568  41.4237579  -55.77753179]\n",
            "Loss: 157299200.0 - Accuracy: 7357.3603515625 - Epoch: 8\n",
            "Loss: 52915904.0 - Accuracy: 6814.24658203125 - Epoch: 9\n",
            "Two current guesses are\n",
            " [ 162.21812  223.2113  -629.62744] [ 891.84314 -314.89807   69.74757] for\n",
            " [  1.33859857  62.64709132 -41.75636245] [  1.82417096  70.12991106 -55.10083138]\n",
            "Loss: 144484400.0 - Accuracy: 6519.93115234375 - Epoch: 10\n",
            "Loss: 91761080.0 - Accuracy: 6164.2998046875 - Epoch: 11\n",
            "Two current guesses are\n",
            " [1934.6461 -623.9779 -520.3047] [ 2832.7869   -477.62634 -1685.6406 ] for\n",
            " [  1.38388107 -17.58664144 -90.72826029] [   2.55574732   99.86329229 -179.17205469]\n",
            "Loss: 49875272.0 - Accuracy: 5856.81640625 - Epoch: 12\n",
            "Loss: 21613390.0 - Accuracy: 5540.07763671875 - Epoch: 13\n",
            "Two current guesses are\n",
            " [ 46.613514  59.97495  -33.117157] [-154.92555   -65.806305  191.418   ] for\n",
            " [  0.77123827 102.22344354 -70.98181152] [  1.94095146 -55.78735368  49.38758828]\n",
            "Loss: 20124792.0 - Accuracy: 5269.12451171875 - Epoch: 14\n",
            "Loss: 28185774.0 - Accuracy: 5016.6767578125 - Epoch: 15\n",
            "Two current guesses are\n",
            " [1457.8135   113.13622 1193.6609 ] [1870.8564       5.1196227 1463.0798   ] for\n",
            " [   0.73039972   83.4018025  -107.99032262] [  2.49485769 -62.73646284  96.2875952 ]\n",
            "Loss: 21759040.0 - Accuracy: 4775.533203125 - Epoch: 16\n",
            "Loss: 15940614.0 - Accuracy: 4569.34765625 - Epoch: 17\n",
            "Two current guesses are\n",
            " [ 199.66962    38.512383 -120.45848 ] [ 480.52313   52.28631 -337.27783] for\n",
            " [  1.03009715  21.36360636 -81.99789376] [ 1.18301711 26.80886206 -2.82164854]\n",
            "Loss: 3879290.25 - Accuracy: 4376.37451171875 - Epoch: 18\n",
            "Loss: 7971140.5 - Accuracy: 4188.646484375 - Epoch: 19\n",
            "Two current guesses are\n",
            " [371.62402 129.43329 205.60266] [207.21338  74.79827  90.69751] for\n",
            " [  1.82133147 122.31240962   1.93806264] [   1.23521214   -5.83798649 -128.13607644]\n",
            "Loss: 5389731.0 - Accuracy: 4016.809814453125 - Epoch: 20\n",
            "Loss: 3420203.25 - Accuracy: 3854.1611328125 - Epoch: 21\n",
            "Two current guesses are\n",
            " [ 374.13443 -165.0939   165.18927] [ 438.33755 -161.9319   151.69318] for\n",
            " [   1.77812233 -130.80005467   72.13905964] [  1.04280046  39.05216158 -95.85609986]\n",
            "Loss: 3281666.25 - Accuracy: 3708.5205078125 - Epoch: 22\n",
            "Loss: 1481918.625 - Accuracy: 3570.527099609375 - Epoch: 23\n",
            "Two current guesses are\n",
            " [ -198.40811 -1521.5293    678.53253] [ -327.3925 -2276.0256  1062.0754] for\n",
            " [   1.63183775  -77.98894212 -102.12127793] [  1.70371691 139.91113061 -96.13830151]\n",
            "Loss: 1895356.125 - Accuracy: 3443.167724609375 - Epoch: 24\n",
            "Loss: 412832.8125 - Accuracy: 3320.33740234375 - Epoch: 25\n",
            "Two current guesses are\n",
            " [-237.11502    51.254265 -106.00614 ] [-107.954865   65.66418   -47.755165] for\n",
            " [ 1.24567376  5.02118551 38.42939704] [  1.53645248  87.33613426 -65.48484302]\n",
            "Loss: 22596.43359375 - Accuracy: 3198.43017578125 - Epoch: 26\n",
            "Loss: 22287.41015625 - Accuracy: 3084.727783203125 - Epoch: 27\n",
            "Two current guesses are\n",
            " [ 0.18829173  1.6878159  -1.2266674 ] [ 0.18829173  1.6878159  -1.2266674 ] for\n",
            " [  1.70113443 -38.37550068 -12.62795011] [  1.39107584 115.76094577 -20.09356305]\n",
            "Loss: 21960.955078125 - Accuracy: 2978.965576171875 - Epoch: 28\n",
            "Loss: 21635.865234375 - Accuracy: 2880.3447265625 - Epoch: 29\n",
            "Two current guesses are\n",
            " [ 0.4173708  5.8572016 -5.205275 ] [ 0.4173708  5.8572016 -5.205275 ] for\n",
            " [  1.0519996   57.84054978 -47.21046825] [  1.23504421 137.21509617  19.54159859]\n",
            "Loss: 21315.32421875 - Accuracy: 2788.14990234375 - Epoch: 30\n",
            "Loss: 21002.287109375 - Accuracy: 2701.7783203125 - Epoch: 31\n",
            "Two current guesses are\n",
            " [ 1.4594938 10.78601   -9.910683 ] [ 1.4594938 10.78601   -9.910683 ] for\n",
            " [ 1.30203826 39.95847868  2.09226779] [   1.62242974   60.67191802 -155.60858139]\n",
            "Loss: 20697.08203125 - Accuracy: 2620.701416015625 - Epoch: 32\n",
            "Loss: 20395.6484375 - Accuracy: 2544.44384765625 - Epoch: 33\n",
            "Two current guesses are\n",
            " [  1.5117736  15.512868  -14.343458 ] [  1.5117736  15.512868  -14.343458 ] for\n",
            " [  1.53717994   5.73906895 -91.732998  ] [   1.86497427   26.54344588 -120.78524836]\n",
            "Loss: 20100.705078125 - Accuracy: 2472.591552734375 - Epoch: 34\n",
            "Loss: 19812.6484375 - Accuracy: 2404.77880859375 - Epoch: 35\n",
            "Two current guesses are\n",
            " [  1.5032967  19.967268  -18.325043 ] [  1.5032967  19.967268  -18.325043 ] for\n",
            " [  1.42431312 113.85604045 -46.28363429] [  0.96721116  90.67198549 -50.09026075]\n",
            "Loss: 19529.33203125 - Accuracy: 2340.67333984375 - Epoch: 36\n",
            "Loss: 19251.611328125 - Accuracy: 2279.976806640625 - Epoch: 37\n",
            "Two current guesses are\n",
            " [  1.5046431  24.037539  -21.70108  ] [  1.5046431  24.037539  -21.70108  ] for\n",
            " [   2.15259578 -122.92664796 -167.12113076] [   2.2211224  -101.96749686   94.94646287]\n",
            "Loss: 18977.353515625 - Accuracy: 2222.42919921875 - Epoch: 38\n",
            "Loss: 18708.904296875 - Accuracy: 2167.79296875 - Epoch: 39\n",
            "Two current guesses are\n",
            " [  1.510566  27.629213 -24.403866] [  1.510566  27.629213 -24.403866] for\n",
            " [  0.99045724 106.85784474 -48.44556007] [   2.29284459 -153.77938862   74.35164985]\n",
            "Loss: 18443.615234375 - Accuracy: 2115.85009765625 - Epoch: 40\n"
          ],
          "name": "stdout"
        },
        {
          "output_type": "error",
          "ename": "KeyboardInterrupt",
          "evalue": "ignored",
          "traceback": [
            "\u001b[0;31m---------------------------------------------------------------------------\u001b[0m",
            "\u001b[0;31mKeyboardInterrupt\u001b[0m                         Traceback (most recent call last)",
            "\u001b[0;32m<ipython-input-55-69ca40f38454>\u001b[0m in \u001b[0;36m<module>\u001b[0;34m()\u001b[0m\n\u001b[1;32m     29\u001b[0m \u001b[0mpb\u001b[0m \u001b[0;34m=\u001b[0m \u001b[0;34m[\u001b[0m\u001b[0;34m]\u001b[0m\u001b[0;34m\u001b[0m\u001b[0;34m\u001b[0m\u001b[0m\n\u001b[1;32m     30\u001b[0m \u001b[0mtar\u001b[0m \u001b[0;34m=\u001b[0m \u001b[0;34m[\u001b[0m\u001b[0;34m]\u001b[0m\u001b[0;34m\u001b[0m\u001b[0;34m\u001b[0m\u001b[0m\n\u001b[0;32m---> 31\u001b[0;31m \u001b[0;32mfor\u001b[0m \u001b[0mbatch\u001b[0m \u001b[0;32min\u001b[0m \u001b[0mt\u001b[0m\u001b[0;34m:\u001b[0m\u001b[0;34m\u001b[0m\u001b[0;34m\u001b[0m\u001b[0m\n\u001b[0m\u001b[1;32m     32\u001b[0m     \u001b[0mloss\u001b[0m\u001b[0;34m,\u001b[0m \u001b[0macc\u001b[0m \u001b[0;34m=\u001b[0m \u001b[0mtrain_step\u001b[0m\u001b[0;34m(\u001b[0m\u001b[0;34m*\u001b[0m\u001b[0mbatch\u001b[0m\u001b[0;34m)\u001b[0m\u001b[0;34m\u001b[0m\u001b[0;34m\u001b[0m\u001b[0m\n\u001b[1;32m     33\u001b[0m \u001b[0;34m\u001b[0m\u001b[0m\n",
            "\u001b[0;32m/usr/local/lib/python3.6/dist-packages/tqdm/notebook.py\u001b[0m in \u001b[0;36m__iter__\u001b[0;34m(self, *args, **kwargs)\u001b[0m\n\u001b[1;32m    213\u001b[0m     \u001b[0;32mdef\u001b[0m \u001b[0m__iter__\u001b[0m\u001b[0;34m(\u001b[0m\u001b[0mself\u001b[0m\u001b[0;34m,\u001b[0m \u001b[0;34m*\u001b[0m\u001b[0margs\u001b[0m\u001b[0;34m,\u001b[0m \u001b[0;34m**\u001b[0m\u001b[0mkwargs\u001b[0m\u001b[0;34m)\u001b[0m\u001b[0;34m:\u001b[0m\u001b[0;34m\u001b[0m\u001b[0;34m\u001b[0m\u001b[0m\n\u001b[1;32m    214\u001b[0m         \u001b[0;32mtry\u001b[0m\u001b[0;34m:\u001b[0m\u001b[0;34m\u001b[0m\u001b[0;34m\u001b[0m\u001b[0m\n\u001b[0;32m--> 215\u001b[0;31m             \u001b[0;32mfor\u001b[0m \u001b[0mobj\u001b[0m \u001b[0;32min\u001b[0m \u001b[0msuper\u001b[0m\u001b[0;34m(\u001b[0m\u001b[0mtqdm_notebook\u001b[0m\u001b[0;34m,\u001b[0m \u001b[0mself\u001b[0m\u001b[0;34m)\u001b[0m\u001b[0;34m.\u001b[0m\u001b[0m__iter__\u001b[0m\u001b[0;34m(\u001b[0m\u001b[0;34m*\u001b[0m\u001b[0margs\u001b[0m\u001b[0;34m,\u001b[0m \u001b[0;34m**\u001b[0m\u001b[0mkwargs\u001b[0m\u001b[0;34m)\u001b[0m\u001b[0;34m:\u001b[0m\u001b[0;34m\u001b[0m\u001b[0;34m\u001b[0m\u001b[0m\n\u001b[0m\u001b[1;32m    216\u001b[0m                 \u001b[0;31m# return super(tqdm...) will not catch exception\u001b[0m\u001b[0;34m\u001b[0m\u001b[0;34m\u001b[0m\u001b[0;34m\u001b[0m\u001b[0m\n\u001b[1;32m    217\u001b[0m                 \u001b[0;32myield\u001b[0m \u001b[0mobj\u001b[0m\u001b[0;34m\u001b[0m\u001b[0;34m\u001b[0m\u001b[0m\n",
            "\u001b[0;32m/usr/local/lib/python3.6/dist-packages/tqdm/std.py\u001b[0m in \u001b[0;36m__iter__\u001b[0;34m(self)\u001b[0m\n\u001b[1;32m   1102\u001b[0m                 fp_write=getattr(self.fp, 'write', sys.stderr.write))\n\u001b[1;32m   1103\u001b[0m \u001b[0;34m\u001b[0m\u001b[0m\n\u001b[0;32m-> 1104\u001b[0;31m         \u001b[0;32mfor\u001b[0m \u001b[0mobj\u001b[0m \u001b[0;32min\u001b[0m \u001b[0miterable\u001b[0m\u001b[0;34m:\u001b[0m\u001b[0;34m\u001b[0m\u001b[0;34m\u001b[0m\u001b[0m\n\u001b[0m\u001b[1;32m   1105\u001b[0m             \u001b[0;32myield\u001b[0m \u001b[0mobj\u001b[0m\u001b[0;34m\u001b[0m\u001b[0;34m\u001b[0m\u001b[0m\n\u001b[1;32m   1106\u001b[0m             \u001b[0;31m# Update and possibly print the progressbar.\u001b[0m\u001b[0;34m\u001b[0m\u001b[0;34m\u001b[0m\u001b[0;34m\u001b[0m\u001b[0m\n",
            "\u001b[0;32m/usr/local/lib/python3.6/dist-packages/spektral/data/loaders.py\u001b[0m in \u001b[0;36m__next__\u001b[0;34m(self)\u001b[0m\n\u001b[1;32m     95\u001b[0m     \u001b[0;32mdef\u001b[0m \u001b[0m__next__\u001b[0m\u001b[0;34m(\u001b[0m\u001b[0mself\u001b[0m\u001b[0;34m)\u001b[0m\u001b[0;34m:\u001b[0m\u001b[0;34m\u001b[0m\u001b[0;34m\u001b[0m\u001b[0m\n\u001b[1;32m     96\u001b[0m         \u001b[0mnxt\u001b[0m \u001b[0;34m=\u001b[0m \u001b[0mself\u001b[0m\u001b[0;34m.\u001b[0m\u001b[0m_generator\u001b[0m\u001b[0;34m.\u001b[0m\u001b[0m__next__\u001b[0m\u001b[0;34m(\u001b[0m\u001b[0;34m)\u001b[0m\u001b[0;34m\u001b[0m\u001b[0;34m\u001b[0m\u001b[0m\n\u001b[0;32m---> 97\u001b[0;31m         \u001b[0;32mreturn\u001b[0m \u001b[0mself\u001b[0m\u001b[0;34m.\u001b[0m\u001b[0mcollate\u001b[0m\u001b[0;34m(\u001b[0m\u001b[0mnxt\u001b[0m\u001b[0;34m)\u001b[0m\u001b[0;34m\u001b[0m\u001b[0;34m\u001b[0m\u001b[0m\n\u001b[0m\u001b[1;32m     98\u001b[0m \u001b[0;34m\u001b[0m\u001b[0m\n\u001b[1;32m     99\u001b[0m     \u001b[0;32mdef\u001b[0m \u001b[0mgenerator\u001b[0m\u001b[0;34m(\u001b[0m\u001b[0mself\u001b[0m\u001b[0;34m)\u001b[0m\u001b[0;34m:\u001b[0m\u001b[0;34m\u001b[0m\u001b[0;34m\u001b[0m\u001b[0m\n",
            "\u001b[0;32m/usr/local/lib/python3.6/dist-packages/spektral/data/loaders.py\u001b[0m in \u001b[0;36mcollate\u001b[0;34m(self, batch)\u001b[0m\n\u001b[1;32m    286\u001b[0m             \u001b[0my\u001b[0m \u001b[0;34m=\u001b[0m \u001b[0mnp\u001b[0m\u001b[0;34m.\u001b[0m\u001b[0mvstack\u001b[0m\u001b[0;34m(\u001b[0m\u001b[0my\u001b[0m\u001b[0;34m)\u001b[0m \u001b[0;32mif\u001b[0m \u001b[0mself\u001b[0m\u001b[0;34m.\u001b[0m\u001b[0mnode_level\u001b[0m \u001b[0;32melse\u001b[0m \u001b[0mnp\u001b[0m\u001b[0;34m.\u001b[0m\u001b[0marray\u001b[0m\u001b[0;34m(\u001b[0m\u001b[0my\u001b[0m\u001b[0;34m)\u001b[0m\u001b[0;34m\u001b[0m\u001b[0;34m\u001b[0m\u001b[0m\n\u001b[1;32m    287\u001b[0m \u001b[0;34m\u001b[0m\u001b[0m\n\u001b[0;32m--> 288\u001b[0;31m         \u001b[0moutput\u001b[0m \u001b[0;34m=\u001b[0m \u001b[0mto_disjoint\u001b[0m\u001b[0;34m(\u001b[0m\u001b[0;34m**\u001b[0m\u001b[0mpacked\u001b[0m\u001b[0;34m)\u001b[0m\u001b[0;34m\u001b[0m\u001b[0;34m\u001b[0m\u001b[0m\n\u001b[0m\u001b[1;32m    289\u001b[0m         \u001b[0moutput\u001b[0m \u001b[0;34m=\u001b[0m \u001b[0mlist\u001b[0m\u001b[0;34m(\u001b[0m\u001b[0moutput\u001b[0m\u001b[0;34m)\u001b[0m\u001b[0;34m\u001b[0m\u001b[0;34m\u001b[0m\u001b[0m\n\u001b[1;32m    290\u001b[0m         \u001b[0;32mfor\u001b[0m \u001b[0mi\u001b[0m \u001b[0;32min\u001b[0m \u001b[0mrange\u001b[0m\u001b[0;34m(\u001b[0m\u001b[0mlen\u001b[0m\u001b[0;34m(\u001b[0m\u001b[0moutput\u001b[0m\u001b[0;34m)\u001b[0m\u001b[0;34m)\u001b[0m\u001b[0;34m:\u001b[0m\u001b[0;34m\u001b[0m\u001b[0;34m\u001b[0m\u001b[0m\n",
            "\u001b[0;32m/usr/local/lib/python3.6/dist-packages/spektral/data/utils.py\u001b[0m in \u001b[0;36mto_disjoint\u001b[0;34m(x_list, a_list, e_list)\u001b[0m\n\u001b[1;32m     49\u001b[0m     \u001b[0ma_out\u001b[0m \u001b[0;34m=\u001b[0m \u001b[0;32mNone\u001b[0m\u001b[0;34m\u001b[0m\u001b[0;34m\u001b[0m\u001b[0m\n\u001b[1;32m     50\u001b[0m     \u001b[0;32mif\u001b[0m \u001b[0ma_list\u001b[0m \u001b[0;32mis\u001b[0m \u001b[0;32mnot\u001b[0m \u001b[0;32mNone\u001b[0m\u001b[0;34m:\u001b[0m\u001b[0;34m\u001b[0m\u001b[0;34m\u001b[0m\u001b[0m\n\u001b[0;32m---> 51\u001b[0;31m         \u001b[0ma_out\u001b[0m \u001b[0;34m=\u001b[0m \u001b[0msp\u001b[0m\u001b[0;34m.\u001b[0m\u001b[0mblock_diag\u001b[0m\u001b[0;34m(\u001b[0m\u001b[0ma_list\u001b[0m\u001b[0;34m)\u001b[0m\u001b[0;34m\u001b[0m\u001b[0;34m\u001b[0m\u001b[0m\n\u001b[0m\u001b[1;32m     52\u001b[0m \u001b[0;34m\u001b[0m\u001b[0m\n\u001b[1;32m     53\u001b[0m     \u001b[0;31m# Batch index\u001b[0m\u001b[0;34m\u001b[0m\u001b[0;34m\u001b[0m\u001b[0;34m\u001b[0m\u001b[0m\n",
            "\u001b[0;32m/usr/local/lib/python3.6/dist-packages/scipy/sparse/construct.py\u001b[0m in \u001b[0;36mblock_diag\u001b[0;34m(mats, format, dtype)\u001b[0m\n\u001b[1;32m    675\u001b[0m             \u001b[0mrow\u001b[0m\u001b[0;34m[\u001b[0m\u001b[0mia\u001b[0m\u001b[0;34m]\u001b[0m \u001b[0;34m=\u001b[0m \u001b[0mcoo_matrix\u001b[0m\u001b[0;34m(\u001b[0m\u001b[0ma\u001b[0m\u001b[0;34m)\u001b[0m\u001b[0;34m\u001b[0m\u001b[0;34m\u001b[0m\u001b[0m\n\u001b[1;32m    676\u001b[0m         \u001b[0mrows\u001b[0m\u001b[0;34m.\u001b[0m\u001b[0mappend\u001b[0m\u001b[0;34m(\u001b[0m\u001b[0mrow\u001b[0m\u001b[0;34m)\u001b[0m\u001b[0;34m\u001b[0m\u001b[0;34m\u001b[0m\u001b[0m\n\u001b[0;32m--> 677\u001b[0;31m     \u001b[0;32mreturn\u001b[0m \u001b[0mbmat\u001b[0m\u001b[0;34m(\u001b[0m\u001b[0mrows\u001b[0m\u001b[0;34m,\u001b[0m \u001b[0mformat\u001b[0m\u001b[0;34m=\u001b[0m\u001b[0mformat\u001b[0m\u001b[0;34m,\u001b[0m \u001b[0mdtype\u001b[0m\u001b[0;34m=\u001b[0m\u001b[0mdtype\u001b[0m\u001b[0;34m)\u001b[0m\u001b[0;34m\u001b[0m\u001b[0;34m\u001b[0m\u001b[0m\n\u001b[0m\u001b[1;32m    678\u001b[0m \u001b[0;34m\u001b[0m\u001b[0m\n\u001b[1;32m    679\u001b[0m \u001b[0;34m\u001b[0m\u001b[0m\n",
            "\u001b[0;32m/usr/local/lib/python3.6/dist-packages/scipy/sparse/construct.py\u001b[0m in \u001b[0;36mbmat\u001b[0;34m(blocks, format, dtype)\u001b[0m\n\u001b[1;32m    572\u001b[0m         \u001b[0;32mfor\u001b[0m \u001b[0mj\u001b[0m \u001b[0;32min\u001b[0m \u001b[0mrange\u001b[0m\u001b[0;34m(\u001b[0m\u001b[0mN\u001b[0m\u001b[0;34m)\u001b[0m\u001b[0;34m:\u001b[0m\u001b[0;34m\u001b[0m\u001b[0;34m\u001b[0m\u001b[0m\n\u001b[1;32m    573\u001b[0m             \u001b[0;32mif\u001b[0m \u001b[0mblocks\u001b[0m\u001b[0;34m[\u001b[0m\u001b[0mi\u001b[0m\u001b[0;34m,\u001b[0m\u001b[0mj\u001b[0m\u001b[0;34m]\u001b[0m \u001b[0;32mis\u001b[0m \u001b[0;32mnot\u001b[0m \u001b[0;32mNone\u001b[0m\u001b[0;34m:\u001b[0m\u001b[0;34m\u001b[0m\u001b[0;34m\u001b[0m\u001b[0m\n\u001b[0;32m--> 574\u001b[0;31m                 \u001b[0mA\u001b[0m \u001b[0;34m=\u001b[0m \u001b[0mcoo_matrix\u001b[0m\u001b[0;34m(\u001b[0m\u001b[0mblocks\u001b[0m\u001b[0;34m[\u001b[0m\u001b[0mi\u001b[0m\u001b[0;34m,\u001b[0m\u001b[0mj\u001b[0m\u001b[0;34m]\u001b[0m\u001b[0;34m)\u001b[0m\u001b[0;34m\u001b[0m\u001b[0;34m\u001b[0m\u001b[0m\n\u001b[0m\u001b[1;32m    575\u001b[0m                 \u001b[0mblocks\u001b[0m\u001b[0;34m[\u001b[0m\u001b[0mi\u001b[0m\u001b[0;34m,\u001b[0m\u001b[0mj\u001b[0m\u001b[0;34m]\u001b[0m \u001b[0;34m=\u001b[0m \u001b[0mA\u001b[0m\u001b[0;34m\u001b[0m\u001b[0;34m\u001b[0m\u001b[0m\n\u001b[1;32m    576\u001b[0m                 \u001b[0mblock_mask\u001b[0m\u001b[0;34m[\u001b[0m\u001b[0mi\u001b[0m\u001b[0;34m,\u001b[0m\u001b[0mj\u001b[0m\u001b[0;34m]\u001b[0m \u001b[0;34m=\u001b[0m \u001b[0;32mTrue\u001b[0m\u001b[0;34m\u001b[0m\u001b[0;34m\u001b[0m\u001b[0m\n",
            "\u001b[0;32m/usr/local/lib/python3.6/dist-packages/scipy/sparse/coo.py\u001b[0m in \u001b[0;36m__init__\u001b[0;34m(self, arg1, shape, dtype, copy)\u001b[0m\n\u001b[1;32m    170\u001b[0m                     \u001b[0mself\u001b[0m\u001b[0;34m.\u001b[0m\u001b[0m_shape\u001b[0m \u001b[0;34m=\u001b[0m \u001b[0mcheck_shape\u001b[0m\u001b[0;34m(\u001b[0m\u001b[0marg1\u001b[0m\u001b[0;34m.\u001b[0m\u001b[0mshape\u001b[0m\u001b[0;34m)\u001b[0m\u001b[0;34m\u001b[0m\u001b[0;34m\u001b[0m\u001b[0m\n\u001b[1;32m    171\u001b[0m                 \u001b[0;32melse\u001b[0m\u001b[0;34m:\u001b[0m\u001b[0;34m\u001b[0m\u001b[0;34m\u001b[0m\u001b[0m\n\u001b[0;32m--> 172\u001b[0;31m                     \u001b[0mcoo\u001b[0m \u001b[0;34m=\u001b[0m \u001b[0marg1\u001b[0m\u001b[0;34m.\u001b[0m\u001b[0mtocoo\u001b[0m\u001b[0;34m(\u001b[0m\u001b[0;34m)\u001b[0m\u001b[0;34m\u001b[0m\u001b[0;34m\u001b[0m\u001b[0m\n\u001b[0m\u001b[1;32m    173\u001b[0m                     \u001b[0mself\u001b[0m\u001b[0;34m.\u001b[0m\u001b[0mrow\u001b[0m \u001b[0;34m=\u001b[0m \u001b[0mcoo\u001b[0m\u001b[0;34m.\u001b[0m\u001b[0mrow\u001b[0m\u001b[0;34m\u001b[0m\u001b[0;34m\u001b[0m\u001b[0m\n\u001b[1;32m    174\u001b[0m                     \u001b[0mself\u001b[0m\u001b[0;34m.\u001b[0m\u001b[0mcol\u001b[0m \u001b[0;34m=\u001b[0m \u001b[0mcoo\u001b[0m\u001b[0;34m.\u001b[0m\u001b[0mcol\u001b[0m\u001b[0;34m\u001b[0m\u001b[0;34m\u001b[0m\u001b[0m\n",
            "\u001b[0;32m/usr/local/lib/python3.6/dist-packages/scipy/sparse/compressed.py\u001b[0m in \u001b[0;36mtocoo\u001b[0;34m(self, copy)\u001b[0m\n\u001b[1;32m   1016\u001b[0m         \u001b[0;32mfrom\u001b[0m \u001b[0;34m.\u001b[0m\u001b[0mcoo\u001b[0m \u001b[0;32mimport\u001b[0m \u001b[0mcoo_matrix\u001b[0m\u001b[0;34m\u001b[0m\u001b[0;34m\u001b[0m\u001b[0m\n\u001b[1;32m   1017\u001b[0m         return coo_matrix((self.data, (row, col)), self.shape, copy=copy,\n\u001b[0;32m-> 1018\u001b[0;31m                           dtype=self.dtype)\n\u001b[0m\u001b[1;32m   1019\u001b[0m \u001b[0;34m\u001b[0m\u001b[0m\n\u001b[1;32m   1020\u001b[0m     \u001b[0mtocoo\u001b[0m\u001b[0;34m.\u001b[0m\u001b[0m__doc__\u001b[0m \u001b[0;34m=\u001b[0m \u001b[0mspmatrix\u001b[0m\u001b[0;34m.\u001b[0m\u001b[0mtocoo\u001b[0m\u001b[0;34m.\u001b[0m\u001b[0m__doc__\u001b[0m\u001b[0;34m\u001b[0m\u001b[0;34m\u001b[0m\u001b[0m\n",
            "\u001b[0;32m/usr/local/lib/python3.6/dist-packages/scipy/sparse/coo.py\u001b[0m in \u001b[0;36m__init__\u001b[0;34m(self, arg1, shape, dtype, copy)\u001b[0m\n\u001b[1;32m    158\u001b[0m                 \u001b[0midx_dtype\u001b[0m \u001b[0;34m=\u001b[0m \u001b[0mget_index_dtype\u001b[0m\u001b[0;34m(\u001b[0m\u001b[0mmaxval\u001b[0m\u001b[0;34m=\u001b[0m\u001b[0mmax\u001b[0m\u001b[0;34m(\u001b[0m\u001b[0mself\u001b[0m\u001b[0;34m.\u001b[0m\u001b[0mshape\u001b[0m\u001b[0;34m)\u001b[0m\u001b[0;34m)\u001b[0m\u001b[0;34m\u001b[0m\u001b[0;34m\u001b[0m\u001b[0m\n\u001b[1;32m    159\u001b[0m                 \u001b[0mself\u001b[0m\u001b[0;34m.\u001b[0m\u001b[0mrow\u001b[0m \u001b[0;34m=\u001b[0m \u001b[0mnp\u001b[0m\u001b[0;34m.\u001b[0m\u001b[0marray\u001b[0m\u001b[0;34m(\u001b[0m\u001b[0mrow\u001b[0m\u001b[0;34m,\u001b[0m \u001b[0mcopy\u001b[0m\u001b[0;34m=\u001b[0m\u001b[0mcopy\u001b[0m\u001b[0;34m,\u001b[0m \u001b[0mdtype\u001b[0m\u001b[0;34m=\u001b[0m\u001b[0midx_dtype\u001b[0m\u001b[0;34m)\u001b[0m\u001b[0;34m\u001b[0m\u001b[0;34m\u001b[0m\u001b[0m\n\u001b[0;32m--> 160\u001b[0;31m                 \u001b[0mself\u001b[0m\u001b[0;34m.\u001b[0m\u001b[0mcol\u001b[0m \u001b[0;34m=\u001b[0m \u001b[0mnp\u001b[0m\u001b[0;34m.\u001b[0m\u001b[0marray\u001b[0m\u001b[0;34m(\u001b[0m\u001b[0mcol\u001b[0m\u001b[0;34m,\u001b[0m \u001b[0mcopy\u001b[0m\u001b[0;34m=\u001b[0m\u001b[0mcopy\u001b[0m\u001b[0;34m,\u001b[0m \u001b[0mdtype\u001b[0m\u001b[0;34m=\u001b[0m\u001b[0midx_dtype\u001b[0m\u001b[0;34m)\u001b[0m\u001b[0;34m\u001b[0m\u001b[0;34m\u001b[0m\u001b[0m\n\u001b[0m\u001b[1;32m    161\u001b[0m                 \u001b[0mself\u001b[0m\u001b[0;34m.\u001b[0m\u001b[0mdata\u001b[0m \u001b[0;34m=\u001b[0m \u001b[0mnp\u001b[0m\u001b[0;34m.\u001b[0m\u001b[0marray\u001b[0m\u001b[0;34m(\u001b[0m\u001b[0mobj\u001b[0m\u001b[0;34m,\u001b[0m \u001b[0mcopy\u001b[0m\u001b[0;34m=\u001b[0m\u001b[0mcopy\u001b[0m\u001b[0;34m)\u001b[0m\u001b[0;34m\u001b[0m\u001b[0;34m\u001b[0m\u001b[0m\n\u001b[1;32m    162\u001b[0m                 \u001b[0mself\u001b[0m\u001b[0;34m.\u001b[0m\u001b[0mhas_canonical_format\u001b[0m \u001b[0;34m=\u001b[0m \u001b[0;32mFalse\u001b[0m\u001b[0;34m\u001b[0m\u001b[0;34m\u001b[0m\u001b[0m\n",
            "\u001b[0;31mKeyboardInterrupt\u001b[0m: "
          ]
        }
      ]
    },
    {
      "cell_type": "code",
      "metadata": {
        "colab": {
          "base_uri": "https://localhost:8080/"
        },
        "id": "B_SPsOYQ6vEE",
        "outputId": "c0b8b4d3-9774-435f-fdc3-1fa523f71235"
      },
      "source": [
        "model.save(\"1SavedModel-All\")\r\n",
        "\r\n",
        "# dataset targets = [\"energy_log10\", \"position_x\", \"position_y\", \"position_z\", \"direction_x\", \"direction_y\", \"direction_z\"]"
      ],
      "execution_count": 56,
      "outputs": [
        {
          "output_type": "execute_result",
          "data": {
            "text/plain": [
              "<tf.Tensor: shape=(16, 7), dtype=float32, numpy=\n",
              "array([[ 1.5005592e+00,  3.0584778e+01, -2.6433990e+01, -4.5375439e+01,\n",
              "        -1.3514052e-02,  3.3443925e-05,  7.9475202e-02],\n",
              "       [ 1.5005592e+00,  3.0584778e+01, -2.6433990e+01, -4.5375439e+01,\n",
              "        -1.3514052e-02,  3.3443925e-05,  7.9475202e-02],\n",
              "       [ 1.5005592e+00,  3.0584778e+01, -2.6433990e+01, -4.5375439e+01,\n",
              "        -1.3514052e-02,  3.3443925e-05,  7.9475202e-02],\n",
              "       [ 1.5005592e+00,  3.0584778e+01, -2.6433990e+01, -4.5375439e+01,\n",
              "        -1.3514052e-02,  3.3443925e-05,  7.9475202e-02],\n",
              "       [ 1.5005592e+00,  3.0584778e+01, -2.6433990e+01, -4.5375439e+01,\n",
              "        -1.3514052e-02,  3.3443925e-05,  7.9475202e-02],\n",
              "       [ 1.5005592e+00,  3.0584778e+01, -2.6433990e+01, -4.5375439e+01,\n",
              "        -1.3514052e-02,  3.3443925e-05,  7.9475202e-02],\n",
              "       [ 1.5005592e+00,  3.0584778e+01, -2.6433990e+01, -4.5375439e+01,\n",
              "        -1.3514052e-02,  3.3443925e-05,  7.9475202e-02],\n",
              "       [ 1.5005592e+00,  3.0584778e+01, -2.6433990e+01, -4.5375439e+01,\n",
              "        -1.3514052e-02,  3.3443925e-05,  7.9475202e-02],\n",
              "       [ 1.5005592e+00,  3.0584778e+01, -2.6433990e+01, -4.5375439e+01,\n",
              "        -1.3514052e-02,  3.3443925e-05,  7.9475202e-02],\n",
              "       [ 1.5005592e+00,  3.0584778e+01, -2.6433990e+01, -4.5375439e+01,\n",
              "        -1.3514052e-02,  3.3443925e-05,  7.9475202e-02],\n",
              "       [ 1.5005592e+00,  3.0584778e+01, -2.6433990e+01, -4.5375439e+01,\n",
              "        -1.3514052e-02,  3.3443925e-05,  7.9475202e-02],\n",
              "       [ 1.5005592e+00,  3.0584778e+01, -2.6433990e+01, -4.5375439e+01,\n",
              "        -1.3514052e-02,  3.3443925e-05,  7.9475202e-02],\n",
              "       [ 1.5005592e+00,  3.0584778e+01, -2.6433990e+01, -4.5375439e+01,\n",
              "        -1.3514052e-02,  3.3443925e-05,  7.9475202e-02],\n",
              "       [ 1.5005592e+00,  3.0584778e+01, -2.6433990e+01, -4.5375439e+01,\n",
              "        -1.3514052e-02,  3.3443925e-05,  7.9475202e-02],\n",
              "       [ 1.5005592e+00,  3.0584778e+01, -2.6433990e+01, -4.5375439e+01,\n",
              "        -1.3514052e-02,  3.3443925e-05,  7.9475202e-02],\n",
              "       [ 1.5005592e+00,  3.0584778e+01, -2.6433990e+01, -4.5375439e+01,\n",
              "        -1.3514052e-02,  3.3443925e-05,  7.9475202e-02]], dtype=float32)>"
            ]
          },
          "metadata": {
            "tags": []
          },
          "execution_count": 56
        }
      ]
    },
    {
      "cell_type": "code",
      "metadata": {
        "id": "I9HRMFDIzWyU"
      },
      "source": [
        "################################################################################\r\n",
        "# EVALUATE MODEL\r\n",
        "################################################################################\r\n",
        "print(\"Testing model\")\r\n",
        "model_loss = 0\r\n",
        "model_acc = 0\r\n",
        "steps = 0\r\n",
        "test_loader = DisjointLoader(dataset_te, batch_size=batch_size, epochs=1)\r\n",
        "\r\n",
        "guesses, diffs, energies = [],[],[]\r\n",
        "for batch in test_loader:\r\n",
        "  steps += 1\r\n",
        "  inputs, target = batch\r\n",
        "  predictions = model(inputs, training=False)\r\n",
        "  guesses.append(predictions)\r\n",
        "  diffs.append(abs(predictions-target))\r\n",
        "  energies.append(target)\r\n",
        "  model_loss += loss_fn(target, predictions)\r\n",
        "  model_acc += acc_fn(target, predictions)\r\n",
        "print(\"An example for guesses is:\")\r\n",
        "print(guesses[0][:5],\"for\",energies[0][:5])\r\n",
        "\r\n",
        "\r\n",
        "\r\n",
        "print(\"Done! \\nTest loss: {}\\nTest Acc: {}\".format(model_loss/steps, model_acc/steps))\r\n",
        "\r\n"
      ],
      "execution_count": null,
      "outputs": []
    },
    {
      "cell_type": "code",
      "metadata": {
        "id": "XXxdXF4rQq5-"
      },
      "source": [
        "import matplotlib.pyplot as plt\r\n",
        "diffs = np.array(diffs).flatten()\r\n",
        "energies = np.array(energies).flatten()\r\n",
        "td,te = [],[]\r\n",
        "for e in range(len(energies)):\r\n",
        "    for a in range(len(energies[e])):\r\n",
        "      td.append(diffs[e][a])\r\n",
        "      te.append(energies[e][a])\r\n",
        "\r\n",
        "plt.plot(te,td,'.')"
      ],
      "execution_count": null,
      "outputs": []
    },
    {
      "cell_type": "code",
      "metadata": {
        "id": "w7l1zSJP6oHr"
      },
      "source": [
        "diffs[0][1]"
      ],
      "execution_count": null,
      "outputs": []
    }
  ]
}