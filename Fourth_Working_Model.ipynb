{
  "nbformat": 4,
  "nbformat_minor": 0,
  "metadata": {
    "colab": {
      "name": "Fourth Working Model",
      "provenance": [],
      "collapsed_sections": [],
      "mount_file_id": "1F5LapnzmQ3_-UbqgwUGvW0joIZtifhJc",
      "authorship_tag": "ABX9TyM4LHJbanBKCIQc5cWmRExE",
      "include_colab_link": true
    },
    "kernelspec": {
      "name": "python3",
      "display_name": "Python 3"
    },
    "accelerator": "GPU",
    "widgets": {
      "application/vnd.jupyter.widget-state+json": {
        "3b36da43a0c14b2199e520140389a5a1": {
          "model_module": "@jupyter-widgets/controls",
          "model_name": "VBoxModel",
          "state": {
            "_view_name": "VBoxView",
            "_dom_classes": [],
            "_model_name": "VBoxModel",
            "_view_module": "@jupyter-widgets/controls",
            "_model_module_version": "1.5.0",
            "_view_count": null,
            "_view_module_version": "1.5.0",
            "box_style": "",
            "layout": "IPY_MODEL_41704329f7844ed4aafb8fcb84eac9eb",
            "_model_module": "@jupyter-widgets/controls",
            "children": [
              "IPY_MODEL_49a72dc1064b4c758872e587e9a445d0",
              "IPY_MODEL_ff1b5506a3eb40fbafc386ebdd20f960"
            ]
          }
        },
        "41704329f7844ed4aafb8fcb84eac9eb": {
          "model_module": "@jupyter-widgets/base",
          "model_name": "LayoutModel",
          "state": {
            "_view_name": "LayoutView",
            "grid_template_rows": null,
            "right": null,
            "justify_content": null,
            "_view_module": "@jupyter-widgets/base",
            "overflow": null,
            "_model_module_version": "1.2.0",
            "_view_count": null,
            "flex_flow": null,
            "width": null,
            "min_width": null,
            "border": null,
            "align_items": null,
            "bottom": null,
            "_model_module": "@jupyter-widgets/base",
            "top": null,
            "grid_column": null,
            "overflow_y": null,
            "overflow_x": null,
            "grid_auto_flow": null,
            "grid_area": null,
            "grid_template_columns": null,
            "flex": null,
            "_model_name": "LayoutModel",
            "justify_items": null,
            "grid_row": null,
            "max_height": null,
            "align_content": null,
            "visibility": null,
            "align_self": null,
            "height": null,
            "min_height": null,
            "padding": null,
            "grid_auto_rows": null,
            "grid_gap": null,
            "max_width": null,
            "order": null,
            "_view_module_version": "1.2.0",
            "grid_template_areas": null,
            "object_position": null,
            "object_fit": null,
            "grid_auto_columns": null,
            "margin": null,
            "display": null,
            "left": null
          }
        },
        "49a72dc1064b4c758872e587e9a445d0": {
          "model_module": "@jupyter-widgets/controls",
          "model_name": "LabelModel",
          "state": {
            "_view_name": "LabelView",
            "style": "IPY_MODEL_c5f603d1325c400eae09027ba2df667d",
            "_dom_classes": [],
            "description": "",
            "_model_name": "LabelModel",
            "placeholder": "​",
            "_view_module": "@jupyter-widgets/controls",
            "_model_module_version": "1.5.0",
            "value": " 0.02MB of 0.02MB uploaded (0.00MB deduped)\r",
            "_view_count": null,
            "_view_module_version": "1.5.0",
            "description_tooltip": null,
            "_model_module": "@jupyter-widgets/controls",
            "layout": "IPY_MODEL_4db8797cdcb14a2eb1b08e69eb84c939"
          }
        },
        "ff1b5506a3eb40fbafc386ebdd20f960": {
          "model_module": "@jupyter-widgets/controls",
          "model_name": "FloatProgressModel",
          "state": {
            "_view_name": "ProgressView",
            "style": "IPY_MODEL_ad6e6357e65c4412852f9edeb56bbf97",
            "_dom_classes": [],
            "description": "",
            "_model_name": "FloatProgressModel",
            "bar_style": "",
            "max": 1,
            "_view_module": "@jupyter-widgets/controls",
            "_model_module_version": "1.5.0",
            "value": 1,
            "_view_count": null,
            "_view_module_version": "1.5.0",
            "orientation": "horizontal",
            "min": 0,
            "description_tooltip": null,
            "_model_module": "@jupyter-widgets/controls",
            "layout": "IPY_MODEL_1f065af1231745138567f771c80a8beb"
          }
        },
        "c5f603d1325c400eae09027ba2df667d": {
          "model_module": "@jupyter-widgets/controls",
          "model_name": "DescriptionStyleModel",
          "state": {
            "_view_name": "StyleView",
            "_model_name": "DescriptionStyleModel",
            "description_width": "",
            "_view_module": "@jupyter-widgets/base",
            "_model_module_version": "1.5.0",
            "_view_count": null,
            "_view_module_version": "1.2.0",
            "_model_module": "@jupyter-widgets/controls"
          }
        },
        "4db8797cdcb14a2eb1b08e69eb84c939": {
          "model_module": "@jupyter-widgets/base",
          "model_name": "LayoutModel",
          "state": {
            "_view_name": "LayoutView",
            "grid_template_rows": null,
            "right": null,
            "justify_content": null,
            "_view_module": "@jupyter-widgets/base",
            "overflow": null,
            "_model_module_version": "1.2.0",
            "_view_count": null,
            "flex_flow": null,
            "width": null,
            "min_width": null,
            "border": null,
            "align_items": null,
            "bottom": null,
            "_model_module": "@jupyter-widgets/base",
            "top": null,
            "grid_column": null,
            "overflow_y": null,
            "overflow_x": null,
            "grid_auto_flow": null,
            "grid_area": null,
            "grid_template_columns": null,
            "flex": null,
            "_model_name": "LayoutModel",
            "justify_items": null,
            "grid_row": null,
            "max_height": null,
            "align_content": null,
            "visibility": null,
            "align_self": null,
            "height": null,
            "min_height": null,
            "padding": null,
            "grid_auto_rows": null,
            "grid_gap": null,
            "max_width": null,
            "order": null,
            "_view_module_version": "1.2.0",
            "grid_template_areas": null,
            "object_position": null,
            "object_fit": null,
            "grid_auto_columns": null,
            "margin": null,
            "display": null,
            "left": null
          }
        },
        "ad6e6357e65c4412852f9edeb56bbf97": {
          "model_module": "@jupyter-widgets/controls",
          "model_name": "ProgressStyleModel",
          "state": {
            "_view_name": "StyleView",
            "_model_name": "ProgressStyleModel",
            "description_width": "",
            "_view_module": "@jupyter-widgets/base",
            "_model_module_version": "1.5.0",
            "_view_count": null,
            "_view_module_version": "1.2.0",
            "bar_color": null,
            "_model_module": "@jupyter-widgets/controls"
          }
        },
        "1f065af1231745138567f771c80a8beb": {
          "model_module": "@jupyter-widgets/base",
          "model_name": "LayoutModel",
          "state": {
            "_view_name": "LayoutView",
            "grid_template_rows": null,
            "right": null,
            "justify_content": null,
            "_view_module": "@jupyter-widgets/base",
            "overflow": null,
            "_model_module_version": "1.2.0",
            "_view_count": null,
            "flex_flow": null,
            "width": null,
            "min_width": null,
            "border": null,
            "align_items": null,
            "bottom": null,
            "_model_module": "@jupyter-widgets/base",
            "top": null,
            "grid_column": null,
            "overflow_y": null,
            "overflow_x": null,
            "grid_auto_flow": null,
            "grid_area": null,
            "grid_template_columns": null,
            "flex": null,
            "_model_name": "LayoutModel",
            "justify_items": null,
            "grid_row": null,
            "max_height": null,
            "align_content": null,
            "visibility": null,
            "align_self": null,
            "height": null,
            "min_height": null,
            "padding": null,
            "grid_auto_rows": null,
            "grid_gap": null,
            "max_width": null,
            "order": null,
            "_view_module_version": "1.2.0",
            "grid_template_areas": null,
            "object_position": null,
            "object_fit": null,
            "grid_auto_columns": null,
            "margin": null,
            "display": null,
            "left": null
          }
        },
        "75b6cae884b74986adbaed40936b153e": {
          "model_module": "@jupyter-widgets/controls",
          "model_name": "HBoxModel",
          "state": {
            "_view_name": "HBoxView",
            "_dom_classes": [],
            "_model_name": "HBoxModel",
            "_view_module": "@jupyter-widgets/controls",
            "_model_module_version": "1.5.0",
            "_view_count": null,
            "_view_module_version": "1.5.0",
            "box_style": "",
            "layout": "IPY_MODEL_f5a5244a81544d718af33711aa5d44bc",
            "_model_module": "@jupyter-widgets/controls",
            "children": [
              "IPY_MODEL_e455dd54297149669519e77cde623f75",
              "IPY_MODEL_fecfb6f3a8c54e449a9f57f7e39409d0"
            ]
          }
        },
        "f5a5244a81544d718af33711aa5d44bc": {
          "model_module": "@jupyter-widgets/base",
          "model_name": "LayoutModel",
          "state": {
            "_view_name": "LayoutView",
            "grid_template_rows": null,
            "right": null,
            "justify_content": null,
            "_view_module": "@jupyter-widgets/base",
            "overflow": null,
            "_model_module_version": "1.2.0",
            "_view_count": null,
            "flex_flow": null,
            "width": null,
            "min_width": null,
            "border": null,
            "align_items": null,
            "bottom": null,
            "_model_module": "@jupyter-widgets/base",
            "top": null,
            "grid_column": null,
            "overflow_y": null,
            "overflow_x": null,
            "grid_auto_flow": null,
            "grid_area": null,
            "grid_template_columns": null,
            "flex": null,
            "_model_name": "LayoutModel",
            "justify_items": null,
            "grid_row": null,
            "max_height": null,
            "align_content": null,
            "visibility": null,
            "align_self": null,
            "height": null,
            "min_height": null,
            "padding": null,
            "grid_auto_rows": null,
            "grid_gap": null,
            "max_width": null,
            "order": null,
            "_view_module_version": "1.2.0",
            "grid_template_areas": null,
            "object_position": null,
            "object_fit": null,
            "grid_auto_columns": null,
            "margin": null,
            "display": null,
            "left": null
          }
        },
        "e455dd54297149669519e77cde623f75": {
          "model_module": "@jupyter-widgets/controls",
          "model_name": "FloatProgressModel",
          "state": {
            "_view_name": "ProgressView",
            "style": "IPY_MODEL_b835be1eb00841f6b32b6d735a9c523b",
            "_dom_classes": [],
            "description": "Currently on epoch 50 of 50 :   0%",
            "_model_name": "FloatProgressModel",
            "bar_style": "",
            "max": 704,
            "_view_module": "@jupyter-widgets/controls",
            "_model_module_version": "1.5.0",
            "value": 0,
            "_view_count": null,
            "_view_module_version": "1.5.0",
            "orientation": "horizontal",
            "min": 0,
            "description_tooltip": null,
            "_model_module": "@jupyter-widgets/controls",
            "layout": "IPY_MODEL_96ec8d14b4a1460482d599faf105cb05"
          }
        },
        "fecfb6f3a8c54e449a9f57f7e39409d0": {
          "model_module": "@jupyter-widgets/controls",
          "model_name": "HTMLModel",
          "state": {
            "_view_name": "HTMLView",
            "style": "IPY_MODEL_1aa2c01be09243f8b1f34dcd8c2276ef",
            "_dom_classes": [],
            "description": "",
            "_model_name": "HTMLModel",
            "placeholder": "​",
            "_view_module": "@jupyter-widgets/controls",
            "_model_module_version": "1.5.0",
            "value": " 0/704 [47:39&lt;00:45, 15.36it/s]",
            "_view_count": null,
            "_view_module_version": "1.5.0",
            "description_tooltip": null,
            "_model_module": "@jupyter-widgets/controls",
            "layout": "IPY_MODEL_e60132967f3448ff993d0913aaa7f043"
          }
        },
        "b835be1eb00841f6b32b6d735a9c523b": {
          "model_module": "@jupyter-widgets/controls",
          "model_name": "ProgressStyleModel",
          "state": {
            "_view_name": "StyleView",
            "_model_name": "ProgressStyleModel",
            "description_width": "initial",
            "_view_module": "@jupyter-widgets/base",
            "_model_module_version": "1.5.0",
            "_view_count": null,
            "_view_module_version": "1.2.0",
            "bar_color": null,
            "_model_module": "@jupyter-widgets/controls"
          }
        },
        "96ec8d14b4a1460482d599faf105cb05": {
          "model_module": "@jupyter-widgets/base",
          "model_name": "LayoutModel",
          "state": {
            "_view_name": "LayoutView",
            "grid_template_rows": null,
            "right": null,
            "justify_content": null,
            "_view_module": "@jupyter-widgets/base",
            "overflow": null,
            "_model_module_version": "1.2.0",
            "_view_count": null,
            "flex_flow": null,
            "width": null,
            "min_width": null,
            "border": null,
            "align_items": null,
            "bottom": null,
            "_model_module": "@jupyter-widgets/base",
            "top": null,
            "grid_column": null,
            "overflow_y": null,
            "overflow_x": null,
            "grid_auto_flow": null,
            "grid_area": null,
            "grid_template_columns": null,
            "flex": null,
            "_model_name": "LayoutModel",
            "justify_items": null,
            "grid_row": null,
            "max_height": null,
            "align_content": null,
            "visibility": null,
            "align_self": null,
            "height": null,
            "min_height": null,
            "padding": null,
            "grid_auto_rows": null,
            "grid_gap": null,
            "max_width": null,
            "order": null,
            "_view_module_version": "1.2.0",
            "grid_template_areas": null,
            "object_position": null,
            "object_fit": null,
            "grid_auto_columns": null,
            "margin": null,
            "display": null,
            "left": null
          }
        },
        "1aa2c01be09243f8b1f34dcd8c2276ef": {
          "model_module": "@jupyter-widgets/controls",
          "model_name": "DescriptionStyleModel",
          "state": {
            "_view_name": "StyleView",
            "_model_name": "DescriptionStyleModel",
            "description_width": "",
            "_view_module": "@jupyter-widgets/base",
            "_model_module_version": "1.5.0",
            "_view_count": null,
            "_view_module_version": "1.2.0",
            "_model_module": "@jupyter-widgets/controls"
          }
        },
        "e60132967f3448ff993d0913aaa7f043": {
          "model_module": "@jupyter-widgets/base",
          "model_name": "LayoutModel",
          "state": {
            "_view_name": "LayoutView",
            "grid_template_rows": null,
            "right": null,
            "justify_content": null,
            "_view_module": "@jupyter-widgets/base",
            "overflow": null,
            "_model_module_version": "1.2.0",
            "_view_count": null,
            "flex_flow": null,
            "width": null,
            "min_width": null,
            "border": null,
            "align_items": null,
            "bottom": null,
            "_model_module": "@jupyter-widgets/base",
            "top": null,
            "grid_column": null,
            "overflow_y": null,
            "overflow_x": null,
            "grid_auto_flow": null,
            "grid_area": null,
            "grid_template_columns": null,
            "flex": null,
            "_model_name": "LayoutModel",
            "justify_items": null,
            "grid_row": null,
            "max_height": null,
            "align_content": null,
            "visibility": null,
            "align_self": null,
            "height": null,
            "min_height": null,
            "padding": null,
            "grid_auto_rows": null,
            "grid_gap": null,
            "max_width": null,
            "order": null,
            "_view_module_version": "1.2.0",
            "grid_template_areas": null,
            "object_position": null,
            "object_fit": null,
            "grid_auto_columns": null,
            "margin": null,
            "display": null,
            "left": null
          }
        }
      }
    }
  },
  "cells": [
    {
      "cell_type": "markdown",
      "metadata": {
        "id": "view-in-github",
        "colab_type": "text"
      },
      "source": [
        "<a href=\"https://colab.research.google.com/github/JakobSchauser/BachelorProject-IceCube-ML/blob/main/Fourth_Working_Model.ipynb\" target=\"_parent\"><img src=\"https://colab.research.google.com/assets/colab-badge.svg\" alt=\"Open In Colab\"/></a>"
      ]
    },
    {
      "cell_type": "code",
      "metadata": {
        "id": "mKMo6IdMfBDD"
      },
      "source": [
        "!pip install spektral -q\r\n",
        "\r\n",
        "import numpy as np\r\n",
        "import tensorflow as tf\r\n",
        "import keras\r\n",
        "import pickle\r\n",
        "\r\n",
        "from tensorflow.keras.layers import Dense, Input\r\n",
        "from tensorflow.keras.losses import MeanSquaredError, MeanAbsoluteError\r\n",
        "from tensorflow.keras.metrics import MeanAbsoluteError as MeanAbsoluteError_acc\r\n",
        "from tensorflow.keras.models import Model\r\n",
        "from tensorflow.keras.optimizers import Adam\r\n",
        "\r\n",
        "from spektral.data import DisjointLoader, Dataset\r\n",
        "from spektral.datasets import QM9\r\n",
        "from spektral.layers import AGNNConv, GlobalSumPool, GCNConv\r\n",
        "\r\n",
        "from tqdm.notebook import tqdm\r\n",
        "\r\n",
        "import wandb\r\n",
        "from wandb.keras import WandbCallback\r\n",
        "\r\n",
        "import matplotlib.pyplot as plt\r\n",
        "import seaborn as sns\r\n",
        "sns.set()\r\n",
        "%matplotlib inline\r\n",
        "\r\n",
        "PI = np.pi\r\n",
        "\r\n",
        "# Lifehack\r\n",
        "true = True\r\n",
        "false = False"
      ],
      "execution_count": 49,
      "outputs": []
    },
    {
      "cell_type": "code",
      "metadata": {
        "colab": {
          "base_uri": "https://localhost:8080/"
        },
        "id": "jRsrlI0nNqIq",
        "outputId": "df95e622-3029-48fd-eb2c-6e0bd512c124"
      },
      "source": [
        "!pip install wandb -q\r\n",
        "\r\n",
        "import wandb\r\n",
        "from wandb.keras import WandbCallback\r\n",
        "\r\n",
        "wandb.login()"
      ],
      "execution_count": 50,
      "outputs": [
        {
          "output_type": "stream",
          "text": [
            "\u001b[34m\u001b[1mwandb\u001b[0m: \u001b[33mWARNING\u001b[0m Calling wandb.login() after wandb.init() has no effect.\n"
          ],
          "name": "stderr"
        },
        {
          "output_type": "execute_result",
          "data": {
            "text/plain": [
              "True"
            ]
          },
          "metadata": {
            "tags": []
          },
          "execution_count": 50
        }
      ]
    },
    {
      "cell_type": "code",
      "metadata": {
        "colab": {
          "base_uri": "https://localhost:8080/"
        },
        "id": "2gQ8LBcAfIm7",
        "outputId": "c2898ad4-f837-460e-c1a9-e79869780492"
      },
      "source": [
        "################################################################################\r\n",
        "# LOAD DATA\r\n",
        "################################################################################\r\n",
        "\r\n",
        "class dat(Dataset):\r\n",
        "  def __init__(self,n = 1,**kwargs):\r\n",
        "    self.n = n\r\n",
        "    super().__init__(**kwargs)\r\n",
        "  def read(self):\r\n",
        "    # path = \"/content/drive/MyDrive/Bachelor Project - IceCube ML/generatedDataAnglesEnergy100000 0.npz\" # Uncleaned\r\n",
        "    path = \"/content/drive/MyDrive/Bachelor Project - IceCube ML/generatedDataAnglesEnergyClean200000events 0.npz\" # Cleaned\r\n",
        "    # path = \"/content/drive/MyDrive/Bachelor Project - IceCube ML/data.dat\" # From Severin\r\n",
        "    dataset = np.load(path,allow_pickle = True)[\"arr_0\"]\r\n",
        "    graphs = []\r\n",
        "    for g in dataset:\r\n",
        "      graphs.append(g)\r\n",
        "    return np.array(dataset)\r\n",
        "\r\n",
        "dataset = dat()\r\n",
        "\r\n",
        "print(\"Dataset is\", dataset, \"consisting of\", dataset[0])\r\n",
        "\r\n",
        "# Find the reverse transformer\r\n",
        "pcl = \"/content/drive/MyDrive/Bachelor Project - IceCube ML/transformers.pkl\"\r\n",
        "\r\n",
        "with open(pcl,'rb') as tra:\r\n",
        "    transformer = pickle.load(tra)\r\n",
        "\r\n",
        "transformer = transformer[\"truth\"]\r\n",
        "\r\n",
        "\r\n",
        "#### Put on GPU when possible\r\n",
        "physical_devices = tf.config.list_physical_devices('GPU')\r\n",
        "if len(physical_devices) > 0:\r\n",
        "    print(\"Running on GPU\")\r\n",
        "    tf.config.experimental.set_memory_growth(physical_devices[0], True)\r\n",
        "else:\r\n",
        "    print(\"Running on CPU\")"
      ],
      "execution_count": 51,
      "outputs": [
        {
          "output_type": "stream",
          "text": [
            "Dataset is dat(n_graphs=200000) consisting of Graph(n_nodes=13, n_node_features=5, n_edge_features=None, n_labels=3)\n",
            "Running on GPU\n"
          ],
          "name": "stdout"
        },
        {
          "output_type": "stream",
          "text": [
            "/usr/local/lib/python3.6/dist-packages/sklearn/base.py:318: UserWarning: Trying to unpickle estimator RobustScaler from version 0.19.1 when using version 0.22.2.post1. This might lead to breaking code or invalid results. Use at your own risk.\n",
            "  UserWarning)\n"
          ],
          "name": "stderr"
        }
      ]
    },
    {
      "cell_type": "code",
      "metadata": {
        "id": "QtXbVD-LfZr6"
      },
      "source": [
        "def custom_loss(target,predictions):\r\n",
        "    predictions = tf.cast(predictions,\"float64\")\r\n",
        "\r\n",
        "    energy    = tf.abs(target[:,0] - predictions[:,0])\r\n",
        "    azi, zeni = tf.abs(target[:,1] - predictions[:,1]), tf.abs(target[:,2] - predictions[:,2])\r\n",
        "\r\n",
        "\r\n",
        "    azi  = tf.minimum(azi, tf.abs(tf.abs(azi )-2))     # 2 should be pi or 2pi\r\n",
        "    zeni = tf.minimum(tf.abs(zeni), tf.abs(tf.abs(zeni)-2))  # 2 should be pi or 2pi\r\n",
        "\r\n",
        "    # azi, zeni = azi*10,zeni*10\r\n",
        "\r\n",
        "    #Trying something crazy\r\n",
        "    # more = 2\r\n",
        "    # menergy, mazi, mzeni = tf.where(energy<tf.abs(predictions[:,0]-mean_energy),energy,energy*more), tf.where(azi<tf.abs(predictions[:,1]-mean_azimuth),azi,azi*more), tf.where(zeni<tf.abs(predictions[:,2]-mean_zenith),zeni,zeni*more)\r\n",
        "    # energy,azi,zeni = menergy,mazi,mzeni\r\n",
        "\r\n",
        "\r\n",
        "    loss = 0\r\n",
        "    loss += tf.reduce_mean(tf.square(energy))\r\n",
        "    loss += tf.reduce_mean(tf.square(azi))\r\n",
        "    loss += tf.reduce_mean(tf.square(zeni))\r\n",
        "    loss += 0.1\r\n",
        "    return loss\r\n",
        "\r\n",
        "\r\n",
        "################################################################################\r\n",
        "# PARAMETERS\r\n",
        "################################################################################\r\n",
        "\r\n",
        "config = {\r\n",
        "        \"learning_rate\": 1e-4,\r\n",
        "        \"epochs\": 50,\r\n",
        "        \"batch_size\": 64*4,\r\n",
        "        \"loss_function\": \"custom_loss\",\r\n",
        "        \"architecture\": \"Broadening CNN\",\r\n",
        "        \"dataset\": \"MuonGun\"\r\n",
        "      }\r\n",
        "\r\n",
        "learning_rate = config[\"learning_rate\"] # Learning rate\r\n",
        "epochs = config[\"epochs\"]  # Number of training epochs\r\n",
        "test_epochs = 2 # Number of testing epochs\r\n",
        "batch_size = config[\"batch_size\"] # Batch size\r\n",
        "\r\n",
        "\r\n",
        "# Parameters\r\n",
        "F = dataset.n_node_features  # Dimension of node features\r\n",
        "S = dataset.n_edge_features  # Dimension of edge features\r\n",
        "n_out = dataset.n_labels  # Dimension of the target\r\n",
        "\r\n",
        "# Train/test split\r\n",
        "idxs = np.random.permutation(len(dataset))\r\n",
        "split = int(0.9 * len(dataset))\r\n",
        "idx_tr, idx_te = np.split(idxs, [split])\r\n",
        "dataset_tr, dataset_te = dataset[idx_tr], dataset[idx_te]\r\n",
        "\r\n",
        "train_loader = DisjointLoader(dataset_tr, batch_size=batch_size, epochs=epochs)\r\n",
        "test_loader = DisjointLoader(dataset_te, batch_size=batch_size, epochs=test_epochs, shuffle=True)"
      ],
      "execution_count": 52,
      "outputs": []
    },
    {
      "cell_type": "code",
      "metadata": {
        "id": "Y5n3nAsOi5Dt"
      },
      "source": [
        "network_size = 64 # one-variable network size changer\r\n",
        "\r\n",
        "class model_class(Model):\r\n",
        "  def __init__(self):\r\n",
        "    super().__init__()\r\n",
        "    \r\n",
        "    steps = [i**2 for i in range(1,5)]\r\n",
        "\r\n",
        "    # self.inp    = AGNNConv()\r\n",
        "    self.inp = GCNConv(network_size)\r\n",
        "    self.encode = [GCNConv(network_size*s, activation = \"relu\") for s in steps]\r\n",
        "    self.decode = [Dense(network_size*s, activation = \"relu\") for s in steps[::-1]]\r\n",
        "    self.pool   = GlobalSumPool()\r\n",
        "    self.out    = Dense(n_out) \r\n",
        "\r\n",
        "  def call(self, inputs, training = False):\r\n",
        "    x, a, i = inputs\r\n",
        "    # e    = self.generate_edge_features(x, a)  NEXT STEP is implementing this\r\n",
        "    x = self.inp([x,a])\r\n",
        "\r\n",
        "    for enc in self.encode:\r\n",
        "      x = enc([x,a])\r\n",
        "\r\n",
        "    for dec in self.decode:\r\n",
        "      x = dec(x)\r\n",
        "    \r\n",
        "    x = self.pool([x,i])\r\n",
        "\r\n",
        "    x_out = self.out(x)\r\n",
        "\r\n",
        "    return x_out\r\n",
        "\r\n",
        "  def generate_edge_features(x,a):\r\n",
        "    send    = a.indices[:, 0]\r\n",
        "    receive = a.indices[:, 1]\r\n",
        "\r\n",
        "      # forwards  = tf.gather(x[:, 3], send) <= tf.gather(x[:, 3], receive)\r\n",
        "\r\n",
        "      # send    = tf.cast(send[forwards], tf.int64)\r\n",
        "      # receive = tf.cast(receive[forwards], tf.int64)\r\n",
        "\r\n",
        "      # a       = SparseTensor(indices = tf.stack([send, receive], axis = 1), values = tf.ones(tf.shape(send), dtype = tf.float32), dense_shape = tf.cast(tf.shape(a), tf.int64))\r\n",
        "\r\n",
        "    diff_x  = tf.subtract(tf.gather(x, receive), tf.gather(x, send))\r\n",
        "\r\n",
        "    dists   = tf.sqrt(\r\n",
        "      tf.reduce_sum(\r\n",
        "        tf.square(\r\n",
        "          diff_x[:, :3]\r\n",
        "        ), axis = 1\r\n",
        "      ))\r\n",
        "\r\n",
        "    vects = tf.math.divide_no_nan(diff_x[:, :3], tf.expand_dims(dists, axis = -1))\r\n",
        "\r\n",
        "    e = tf.concat([diff_x[:, 3:], tf.expand_dims(dists, -1), vects], axis = 1)\r\n",
        "\r\n",
        "    return a, e\r\n",
        "\r\n",
        "\r\n",
        "# Build model\r\n",
        "model = model_class()\r\n",
        "\r\n",
        "opt = Adam(lr=learning_rate)\r\n",
        "loss_fn = custom_loss\r\n",
        "# loss_fn = MeanAbsoluteError()\r\n",
        "acc_fn = MeanAbsoluteError()\r\n",
        "\r\n",
        "\r\n",
        "model.compile()\r\n",
        "# model.build()"
      ],
      "execution_count": 53,
      "outputs": []
    },
    {
      "cell_type": "code",
      "metadata": {
        "id": "C_Y52q67_kNR"
      },
      "source": [
        "################################################################################\r\n",
        "# DEFINE TF-FUNCTIONS\r\n",
        "################################################################################\r\n",
        "@tf.function(input_signature=train_loader.tf_signature(), experimental_relax_shapes=True)\r\n",
        "def train_step(inputs, target):\r\n",
        "    with tf.GradientTape() as tape:\r\n",
        "        predictions = model(inputs, training=True)\r\n",
        "        loss = loss_fn(target, predictions)\r\n",
        "        loss += sum(model.losses)\r\n",
        "    gradients = tape.gradient(loss, model.trainable_variables)\r\n",
        "    opt.apply_gradients(zip(gradients, model.trainable_variables))\r\n",
        "    acc = acc_fn(target,predictions)\r\n",
        "\r\n",
        "    return loss, acc\r\n",
        "\r\n",
        "def validate(inputs,target):\r\n",
        "    predictions = model(inputs, training=False)\r\n",
        "    loss = loss_fn(target, predictions)\r\n",
        "    loss += sum(model.losses)\r\n",
        "    acc = acc_fn(target,predictions)\r\n",
        "\r\n",
        "    return loss, acc\r\n",
        "\r\n",
        "def scale_inputs(inputs):\r\n",
        "    inputs[0][:,:3] = inputs[0][:,:3]/100 # x y z\r\n",
        "    inputs[0][:,3] = inputs[0][:,3]/10000 # time\r\n",
        "    inputs[0][:,4] = inputs[0][:,4]/1 # charge\r\n",
        "    return inputs\r\n",
        "\r\n",
        "\r\n",
        "\r\n",
        "loss_fn = custom_loss\r\n",
        "\r\n",
        "\r\n",
        "def fit(train_loader):\r\n",
        "  run = wandb.init(project='IceCube GNN Bachelor',config = config)\r\n",
        "  current_batch = 0\r\n",
        "  model_loss = []\r\n",
        "  model_acc = []\r\n",
        "  vali_acc = []\r\n",
        "  epoch = 0\r\n",
        "\r\n",
        "  epoch_steps = train_loader.steps_per_epoch\r\n",
        "\r\n",
        "  t = tqdm(total  = train_loader.steps_per_epoch,leave = True)\r\n",
        "  t.set_description(f'Currently on epoch {0} of {epochs} ')\r\n",
        "\r\n",
        "  pb = []\r\n",
        "  tar = []\r\n",
        "  step = 0\r\n",
        "\r\n",
        "  last_vali = 0\r\n",
        "  for batch in train_loader:\r\n",
        "      step += 1\r\n",
        "      inputs, target = batch\r\n",
        "      inputs = scale_inputs(inputs)\r\n",
        "\r\n",
        "      loss, acc = train_step(inputs,target)\r\n",
        "\r\n",
        "      model_loss.append(loss)\r\n",
        "      model_acc.append(acc)\r\n",
        "      current_batch += 1\r\n",
        "      t.update(1)\r\n",
        "      if current_batch == epoch_steps:\r\n",
        "          test_loader = DisjointLoader(dataset_te, batch_size=batch_size, epochs=test_epochs, shuffle=True)\r\n",
        "          t.set_description(f'Currently validating results')\r\n",
        "\r\n",
        "          for vali_batch in test_loader:\r\n",
        "            vali_inputs, vali_target = vali_batch\r\n",
        "            valie_inputs = scale_inputs(vali_inputs)\r\n",
        "            vali_loss, va = validate(vali_inputs,vali_target)\r\n",
        "            vali_acc.append(vali_loss)\r\n",
        "          va = np.mean(vali_acc)\r\n",
        "          change = (va-last_vali)/max(0.000001,last_vali)\r\n",
        "          last_vali = va\r\n",
        "          s = \"Train loss: {} - Train accuracy: {} | Validation loss {} - Change {:.3}% | Epoch: {}\".format(np.mean(model_loss), np.mean(model_acc), va, change*100, epoch)\r\n",
        "          t.write(s)\r\n",
        "          if epoch%5 == 0 and epoch != 0:\r\n",
        "            print(\"Two current guesses are\\n\",np.array(pb[0]),np.array(pb[1]),\"for\\n\",tar[0],tar[1])\r\n",
        "          else:\r\n",
        "            pb = model(inputs, training=False)\r\n",
        "            tar = target\r\n",
        "\r\n",
        "\r\n",
        "          wandb.log({\r\n",
        "                    \"train_loss\": np.mean(model_loss),\r\n",
        "                    \"train_accuracy\": np.mean(model_acc),\r\n",
        "                    \"val_loss\": va,\r\n",
        "                    })\r\n",
        "\r\n",
        "\r\n",
        "\r\n",
        "\r\n",
        "          model_loss = []\r\n",
        "          model_acc = []\r\n",
        "          vali_acc = []\r\n",
        "          current_batch = 0\r\n",
        "          step = 0\r\n",
        "\r\n",
        "          t.n = 0\r\n",
        "          t.last_print_n = 0\r\n",
        "          t.refresh()\r\n",
        "          epoch += 1\r\n",
        "\r\n",
        "          t.set_description(f'Currently on epoch {epoch} of {epochs} ')\r\n"
      ],
      "execution_count": 54,
      "outputs": []
    },
    {
      "cell_type": "code",
      "metadata": {
        "colab": {
          "base_uri": "https://localhost:8080/",
          "height": 1000,
          "referenced_widgets": [
            "3b36da43a0c14b2199e520140389a5a1",
            "41704329f7844ed4aafb8fcb84eac9eb",
            "49a72dc1064b4c758872e587e9a445d0",
            "ff1b5506a3eb40fbafc386ebdd20f960",
            "c5f603d1325c400eae09027ba2df667d",
            "4db8797cdcb14a2eb1b08e69eb84c939",
            "ad6e6357e65c4412852f9edeb56bbf97",
            "1f065af1231745138567f771c80a8beb",
            "75b6cae884b74986adbaed40936b153e",
            "f5a5244a81544d718af33711aa5d44bc",
            "e455dd54297149669519e77cde623f75",
            "fecfb6f3a8c54e449a9f57f7e39409d0",
            "b835be1eb00841f6b32b6d735a9c523b",
            "96ec8d14b4a1460482d599faf105cb05",
            "1aa2c01be09243f8b1f34dcd8c2276ef",
            "e60132967f3448ff993d0913aaa7f043"
          ]
        },
        "id": "7E3bDUpo_tue",
        "outputId": "6f7eaaf4-d12f-4c1c-d05a-38fa6c01a6ff"
      },
      "source": [
        "fit(train_loader)\r\n",
        "\r\n",
        "save_path = \"/content/drive/MyDrive/Bachelor Project - IceCube ML/Saved Models\"\r\n",
        "pth = save_path + \"/AnglesEnergy-FourthIteration-50epochs\" \r\n",
        "model.save(pth)"
      ],
      "execution_count": 55,
      "outputs": [
        {
          "output_type": "display_data",
          "data": {
            "text/html": [
              "Finishing last run (ID:2ts65ue1) before initializing another..."
            ],
            "text/plain": [
              "<IPython.core.display.HTML object>"
            ]
          },
          "metadata": {
            "tags": []
          }
        },
        {
          "output_type": "display_data",
          "data": {
            "text/html": [
              "<br/>Waiting for W&B process to finish, PID 846<br/>Program ended successfully."
            ],
            "text/plain": [
              "<IPython.core.display.HTML object>"
            ]
          },
          "metadata": {
            "tags": []
          }
        },
        {
          "output_type": "display_data",
          "data": {
            "application/vnd.jupyter.widget-view+json": {
              "model_id": "3b36da43a0c14b2199e520140389a5a1",
              "version_minor": 0,
              "version_major": 2
            },
            "text/plain": [
              "VBox(children=(Label(value=' 0.00MB of 0.00MB uploaded (0.00MB deduped)\\r'), FloatProgress(value=1.0, max=1.0)…"
            ]
          },
          "metadata": {
            "tags": []
          }
        },
        {
          "output_type": "display_data",
          "data": {
            "text/html": [
              "Find user logs for this run at: <code>/content/wandb/run-20210216_144608-2ts65ue1/logs/debug.log</code>"
            ],
            "text/plain": [
              "<IPython.core.display.HTML object>"
            ]
          },
          "metadata": {
            "tags": []
          }
        },
        {
          "output_type": "display_data",
          "data": {
            "text/html": [
              "Find internal logs for this run at: <code>/content/wandb/run-20210216_144608-2ts65ue1/logs/debug-internal.log</code>"
            ],
            "text/plain": [
              "<IPython.core.display.HTML object>"
            ]
          },
          "metadata": {
            "tags": []
          }
        },
        {
          "output_type": "display_data",
          "data": {
            "text/html": [
              "<h3>Run summary:</h3><br/><style>\n",
              "    table.wandb td:nth-child(1) { padding: 0 10px; text-align: right }\n",
              "    </style><table class=\"wandb\">\n",
              "<tr><td>train_loss</td><td>0.52131</td></tr><tr><td>train_accuracy</td><td>0.34636</td></tr><tr><td>val_loss</td><td>0.54125</td></tr><tr><td>_runtime</td><td>4748</td></tr><tr><td>_timestamp</td><td>1613491519</td></tr><tr><td>_step</td><td>55</td></tr></table>"
            ],
            "text/plain": [
              "<IPython.core.display.HTML object>"
            ]
          },
          "metadata": {
            "tags": []
          }
        },
        {
          "output_type": "display_data",
          "data": {
            "text/html": [
              "<h3>Run history:</h3><br/><style>\n",
              "    table.wandb td:nth-child(1) { padding: 0 10px; text-align: right }\n",
              "    </style><table class=\"wandb\">\n",
              "<tr><td>train_loss</td><td>█▁▁▁▁▁▁▁▁▁▁▁▁▁▁▁▁▁▁▁▁▁▁▁▁▁▁▁▁▁▁▁▁▁▁▁▁▁▁▁</td></tr><tr><td>train_accuracy</td><td>█▂▁▁▁▁▁▁▁▁▁▁▁▁▁▁▁▁▁▁▁▁▁▁▁▁▁▁▁▁▁▁▁▁▁▁▁▁▁▁</td></tr><tr><td>val_loss</td><td>█▂▂▁▁▁▁▁▁▁▁▁▁▁▁▁▁▁▁▁▁▁▁▁▁▁▁▁▁▁▁▁▁▁▁▁▁▁▁▁</td></tr><tr><td>_runtime</td><td>▁▁▁▂▂▂▂▂▂▃▃▃▃▃▃▄▄▄▄▄▅▅▅▅▅▅▆▆▆▆▆▆▇▇▇▇▇███</td></tr><tr><td>_timestamp</td><td>▁▁▁▂▂▂▂▂▂▃▃▃▃▃▃▄▄▄▄▄▅▅▅▅▅▅▆▆▆▆▆▆▇▇▇▇▇███</td></tr><tr><td>_step</td><td>▁▁▁▂▂▂▂▂▂▃▃▃▃▃▃▄▄▄▄▄▅▅▅▅▅▅▆▆▆▆▆▆▇▇▇▇▇███</td></tr></table><br/>"
            ],
            "text/plain": [
              "<IPython.core.display.HTML object>"
            ]
          },
          "metadata": {
            "tags": []
          }
        },
        {
          "output_type": "display_data",
          "data": {
            "text/html": [
              "Synced 5 W&B file(s), 0 media file(s), 0 artifact file(s) and 0 other file(s)"
            ],
            "text/plain": [
              "<IPython.core.display.HTML object>"
            ]
          },
          "metadata": {
            "tags": []
          }
        },
        {
          "output_type": "display_data",
          "data": {
            "text/html": [
              "\n",
              "                    <br/>Synced <strong style=\"color:#cdcd00\">vital-forest-4</strong>: <a href=\"https://wandb.ai/jakobschauser/IceCube%20GNN%20Bachelor/runs/2ts65ue1\" target=\"_blank\">https://wandb.ai/jakobschauser/IceCube%20GNN%20Bachelor/runs/2ts65ue1</a><br/>\n",
              "                "
            ],
            "text/plain": [
              "<IPython.core.display.HTML object>"
            ]
          },
          "metadata": {
            "tags": []
          }
        },
        {
          "output_type": "display_data",
          "data": {
            "text/html": [
              "...Successfully finished last run (ID:2ts65ue1). Initializing new run:<br/><br/>"
            ],
            "text/plain": [
              "<IPython.core.display.HTML object>"
            ]
          },
          "metadata": {
            "tags": []
          }
        },
        {
          "output_type": "display_data",
          "data": {
            "text/html": [
              "\n",
              "                Tracking run with wandb version 0.10.19<br/>\n",
              "                Syncing run <strong style=\"color:#cdcd00\">upbeat-bush-5</strong> to <a href=\"https://wandb.ai\" target=\"_blank\">Weights & Biases</a> <a href=\"https://docs.wandb.com/integrations/jupyter.html\" target=\"_blank\">(Documentation)</a>.<br/>\n",
              "                Project page: <a href=\"https://wandb.ai/jakobschauser/IceCube%20GNN%20Bachelor\" target=\"_blank\">https://wandb.ai/jakobschauser/IceCube%20GNN%20Bachelor</a><br/>\n",
              "                Run page: <a href=\"https://wandb.ai/jakobschauser/IceCube%20GNN%20Bachelor/runs/1pgwjkr3\" target=\"_blank\">https://wandb.ai/jakobschauser/IceCube%20GNN%20Bachelor/runs/1pgwjkr3</a><br/>\n",
              "                Run data is saved locally in <code>/content/wandb/run-20210216_160612-1pgwjkr3</code><br/><br/>\n",
              "            "
            ],
            "text/plain": [
              "<IPython.core.display.HTML object>"
            ]
          },
          "metadata": {
            "tags": []
          }
        },
        {
          "output_type": "display_data",
          "data": {
            "application/vnd.jupyter.widget-view+json": {
              "model_id": "75b6cae884b74986adbaed40936b153e",
              "version_minor": 0,
              "version_major": 2
            },
            "text/plain": [
              "HBox(children=(FloatProgress(value=0.0, max=704.0), HTML(value='')))"
            ]
          },
          "metadata": {
            "tags": []
          }
        },
        {
          "output_type": "stream",
          "text": [
            "Train loss: 8229.944621867711 - Train accuracy: 12.855319023132324 | Validation loss 4.419486752006191 - Change 4.42e+08% | Epoch: 0\n",
            "Train loss: 1866.68025233734 - Train accuracy: 5.464889049530029 | Validation loss 5.483106610544051 - Change 24.1% | Epoch: 1\n",
            "Train loss: 63.30006269743019 - Train accuracy: 1.5564296245574951 | Validation loss 1.5706824362460736 - Change -71.4% | Epoch: 2\n",
            "Train loss: 105.14171993249487 - Train accuracy: 1.349956750869751 | Validation loss 5.020337737489885 - Change 2.2e+02% | Epoch: 3\n",
            "Train loss: 267.6710410789988 - Train accuracy: 2.2290613651275635 | Validation loss 17.43989328549702 - Change 2.47e+02% | Epoch: 4\n",
            "Train loss: 41.42047787593211 - Train accuracy: 1.2094295024871826 | Validation loss 3.3618958470732037 - Change -80.7% | Epoch: 5\n",
            "Two current guesses are\n",
            " [ 0.9125924  4.896446  -3.6563542] [ 0.20558025  0.33005065 -0.43321952] for\n",
            " [ 0.74973726 -0.73528551 -0.28300092] [ 0.01178087 -0.068386   -0.49966352]\n",
            "Train loss: 19.756627629285642 - Train accuracy: 0.9868465662002563 | Validation loss 0.8489369475614482 - Change -74.7% | Epoch: 6\n",
            "Train loss: 14.785816977319927 - Train accuracy: 0.9114319086074829 | Validation loss 1.0813189261399383 - Change 27.4% | Epoch: 7\n",
            "Train loss: 51.762777037649904 - Train accuracy: 1.3216649293899536 | Validation loss 1.3382268120114025 - Change 23.8% | Epoch: 8\n",
            "Train loss: 13.718372290500708 - Train accuracy: 0.8718003630638123 | Validation loss 0.8869878825707198 - Change -33.7% | Epoch: 9\n",
            "Train loss: 7.470683821170096 - Train accuracy: 0.6405341625213623 | Validation loss 128.56904325076283 - Change 1.44e+04% | Epoch: 10\n",
            "Two current guesses are\n",
            " [ 0.10146648 -0.03567609 -0.13052946] [ 0.42729503  0.22521198 -0.27807486] for\n",
            " [ 0.03802902  0.03686111 -0.00456535] [ 0.47517478 -0.39799243 -0.29575096]\n",
            "Train loss: 6.528549575203328 - Train accuracy: 0.5853455662727356 | Validation loss 0.8841094356241961 - Change -99.3% | Epoch: 11\n",
            "Train loss: 3.40433028253042 - Train accuracy: 0.5044677257537842 | Validation loss 0.7764742705674844 - Change -12.2% | Epoch: 12\n",
            "Train loss: 1.377901011627812 - Train accuracy: 0.42568883299827576 | Validation loss 3.5227812273530756 - Change 3.54e+02% | Epoch: 13\n",
            "Train loss: 61.14188153517651 - Train accuracy: 1.1033581495285034 | Validation loss 1.4172194193328391 - Change -59.8% | Epoch: 14\n",
            "Train loss: 1.9469891387838607 - Train accuracy: 0.44812506437301636 | Validation loss 0.7207911117711079 - Change -49.1% | Epoch: 15\n",
            "Two current guesses are\n",
            " [-0.02961622  0.13643907 -0.18745391] [-1.7242526  0.7373934 -2.056243 ] for\n",
            " [-0.07256048 -0.43112291  0.02649062] [ 0.60295335 -0.03205212  0.13526976]\n",
            "Train loss: 2.3856809131135743 - Train accuracy: 0.4290955662727356 | Validation loss 2.0268375269778325 - Change 1.81e+02% | Epoch: 16\n",
            "Train loss: 1.819690808923922 - Train accuracy: 0.4098450839519501 | Validation loss 0.5866107192138126 - Change -71.1% | Epoch: 17\n",
            "Train loss: 2.7507458069563815 - Train accuracy: 0.42429593205451965 | Validation loss 0.6423960144250902 - Change 9.51% | Epoch: 18\n",
            "Train loss: 3.1807096894813895 - Train accuracy: 0.5179513096809387 | Validation loss 0.6491241719915202 - Change 1.05% | Epoch: 19\n",
            "Train loss: 0.6769397610232093 - Train accuracy: 0.337464302778244 | Validation loss 0.8080611844307451 - Change 24.5% | Epoch: 20\n",
            "Two current guesses are\n",
            " [ 0.24158077 -0.00763904 -0.16572197] [0.4673594  0.18833815 0.02687849] for\n",
            " [ 0.50459117  0.68655622 -0.51782403] [ 0.17631883 -0.2102407   0.07664591]\n",
            "Train loss: 0.660225623811208 - Train accuracy: 0.334873229265213 | Validation loss 0.5672219020223577 - Change -29.8% | Epoch: 21\n",
            "Train loss: 1.1775608543397702 - Train accuracy: 0.3857277035713196 | Validation loss 0.6136152241646573 - Change 8.18% | Epoch: 22\n",
            "Train loss: 0.9852409288442296 - Train accuracy: 0.3809320628643036 | Validation loss 1.0487695159907042 - Change 70.9% | Epoch: 23\n",
            "Train loss: 0.6158451661562607 - Train accuracy: 0.32264965772628784 | Validation loss 0.6448342967477426 - Change -38.5% | Epoch: 24\n",
            "Train loss: 0.6255220266148822 - Train accuracy: 0.3218223452568054 | Validation loss 0.5543766617038536 - Change -14.0% | Epoch: 25\n",
            "Two current guesses are\n",
            " [ 0.16872087  0.09516864 -0.23054776] [ 0.14031625  0.1996927  -0.2943792 ] for\n",
            " [-0.19548378  0.36317721  0.20250552] [ 0.48790802  0.43682554 -0.20039667]\n",
            "Train loss: 0.5575325285652958 - Train accuracy: 0.31107157468795776 | Validation loss 0.5552990471637863 - Change 0.166% | Epoch: 26\n",
            "Train loss: 0.5666717925171346 - Train accuracy: 0.3146114647388458 | Validation loss 0.5468695001586977 - Change -1.52% | Epoch: 27\n",
            "Train loss: 1.8859198996565674 - Train accuracy: 0.38412922620773315 | Validation loss 4.878540730251307 - Change 7.92e+02% | Epoch: 28\n",
            "Train loss: 1.0590157980393 - Train accuracy: 0.36890220642089844 | Validation loss 0.5564685235907544 - Change -88.6% | Epoch: 29\n",
            "Train loss: 0.5742186428786417 - Train accuracy: 0.31043559312820435 | Validation loss 0.5565860008401025 - Change 0.0211% | Epoch: 30\n",
            "Two current guesses are\n",
            " [ 0.26241562 -0.01217108 -0.31867516] [ 0.20465742  0.03958469 -0.34970355] for\n",
            " [-0.04234703  0.2322257  -0.46793671] [ 0.2028599   0.93696814 -0.38045855]\n",
            "Train loss: 0.5640629817728017 - Train accuracy: 0.3091055750846863 | Validation loss 0.5474920389535974 - Change -1.63% | Epoch: 31\n",
            "Train loss: 0.5550522899748294 - Train accuracy: 0.30790331959724426 | Validation loss 0.5466852412006739 - Change -0.147% | Epoch: 32\n",
            "Train loss: 0.5528491558667248 - Train accuracy: 0.30742138624191284 | Validation loss 0.545870535175369 - Change -0.149% | Epoch: 33\n",
            "Train loss: 0.5515676993450536 - Train accuracy: 0.3083063066005707 | Validation loss 0.6026805862173499 - Change 10.4% | Epoch: 34\n",
            "Train loss: 0.5777888119990753 - Train accuracy: 0.31548988819122314 | Validation loss 0.553298744617097 - Change -8.19% | Epoch: 35\n",
            "Two current guesses are\n",
            " [ 0.78030413  0.3466999  -0.11073628] [ 0.46925172  0.39372355 -0.5970385 ] for\n",
            " [ 1.16432999  0.57613476 -0.39780122] [ 0.71966171 -0.00884218 -0.29381659]\n",
            "Train loss: 0.5501471324098062 - Train accuracy: 0.3092946708202362 | Validation loss 0.541513493649396 - Change -2.13% | Epoch: 36\n",
            "Train loss: 0.546151156361918 - Train accuracy: 0.3112715780735016 | Validation loss 0.5455371208736869 - Change 0.743% | Epoch: 37\n",
            "Train loss: 0.6224656087634479 - Train accuracy: 0.32583683729171753 | Validation loss 0.564285780789288 - Change 3.44% | Epoch: 38\n",
            "Train loss: 0.5526842936533621 - Train accuracy: 0.30702921748161316 | Validation loss 0.5420087645008543 - Change -3.95% | Epoch: 39\n",
            "Train loss: 0.5462710704127979 - Train accuracy: 0.3086240589618683 | Validation loss 0.5454867166005204 - Change 0.642% | Epoch: 40\n",
            "Two current guesses are\n",
            " [ 0.8280302   0.07906661 -0.34789556] [ 0.5970243   0.34467995 -0.335953  ] for\n",
            " [ 1.0833046   0.42414042 -0.33390736] [ 0.45691273 -0.79643423 -0.19859002]\n",
            "Train loss: 0.5497286790949153 - Train accuracy: 0.3125070035457611 | Validation loss 0.540006680285953 - Change -1.0% | Epoch: 41\n",
            "Train loss: 0.5486616125162095 - Train accuracy: 0.3148294687271118 | Validation loss 0.5384536661091369 - Change -0.288% | Epoch: 42\n",
            "Train loss: 0.5485481148497562 - Train accuracy: 0.3138018846511841 | Validation loss 0.5724462057000492 - Change 6.31% | Epoch: 43\n",
            "Train loss: 0.543886912500056 - Train accuracy: 0.31456565856933594 | Validation loss 0.537442808619621 - Change -6.11% | Epoch: 44\n",
            "Train loss: 0.5420471089281069 - Train accuracy: 0.31647148728370667 | Validation loss 0.5816804481016893 - Change 8.23% | Epoch: 45\n",
            "Two current guesses are\n",
            " [ 0.2228577  -0.07223211 -0.2566444 ] [ 0.21620522  0.17688422 -0.31853312] for\n",
            " [ 0.65241131 -0.22840579 -0.20741459] [ 0.462716    0.18796503 -0.4321683 ]\n",
            "Train loss: 0.5489979367921914 - Train accuracy: 0.3168817460536957 | Validation loss 0.5389224206955953 - Change -7.35% | Epoch: 46\n",
            "Train loss: 0.5398754966521647 - Train accuracy: 0.31764623522758484 | Validation loss 0.5413418865208912 - Change 0.449% | Epoch: 47\n",
            "Train loss: 0.5441146684469934 - Train accuracy: 0.318404883146286 | Validation loss 0.5387511860648172 - Change -0.479% | Epoch: 48\n",
            "Train loss: 0.5439091506596722 - Train accuracy: 0.31919610500335693 | Validation loss 0.5658484465738585 - Change 5.03% | Epoch: 49\n",
            "INFO:tensorflow:Assets written to: /content/drive/MyDrive/Bachelor Project - IceCube ML/Saved Models/AnglesEnergy-FourthIteration-50epochs/assets\n"
          ],
          "name": "stdout"
        }
      ]
    },
    {
      "cell_type": "code",
      "metadata": {
        "colab": {
          "base_uri": "https://localhost:8080/"
        },
        "id": "3quOAOflxYyF",
        "outputId": "96840710-b933-490d-8f76-51325579dac2"
      },
      "source": [
        "model.summary()"
      ],
      "execution_count": 56,
      "outputs": [
        {
          "output_type": "stream",
          "text": [
            "Model: \"model_class_5\"\n",
            "_________________________________________________________________\n",
            "Layer (type)                 Output Shape              Param #   \n",
            "=================================================================\n",
            "gcn_conv_25 (GCNConv)        multiple                  320       \n",
            "_________________________________________________________________\n",
            "gcn_conv_26 (GCNConv)        multiple                  4096      \n",
            "_________________________________________________________________\n",
            "gcn_conv_27 (GCNConv)        multiple                  16384     \n",
            "_________________________________________________________________\n",
            "gcn_conv_28 (GCNConv)        multiple                  147456    \n",
            "_________________________________________________________________\n",
            "gcn_conv_29 (GCNConv)        multiple                  589824    \n",
            "_________________________________________________________________\n",
            "dense_25 (Dense)             multiple                  1049600   \n",
            "_________________________________________________________________\n",
            "dense_26 (Dense)             multiple                  590400    \n",
            "_________________________________________________________________\n",
            "dense_27 (Dense)             multiple                  147712    \n",
            "_________________________________________________________________\n",
            "dense_28 (Dense)             multiple                  16448     \n",
            "_________________________________________________________________\n",
            "global_sum_pool_5 (GlobalSum multiple                  0         \n",
            "_________________________________________________________________\n",
            "dense_29 (Dense)             multiple                  195       \n",
            "=================================================================\n",
            "Total params: 2,562,435\n",
            "Trainable params: 2,562,435\n",
            "Non-trainable params: 0\n",
            "_________________________________________________________________\n"
          ],
          "name": "stdout"
        }
      ]
    }
  ]
}